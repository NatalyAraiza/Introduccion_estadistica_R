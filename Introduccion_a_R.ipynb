{
  "nbformat": 4,
  "nbformat_minor": 0,
  "metadata": {
    "colab": {
      "name": "Introduccion_a_R.ipynb",
      "provenance": [],
      "collapsed_sections": [
        "fcamhnRCoAlV",
        "l35Xy4Lyk3se",
        "KHKGH6-KNilR",
        "HMv-Jxo6QCEf",
        "oFmCYDB3Rp2z",
        "kBPj8XS8STF5",
        "2wdvd9Z8XgJQ"
      ],
      "include_colab_link": true
    },
    "kernelspec": {
      "name": "ir",
      "display_name": "R"
    }
  },
  "cells": [
    {
      "cell_type": "markdown",
      "metadata": {
        "id": "view-in-github",
        "colab_type": "text"
      },
      "source": [
        "<a href=\"https://colab.research.google.com/github/NatalyAraiza/Introduccion_estadistica_R/blob/master/Introduccion_a_R.ipynb\" target=\"_parent\"><img src=\"https://colab.research.google.com/assets/colab-badge.svg\" alt=\"Open In Colab\"/></a>"
      ]
    },
    {
      "cell_type": "markdown",
      "metadata": {
        "id": "sK0rxjTSc-tP",
        "colab_type": "text"
      },
      "source": [
        "#***Indice***\n",
        "---\n",
        "*   Comandos basicos en R\n",
        "*   Comandos matemáticos basicos\n",
        "*   Comandos estadisticos basicos\n",
        "*   Importar archivos y graficar\n"
      ]
    },
    {
      "cell_type": "markdown",
      "metadata": {
        "id": "fcamhnRCoAlV",
        "colab_type": "text"
      },
      "source": [
        "#***Comandos basicos en R***\n",
        "---\n"
      ]
    },
    {
      "cell_type": "markdown",
      "metadata": {
        "id": "AOvyySUpeiOI",
        "colab_type": "text"
      },
      "source": [
        "**Solicitar ayuda**"
      ]
    },
    {
      "cell_type": "code",
      "metadata": {
        "id": "olQhat35bKar",
        "colab_type": "code",
        "colab": {}
      },
      "source": [
        "help()"
      ],
      "execution_count": null,
      "outputs": []
    },
    {
      "cell_type": "markdown",
      "metadata": {
        "id": "MDRt5DoDeuTi",
        "colab_type": "text"
      },
      "source": [
        "**Ayuda en linea hiper texto**"
      ]
    },
    {
      "cell_type": "code",
      "metadata": {
        "id": "cK6D__Uye1MN",
        "colab_type": "code",
        "colab": {}
      },
      "source": [
        "help.start()"
      ],
      "execution_count": null,
      "outputs": []
    },
    {
      "cell_type": "markdown",
      "metadata": {
        "id": "U09_0LIIfdq-",
        "colab_type": "text"
      },
      "source": [
        "**Solicitar ayuda de una función especifica de R, en este caso distribución normal**"
      ]
    },
    {
      "cell_type": "code",
      "metadata": {
        "id": "SJSs_IkEfuIv",
        "colab_type": "code",
        "colab": {}
      },
      "source": [
        "? rnorm"
      ],
      "execution_count": null,
      "outputs": []
    },
    {
      "cell_type": "markdown",
      "metadata": {
        "id": "6ZZjL8Bsgaiq",
        "colab_type": "text"
      },
      "source": [
        "**Actualizar paquetes**"
      ]
    },
    {
      "cell_type": "code",
      "metadata": {
        "id": "w1fUOjIcgnXi",
        "colab_type": "code",
        "colab": {}
      },
      "source": [
        "update.packages"
      ],
      "execution_count": null,
      "outputs": []
    },
    {
      "cell_type": "markdown",
      "metadata": {
        "id": "4gfIJixigqpu",
        "colab_type": "text"
      },
      "source": [
        "**Instalar un paquete esfecifico (Ej. \"qcc\")**"
      ]
    },
    {
      "cell_type": "code",
      "metadata": {
        "id": "4uVVNSqihfxN",
        "colab_type": "code",
        "colab": {}
      },
      "source": [
        "install.packages(\"qcc\")"
      ],
      "execution_count": null,
      "outputs": []
    },
    {
      "cell_type": "markdown",
      "metadata": {
        "id": "i5PIYFm6hlma",
        "colab_type": "text"
      },
      "source": [
        "**Cargar un paquete instalado**\n",
        "\n",
        "Nota: En R para utilizar ciertas funciones primero tenemos que instalar un paquete y despues cargarlo. Ambos pasos son necesarios."
      ]
    },
    {
      "cell_type": "code",
      "metadata": {
        "id": "_BRnltsaidER",
        "colab_type": "code",
        "colab": {}
      },
      "source": [
        "library(\"qcc\")"
      ],
      "execution_count": null,
      "outputs": []
    },
    {
      "cell_type": "markdown",
      "metadata": {
        "id": "_Sz6k8pRieGj",
        "colab_type": "text"
      },
      "source": [
        "**Muestra el directorio de trabajo actual**"
      ]
    },
    {
      "cell_type": "code",
      "metadata": {
        "id": "1VpcDN-miwfs",
        "colab_type": "code",
        "colab": {
          "base_uri": "https://localhost:8080/",
          "height": 34
        },
        "outputId": "7dd955d9-e5f6-404a-fd4c-117517733334"
      },
      "source": [
        "getwd()"
      ],
      "execution_count": null,
      "outputs": [
        {
          "output_type": "display_data",
          "data": {
            "text/plain": [
              "[1] \"/content\""
            ],
            "text/latex": "'/content'",
            "text/markdown": "'/content'",
            "text/html": [
              "'/content'"
            ]
          },
          "metadata": {
            "tags": []
          }
        }
      ]
    },
    {
      "cell_type": "markdown",
      "metadata": {
        "id": "8vfpt7sNizTe",
        "colab_type": "text"
      },
      "source": [
        "**Cambiar directorio de trabajo**\n",
        "\n",
        "Al usar nuevamente getwd() vemos que se actualizó el directorio de trabajo"
      ]
    },
    {
      "cell_type": "code",
      "metadata": {
        "id": "QXfxz_tWj7by",
        "colab_type": "code",
        "colab": {}
      },
      "source": [
        "setwd(\"sample_data\")"
      ],
      "execution_count": null,
      "outputs": []
    },
    {
      "cell_type": "code",
      "metadata": {
        "id": "4-1zBTSukEGJ",
        "colab_type": "code",
        "colab": {
          "base_uri": "https://localhost:8080/",
          "height": 34
        },
        "outputId": "3bad01bd-92d5-4cac-edd3-010aca851171"
      },
      "source": [
        "getwd()"
      ],
      "execution_count": null,
      "outputs": [
        {
          "output_type": "display_data",
          "data": {
            "text/plain": [
              "[1] \"/content/sample_data\""
            ],
            "text/latex": "'/content/sample\\_data'",
            "text/markdown": "'/content/sample_data'",
            "text/html": [
              "'/content/sample_data'"
            ]
          },
          "metadata": {
            "tags": []
          }
        }
      ]
    },
    {
      "cell_type": "markdown",
      "metadata": {
        "id": "cU7uIWbsKrB-",
        "colab_type": "text"
      },
      "source": [
        "**Crea una carpeta llamada pruebas en el caso de que no exista**"
      ]
    },
    {
      "cell_type": "code",
      "metadata": {
        "id": "9zICz2TtKru-",
        "colab_type": "code",
        "colab": {}
      },
      "source": [
        " if ( !file.exists(\"pruebas\") ) { dir.create(\"pruebas\") }"
      ],
      "execution_count": null,
      "outputs": []
    },
    {
      "cell_type": "markdown",
      "metadata": {
        "id": "vWpigeOIK4UU",
        "colab_type": "text"
      },
      "source": [
        "**R cuenta con varios demos, con ellos podemos conocer algunas funciones de cierto paquetes para tener una idea general de lo que se puede hacer con ellos**\n",
        "\n",
        "\n",
        "**Con este comando podemos ver la lista de los demos existentes**"
      ]
    },
    {
      "cell_type": "code",
      "metadata": {
        "id": "5J4_ocmfLZ4n",
        "colab_type": "code",
        "colab": {}
      },
      "source": [
        "demo()"
      ],
      "execution_count": null,
      "outputs": []
    },
    {
      "cell_type": "markdown",
      "metadata": {
        "id": "1XoRGBLDLb4i",
        "colab_type": "text"
      },
      "source": [
        "**Para correr un demo en especial utilizamos el mismo comando pero le indicamos el nombre del demo que deseamos**"
      ]
    },
    {
      "cell_type": "code",
      "metadata": {
        "id": "d2J55uuwLg0h",
        "colab_type": "code",
        "colab": {}
      },
      "source": [
        "demo(\"plotmath\")"
      ],
      "execution_count": null,
      "outputs": []
    },
    {
      "cell_type": "markdown",
      "metadata": {
        "id": "1AId4B2ak1At",
        "colab_type": "text"
      },
      "source": [
        "# **Comandos matemáticos basicos**\n",
        "----------------------------------"
      ]
    },
    {
      "cell_type": "markdown",
      "metadata": {
        "id": "l35Xy4Lyk3se",
        "colab_type": "text"
      },
      "source": [
        "### **R como calculadora**"
      ]
    },
    {
      "cell_type": "markdown",
      "metadata": {
        "id": "5nW-QucnlanR",
        "colab_type": "text"
      },
      "source": [
        "**Suma**\n"
      ]
    },
    {
      "cell_type": "code",
      "metadata": {
        "id": "PZswZ8kalfVJ",
        "colab_type": "code",
        "colab": {
          "base_uri": "https://localhost:8080/",
          "height": 35
        },
        "outputId": "e4f0b793-8baa-43bc-ab7f-2f368db33cbc"
      },
      "source": [
        "10+5"
      ],
      "execution_count": null,
      "outputs": [
        {
          "output_type": "display_data",
          "data": {
            "text/plain": [
              "[1] 15"
            ],
            "text/latex": "15",
            "text/markdown": "15",
            "text/html": [
              "15"
            ]
          },
          "metadata": {
            "tags": []
          }
        }
      ]
    },
    {
      "cell_type": "markdown",
      "metadata": {
        "id": "lgfFwYI7mCwC",
        "colab_type": "text"
      },
      "source": [
        "**Resta**"
      ]
    },
    {
      "cell_type": "code",
      "metadata": {
        "id": "cgpmY-tSmD3b",
        "colab_type": "code",
        "colab": {
          "base_uri": "https://localhost:8080/",
          "height": 35
        },
        "outputId": "545fc3ea-8756-4fa1-bc6b-89972d65eca6"
      },
      "source": [
        "23-13"
      ],
      "execution_count": null,
      "outputs": [
        {
          "output_type": "display_data",
          "data": {
            "text/plain": [
              "[1] 10"
            ],
            "text/latex": "10",
            "text/markdown": "10",
            "text/html": [
              "10"
            ]
          },
          "metadata": {
            "tags": []
          }
        }
      ]
    },
    {
      "cell_type": "markdown",
      "metadata": {
        "id": "k-jQI-RHmG_Y",
        "colab_type": "text"
      },
      "source": [
        "**Multiplicación**"
      ]
    },
    {
      "cell_type": "code",
      "metadata": {
        "id": "qdRIT26cmJaU",
        "colab_type": "code",
        "colab": {
          "base_uri": "https://localhost:8080/",
          "height": 35
        },
        "outputId": "59c099f4-df0e-4d9a-b25c-06ec9806ae96"
      },
      "source": [
        "3*4"
      ],
      "execution_count": null,
      "outputs": [
        {
          "output_type": "display_data",
          "data": {
            "text/plain": [
              "[1] 12"
            ],
            "text/latex": "12",
            "text/markdown": "12",
            "text/html": [
              "12"
            ]
          },
          "metadata": {
            "tags": []
          }
        }
      ]
    },
    {
      "cell_type": "markdown",
      "metadata": {
        "id": "YJosA9N_mspd",
        "colab_type": "text"
      },
      "source": [
        "**Division**"
      ]
    },
    {
      "cell_type": "code",
      "metadata": {
        "id": "P0cinlydmubm",
        "colab_type": "code",
        "colab": {
          "base_uri": "https://localhost:8080/",
          "height": 35
        },
        "outputId": "4cd8ba84-8abc-4e8d-ed92-fff85d3242ab"
      },
      "source": [
        "4/3"
      ],
      "execution_count": null,
      "outputs": [
        {
          "output_type": "display_data",
          "data": {
            "text/plain": [
              "[1] 1.333333"
            ],
            "text/latex": "1.33333333333333",
            "text/markdown": "1.33333333333333",
            "text/html": [
              "1.33333333333333"
            ]
          },
          "metadata": {
            "tags": []
          }
        }
      ]
    },
    {
      "cell_type": "markdown",
      "metadata": {
        "id": "cqyrChW4mxLb",
        "colab_type": "text"
      },
      "source": [
        "**Potencia**"
      ]
    },
    {
      "cell_type": "code",
      "metadata": {
        "id": "ZO5nvDUnm1D3",
        "colab_type": "code",
        "colab": {
          "base_uri": "https://localhost:8080/",
          "height": 35
        },
        "outputId": "7e6d81ef-3faa-4234-ba31-b6c1ccf76377"
      },
      "source": [
        "3^3"
      ],
      "execution_count": null,
      "outputs": [
        {
          "output_type": "display_data",
          "data": {
            "text/plain": [
              "[1] 27"
            ],
            "text/latex": "27",
            "text/markdown": "27",
            "text/html": [
              "27"
            ]
          },
          "metadata": {
            "tags": []
          }
        }
      ]
    },
    {
      "cell_type": "markdown",
      "metadata": {
        "id": "1VjiuNo_nR1n",
        "colab_type": "text"
      },
      "source": [
        "**Valor infinito** "
      ]
    },
    {
      "cell_type": "code",
      "metadata": {
        "id": "IJt5UUPdnThm",
        "colab_type": "code",
        "colab": {
          "base_uri": "https://localhost:8080/",
          "height": 35
        },
        "outputId": "e1e4ab5f-804a-42f0-9f47-1f280540b8e4"
      },
      "source": [
        "5/0"
      ],
      "execution_count": null,
      "outputs": [
        {
          "output_type": "display_data",
          "data": {
            "text/plain": [
              "[1] Inf"
            ],
            "text/latex": "Inf",
            "text/markdown": "Inf",
            "text/html": [
              "Inf"
            ]
          },
          "metadata": {
            "tags": []
          }
        }
      ]
    },
    {
      "cell_type": "markdown",
      "metadata": {
        "id": "c38i3rOHnYac",
        "colab_type": "text"
      },
      "source": [
        "**Division entera** "
      ]
    },
    {
      "cell_type": "code",
      "metadata": {
        "id": "ZjYYh1ssndkH",
        "colab_type": "code",
        "colab": {
          "base_uri": "https://localhost:8080/",
          "height": 35
        },
        "outputId": "21b4b9fa-76f7-4b99-c2f1-69c0242a3058"
      },
      "source": [
        "5%/%2"
      ],
      "execution_count": null,
      "outputs": [
        {
          "output_type": "display_data",
          "data": {
            "text/plain": [
              "[1] 2"
            ],
            "text/latex": "2",
            "text/markdown": "2",
            "text/html": [
              "2"
            ]
          },
          "metadata": {
            "tags": []
          }
        }
      ]
    },
    {
      "cell_type": "markdown",
      "metadata": {
        "id": "ZO22kHSooPQv",
        "colab_type": "text"
      },
      "source": [
        "**Modulo**"
      ]
    },
    {
      "cell_type": "code",
      "metadata": {
        "id": "y5tpLy22oRDY",
        "colab_type": "code",
        "colab": {
          "base_uri": "https://localhost:8080/",
          "height": 35
        },
        "outputId": "4d946ab0-a819-4812-fc1b-06a967d3f637"
      },
      "source": [
        "5%%2"
      ],
      "execution_count": null,
      "outputs": [
        {
          "output_type": "display_data",
          "data": {
            "text/plain": [
              "[1] 1"
            ],
            "text/latex": "1",
            "text/markdown": "1",
            "text/html": [
              "1"
            ]
          },
          "metadata": {
            "tags": []
          }
        }
      ]
    },
    {
      "cell_type": "markdown",
      "metadata": {
        "id": "oKx4rXy8oS4y",
        "colab_type": "text"
      },
      "source": [
        "**Flotante con n digitos**"
      ]
    },
    {
      "cell_type": "code",
      "metadata": {
        "id": "dvkih9GvMlCE",
        "colab_type": "code",
        "colab": {
          "base_uri": "https://localhost:8080/",
          "height": 34
        },
        "outputId": "abfaf09d-761f-472f-a2a9-63d6e8faddc6"
      },
      "source": [
        "round(3.45678, digits = 2) "
      ],
      "execution_count": null,
      "outputs": [
        {
          "output_type": "display_data",
          "data": {
            "text/plain": [
              "[1] 3.46"
            ],
            "text/latex": "3.46",
            "text/markdown": "3.46",
            "text/html": [
              "3.46"
            ]
          },
          "metadata": {
            "tags": []
          }
        }
      ]
    },
    {
      "cell_type": "markdown",
      "metadata": {
        "id": "KHKGH6-KNilR",
        "colab_type": "text"
      },
      "source": [
        "### **Tipos de datos en R**"
      ]
    },
    {
      "cell_type": "markdown",
      "metadata": {
        "id": "Xf_vQb5WNp4x",
        "colab_type": "text"
      },
      "source": [
        "**Objetos numéricos**\n",
        "\n",
        "\n",
        "Nota: En el lenguaje R se utiliza el operador de asignacion <-, tambien se puede utilizar el = pero en algunos caso no es recomendable, por lo que es mejor utilizar el operador <-"
      ]
    },
    {
      "cell_type": "code",
      "metadata": {
        "id": "07fxrdkCNvRe",
        "colab_type": "code",
        "colab": {}
      },
      "source": [
        "x <- 5L"
      ],
      "execution_count": null,
      "outputs": []
    },
    {
      "cell_type": "markdown",
      "metadata": {
        "id": "4wDeZeTCOD3B",
        "colab_type": "text"
      },
      "source": [
        "**Para revisar el tipo de dato de una variable**"
      ]
    },
    {
      "cell_type": "code",
      "metadata": {
        "id": "x0qU4WVQOK4c",
        "colab_type": "code",
        "colab": {
          "base_uri": "https://localhost:8080/",
          "height": 34
        },
        "outputId": "2c461b85-9ccb-4573-9eb5-ee882c706fe4"
      },
      "source": [
        "class(x)"
      ],
      "execution_count": null,
      "outputs": [
        {
          "output_type": "display_data",
          "data": {
            "text/plain": [
              "[1] \"integer\""
            ],
            "text/latex": "'integer'",
            "text/markdown": "'integer'",
            "text/html": [
              "'integer'"
            ]
          },
          "metadata": {
            "tags": []
          }
        }
      ]
    },
    {
      "cell_type": "markdown",
      "metadata": {
        "id": "SFb_YA6COQ2g",
        "colab_type": "text"
      },
      "source": [
        "Otros ejemplos"
      ]
    },
    {
      "cell_type": "code",
      "metadata": {
        "id": "HTlU6xcyOUKo",
        "colab_type": "code",
        "colab": {}
      },
      "source": [
        "y <- 2"
      ],
      "execution_count": null,
      "outputs": []
    },
    {
      "cell_type": "code",
      "metadata": {
        "id": "-iyUHjxGOWh1",
        "colab_type": "code",
        "colab": {
          "base_uri": "https://localhost:8080/",
          "height": 34
        },
        "outputId": "e67219ee-0079-467f-cb0a-e672110087bb"
      },
      "source": [
        "class(y)"
      ],
      "execution_count": null,
      "outputs": [
        {
          "output_type": "display_data",
          "data": {
            "text/plain": [
              "[1] \"numeric\""
            ],
            "text/latex": "'numeric'",
            "text/markdown": "'numeric'",
            "text/html": [
              "'numeric'"
            ]
          },
          "metadata": {
            "tags": []
          }
        }
      ]
    },
    {
      "cell_type": "code",
      "metadata": {
        "id": "xDSU7PGnOYXc",
        "colab_type": "code",
        "colab": {}
      },
      "source": [
        "w <- 3+4i"
      ],
      "execution_count": null,
      "outputs": []
    },
    {
      "cell_type": "code",
      "metadata": {
        "id": "ANSlOoCUOaQM",
        "colab_type": "code",
        "colab": {
          "base_uri": "https://localhost:8080/",
          "height": 34
        },
        "outputId": "b891654f-949e-4002-8f09-ebcc27f39f2e"
      },
      "source": [
        "class(w)"
      ],
      "execution_count": null,
      "outputs": [
        {
          "output_type": "display_data",
          "data": {
            "text/plain": [
              "[1] \"complex\""
            ],
            "text/latex": "'complex'",
            "text/markdown": "'complex'",
            "text/html": [
              "'complex'"
            ]
          },
          "metadata": {
            "tags": []
          }
        }
      ]
    },
    {
      "cell_type": "markdown",
      "metadata": {
        "id": "VduKzkexOeYy",
        "colab_type": "text"
      },
      "source": [
        "**Lista de las variables existentes**"
      ]
    },
    {
      "cell_type": "code",
      "metadata": {
        "id": "ffEG4YqXOcT_",
        "colab_type": "code",
        "colab": {
          "base_uri": "https://localhost:8080/",
          "height": 34
        },
        "outputId": "51ff6a13-4ed7-472c-cb8c-b9ea34002049"
      },
      "source": [
        "ls()"
      ],
      "execution_count": null,
      "outputs": [
        {
          "output_type": "display_data",
          "data": {
            "text/plain": [
              " [1] \"draw.plotmath.cell\" \"draw.title.cell\"    \"get.c\"             \n",
              " [4] \"get.r\"              \"i\"                  \"make.table\"        \n",
              " [7] \"nc\"                 \"nr\"                 \"oldpar\"            \n",
              "[10] \"w\"                  \"x\"                  \"y\"                 "
            ],
            "text/latex": "\\begin{enumerate*}\n\\item 'draw.plotmath.cell'\n\\item 'draw.title.cell'\n\\item 'get.c'\n\\item 'get.r'\n\\item 'i'\n\\item 'make.table'\n\\item 'nc'\n\\item 'nr'\n\\item 'oldpar'\n\\item 'w'\n\\item 'x'\n\\item 'y'\n\\end{enumerate*}\n",
            "text/markdown": "1. 'draw.plotmath.cell'\n2. 'draw.title.cell'\n3. 'get.c'\n4. 'get.r'\n5. 'i'\n6. 'make.table'\n7. 'nc'\n8. 'nr'\n9. 'oldpar'\n10. 'w'\n11. 'x'\n12. 'y'\n\n\n",
            "text/html": [
              "<style>\n",
              ".list-inline {list-style: none; margin:0; padding: 0}\n",
              ".list-inline>li {display: inline-block}\n",
              ".list-inline>li:not(:last-child)::after {content: \"\\00b7\"; padding: 0 .5ex}\n",
              "</style>\n",
              "<ol class=list-inline><li>'draw.plotmath.cell'</li><li>'draw.title.cell'</li><li>'get.c'</li><li>'get.r'</li><li>'i'</li><li>'make.table'</li><li>'nc'</li><li>'nr'</li><li>'oldpar'</li><li>'w'</li><li>'x'</li><li>'y'</li></ol>\n"
            ]
          },
          "metadata": {
            "tags": []
          }
        }
      ]
    },
    {
      "cell_type": "markdown",
      "metadata": {
        "id": "ZU3xlhi-Oklu",
        "colab_type": "text"
      },
      "source": [
        "**Eliminar una variable**"
      ]
    },
    {
      "cell_type": "code",
      "metadata": {
        "id": "pg3HedVjOrKc",
        "colab_type": "code",
        "colab": {}
      },
      "source": [
        "rm(x)"
      ],
      "execution_count": null,
      "outputs": []
    },
    {
      "cell_type": "code",
      "metadata": {
        "id": "2EhIyafkOtkT",
        "colab_type": "code",
        "colab": {
          "base_uri": "https://localhost:8080/",
          "height": 95
        },
        "outputId": "36d7b4df-e4f5-4d1f-d01a-5549e2d197d4"
      },
      "source": [
        "x"
      ],
      "execution_count": null,
      "outputs": [
        {
          "output_type": "error",
          "ename": "ERROR",
          "evalue": "ignored",
          "traceback": [
            "Error in eval(expr, envir, enclos): object 'x' not found\nTraceback:\n"
          ]
        }
      ]
    },
    {
      "cell_type": "markdown",
      "metadata": {
        "id": "HMv-Jxo6QCEf",
        "colab_type": "text"
      },
      "source": [
        "### **Funciones y constantes matematicas**"
      ]
    },
    {
      "cell_type": "markdown",
      "metadata": {
        "id": "6puLuGVlQHyO",
        "colab_type": "text"
      },
      "source": [
        "**Logaritmo base 10**"
      ]
    },
    {
      "cell_type": "code",
      "metadata": {
        "id": "xmSghsFtQGdw",
        "colab_type": "code",
        "colab": {
          "base_uri": "https://localhost:8080/",
          "height": 34
        },
        "outputId": "c095e71a-6f55-4a35-cdbb-21dc9bacc05a"
      },
      "source": [
        "log10(100)"
      ],
      "execution_count": null,
      "outputs": [
        {
          "output_type": "display_data",
          "data": {
            "text/plain": [
              "[1] 2"
            ],
            "text/latex": "2",
            "text/markdown": "2",
            "text/html": [
              "2"
            ]
          },
          "metadata": {
            "tags": []
          }
        }
      ]
    },
    {
      "cell_type": "markdown",
      "metadata": {
        "id": "LxM0sKgSQONY",
        "colab_type": "text"
      },
      "source": [
        "**Logaritmo base e**"
      ]
    },
    {
      "cell_type": "code",
      "metadata": {
        "id": "tJs_YzgsQRgQ",
        "colab_type": "code",
        "colab": {
          "base_uri": "https://localhost:8080/",
          "height": 34
        },
        "outputId": "c9f5dfae-ff08-4a4c-ed1d-6aa9c5c0df2f"
      },
      "source": [
        "log(2.7172)"
      ],
      "execution_count": null,
      "outputs": [
        {
          "output_type": "display_data",
          "data": {
            "text/plain": [
              "[1] 0.9996019"
            ],
            "text/latex": "0.99960193833501",
            "text/markdown": "0.99960193833501",
            "text/html": [
              "0.99960193833501"
            ]
          },
          "metadata": {
            "tags": []
          }
        }
      ]
    },
    {
      "cell_type": "markdown",
      "metadata": {
        "id": "LgLNTwn2QTi1",
        "colab_type": "text"
      },
      "source": [
        "**Logaritmo base 2**"
      ]
    },
    {
      "cell_type": "code",
      "metadata": {
        "id": "bjtQIC5OQXHt",
        "colab_type": "code",
        "colab": {
          "base_uri": "https://localhost:8080/",
          "height": 34
        },
        "outputId": "1a26cb7a-76e8-446c-eb4b-56e0cb6ee6bc"
      },
      "source": [
        "log2(64)"
      ],
      "execution_count": null,
      "outputs": [
        {
          "output_type": "display_data",
          "data": {
            "text/plain": [
              "[1] 6"
            ],
            "text/latex": "6",
            "text/markdown": "6",
            "text/html": [
              "6"
            ]
          },
          "metadata": {
            "tags": []
          }
        }
      ]
    },
    {
      "cell_type": "markdown",
      "metadata": {
        "id": "4b0CjN2eQbQY",
        "colab_type": "text"
      },
      "source": [
        "**Valor absoluto**"
      ]
    },
    {
      "cell_type": "code",
      "metadata": {
        "id": "-H-ArTmJQcto",
        "colab_type": "code",
        "colab": {
          "base_uri": "https://localhost:8080/",
          "height": 34
        },
        "outputId": "dee80a58-dea8-46f5-fb61-1e15e3eb8aa9"
      },
      "source": [
        "abs(-12)"
      ],
      "execution_count": null,
      "outputs": [
        {
          "output_type": "display_data",
          "data": {
            "text/plain": [
              "[1] 12"
            ],
            "text/latex": "12",
            "text/markdown": "12",
            "text/html": [
              "12"
            ]
          },
          "metadata": {
            "tags": []
          }
        }
      ]
    },
    {
      "cell_type": "markdown",
      "metadata": {
        "id": "skgepiblQeSM",
        "colab_type": "text"
      },
      "source": [
        "**Funcion exponencial base e**"
      ]
    },
    {
      "cell_type": "code",
      "metadata": {
        "id": "rNeJtlAEQhPa",
        "colab_type": "code",
        "colab": {
          "base_uri": "https://localhost:8080/",
          "height": 34
        },
        "outputId": "2f59c4a5-f7a2-46f1-ffc4-d000e9ff9771"
      },
      "source": [
        "exp(1)"
      ],
      "execution_count": null,
      "outputs": [
        {
          "output_type": "display_data",
          "data": {
            "text/plain": [
              "[1] 2.718282"
            ],
            "text/latex": "2.71828182845905",
            "text/markdown": "2.71828182845905",
            "text/html": [
              "2.71828182845905"
            ]
          },
          "metadata": {
            "tags": []
          }
        }
      ]
    },
    {
      "cell_type": "markdown",
      "metadata": {
        "id": "nYSmthkvQllO",
        "colab_type": "text"
      },
      "source": [
        "**Raiz cuadrada**"
      ]
    },
    {
      "cell_type": "code",
      "metadata": {
        "id": "Nv__XhSKQoJU",
        "colab_type": "code",
        "colab": {
          "base_uri": "https://localhost:8080/",
          "height": 34
        },
        "outputId": "974072f0-5e55-42af-afc1-25952c0f3817"
      },
      "source": [
        "sqrt(81)"
      ],
      "execution_count": null,
      "outputs": [
        {
          "output_type": "display_data",
          "data": {
            "text/plain": [
              "[1] 9"
            ],
            "text/latex": "9",
            "text/markdown": "9",
            "text/html": [
              "9"
            ]
          },
          "metadata": {
            "tags": []
          }
        }
      ]
    },
    {
      "cell_type": "markdown",
      "metadata": {
        "id": "942mWP3oQpzm",
        "colab_type": "text"
      },
      "source": [
        "**Constante pi**"
      ]
    },
    {
      "cell_type": "code",
      "metadata": {
        "id": "bEgpAEItQrWf",
        "colab_type": "code",
        "colab": {
          "base_uri": "https://localhost:8080/",
          "height": 34
        },
        "outputId": "d74dc014-ba34-4b19-93b7-dee89746db80"
      },
      "source": [
        "pi"
      ],
      "execution_count": null,
      "outputs": [
        {
          "output_type": "display_data",
          "data": {
            "text/plain": [
              "[1] 3.141593"
            ],
            "text/latex": "3.14159265358979",
            "text/markdown": "3.14159265358979",
            "text/html": [
              "3.14159265358979"
            ]
          },
          "metadata": {
            "tags": []
          }
        }
      ]
    },
    {
      "cell_type": "markdown",
      "metadata": {
        "id": "Qt-5nFI4Qvhj",
        "colab_type": "text"
      },
      "source": [
        "**Maneja una variable como entera aunque sea flotante haciendo un redonde hacia abajo**"
      ]
    },
    {
      "cell_type": "code",
      "metadata": {
        "id": "eOnNBV5AQ9jr",
        "colab_type": "code",
        "colab": {}
      },
      "source": [
        "z <- as.integer(x/y)"
      ],
      "execution_count": null,
      "outputs": []
    },
    {
      "cell_type": "code",
      "metadata": {
        "id": "qoZhS_j4Q_hk",
        "colab_type": "code",
        "colab": {
          "base_uri": "https://localhost:8080/",
          "height": 34
        },
        "outputId": "7f9a8139-9378-4778-f360-e34d321f0996"
      },
      "source": [
        "z"
      ],
      "execution_count": null,
      "outputs": [
        {
          "output_type": "display_data",
          "data": {
            "text/plain": [
              "[1] 2"
            ],
            "text/latex": "2",
            "text/markdown": "2",
            "text/html": [
              "2"
            ]
          },
          "metadata": {
            "tags": []
          }
        }
      ]
    },
    {
      "cell_type": "markdown",
      "metadata": {
        "id": "2Wm8CFQwRCR9",
        "colab_type": "text"
      },
      "source": [
        "**Redondea un numero a 2 digitos**"
      ]
    },
    {
      "cell_type": "code",
      "metadata": {
        "id": "tUIRad4mRFsN",
        "colab_type": "code",
        "colab": {
          "base_uri": "https://localhost:8080/",
          "height": 34
        },
        "outputId": "85b525fd-1bc0-48fc-b931-570333c848a2"
      },
      "source": [
        "round(3.476,digits=2)"
      ],
      "execution_count": null,
      "outputs": [
        {
          "output_type": "display_data",
          "data": {
            "text/plain": [
              "[1] 3.48"
            ],
            "text/latex": "3.48",
            "text/markdown": "3.48",
            "text/html": [
              "3.48"
            ]
          },
          "metadata": {
            "tags": []
          }
        }
      ]
    },
    {
      "cell_type": "markdown",
      "metadata": {
        "id": "VJrKzpTNRJv3",
        "colab_type": "text"
      },
      "source": [
        "**Obtener el entero mas pequeño que sea mayor que el numero que se le indique**"
      ]
    },
    {
      "cell_type": "code",
      "metadata": {
        "id": "pgA4Oc0ZRPft",
        "colab_type": "code",
        "colab": {
          "base_uri": "https://localhost:8080/",
          "height": 34
        },
        "outputId": "d7cef654-bc04-4ada-da2b-688fa1454a44"
      },
      "source": [
        "ceiling(3.475)"
      ],
      "execution_count": null,
      "outputs": [
        {
          "output_type": "display_data",
          "data": {
            "text/plain": [
              "[1] 4"
            ],
            "text/latex": "4",
            "text/markdown": "4",
            "text/html": [
              "4"
            ]
          },
          "metadata": {
            "tags": []
          }
        }
      ]
    },
    {
      "cell_type": "markdown",
      "metadata": {
        "id": "jN3X8y6PRSFR",
        "colab_type": "text"
      },
      "source": [
        "**Obtener el entero mas grande que sea menor que el numero que se le indique**"
      ]
    },
    {
      "cell_type": "code",
      "metadata": {
        "id": "vazVrp52RW4a",
        "colab_type": "code",
        "colab": {
          "base_uri": "https://localhost:8080/",
          "height": 34
        },
        "outputId": "a2f41401-3807-4882-8765-5240aaa0467c"
      },
      "source": [
        "floor(3.475)"
      ],
      "execution_count": null,
      "outputs": [
        {
          "output_type": "display_data",
          "data": {
            "text/plain": [
              "[1] 3"
            ],
            "text/latex": "3",
            "text/markdown": "3",
            "text/html": [
              "3"
            ]
          },
          "metadata": {
            "tags": []
          }
        }
      ]
    },
    {
      "cell_type": "markdown",
      "metadata": {
        "id": "oFmCYDB3Rp2z",
        "colab_type": "text"
      },
      "source": [
        "### **Funciones para manejo de cadenas**"
      ]
    },
    {
      "cell_type": "markdown",
      "metadata": {
        "id": "ZFjojkS9RvTQ",
        "colab_type": "text"
      },
      "source": [
        "**Replica el primer argumento el numero de veces indicado en el segundo argumento**"
      ]
    },
    {
      "cell_type": "code",
      "metadata": {
        "id": "Ye1isQGNR2iY",
        "colab_type": "code",
        "colab": {
          "base_uri": "https://localhost:8080/",
          "height": 34
        },
        "outputId": "11d36912-d7e0-4815-caf8-194f3afaecff"
      },
      "source": [
        "rep(\"Hola\",2)"
      ],
      "execution_count": null,
      "outputs": [
        {
          "output_type": "display_data",
          "data": {
            "text/plain": [
              "[1] \"Hola\" \"Hola\""
            ],
            "text/latex": "\\begin{enumerate*}\n\\item 'Hola'\n\\item 'Hola'\n\\end{enumerate*}\n",
            "text/markdown": "1. 'Hola'\n2. 'Hola'\n\n\n",
            "text/html": [
              "<style>\n",
              ".list-inline {list-style: none; margin:0; padding: 0}\n",
              ".list-inline>li {display: inline-block}\n",
              ".list-inline>li:not(:last-child)::after {content: \"\\00b7\"; padding: 0 .5ex}\n",
              "</style>\n",
              "<ol class=list-inline><li>'Hola'</li><li>'Hola'</li></ol>\n"
            ]
          },
          "metadata": {
            "tags": []
          }
        }
      ]
    },
    {
      "cell_type": "markdown",
      "metadata": {
        "id": "TOxaMElbR4fM",
        "colab_type": "text"
      },
      "source": [
        " **Concatena cadenas**"
      ]
    },
    {
      "cell_type": "code",
      "metadata": {
        "id": "RvuRzLgdR8Ro",
        "colab_type": "code",
        "colab": {
          "base_uri": "https://localhost:8080/",
          "height": 34
        },
        "outputId": "e58827c2-d051-4522-fb06-a2c5c3e08245"
      },
      "source": [
        "paste(\"Zapopan\",\"Jalisco\")"
      ],
      "execution_count": null,
      "outputs": [
        {
          "output_type": "display_data",
          "data": {
            "text/plain": [
              "[1] \"Zapopan Jalisco\""
            ],
            "text/latex": "'Zapopan Jalisco'",
            "text/markdown": "'Zapopan Jalisco'",
            "text/html": [
              "'Zapopan Jalisco'"
            ]
          },
          "metadata": {
            "tags": []
          }
        }
      ]
    },
    {
      "cell_type": "markdown",
      "metadata": {
        "id": "1M1W4d3ASB2R",
        "colab_type": "text"
      },
      "source": [
        "**Obtiene una subcadena de una cadena, como argumento indicamos la posicion inicial y la posicion final**"
      ]
    },
    {
      "cell_type": "code",
      "metadata": {
        "id": "zzLjWl_ASLCH",
        "colab_type": "code",
        "colab": {
          "base_uri": "https://localhost:8080/",
          "height": 34
        },
        "outputId": "34c5a9a2-8edb-4653-a90b-3addd3f7a8d6"
      },
      "source": [
        "substr(\"Guadalajara\",3,6)"
      ],
      "execution_count": null,
      "outputs": [
        {
          "output_type": "display_data",
          "data": {
            "text/plain": [
              "[1] \"adal\""
            ],
            "text/latex": "'adal'",
            "text/markdown": "'adal'",
            "text/html": [
              "'adal'"
            ]
          },
          "metadata": {
            "tags": []
          }
        }
      ]
    },
    {
      "cell_type": "markdown",
      "metadata": {
        "id": "kBPj8XS8STF5",
        "colab_type": "text"
      },
      "source": [
        "### **Vectores en R**"
      ]
    },
    {
      "cell_type": "markdown",
      "metadata": {
        "id": "w7uxt1WoSXNu",
        "colab_type": "text"
      },
      "source": [
        "**Crear vector de enteros (del 1 a 1000)**"
      ]
    },
    {
      "cell_type": "code",
      "metadata": {
        "id": "JU4Pq11nTyI1",
        "colab_type": "code",
        "colab": {}
      },
      "source": [
        "v2 <- 1:100"
      ],
      "execution_count": null,
      "outputs": []
    },
    {
      "cell_type": "code",
      "metadata": {
        "id": "cX_LAjkVT0OD",
        "colab_type": "code",
        "colab": {
          "base_uri": "https://localhost:8080/",
          "height": 51
        },
        "outputId": "5a1b0f0f-64ec-488b-f682-22db500c4fb9"
      },
      "source": [
        "v2"
      ],
      "execution_count": null,
      "outputs": [
        {
          "output_type": "display_data",
          "data": {
            "text/plain": [
              "  [1]   1   2   3   4   5   6   7   8   9  10  11  12  13  14  15  16  17  18\n",
              " [19]  19  20  21  22  23  24  25  26  27  28  29  30  31  32  33  34  35  36\n",
              " [37]  37  38  39  40  41  42  43  44  45  46  47  48  49  50  51  52  53  54\n",
              " [55]  55  56  57  58  59  60  61  62  63  64  65  66  67  68  69  70  71  72\n",
              " [73]  73  74  75  76  77  78  79  80  81  82  83  84  85  86  87  88  89  90\n",
              " [91]  91  92  93  94  95  96  97  98  99 100"
            ],
            "text/latex": "\\begin{enumerate*}\n\\item 1\n\\item 2\n\\item 3\n\\item 4\n\\item 5\n\\item 6\n\\item 7\n\\item 8\n\\item 9\n\\item 10\n\\item 11\n\\item 12\n\\item 13\n\\item 14\n\\item 15\n\\item 16\n\\item 17\n\\item 18\n\\item 19\n\\item 20\n\\item 21\n\\item 22\n\\item 23\n\\item 24\n\\item 25\n\\item 26\n\\item 27\n\\item 28\n\\item 29\n\\item 30\n\\item 31\n\\item 32\n\\item 33\n\\item 34\n\\item 35\n\\item 36\n\\item 37\n\\item 38\n\\item 39\n\\item 40\n\\item 41\n\\item 42\n\\item 43\n\\item 44\n\\item 45\n\\item 46\n\\item 47\n\\item 48\n\\item 49\n\\item 50\n\\item 51\n\\item 52\n\\item 53\n\\item 54\n\\item 55\n\\item 56\n\\item 57\n\\item 58\n\\item 59\n\\item 60\n\\item 61\n\\item 62\n\\item 63\n\\item 64\n\\item 65\n\\item 66\n\\item 67\n\\item 68\n\\item 69\n\\item 70\n\\item 71\n\\item 72\n\\item 73\n\\item 74\n\\item 75\n\\item 76\n\\item 77\n\\item 78\n\\item 79\n\\item 80\n\\item 81\n\\item 82\n\\item 83\n\\item 84\n\\item 85\n\\item 86\n\\item 87\n\\item 88\n\\item 89\n\\item 90\n\\item 91\n\\item 92\n\\item 93\n\\item 94\n\\item 95\n\\item 96\n\\item 97\n\\item 98\n\\item 99\n\\item 100\n\\end{enumerate*}\n",
            "text/markdown": "1. 1\n2. 2\n3. 3\n4. 4\n5. 5\n6. 6\n7. 7\n8. 8\n9. 9\n10. 10\n11. 11\n12. 12\n13. 13\n14. 14\n15. 15\n16. 16\n17. 17\n18. 18\n19. 19\n20. 20\n21. 21\n22. 22\n23. 23\n24. 24\n25. 25\n26. 26\n27. 27\n28. 28\n29. 29\n30. 30\n31. 31\n32. 32\n33. 33\n34. 34\n35. 35\n36. 36\n37. 37\n38. 38\n39. 39\n40. 40\n41. 41\n42. 42\n43. 43\n44. 44\n45. 45\n46. 46\n47. 47\n48. 48\n49. 49\n50. 50\n51. 51\n52. 52\n53. 53\n54. 54\n55. 55\n56. 56\n57. 57\n58. 58\n59. 59\n60. 60\n61. 61\n62. 62\n63. 63\n64. 64\n65. 65\n66. 66\n67. 67\n68. 68\n69. 69\n70. 70\n71. 71\n72. 72\n73. 73\n74. 74\n75. 75\n76. 76\n77. 77\n78. 78\n79. 79\n80. 80\n81. 81\n82. 82\n83. 83\n84. 84\n85. 85\n86. 86\n87. 87\n88. 88\n89. 89\n90. 90\n91. 91\n92. 92\n93. 93\n94. 94\n95. 95\n96. 96\n97. 97\n98. 98\n99. 99\n100. 100\n\n\n",
            "text/html": [
              "<style>\n",
              ".list-inline {list-style: none; margin:0; padding: 0}\n",
              ".list-inline>li {display: inline-block}\n",
              ".list-inline>li:not(:last-child)::after {content: \"\\00b7\"; padding: 0 .5ex}\n",
              "</style>\n",
              "<ol class=list-inline><li>1</li><li>2</li><li>3</li><li>4</li><li>5</li><li>6</li><li>7</li><li>8</li><li>9</li><li>10</li><li>11</li><li>12</li><li>13</li><li>14</li><li>15</li><li>16</li><li>17</li><li>18</li><li>19</li><li>20</li><li>21</li><li>22</li><li>23</li><li>24</li><li>25</li><li>26</li><li>27</li><li>28</li><li>29</li><li>30</li><li>31</li><li>32</li><li>33</li><li>34</li><li>35</li><li>36</li><li>37</li><li>38</li><li>39</li><li>40</li><li>41</li><li>42</li><li>43</li><li>44</li><li>45</li><li>46</li><li>47</li><li>48</li><li>49</li><li>50</li><li>51</li><li>52</li><li>53</li><li>54</li><li>55</li><li>56</li><li>57</li><li>58</li><li>59</li><li>60</li><li>61</li><li>62</li><li>63</li><li>64</li><li>65</li><li>66</li><li>67</li><li>68</li><li>69</li><li>70</li><li>71</li><li>72</li><li>73</li><li>74</li><li>75</li><li>76</li><li>77</li><li>78</li><li>79</li><li>80</li><li>81</li><li>82</li><li>83</li><li>84</li><li>85</li><li>86</li><li>87</li><li>88</li><li>89</li><li>90</li><li>91</li><li>92</li><li>93</li><li>94</li><li>95</li><li>96</li><li>97</li><li>98</li><li>99</li><li>100</li></ol>\n"
            ]
          },
          "metadata": {
            "tags": []
          }
        }
      ]
    },
    {
      "cell_type": "markdown",
      "metadata": {
        "id": "CdePhhEVTz11",
        "colab_type": "text"
      },
      "source": [
        "**Crear vector con los cuadrados del vector v2**\n",
        "\n",
        "\n",
        "Nota: En lenguaje R, a diferencia de otros lenguajes, es muy común utilizar en el identificador de la variable algun punto en donde normalmente utilizamos un guion bajo para separar las palablas (Ej. variable_normal, variable.normal)"
      ]
    },
    {
      "cell_type": "code",
      "metadata": {
        "id": "diugUrp9UbAl",
        "colab_type": "code",
        "colab": {}
      },
      "source": [
        "v2.cuadrado <- v2 ^ 2"
      ],
      "execution_count": null,
      "outputs": []
    },
    {
      "cell_type": "code",
      "metadata": {
        "id": "d5yPOHdBUchE",
        "colab_type": "code",
        "colab": {
          "base_uri": "https://localhost:8080/",
          "height": 68
        },
        "outputId": "c3b0a403-28e0-4a74-d3b0-a2b155d103e4"
      },
      "source": [
        "v2.cuadrado"
      ],
      "execution_count": null,
      "outputs": [
        {
          "output_type": "display_data",
          "data": {
            "text/plain": [
              "  [1]     1     4     9    16    25    36    49    64    81   100   121   144\n",
              " [13]   169   196   225   256   289   324   361   400   441   484   529   576\n",
              " [25]   625   676   729   784   841   900   961  1024  1089  1156  1225  1296\n",
              " [37]  1369  1444  1521  1600  1681  1764  1849  1936  2025  2116  2209  2304\n",
              " [49]  2401  2500  2601  2704  2809  2916  3025  3136  3249  3364  3481  3600\n",
              " [61]  3721  3844  3969  4096  4225  4356  4489  4624  4761  4900  5041  5184\n",
              " [73]  5329  5476  5625  5776  5929  6084  6241  6400  6561  6724  6889  7056\n",
              " [85]  7225  7396  7569  7744  7921  8100  8281  8464  8649  8836  9025  9216\n",
              " [97]  9409  9604  9801 10000"
            ],
            "text/latex": "\\begin{enumerate*}\n\\item 1\n\\item 4\n\\item 9\n\\item 16\n\\item 25\n\\item 36\n\\item 49\n\\item 64\n\\item 81\n\\item 100\n\\item 121\n\\item 144\n\\item 169\n\\item 196\n\\item 225\n\\item 256\n\\item 289\n\\item 324\n\\item 361\n\\item 400\n\\item 441\n\\item 484\n\\item 529\n\\item 576\n\\item 625\n\\item 676\n\\item 729\n\\item 784\n\\item 841\n\\item 900\n\\item 961\n\\item 1024\n\\item 1089\n\\item 1156\n\\item 1225\n\\item 1296\n\\item 1369\n\\item 1444\n\\item 1521\n\\item 1600\n\\item 1681\n\\item 1764\n\\item 1849\n\\item 1936\n\\item 2025\n\\item 2116\n\\item 2209\n\\item 2304\n\\item 2401\n\\item 2500\n\\item 2601\n\\item 2704\n\\item 2809\n\\item 2916\n\\item 3025\n\\item 3136\n\\item 3249\n\\item 3364\n\\item 3481\n\\item 3600\n\\item 3721\n\\item 3844\n\\item 3969\n\\item 4096\n\\item 4225\n\\item 4356\n\\item 4489\n\\item 4624\n\\item 4761\n\\item 4900\n\\item 5041\n\\item 5184\n\\item 5329\n\\item 5476\n\\item 5625\n\\item 5776\n\\item 5929\n\\item 6084\n\\item 6241\n\\item 6400\n\\item 6561\n\\item 6724\n\\item 6889\n\\item 7056\n\\item 7225\n\\item 7396\n\\item 7569\n\\item 7744\n\\item 7921\n\\item 8100\n\\item 8281\n\\item 8464\n\\item 8649\n\\item 8836\n\\item 9025\n\\item 9216\n\\item 9409\n\\item 9604\n\\item 9801\n\\item 10000\n\\end{enumerate*}\n",
            "text/markdown": "1. 1\n2. 4\n3. 9\n4. 16\n5. 25\n6. 36\n7. 49\n8. 64\n9. 81\n10. 100\n11. 121\n12. 144\n13. 169\n14. 196\n15. 225\n16. 256\n17. 289\n18. 324\n19. 361\n20. 400\n21. 441\n22. 484\n23. 529\n24. 576\n25. 625\n26. 676\n27. 729\n28. 784\n29. 841\n30. 900\n31. 961\n32. 1024\n33. 1089\n34. 1156\n35. 1225\n36. 1296\n37. 1369\n38. 1444\n39. 1521\n40. 1600\n41. 1681\n42. 1764\n43. 1849\n44. 1936\n45. 2025\n46. 2116\n47. 2209\n48. 2304\n49. 2401\n50. 2500\n51. 2601\n52. 2704\n53. 2809\n54. 2916\n55. 3025\n56. 3136\n57. 3249\n58. 3364\n59. 3481\n60. 3600\n61. 3721\n62. 3844\n63. 3969\n64. 4096\n65. 4225\n66. 4356\n67. 4489\n68. 4624\n69. 4761\n70. 4900\n71. 5041\n72. 5184\n73. 5329\n74. 5476\n75. 5625\n76. 5776\n77. 5929\n78. 6084\n79. 6241\n80. 6400\n81. 6561\n82. 6724\n83. 6889\n84. 7056\n85. 7225\n86. 7396\n87. 7569\n88. 7744\n89. 7921\n90. 8100\n91. 8281\n92. 8464\n93. 8649\n94. 8836\n95. 9025\n96. 9216\n97. 9409\n98. 9604\n99. 9801\n100. 10000\n\n\n",
            "text/html": [
              "<style>\n",
              ".list-inline {list-style: none; margin:0; padding: 0}\n",
              ".list-inline>li {display: inline-block}\n",
              ".list-inline>li:not(:last-child)::after {content: \"\\00b7\"; padding: 0 .5ex}\n",
              "</style>\n",
              "<ol class=list-inline><li>1</li><li>4</li><li>9</li><li>16</li><li>25</li><li>36</li><li>49</li><li>64</li><li>81</li><li>100</li><li>121</li><li>144</li><li>169</li><li>196</li><li>225</li><li>256</li><li>289</li><li>324</li><li>361</li><li>400</li><li>441</li><li>484</li><li>529</li><li>576</li><li>625</li><li>676</li><li>729</li><li>784</li><li>841</li><li>900</li><li>961</li><li>1024</li><li>1089</li><li>1156</li><li>1225</li><li>1296</li><li>1369</li><li>1444</li><li>1521</li><li>1600</li><li>1681</li><li>1764</li><li>1849</li><li>1936</li><li>2025</li><li>2116</li><li>2209</li><li>2304</li><li>2401</li><li>2500</li><li>2601</li><li>2704</li><li>2809</li><li>2916</li><li>3025</li><li>3136</li><li>3249</li><li>3364</li><li>3481</li><li>3600</li><li>3721</li><li>3844</li><li>3969</li><li>4096</li><li>4225</li><li>4356</li><li>4489</li><li>4624</li><li>4761</li><li>4900</li><li>5041</li><li>5184</li><li>5329</li><li>5476</li><li>5625</li><li>5776</li><li>5929</li><li>6084</li><li>6241</li><li>6400</li><li>6561</li><li>6724</li><li>6889</li><li>7056</li><li>7225</li><li>7396</li><li>7569</li><li>7744</li><li>7921</li><li>8100</li><li>8281</li><li>8464</li><li>8649</li><li>8836</li><li>9025</li><li>9216</li><li>9409</li><li>9604</li><li>9801</li><li>10000</li></ol>\n"
            ]
          },
          "metadata": {
            "tags": []
          }
        }
      ]
    },
    {
      "cell_type": "markdown",
      "metadata": {
        "id": "eeA5DT-WUi3b",
        "colab_type": "text"
      },
      "source": [
        "**Crear vector vA**"
      ]
    },
    {
      "cell_type": "code",
      "metadata": {
        "id": "ByXX8GVKUmdP",
        "colab_type": "code",
        "colab": {}
      },
      "source": [
        "vA <- c(10,8,6)"
      ],
      "execution_count": null,
      "outputs": []
    },
    {
      "cell_type": "code",
      "metadata": {
        "id": "CNrHLB1UUnrf",
        "colab_type": "code",
        "colab": {
          "base_uri": "https://localhost:8080/",
          "height": 34
        },
        "outputId": "c0871142-4063-464c-bb41-47c0f4b206ee"
      },
      "source": [
        "vA"
      ],
      "execution_count": null,
      "outputs": [
        {
          "output_type": "display_data",
          "data": {
            "text/plain": [
              "[1] 10  8  6"
            ],
            "text/latex": "\\begin{enumerate*}\n\\item 10\n\\item 8\n\\item 6\n\\end{enumerate*}\n",
            "text/markdown": "1. 10\n2. 8\n3. 6\n\n\n",
            "text/html": [
              "<style>\n",
              ".list-inline {list-style: none; margin:0; padding: 0}\n",
              ".list-inline>li {display: inline-block}\n",
              ".list-inline>li:not(:last-child)::after {content: \"\\00b7\"; padding: 0 .5ex}\n",
              "</style>\n",
              "<ol class=list-inline><li>10</li><li>8</li><li>6</li></ol>\n"
            ]
          },
          "metadata": {
            "tags": []
          }
        }
      ]
    },
    {
      "cell_type": "markdown",
      "metadata": {
        "id": "hRu-8kROUowk",
        "colab_type": "text"
      },
      "source": [
        "**Multiplicar cada elemento del vector vA por 10**"
      ]
    },
    {
      "cell_type": "code",
      "metadata": {
        "id": "lXnQ60TPUufY",
        "colab_type": "code",
        "colab": {
          "base_uri": "https://localhost:8080/",
          "height": 34
        },
        "outputId": "542d136f-5faf-4e15-eac0-77c149b5d2a4"
      },
      "source": [
        "vA * 10"
      ],
      "execution_count": null,
      "outputs": [
        {
          "output_type": "display_data",
          "data": {
            "text/plain": [
              "[1] 100  80  60"
            ],
            "text/latex": "\\begin{enumerate*}\n\\item 100\n\\item 80\n\\item 60\n\\end{enumerate*}\n",
            "text/markdown": "1. 100\n2. 80\n3. 60\n\n\n",
            "text/html": [
              "<style>\n",
              ".list-inline {list-style: none; margin:0; padding: 0}\n",
              ".list-inline>li {display: inline-block}\n",
              ".list-inline>li:not(:last-child)::after {content: \"\\00b7\"; padding: 0 .5ex}\n",
              "</style>\n",
              "<ol class=list-inline><li>100</li><li>80</li><li>60</li></ol>\n"
            ]
          },
          "metadata": {
            "tags": []
          }
        }
      ]
    },
    {
      "cell_type": "markdown",
      "metadata": {
        "id": "or1nTRVeUxNp",
        "colab_type": "text"
      },
      "source": [
        "**Crear un vector con numeros del 1 al 10 con saltos de 2 en 2**"
      ]
    },
    {
      "cell_type": "code",
      "metadata": {
        "id": "KumnoXUnU6dH",
        "colab_type": "code",
        "colab": {}
      },
      "source": [
        "vB <- c(seq(1,10,2))"
      ],
      "execution_count": null,
      "outputs": []
    },
    {
      "cell_type": "code",
      "metadata": {
        "id": "OqH4yITyU7Wy",
        "colab_type": "code",
        "colab": {
          "base_uri": "https://localhost:8080/",
          "height": 34
        },
        "outputId": "158cf72b-6d96-4af6-e6ca-79bbc6117eb3"
      },
      "source": [
        "vB"
      ],
      "execution_count": null,
      "outputs": [
        {
          "output_type": "display_data",
          "data": {
            "text/plain": [
              "[1] 1 3 5 7 9"
            ],
            "text/latex": "\\begin{enumerate*}\n\\item 1\n\\item 3\n\\item 5\n\\item 7\n\\item 9\n\\end{enumerate*}\n",
            "text/markdown": "1. 1\n2. 3\n3. 5\n4. 7\n5. 9\n\n\n",
            "text/html": [
              "<style>\n",
              ".list-inline {list-style: none; margin:0; padding: 0}\n",
              ".list-inline>li {display: inline-block}\n",
              ".list-inline>li:not(:last-child)::after {content: \"\\00b7\"; padding: 0 .5ex}\n",
              "</style>\n",
              "<ol class=list-inline><li>1</li><li>3</li><li>5</li><li>7</li><li>9</li></ol>\n"
            ]
          },
          "metadata": {
            "tags": []
          }
        }
      ]
    },
    {
      "cell_type": "markdown",
      "metadata": {
        "id": "rJpIRiNpVB_6",
        "colab_type": "text"
      },
      "source": [
        "**Mostrar el primer elemento del vector vA**"
      ]
    },
    {
      "cell_type": "code",
      "metadata": {
        "id": "ES0jMu4SVF0s",
        "colab_type": "code",
        "colab": {
          "base_uri": "https://localhost:8080/",
          "height": 34
        },
        "outputId": "29c9527d-8cc7-46c6-804a-39cc7c9e8c38"
      },
      "source": [
        "vA[1]"
      ],
      "execution_count": null,
      "outputs": [
        {
          "output_type": "display_data",
          "data": {
            "text/plain": [
              "[1] 10"
            ],
            "text/latex": "10",
            "text/markdown": "10",
            "text/html": [
              "10"
            ]
          },
          "metadata": {
            "tags": []
          }
        }
      ]
    },
    {
      "cell_type": "markdown",
      "metadata": {
        "id": "YAiC3dhGVHyo",
        "colab_type": "text"
      },
      "source": [
        "**Mostrar los primeros cuatro elementos del vector vB**"
      ]
    },
    {
      "cell_type": "code",
      "metadata": {
        "id": "Uw0Ci19sVPXD",
        "colab_type": "code",
        "colab": {
          "base_uri": "https://localhost:8080/",
          "height": 34
        },
        "outputId": "abd4dad4-052b-4e13-a5d2-d614f80a442c"
      },
      "source": [
        "vB[1:4]"
      ],
      "execution_count": null,
      "outputs": [
        {
          "output_type": "display_data",
          "data": {
            "text/plain": [
              "[1] 1 3 5 7"
            ],
            "text/latex": "\\begin{enumerate*}\n\\item 1\n\\item 3\n\\item 5\n\\item 7\n\\end{enumerate*}\n",
            "text/markdown": "1. 1\n2. 3\n3. 5\n4. 7\n\n\n",
            "text/html": [
              "<style>\n",
              ".list-inline {list-style: none; margin:0; padding: 0}\n",
              ".list-inline>li {display: inline-block}\n",
              ".list-inline>li:not(:last-child)::after {content: \"\\00b7\"; padding: 0 .5ex}\n",
              "</style>\n",
              "<ol class=list-inline><li>1</li><li>3</li><li>5</li><li>7</li></ol>\n"
            ]
          },
          "metadata": {
            "tags": []
          }
        }
      ]
    },
    {
      "cell_type": "markdown",
      "metadata": {
        "id": "cfvnUWHDVSS7",
        "colab_type": "text"
      },
      "source": [
        "**Devuelve los indices de los elementos que cumplen la condicion que se le indique**"
      ]
    },
    {
      "cell_type": "code",
      "metadata": {
        "id": "Gy2G71jvVXRK",
        "colab_type": "code",
        "colab": {
          "base_uri": "https://localhost:8080/",
          "height": 34
        },
        "outputId": "f220386d-88f7-46db-f23e-6788363759ab"
      },
      "source": [
        "which (vB > 3)"
      ],
      "execution_count": null,
      "outputs": [
        {
          "output_type": "display_data",
          "data": {
            "text/plain": [
              "[1] 3 4 5"
            ],
            "text/latex": "\\begin{enumerate*}\n\\item 3\n\\item 4\n\\item 5\n\\end{enumerate*}\n",
            "text/markdown": "1. 3\n2. 4\n3. 5\n\n\n",
            "text/html": [
              "<style>\n",
              ".list-inline {list-style: none; margin:0; padding: 0}\n",
              ".list-inline>li {display: inline-block}\n",
              ".list-inline>li:not(:last-child)::after {content: \"\\00b7\"; padding: 0 .5ex}\n",
              "</style>\n",
              "<ol class=list-inline><li>3</li><li>4</li><li>5</li></ol>\n"
            ]
          },
          "metadata": {
            "tags": []
          }
        }
      ]
    },
    {
      "cell_type": "markdown",
      "metadata": {
        "id": "oYY7_gFdVeBQ",
        "colab_type": "text"
      },
      "source": [
        "**Una caracteriztica de los vectores en lenguaje R es que los elementos pueden ser de varios tipos de datos**"
      ]
    },
    {
      "cell_type": "markdown",
      "metadata": {
        "id": "xRCRKqMdVp9T",
        "colab_type": "text"
      },
      "source": [
        "**Crearemos el vector sex, utilizando la función rep vista previamente**"
      ]
    },
    {
      "cell_type": "code",
      "metadata": {
        "id": "8iQjkcuQVwk2",
        "colab_type": "code",
        "colab": {}
      },
      "source": [
        "sex <- c( rep('M', 3), rep('F', 3) )"
      ],
      "execution_count": null,
      "outputs": []
    },
    {
      "cell_type": "code",
      "metadata": {
        "id": "ANg2U2R2VzOh",
        "colab_type": "code",
        "colab": {
          "base_uri": "https://localhost:8080/",
          "height": 34
        },
        "outputId": "4b412133-b286-4a1a-9f4c-8ca2e4ebc9d7"
      },
      "source": [
        "sex"
      ],
      "execution_count": null,
      "outputs": [
        {
          "output_type": "display_data",
          "data": {
            "text/plain": [
              "[1] \"M\" \"M\" \"M\" \"F\" \"F\" \"F\""
            ],
            "text/latex": "\\begin{enumerate*}\n\\item 'M'\n\\item 'M'\n\\item 'M'\n\\item 'F'\n\\item 'F'\n\\item 'F'\n\\end{enumerate*}\n",
            "text/markdown": "1. 'M'\n2. 'M'\n3. 'M'\n4. 'F'\n5. 'F'\n6. 'F'\n\n\n",
            "text/html": [
              "<style>\n",
              ".list-inline {list-style: none; margin:0; padding: 0}\n",
              ".list-inline>li {display: inline-block}\n",
              ".list-inline>li:not(:last-child)::after {content: \"\\00b7\"; padding: 0 .5ex}\n",
              "</style>\n",
              "<ol class=list-inline><li>'M'</li><li>'M'</li><li>'M'</li><li>'F'</li><li>'F'</li><li>'F'</li></ol>\n"
            ]
          },
          "metadata": {
            "tags": []
          }
        }
      ]
    },
    {
      "cell_type": "markdown",
      "metadata": {
        "id": "8EjYhBFSV03X",
        "colab_type": "text"
      },
      "source": [
        "**Mostramos los indices de los elementos del vector sex que sean igual a 'M'**"
      ]
    },
    {
      "cell_type": "code",
      "metadata": {
        "id": "tmimRv3rWAmg",
        "colab_type": "code",
        "colab": {
          "base_uri": "https://localhost:8080/",
          "height": 34
        },
        "outputId": "276507b7-db7f-4f0f-eb61-ed1e2b6c18b3"
      },
      "source": [
        "which (sex == 'M')"
      ],
      "execution_count": null,
      "outputs": [
        {
          "output_type": "display_data",
          "data": {
            "text/plain": [
              "[1] 1 2 3"
            ],
            "text/latex": "\\begin{enumerate*}\n\\item 1\n\\item 2\n\\item 3\n\\end{enumerate*}\n",
            "text/markdown": "1. 1\n2. 2\n3. 3\n\n\n",
            "text/html": [
              "<style>\n",
              ".list-inline {list-style: none; margin:0; padding: 0}\n",
              ".list-inline>li {display: inline-block}\n",
              ".list-inline>li:not(:last-child)::after {content: \"\\00b7\"; padding: 0 .5ex}\n",
              "</style>\n",
              "<ol class=list-inline><li>1</li><li>2</li><li>3</li></ol>\n"
            ]
          },
          "metadata": {
            "tags": []
          }
        }
      ]
    },
    {
      "cell_type": "markdown",
      "metadata": {
        "id": "CQTFpguZWjVO",
        "colab_type": "text"
      },
      "source": [
        "**R nos permite realizar operaciones entre vectores**"
      ]
    },
    {
      "cell_type": "markdown",
      "metadata": {
        "id": "O-DGNmmdWqwW",
        "colab_type": "text"
      },
      "source": [
        "**Creamos el vector x1**"
      ]
    },
    {
      "cell_type": "code",
      "metadata": {
        "id": "BTc3ogxsWvGn",
        "colab_type": "code",
        "colab": {}
      },
      "source": [
        "x1 <- c(1,2,3)"
      ],
      "execution_count": null,
      "outputs": []
    },
    {
      "cell_type": "markdown",
      "metadata": {
        "id": "8KZ3STz2Wwpp",
        "colab_type": "text"
      },
      "source": [
        "**Creamos el vector y1**"
      ]
    },
    {
      "cell_type": "code",
      "metadata": {
        "id": "JPWR_vc4W1WE",
        "colab_type": "code",
        "colab": {}
      },
      "source": [
        "y1 <- c(4,5,6)"
      ],
      "execution_count": null,
      "outputs": []
    },
    {
      "cell_type": "markdown",
      "metadata": {
        "id": "pQd23xoCW3O6",
        "colab_type": "text"
      },
      "source": [
        "**Producto de vectores**"
      ]
    },
    {
      "cell_type": "code",
      "metadata": {
        "id": "X-Tj540xW5zb",
        "colab_type": "code",
        "colab": {
          "base_uri": "https://localhost:8080/",
          "height": 34
        },
        "outputId": "eb218eb6-a5b7-4a83-f1a6-dc8b6edd0994"
      },
      "source": [
        "x1 * y1"
      ],
      "execution_count": null,
      "outputs": [
        {
          "output_type": "display_data",
          "data": {
            "text/plain": [
              "[1]  4 10 18"
            ],
            "text/latex": "\\begin{enumerate*}\n\\item 4\n\\item 10\n\\item 18\n\\end{enumerate*}\n",
            "text/markdown": "1. 4\n2. 10\n3. 18\n\n\n",
            "text/html": [
              "<style>\n",
              ".list-inline {list-style: none; margin:0; padding: 0}\n",
              ".list-inline>li {display: inline-block}\n",
              ".list-inline>li:not(:last-child)::after {content: \"\\00b7\"; padding: 0 .5ex}\n",
              "</style>\n",
              "<ol class=list-inline><li>4</li><li>10</li><li>18</li></ol>\n"
            ]
          },
          "metadata": {
            "tags": []
          }
        }
      ]
    },
    {
      "cell_type": "markdown",
      "metadata": {
        "id": "oMk7aE2yW7p8",
        "colab_type": "text"
      },
      "source": [
        "**Valor minimo en el vector**"
      ]
    },
    {
      "cell_type": "code",
      "metadata": {
        "id": "1wDFZwFtW_Kg",
        "colab_type": "code",
        "colab": {
          "base_uri": "https://localhost:8080/",
          "height": 34
        },
        "outputId": "e326e546-6747-4c57-df08-2d5baf867b28"
      },
      "source": [
        "min(x1)"
      ],
      "execution_count": null,
      "outputs": [
        {
          "output_type": "display_data",
          "data": {
            "text/plain": [
              "[1] 1"
            ],
            "text/latex": "1",
            "text/markdown": "1",
            "text/html": [
              "1"
            ]
          },
          "metadata": {
            "tags": []
          }
        }
      ]
    },
    {
      "cell_type": "markdown",
      "metadata": {
        "id": "ywr4_droXBC2",
        "colab_type": "text"
      },
      "source": [
        "**Valor maximo en el vector**"
      ]
    },
    {
      "cell_type": "code",
      "metadata": {
        "id": "seBTMaVIXRAe",
        "colab_type": "code",
        "colab": {
          "base_uri": "https://localhost:8080/",
          "height": 34
        },
        "outputId": "65d9314d-021c-4a8b-a769-6e6c3cd2fd65"
      },
      "source": [
        "max(x1)"
      ],
      "execution_count": null,
      "outputs": [
        {
          "output_type": "display_data",
          "data": {
            "text/plain": [
              "[1] 3"
            ],
            "text/latex": "3",
            "text/markdown": "3",
            "text/html": [
              "3"
            ]
          },
          "metadata": {
            "tags": []
          }
        }
      ]
    },
    {
      "cell_type": "markdown",
      "metadata": {
        "id": "G2ppqnmiXSz9",
        "colab_type": "text"
      },
      "source": [
        "**Producto interno de dos vectores**"
      ]
    },
    {
      "cell_type": "code",
      "metadata": {
        "id": "nRhPdcykXVO4",
        "colab_type": "code",
        "colab": {
          "base_uri": "https://localhost:8080/",
          "height": 133
        },
        "outputId": "10a2972a-0e3a-4757-a7da-71c76ba910a0"
      },
      "source": [
        "outer(x1,y1)"
      ],
      "execution_count": null,
      "outputs": [
        {
          "output_type": "display_data",
          "data": {
            "text/plain": [
              "     [,1] [,2] [,3]\n",
              "[1,]  4    5    6  \n",
              "[2,]  8   10   12  \n",
              "[3,] 12   15   18  "
            ],
            "text/latex": "A matrix: 3 × 3 of type dbl\n\\begin{tabular}{lll}\n\t  4 &  5 &  6\\\\\n\t  8 & 10 & 12\\\\\n\t 12 & 15 & 18\\\\\n\\end{tabular}\n",
            "text/markdown": "\nA matrix: 3 × 3 of type dbl\n\n|  4 |  5 |  6 |\n|  8 | 10 | 12 |\n| 12 | 15 | 18 |\n\n",
            "text/html": [
              "<table>\n",
              "<caption>A matrix: 3 × 3 of type dbl</caption>\n",
              "<tbody>\n",
              "\t<tr><td> 4</td><td> 5</td><td> 6</td></tr>\n",
              "\t<tr><td> 8</td><td>10</td><td>12</td></tr>\n",
              "\t<tr><td>12</td><td>15</td><td>18</td></tr>\n",
              "</tbody>\n",
              "</table>\n"
            ]
          },
          "metadata": {
            "tags": []
          }
        }
      ]
    },
    {
      "cell_type": "markdown",
      "metadata": {
        "id": "bS6MsigjXWot",
        "colab_type": "text"
      },
      "source": [
        "**Producto punto de dos vectores**"
      ]
    },
    {
      "cell_type": "code",
      "metadata": {
        "id": "Ebs2E0q0XZLF",
        "colab_type": "code",
        "colab": {
          "base_uri": "https://localhost:8080/",
          "height": 142
        },
        "outputId": "d010e87a-59ca-479d-d376-9eeec5aaa9ba"
      },
      "source": [
        "x1%*%y1 "
      ],
      "execution_count": null,
      "outputs": [
        {
          "output_type": "display_data",
          "data": {
            "text/plain": [
              "     [,1]\n",
              "[1,] 32  "
            ],
            "text/latex": "A matrix: 1 × 1 of type dbl\n\\begin{tabular}{l}\n\t 32\\\\\n\\end{tabular}\n",
            "text/markdown": "\nA matrix: 1 × 1 of type dbl\n\n| 32 |\n\n",
            "text/html": [
              "<table>\n",
              "<caption>A matrix: 1 × 1 of type dbl</caption>\n",
              "<tbody>\n",
              "\t<tr><td>32</td></tr>\n",
              "</tbody>\n",
              "</table>\n"
            ]
          },
          "metadata": {
            "tags": []
          }
        }
      ]
    },
    {
      "cell_type": "markdown",
      "metadata": {
        "id": "M7LLJGBifW-G",
        "colab_type": "text"
      },
      "source": [
        "**Se puede realizar operaciones de conjuntos con los vectores, por ejemplo union e interaccion, en el caso de la interaccion calcula un factor que representa la interacción de los factores dados. \n",
        "El resultado de interaccion siempre está desordenado.**"
      ]
    },
    {
      "cell_type": "code",
      "metadata": {
        "id": "JPb5vmaDfgS1",
        "colab_type": "code",
        "colab": {
          "base_uri": "https://localhost:8080/",
          "height": 85
        },
        "outputId": "bac29bc4-fd00-4b23-a179-725cd6d36699"
      },
      "source": [
        " A <- c(1,2,3)\n",
        " B <- c(4,5,6)\n",
        " union(A,B)\n",
        " interaction(A,B)"
      ],
      "execution_count": null,
      "outputs": [
        {
          "output_type": "display_data",
          "data": {
            "text/plain": [
              "[1] 1 2 3 4 5 6"
            ],
            "text/latex": "\\begin{enumerate*}\n\\item 1\n\\item 2\n\\item 3\n\\item 4\n\\item 5\n\\item 6\n\\end{enumerate*}\n",
            "text/markdown": "1. 1\n2. 2\n3. 3\n4. 4\n5. 5\n6. 6\n\n\n",
            "text/html": [
              "<style>\n",
              ".list-inline {list-style: none; margin:0; padding: 0}\n",
              ".list-inline>li {display: inline-block}\n",
              ".list-inline>li:not(:last-child)::after {content: \"\\00b7\"; padding: 0 .5ex}\n",
              "</style>\n",
              "<ol class=list-inline><li>1</li><li>2</li><li>3</li><li>4</li><li>5</li><li>6</li></ol>\n"
            ]
          },
          "metadata": {
            "tags": []
          }
        },
        {
          "output_type": "display_data",
          "data": {
            "text/plain": [
              "[1] 1.4 2.5 3.6\n",
              "Levels: 1.4 2.4 3.4 1.5 2.5 3.5 1.6 2.6 3.6"
            ],
            "text/latex": "\\begin{enumerate*}\n\\item 1.4\n\\item 2.5\n\\item 3.6\n\\end{enumerate*}\n\n\\emph{Levels}: \\begin{enumerate*}\n\\item '1.4'\n\\item '2.4'\n\\item '3.4'\n\\item '1.5'\n\\item '2.5'\n\\item '3.5'\n\\item '1.6'\n\\item '2.6'\n\\item '3.6'\n\\end{enumerate*}\n",
            "text/markdown": "1. 1.4\n2. 2.5\n3. 3.6\n\n\n\n**Levels**: 1. '1.4'\n2. '2.4'\n3. '3.4'\n4. '1.5'\n5. '2.5'\n6. '3.5'\n7. '1.6'\n8. '2.6'\n9. '3.6'\n\n\n",
            "text/html": [
              "<style>\n",
              ".list-inline {list-style: none; margin:0; padding: 0}\n",
              ".list-inline>li {display: inline-block}\n",
              ".list-inline>li:not(:last-child)::after {content: \"\\00b7\"; padding: 0 .5ex}\n",
              "</style>\n",
              "<ol class=list-inline><li>1.4</li><li>2.5</li><li>3.6</li></ol>\n",
              "\n",
              "<details>\n",
              "\t<summary style=display:list-item;cursor:pointer>\n",
              "\t\t<strong>Levels</strong>:\n",
              "\t</summary>\n",
              "\t<style>\n",
              "\t.list-inline {list-style: none; margin:0; padding: 0}\n",
              "\t.list-inline>li {display: inline-block}\n",
              "\t.list-inline>li:not(:last-child)::after {content: \"\\00b7\"; padding: 0 .5ex}\n",
              "\t</style>\n",
              "\t<ol class=list-inline><li>'1.4'</li><li>'2.4'</li><li>'3.4'</li><li>'1.5'</li><li>'2.5'</li><li>'3.5'</li><li>'1.6'</li><li>'2.6'</li><li>'3.6'</li></ol>\n",
              "</details>"
            ]
          },
          "metadata": {
            "tags": []
          }
        }
      ]
    },
    {
      "cell_type": "markdown",
      "metadata": {
        "id": "2wdvd9Z8XgJQ",
        "colab_type": "text"
      },
      "source": [
        "### **Matrices en R**"
      ]
    },
    {
      "cell_type": "markdown",
      "metadata": {
        "id": "ZHmG4cECX9_8",
        "colab_type": "text"
      },
      "source": [
        "**Creamos una matriz con numeros del 1 al 15, podemos indicarle numero de filas y numero de columnas, ésta se llenara en orden por columnas.**\n",
        "\n",
        "\n",
        "**Se puede especificar la forma en la que se llenara cambiando el argumento nrow por byrow, utilizando byrow = T se llenara por fila, con     byrow = F se llenara por columna**"
      ]
    },
    {
      "cell_type": "code",
      "metadata": {
        "id": "8e4nWkH8YOzE",
        "colab_type": "code",
        "colab": {}
      },
      "source": [
        "m1 <- matrix(1:15, nrow=5, ncol=5)"
      ],
      "execution_count": null,
      "outputs": []
    },
    {
      "cell_type": "code",
      "metadata": {
        "id": "WQ1rOTlfYQSs",
        "colab_type": "code",
        "colab": {
          "base_uri": "https://localhost:8080/",
          "height": 158
        },
        "outputId": "e986496f-41de-4d41-c0f9-00162e55f1cc"
      },
      "source": [
        "m1"
      ],
      "execution_count": null,
      "outputs": [
        {
          "output_type": "display_data",
          "data": {
            "text/plain": [
              "     [,1] [,2] [,3] [,4] [,5]\n",
              "[1,] 1     6   11   1     6  \n",
              "[2,] 2     7   12   2     7  \n",
              "[3,] 3     8   13   3     8  \n",
              "[4,] 4     9   14   4     9  \n",
              "[5,] 5    10   15   5    10  "
            ],
            "text/latex": "A matrix: 5 × 5 of type int\n\\begin{tabular}{lllll}\n\t 1 &  6 & 11 & 1 &  6\\\\\n\t 2 &  7 & 12 & 2 &  7\\\\\n\t 3 &  8 & 13 & 3 &  8\\\\\n\t 4 &  9 & 14 & 4 &  9\\\\\n\t 5 & 10 & 15 & 5 & 10\\\\\n\\end{tabular}\n",
            "text/markdown": "\nA matrix: 5 × 5 of type int\n\n| 1 |  6 | 11 | 1 |  6 |\n| 2 |  7 | 12 | 2 |  7 |\n| 3 |  8 | 13 | 3 |  8 |\n| 4 |  9 | 14 | 4 |  9 |\n| 5 | 10 | 15 | 5 | 10 |\n\n",
            "text/html": [
              "<table>\n",
              "<caption>A matrix: 5 × 5 of type int</caption>\n",
              "<tbody>\n",
              "\t<tr><td>1</td><td> 6</td><td>11</td><td>1</td><td> 6</td></tr>\n",
              "\t<tr><td>2</td><td> 7</td><td>12</td><td>2</td><td> 7</td></tr>\n",
              "\t<tr><td>3</td><td> 8</td><td>13</td><td>3</td><td> 8</td></tr>\n",
              "\t<tr><td>4</td><td> 9</td><td>14</td><td>4</td><td> 9</td></tr>\n",
              "\t<tr><td>5</td><td>10</td><td>15</td><td>5</td><td>10</td></tr>\n",
              "</tbody>\n",
              "</table>\n"
            ]
          },
          "metadata": {
            "tags": []
          }
        }
      ]
    },
    {
      "cell_type": "markdown",
      "metadata": {
        "id": "JzpiG4ZWYgiw",
        "colab_type": "text"
      },
      "source": [
        "**Diagonal principal de m1**"
      ]
    },
    {
      "cell_type": "code",
      "metadata": {
        "id": "iEYt-pccYjd3",
        "colab_type": "code",
        "colab": {}
      },
      "source": [
        "diag(m1)"
      ],
      "execution_count": null,
      "outputs": []
    },
    {
      "cell_type": "markdown",
      "metadata": {
        "id": "z1uOSp40YlJC",
        "colab_type": "text"
      },
      "source": [
        "**Suma de columnas**"
      ]
    },
    {
      "cell_type": "code",
      "metadata": {
        "id": "iyuQBe7IYn6n",
        "colab_type": "code",
        "colab": {}
      },
      "source": [
        "colSums(m1) "
      ],
      "execution_count": null,
      "outputs": []
    },
    {
      "cell_type": "markdown",
      "metadata": {
        "id": "QC3TpTjWZK1V",
        "colab_type": "text"
      },
      "source": [
        "**Podemos crear una matriz con vectores previamente creados**"
      ]
    },
    {
      "cell_type": "code",
      "metadata": {
        "id": "f1nUPXwjZX5o",
        "colab_type": "code",
        "colab": {}
      },
      "source": [
        "vX <-  c(0,1,2,5,10,20)\n",
        "vY <- c(76,9,43,5,25,80)"
      ],
      "execution_count": null,
      "outputs": []
    },
    {
      "cell_type": "markdown",
      "metadata": {
        "id": "iwQHKCkKZpdM",
        "colab_type": "text"
      },
      "source": [
        "**La matriz se llenara en orden por renglones**"
      ]
    },
    {
      "cell_type": "code",
      "metadata": {
        "id": "pyc_wAFaZYur",
        "colab_type": "code",
        "colab": {}
      },
      "source": [
        "row.bind <- rbind(vX,vY)"
      ],
      "execution_count": null,
      "outputs": []
    },
    {
      "cell_type": "code",
      "metadata": {
        "id": "CJsST6luZfed",
        "colab_type": "code",
        "colab": {
          "base_uri": "https://localhost:8080/",
          "height": 95
        },
        "outputId": "d64990ec-d357-42c8-cbf1-824e0849ccc1"
      },
      "source": [
        "row.bind"
      ],
      "execution_count": null,
      "outputs": [
        {
          "output_type": "display_data",
          "data": {
            "text/plain": [
              "   [,1] [,2] [,3] [,4] [,5] [,6]\n",
              "vX  0   1     2   5    10   20  \n",
              "vY 76   9    43   5    25   80  "
            ],
            "text/latex": "A matrix: 2 × 6 of type dbl\n\\begin{tabular}{r|llllll}\n\tvX &  0 & 1 &  2 & 5 & 10 & 20\\\\\n\tvY & 76 & 9 & 43 & 5 & 25 & 80\\\\\n\\end{tabular}\n",
            "text/markdown": "\nA matrix: 2 × 6 of type dbl\n\n| vX |  0 | 1 |  2 | 5 | 10 | 20 |\n| vY | 76 | 9 | 43 | 5 | 25 | 80 |\n\n",
            "text/html": [
              "<table>\n",
              "<caption>A matrix: 2 × 6 of type dbl</caption>\n",
              "<tbody>\n",
              "\t<tr><th scope=row>vX</th><td> 0</td><td>1</td><td> 2</td><td>5</td><td>10</td><td>20</td></tr>\n",
              "\t<tr><th scope=row>vY</th><td>76</td><td>9</td><td>43</td><td>5</td><td>25</td><td>80</td></tr>\n",
              "</tbody>\n",
              "</table>\n"
            ]
          },
          "metadata": {
            "tags": []
          }
        }
      ]
    },
    {
      "cell_type": "markdown",
      "metadata": {
        "id": "tPuUNG-jZ2W-",
        "colab_type": "text"
      },
      "source": [
        "**La matriz se llenara en orden por columnas**"
      ]
    },
    {
      "cell_type": "code",
      "metadata": {
        "id": "MKrVVSV0Zy5w",
        "colab_type": "code",
        "colab": {}
      },
      "source": [
        "col.bind <- cbind(vX,vY)"
      ],
      "execution_count": null,
      "outputs": []
    },
    {
      "cell_type": "code",
      "metadata": {
        "id": "_7RtwbPuZ5uA",
        "colab_type": "code",
        "colab": {
          "base_uri": "https://localhost:8080/",
          "height": 251
        },
        "outputId": "0a9bf000-b91c-4460-8fc0-542ed891fc52"
      },
      "source": [
        "col.bind"
      ],
      "execution_count": null,
      "outputs": [
        {
          "output_type": "display_data",
          "data": {
            "text/plain": [
              "     vX vY\n",
              "[1,]  0 76\n",
              "[2,]  1  9\n",
              "[3,]  2 43\n",
              "[4,]  5  5\n",
              "[5,] 10 25\n",
              "[6,] 20 80"
            ],
            "text/latex": "A matrix: 6 × 2 of type dbl\n\\begin{tabular}{ll}\n vX & vY\\\\\n\\hline\n\t  0 & 76\\\\\n\t  1 &  9\\\\\n\t  2 & 43\\\\\n\t  5 &  5\\\\\n\t 10 & 25\\\\\n\t 20 & 80\\\\\n\\end{tabular}\n",
            "text/markdown": "\nA matrix: 6 × 2 of type dbl\n\n| vX | vY |\n|---|---|\n|  0 | 76 |\n|  1 |  9 |\n|  2 | 43 |\n|  5 |  5 |\n| 10 | 25 |\n| 20 | 80 |\n\n",
            "text/html": [
              "<table>\n",
              "<caption>A matrix: 6 × 2 of type dbl</caption>\n",
              "<thead>\n",
              "\t<tr><th scope=col>vX</th><th scope=col>vY</th></tr>\n",
              "</thead>\n",
              "<tbody>\n",
              "\t<tr><td> 0</td><td>76</td></tr>\n",
              "\t<tr><td> 1</td><td> 9</td></tr>\n",
              "\t<tr><td> 2</td><td>43</td></tr>\n",
              "\t<tr><td> 5</td><td> 5</td></tr>\n",
              "\t<tr><td>10</td><td>25</td></tr>\n",
              "\t<tr><td>20</td><td>80</td></tr>\n",
              "</tbody>\n",
              "</table>\n"
            ]
          },
          "metadata": {
            "tags": []
          }
        }
      ]
    },
    {
      "cell_type": "markdown",
      "metadata": {
        "id": "eaHKJPYQaEsD",
        "colab_type": "text"
      },
      "source": [
        "**Muestra el elemento 1,1 de la matriz**"
      ]
    },
    {
      "cell_type": "code",
      "metadata": {
        "id": "fUVLa-LtaI95",
        "colab_type": "code",
        "colab": {
          "base_uri": "https://localhost:8080/",
          "height": 34
        },
        "outputId": "4664c1f7-c5b3-42cb-b733-340bb5f3aac2"
      },
      "source": [
        "row.bind[1,1]"
      ],
      "execution_count": null,
      "outputs": [
        {
          "output_type": "display_data",
          "data": {
            "text/plain": [
              "vX \n",
              " 0 "
            ],
            "text/latex": "\\textbf{vX:} 0",
            "text/markdown": "**vX:** 0",
            "text/html": [
              "<strong>vX:</strong> 0"
            ]
          },
          "metadata": {
            "tags": []
          }
        }
      ]
    },
    {
      "cell_type": "markdown",
      "metadata": {
        "id": "gYIyADQcaLXe",
        "colab_type": "text"
      },
      "source": [
        "**Mestra el renglon 4 de la matriz**"
      ]
    },
    {
      "cell_type": "code",
      "metadata": {
        "id": "BGXrtQ0JaU3T",
        "colab_type": "code",
        "colab": {
          "base_uri": "https://localhost:8080/",
          "height": 34
        },
        "outputId": "ed8694e5-0233-412c-f594-fe64c65263a5"
      },
      "source": [
        "row.bind[,4]"
      ],
      "execution_count": null,
      "outputs": [
        {
          "output_type": "display_data",
          "data": {
            "text/plain": [
              "vX vY \n",
              " 5  5 "
            ],
            "text/latex": "\\begin{description*}\n\\item[vX] 5\n\\item[vY] 5\n\\end{description*}\n",
            "text/markdown": "vX\n:   5vY\n:   5\n\n",
            "text/html": [
              "<style>\n",
              ".dl-inline {width: auto; margin:0; padding: 0}\n",
              ".dl-inline>dt, .dl-inline>dd {float: none; width: auto; display: inline-block}\n",
              ".dl-inline>dt::after {content: \":\\0020\"; padding-right: .5ex}\n",
              ".dl-inline>dt:not(:first-of-type) {padding-left: .5ex}\n",
              "</style><dl class=dl-inline><dt>vX</dt><dd>5</dd><dt>vY</dt><dd>5</dd></dl>\n"
            ]
          },
          "metadata": {
            "tags": []
          }
        }
      ]
    },
    {
      "cell_type": "markdown",
      "metadata": {
        "id": "mfS4lHY4amfC",
        "colab_type": "text"
      },
      "source": [
        "**Muestra la fila 1 de la matriz**"
      ]
    },
    {
      "cell_type": "code",
      "metadata": {
        "id": "848wDjVOaqnq",
        "colab_type": "code",
        "colab": {
          "base_uri": "https://localhost:8080/",
          "height": 34
        },
        "outputId": "95b15075-1a9d-407a-e9cf-a91b41218c53"
      },
      "source": [
        "row.bind[1,]"
      ],
      "execution_count": null,
      "outputs": [
        {
          "output_type": "display_data",
          "data": {
            "text/plain": [
              "[1]  0  1  2  5 10 20"
            ],
            "text/latex": "\\begin{enumerate*}\n\\item 0\n\\item 1\n\\item 2\n\\item 5\n\\item 10\n\\item 20\n\\end{enumerate*}\n",
            "text/markdown": "1. 0\n2. 1\n3. 2\n4. 5\n5. 10\n6. 20\n\n\n",
            "text/html": [
              "<style>\n",
              ".list-inline {list-style: none; margin:0; padding: 0}\n",
              ".list-inline>li {display: inline-block}\n",
              ".list-inline>li:not(:last-child)::after {content: \"\\00b7\"; padding: 0 .5ex}\n",
              "</style>\n",
              "<ol class=list-inline><li>0</li><li>1</li><li>2</li><li>5</li><li>10</li><li>20</li></ol>\n"
            ]
          },
          "metadata": {
            "tags": []
          }
        }
      ]
    },
    {
      "cell_type": "markdown",
      "metadata": {
        "id": "G6Z3Th_Pat0W",
        "colab_type": "text"
      },
      "source": [
        "**Muestra el indice del elemento que cumple una condición, en este caso el elemento con valor igual a 5**"
      ]
    },
    {
      "cell_type": "code",
      "metadata": {
        "id": "l4zIALAma3tY",
        "colab_type": "code",
        "colab": {}
      },
      "source": [
        "index <- which(vX==5)"
      ],
      "execution_count": null,
      "outputs": []
    },
    {
      "cell_type": "code",
      "metadata": {
        "id": "-hfRPhhXa5T9",
        "colab_type": "code",
        "colab": {
          "base_uri": "https://localhost:8080/",
          "height": 34
        },
        "outputId": "cbc95cc4-cfbc-4ebe-ef2e-6d677728aaca"
      },
      "source": [
        "index"
      ],
      "execution_count": null,
      "outputs": [
        {
          "output_type": "display_data",
          "data": {
            "text/plain": [
              "[1] 4"
            ],
            "text/latex": "4",
            "text/markdown": "4",
            "text/html": [
              "4"
            ]
          },
          "metadata": {
            "tags": []
          }
        }
      ]
    },
    {
      "cell_type": "markdown",
      "metadata": {
        "id": "Ym26GyDxa7To",
        "colab_type": "text"
      },
      "source": [
        "**Obtiene el elemento en el indice que le indiques**"
      ]
    },
    {
      "cell_type": "code",
      "metadata": {
        "id": "XXGiYaZnbCcw",
        "colab_type": "code",
        "colab": {
          "base_uri": "https://localhost:8080/",
          "height": 34
        },
        "outputId": "85c7a835-5b05-44c6-ea36-8dbfe194a74c"
      },
      "source": [
        "vX[index]"
      ],
      "execution_count": null,
      "outputs": [
        {
          "output_type": "display_data",
          "data": {
            "text/plain": [
              "[1] 5"
            ],
            "text/latex": "5",
            "text/markdown": "5",
            "text/html": [
              "5"
            ]
          },
          "metadata": {
            "tags": []
          }
        }
      ]
    },
    {
      "cell_type": "markdown",
      "metadata": {
        "id": "sJAStxEMcpzh",
        "colab_type": "text"
      },
      "source": [
        "**R nos da la libertar de experimentar mezclando varias funciones**"
      ]
    },
    {
      "cell_type": "markdown",
      "metadata": {
        "id": "a1LRxe_Kdgjq",
        "colab_type": "text"
      },
      "source": [
        "**Por ejemplo, crearemos la matris m3 con numeros del 1 al 9, llenando la matriz en orden por columnas y especificamos que necesitamos 3 columnas, despues mostraremos el indice del elemento que cumpla una condición, en este caso el de la funcion max y min**"
      ]
    },
    {
      "cell_type": "code",
      "metadata": {
        "id": "UCY8Jhm4eOiE",
        "colab_type": "code",
        "colab": {
          "base_uri": "https://localhost:8080/",
          "height": 218
        },
        "outputId": "e5a55603-986c-448d-a89a-4e7a25329c18"
      },
      "source": [
        "m3 <- matrix(1:9, byrow=F, ncol=3)\n",
        "m3\n",
        "which.max(m3)\n",
        "which.min(m3)"
      ],
      "execution_count": null,
      "outputs": [
        {
          "output_type": "display_data",
          "data": {
            "text/plain": [
              "     [,1] [,2] [,3]\n",
              "[1,] 1    4    7   \n",
              "[2,] 2    5    8   \n",
              "[3,] 3    6    9   "
            ],
            "text/latex": "A matrix: 3 × 3 of type int\n\\begin{tabular}{lll}\n\t 1 & 4 & 7\\\\\n\t 2 & 5 & 8\\\\\n\t 3 & 6 & 9\\\\\n\\end{tabular}\n",
            "text/markdown": "\nA matrix: 3 × 3 of type int\n\n| 1 | 4 | 7 |\n| 2 | 5 | 8 |\n| 3 | 6 | 9 |\n\n",
            "text/html": [
              "<table>\n",
              "<caption>A matrix: 3 × 3 of type int</caption>\n",
              "<tbody>\n",
              "\t<tr><td>1</td><td>4</td><td>7</td></tr>\n",
              "\t<tr><td>2</td><td>5</td><td>8</td></tr>\n",
              "\t<tr><td>3</td><td>6</td><td>9</td></tr>\n",
              "</tbody>\n",
              "</table>\n"
            ]
          },
          "metadata": {
            "tags": []
          }
        },
        {
          "output_type": "display_data",
          "data": {
            "text/plain": [
              "[1] 9"
            ],
            "text/latex": "9",
            "text/markdown": "9",
            "text/html": [
              "9"
            ]
          },
          "metadata": {
            "tags": []
          }
        },
        {
          "output_type": "display_data",
          "data": {
            "text/plain": [
              "[1] 1"
            ],
            "text/latex": "1",
            "text/markdown": "1",
            "text/html": [
              "1"
            ]
          },
          "metadata": {
            "tags": []
          }
        }
      ]
    },
    {
      "cell_type": "markdown",
      "metadata": {
        "id": "5TXQVCjHedq4",
        "colab_type": "text"
      },
      "source": [
        "### **Listas y Data frames en R**"
      ]
    },
    {
      "cell_type": "markdown",
      "metadata": {
        "id": "MEXLgCN0ejme",
        "colab_type": "text"
      },
      "source": [
        "**Al crear una lista podemos especificar las etiquetas de los elementos**"
      ]
    },
    {
      "cell_type": "code",
      "metadata": {
        "id": "6LoSrlyzhKT5",
        "colab_type": "code",
        "colab": {}
      },
      "source": [
        "mi_lista <- list(nombre=\"juan\",edad=28,jubilado=F)"
      ],
      "execution_count": null,
      "outputs": []
    },
    {
      "cell_type": "markdown",
      "metadata": {
        "id": "CNLrKEjjhLws",
        "colab_type": "text"
      },
      "source": [
        "**Mostrar las etiquetas de la lista**"
      ]
    },
    {
      "cell_type": "code",
      "metadata": {
        "id": "7Wpvu_7hhScY",
        "colab_type": "code",
        "colab": {
          "base_uri": "https://localhost:8080/",
          "height": 34
        },
        "outputId": "de4e0559-4022-432f-c75e-3baaa6c9b9cc"
      },
      "source": [
        "names(mi_lista)"
      ],
      "execution_count": null,
      "outputs": [
        {
          "output_type": "display_data",
          "data": {
            "text/plain": [
              "[1] \"nombre\"   \"edad\"     \"jubilado\""
            ],
            "text/latex": "\\begin{enumerate*}\n\\item 'nombre'\n\\item 'edad'\n\\item 'jubilado'\n\\end{enumerate*}\n",
            "text/markdown": "1. 'nombre'\n2. 'edad'\n3. 'jubilado'\n\n\n",
            "text/html": [
              "<style>\n",
              ".list-inline {list-style: none; margin:0; padding: 0}\n",
              ".list-inline>li {display: inline-block}\n",
              ".list-inline>li:not(:last-child)::after {content: \"\\00b7\"; padding: 0 .5ex}\n",
              "</style>\n",
              "<ol class=list-inline><li>'nombre'</li><li>'edad'</li><li>'jubilado'</li></ol>\n"
            ]
          },
          "metadata": {
            "tags": []
          }
        }
      ]
    },
    {
      "cell_type": "markdown",
      "metadata": {
        "id": "bxcjiTT-hVsO",
        "colab_type": "text"
      },
      "source": [
        "**Podemos incluir vectores como elemento dentro de una lista**"
      ]
    },
    {
      "cell_type": "code",
      "metadata": {
        "id": "JUsu_d3xh1HN",
        "colab_type": "code",
        "colab": {}
      },
      "source": [
        "mireg <- list(nombre=\"maria\", ingresis = c(23,34,15))"
      ],
      "execution_count": null,
      "outputs": []
    },
    {
      "cell_type": "markdown",
      "metadata": {
        "id": "8WgFdl0gh12U",
        "colab_type": "text"
      },
      "source": [
        "**Para acceder a un elemento de la lista lo haremos a traves de su etiqueta, utilizando el operador '$'**"
      ]
    },
    {
      "cell_type": "code",
      "metadata": {
        "id": "ihqCEEnCiBs9",
        "colab_type": "code",
        "colab": {
          "base_uri": "https://localhost:8080/",
          "height": 34
        },
        "outputId": "9a10f7c8-0aa2-4273-a76b-c7ec06c77e52"
      },
      "source": [
        "mireg$ingresis"
      ],
      "execution_count": null,
      "outputs": [
        {
          "output_type": "display_data",
          "data": {
            "text/plain": [
              "[1] 23 34 15"
            ],
            "text/latex": "\\begin{enumerate*}\n\\item 23\n\\item 34\n\\item 15\n\\end{enumerate*}\n",
            "text/markdown": "1. 23\n2. 34\n3. 15\n\n\n",
            "text/html": [
              "<style>\n",
              ".list-inline {list-style: none; margin:0; padding: 0}\n",
              ".list-inline>li {display: inline-block}\n",
              ".list-inline>li:not(:last-child)::after {content: \"\\00b7\"; padding: 0 .5ex}\n",
              "</style>\n",
              "<ol class=list-inline><li>23</li><li>34</li><li>15</li></ol>\n"
            ]
          },
          "metadata": {
            "tags": []
          }
        }
      ]
    },
    {
      "cell_type": "markdown",
      "metadata": {
        "id": "vJB0czrEjb0z",
        "colab_type": "text"
      },
      "source": [
        "**R cuenta con el dipo de dato Data frame, este puede ser creado de diversas manera, con vectores, listas, archivos**"
      ]
    },
    {
      "cell_type": "code",
      "metadata": {
        "id": "tgUjTzqwkTu9",
        "colab_type": "code",
        "colab": {}
      },
      "source": [
        "blood <- c('A', 'B', 'AB', 'B', 'O', 'O')\n",
        "sex <- c(rep('M',3),rep('F',3))\n",
        "people <- c('Rafael','Juan', 'Sebastian', 'Maria','Guadalupe','Sofia')"
      ],
      "execution_count": null,
      "outputs": []
    },
    {
      "cell_type": "code",
      "metadata": {
        "id": "CMraGgtMlNjn",
        "colab_type": "code",
        "colab": {
          "base_uri": "https://localhost:8080/",
          "height": 204
        },
        "outputId": "13035c7f-6a14-41c9-9a24-853c9bede7d5"
      },
      "source": [
        "df.1 <- data.frame(people,blood,sex)\n",
        "df.1"
      ],
      "execution_count": null,
      "outputs": [
        {
          "output_type": "display_data",
          "data": {
            "text/plain": [
              "  people    blood sex\n",
              "1 Rafael    A     M  \n",
              "2 Juan      B     M  \n",
              "3 Sebastian AB    M  \n",
              "4 Maria     B     F  \n",
              "5 Guadalupe O     F  \n",
              "6 Sofia     O     F  "
            ],
            "text/latex": "A data.frame: 6 × 3\n\\begin{tabular}{lll}\n people & blood & sex\\\\\n <fct> & <fct> & <fct>\\\\\n\\hline\n\t Rafael    & A  & M\\\\\n\t Juan      & B  & M\\\\\n\t Sebastian & AB & M\\\\\n\t Maria     & B  & F\\\\\n\t Guadalupe & O  & F\\\\\n\t Sofia     & O  & F\\\\\n\\end{tabular}\n",
            "text/markdown": "\nA data.frame: 6 × 3\n\n| people &lt;fct&gt; | blood &lt;fct&gt; | sex &lt;fct&gt; |\n|---|---|---|\n| Rafael    | A  | M |\n| Juan      | B  | M |\n| Sebastian | AB | M |\n| Maria     | B  | F |\n| Guadalupe | O  | F |\n| Sofia     | O  | F |\n\n",
            "text/html": [
              "<table>\n",
              "<caption>A data.frame: 6 × 3</caption>\n",
              "<thead>\n",
              "\t<tr><th scope=col>people</th><th scope=col>blood</th><th scope=col>sex</th></tr>\n",
              "\t<tr><th scope=col>&lt;fct&gt;</th><th scope=col>&lt;fct&gt;</th><th scope=col>&lt;fct&gt;</th></tr>\n",
              "</thead>\n",
              "<tbody>\n",
              "\t<tr><td>Rafael   </td><td>A </td><td>M</td></tr>\n",
              "\t<tr><td>Juan     </td><td>B </td><td>M</td></tr>\n",
              "\t<tr><td>Sebastian</td><td>AB</td><td>M</td></tr>\n",
              "\t<tr><td>Maria    </td><td>B </td><td>F</td></tr>\n",
              "\t<tr><td>Guadalupe</td><td>O </td><td>F</td></tr>\n",
              "\t<tr><td>Sofia    </td><td>O </td><td>F</td></tr>\n",
              "</tbody>\n",
              "</table>\n"
            ]
          },
          "metadata": {
            "tags": []
          }
        }
      ]
    },
    {
      "cell_type": "markdown",
      "metadata": {
        "id": "RaxhGaoAl7JT",
        "colab_type": "text"
      },
      "source": [
        "**Mostrar los atributos del Data frame**"
      ]
    },
    {
      "cell_type": "code",
      "metadata": {
        "id": "YJl7voLJl5s_",
        "colab_type": "code",
        "colab": {
          "base_uri": "https://localhost:8080/",
          "height": 147
        },
        "outputId": "07e4b871-df60-475a-9502-fe3f276f60c3"
      },
      "source": [
        "attributes(df.1)"
      ],
      "execution_count": null,
      "outputs": [
        {
          "output_type": "display_data",
          "data": {
            "text/plain": [
              "$names\n",
              "[1] \"people\" \"blood\"  \"sex\"   \n",
              "\n",
              "$class\n",
              "[1] \"data.frame\"\n",
              "\n",
              "$row.names\n",
              "[1] 1 2 3 4 5 6\n"
            ],
            "text/latex": "\\begin{description}\n\\item[\\$names] \\begin{enumerate*}\n\\item 'people'\n\\item 'blood'\n\\item 'sex'\n\\end{enumerate*}\n\n\\item[\\$class] 'data.frame'\n\\item[\\$row.names] \\begin{enumerate*}\n\\item 1\n\\item 2\n\\item 3\n\\item 4\n\\item 5\n\\item 6\n\\end{enumerate*}\n\n\\end{description}\n",
            "text/markdown": "$names\n:   1. 'people'\n2. 'blood'\n3. 'sex'\n\n\n\n$class\n:   'data.frame'\n$row.names\n:   1. 1\n2. 2\n3. 3\n4. 4\n5. 5\n6. 6\n\n\n\n\n\n",
            "text/html": [
              "<dl>\n",
              "\t<dt>$names</dt>\n",
              "\t\t<dd><style>\n",
              ".list-inline {list-style: none; margin:0; padding: 0}\n",
              ".list-inline>li {display: inline-block}\n",
              ".list-inline>li:not(:last-child)::after {content: \"\\00b7\"; padding: 0 .5ex}\n",
              "</style>\n",
              "<ol class=list-inline><li>'people'</li><li>'blood'</li><li>'sex'</li></ol>\n",
              "</dd>\n",
              "\t<dt>$class</dt>\n",
              "\t\t<dd>'data.frame'</dd>\n",
              "\t<dt>$row.names</dt>\n",
              "\t\t<dd><style>\n",
              ".list-inline {list-style: none; margin:0; padding: 0}\n",
              ".list-inline>li {display: inline-block}\n",
              ".list-inline>li:not(:last-child)::after {content: \"\\00b7\"; padding: 0 .5ex}\n",
              "</style>\n",
              "<ol class=list-inline><li>1</li><li>2</li><li>3</li><li>4</li><li>5</li><li>6</li></ol>\n",
              "</dd>\n",
              "</dl>\n"
            ]
          },
          "metadata": {
            "tags": []
          }
        }
      ]
    },
    {
      "cell_type": "markdown",
      "metadata": {
        "id": "242434NZmIBC",
        "colab_type": "text"
      },
      "source": [
        "**Podemos utilizar diversas funciones en estos Data frames**"
      ]
    },
    {
      "cell_type": "markdown",
      "metadata": {
        "id": "1PfC8upamN6y",
        "colab_type": "text"
      },
      "source": [
        "**Mostrar los indices de los elementos del Data frame que cumpla con la condicion que le indiquemos, en este caso que nos muestre los indices de los elementos que pertenecen a la etiqueta sex que sean igual a M**"
      ]
    },
    {
      "cell_type": "code",
      "metadata": {
        "id": "yK1V9AKLmGk4",
        "colab_type": "code",
        "colab": {}
      },
      "source": [
        "masculino <- which(df.1$sex=='M')"
      ],
      "execution_count": null,
      "outputs": []
    },
    {
      "cell_type": "markdown",
      "metadata": {
        "id": "r-YojT41m2SQ",
        "colab_type": "text"
      },
      "source": [
        "**Ordena blood de forma decresiente, esto varia segun el argumento que le demos, sea True o False**"
      ]
    },
    {
      "cell_type": "code",
      "metadata": {
        "id": "k0GyjxeKnk_Y",
        "colab_type": "code",
        "colab": {
          "base_uri": "https://localhost:8080/",
          "height": 51
        },
        "outputId": "500902ce-1bec-4f79-ec93-39c842c37c77"
      },
      "source": [
        "sort(df.1$blood, decreasing = TRUE)"
      ],
      "execution_count": null,
      "outputs": [
        {
          "output_type": "display_data",
          "data": {
            "text/plain": [
              "[1] O  O  B  B  AB A \n",
              "Levels: A AB B O"
            ],
            "text/latex": "\\begin{enumerate*}\n\\item O\n\\item O\n\\item B\n\\item B\n\\item AB\n\\item A\n\\end{enumerate*}\n\n\\emph{Levels}: \\begin{enumerate*}\n\\item 'A'\n\\item 'AB'\n\\item 'B'\n\\item 'O'\n\\end{enumerate*}\n",
            "text/markdown": "1. O\n2. O\n3. B\n4. B\n5. AB\n6. A\n\n\n\n**Levels**: 1. 'A'\n2. 'AB'\n3. 'B'\n4. 'O'\n\n\n",
            "text/html": [
              "<style>\n",
              ".list-inline {list-style: none; margin:0; padding: 0}\n",
              ".list-inline>li {display: inline-block}\n",
              ".list-inline>li:not(:last-child)::after {content: \"\\00b7\"; padding: 0 .5ex}\n",
              "</style>\n",
              "<ol class=list-inline><li>O</li><li>O</li><li>B</li><li>B</li><li>AB</li><li>A</li></ol>\n",
              "\n",
              "<details>\n",
              "\t<summary style=display:list-item;cursor:pointer>\n",
              "\t\t<strong>Levels</strong>:\n",
              "\t</summary>\n",
              "\t<style>\n",
              "\t.list-inline {list-style: none; margin:0; padding: 0}\n",
              "\t.list-inline>li {display: inline-block}\n",
              "\t.list-inline>li:not(:last-child)::after {content: \"\\00b7\"; padding: 0 .5ex}\n",
              "\t</style>\n",
              "\t<ol class=list-inline><li>'A'</li><li>'AB'</li><li>'B'</li><li>'O'</li></ol>\n",
              "</details>"
            ]
          },
          "metadata": {
            "tags": []
          }
        }
      ]
    },
    {
      "cell_type": "markdown",
      "metadata": {
        "id": "48TEGM5iq3ym",
        "colab_type": "text"
      },
      "source": [
        "### **Data sets propios de R**"
      ]
    },
    {
      "cell_type": "markdown",
      "metadata": {
        "id": "DG9pVy2MrWtq",
        "colab_type": "text"
      },
      "source": [
        "**R tiene por si mismo algunos data sets libres para ser utilizados**"
      ]
    },
    {
      "cell_type": "markdown",
      "metadata": {
        "id": "NbJ3yl76st8M",
        "colab_type": "text"
      },
      "source": [
        "**Mostrar la lista de data sets disponibles**"
      ]
    },
    {
      "cell_type": "code",
      "metadata": {
        "id": "6AVpKCtLsyTr",
        "colab_type": "code",
        "colab": {}
      },
      "source": [
        "data()"
      ],
      "execution_count": null,
      "outputs": []
    },
    {
      "cell_type": "markdown",
      "metadata": {
        "id": "23XgCRWSs7gm",
        "colab_type": "text"
      },
      "source": [
        "**Cargar un conjunto en especifico**"
      ]
    },
    {
      "cell_type": "code",
      "metadata": {
        "id": "dnRKfOm4uxhb",
        "colab_type": "code",
        "colab": {}
      },
      "source": [
        "data(\"women\")"
      ],
      "execution_count": null,
      "outputs": []
    },
    {
      "cell_type": "markdown",
      "metadata": {
        "id": "w_hei6Mgu8_r",
        "colab_type": "text"
      },
      "source": [
        "**Podemos ver las etiquedas del data set**"
      ]
    },
    {
      "cell_type": "code",
      "metadata": {
        "id": "sxLyhHPuvDER",
        "colab_type": "code",
        "colab": {
          "base_uri": "https://localhost:8080/",
          "height": 34
        },
        "outputId": "6129ec0c-8af2-41da-9e07-c430d4dcbbb9"
      },
      "source": [
        "names(women)"
      ],
      "execution_count": null,
      "outputs": [
        {
          "output_type": "display_data",
          "data": {
            "text/plain": [
              "[1] \"height\" \"weight\""
            ],
            "text/latex": "\\begin{enumerate*}\n\\item 'height'\n\\item 'weight'\n\\end{enumerate*}\n",
            "text/markdown": "1. 'height'\n2. 'weight'\n\n\n",
            "text/html": [
              "<style>\n",
              ".list-inline {list-style: none; margin:0; padding: 0}\n",
              ".list-inline>li {display: inline-block}\n",
              ".list-inline>li:not(:last-child)::after {content: \"\\00b7\"; padding: 0 .5ex}\n",
              "</style>\n",
              "<ol class=list-inline><li>'height'</li><li>'weight'</li></ol>\n"
            ]
          },
          "metadata": {
            "tags": []
          }
        }
      ]
    },
    {
      "cell_type": "markdown",
      "metadata": {
        "id": "R87_-YmpvJ5U",
        "colab_type": "text"
      },
      "source": [
        "**Podemos guardan en una variable los datos del data set, utilizado su etiqueda**"
      ]
    },
    {
      "cell_type": "code",
      "metadata": {
        "id": "5fX0h7FpvUcV",
        "colab_type": "code",
        "colab": {
          "base_uri": "https://localhost:8080/",
          "height": 34
        },
        "outputId": "ae5501cd-5c8f-4388-9fe5-cd6f4e5994c5"
      },
      "source": [
        "h = women$height\n",
        "h"
      ],
      "execution_count": null,
      "outputs": [
        {
          "output_type": "display_data",
          "data": {
            "text/plain": [
              " [1] 58 59 60 61 62 63 64 65 66 67 68 69 70 71 72"
            ],
            "text/latex": "\\begin{enumerate*}\n\\item 58\n\\item 59\n\\item 60\n\\item 61\n\\item 62\n\\item 63\n\\item 64\n\\item 65\n\\item 66\n\\item 67\n\\item 68\n\\item 69\n\\item 70\n\\item 71\n\\item 72\n\\end{enumerate*}\n",
            "text/markdown": "1. 58\n2. 59\n3. 60\n4. 61\n5. 62\n6. 63\n7. 64\n8. 65\n9. 66\n10. 67\n11. 68\n12. 69\n13. 70\n14. 71\n15. 72\n\n\n",
            "text/html": [
              "<style>\n",
              ".list-inline {list-style: none; margin:0; padding: 0}\n",
              ".list-inline>li {display: inline-block}\n",
              ".list-inline>li:not(:last-child)::after {content: \"\\00b7\"; padding: 0 .5ex}\n",
              "</style>\n",
              "<ol class=list-inline><li>58</li><li>59</li><li>60</li><li>61</li><li>62</li><li>63</li><li>64</li><li>65</li><li>66</li><li>67</li><li>68</li><li>69</li><li>70</li><li>71</li><li>72</li></ol>\n"
            ]
          },
          "metadata": {
            "tags": []
          }
        }
      ]
    },
    {
      "cell_type": "markdown",
      "metadata": {
        "id": "pczPNGJ4vWoj",
        "colab_type": "text"
      },
      "source": [
        "**Checar la longitud del vector previamente guardado**"
      ]
    },
    {
      "cell_type": "code",
      "metadata": {
        "id": "HvZVsHvJve8J",
        "colab_type": "code",
        "colab": {
          "base_uri": "https://localhost:8080/",
          "height": 34
        },
        "outputId": "f41c6eb9-9be7-4123-a010-c3d4d1d4172a"
      },
      "source": [
        "tam = length(h)\n",
        "tam"
      ],
      "execution_count": null,
      "outputs": [
        {
          "output_type": "display_data",
          "data": {
            "text/plain": [
              "[1] 15"
            ],
            "text/latex": "15",
            "text/markdown": "15",
            "text/html": [
              "15"
            ]
          },
          "metadata": {
            "tags": []
          }
        }
      ]
    },
    {
      "cell_type": "markdown",
      "metadata": {
        "id": "0_hamxauvkuw",
        "colab_type": "text"
      },
      "source": [
        "**Suma acumulada**\n",
        "\n",
        "**En el data set \"women\" podemos enocontrar la etiqueta height, podemos hacer la suma acumulada en estos datos**"
      ]
    },
    {
      "cell_type": "code",
      "metadata": {
        "id": "Aco3Bkbrv54P",
        "colab_type": "code",
        "colab": {
          "base_uri": "https://localhost:8080/",
          "height": 34
        },
        "outputId": "839a618d-2b32-4f57-dc08-3f7bcc045945"
      },
      "source": [
        "cumsum(women$height)"
      ],
      "execution_count": null,
      "outputs": [
        {
          "output_type": "display_data",
          "data": {
            "text/plain": [
              " [1]  58 117 177 238 300 363 427 492 558 625 693 762 832 903 975"
            ],
            "text/latex": "\\begin{enumerate*}\n\\item 58\n\\item 117\n\\item 177\n\\item 238\n\\item 300\n\\item 363\n\\item 427\n\\item 492\n\\item 558\n\\item 625\n\\item 693\n\\item 762\n\\item 832\n\\item 903\n\\item 975\n\\end{enumerate*}\n",
            "text/markdown": "1. 58\n2. 117\n3. 177\n4. 238\n5. 300\n6. 363\n7. 427\n8. 492\n9. 558\n10. 625\n11. 693\n12. 762\n13. 832\n14. 903\n15. 975\n\n\n",
            "text/html": [
              "<style>\n",
              ".list-inline {list-style: none; margin:0; padding: 0}\n",
              ".list-inline>li {display: inline-block}\n",
              ".list-inline>li:not(:last-child)::after {content: \"\\00b7\"; padding: 0 .5ex}\n",
              "</style>\n",
              "<ol class=list-inline><li>58</li><li>117</li><li>177</li><li>238</li><li>300</li><li>363</li><li>427</li><li>492</li><li>558</li><li>625</li><li>693</li><li>762</li><li>832</li><li>903</li><li>975</li></ol>\n"
            ]
          },
          "metadata": {
            "tags": []
          }
        }
      ]
    },
    {
      "cell_type": "markdown",
      "metadata": {
        "id": "YhlBYJsHwEOc",
        "colab_type": "text"
      },
      "source": [
        "**Cargamos el data set \"BOD\"**"
      ]
    },
    {
      "cell_type": "code",
      "metadata": {
        "id": "-S8tFR6QwIZi",
        "colab_type": "code",
        "colab": {}
      },
      "source": [
        "data(\"BOD\")"
      ],
      "execution_count": null,
      "outputs": []
    },
    {
      "cell_type": "markdown",
      "metadata": {
        "id": "JFj15B9gwb6j",
        "colab_type": "text"
      },
      "source": [
        "**Buscamos algun valor o elemento igual al indicado en el primer parametro y nos regresa los indices, en el segundo argumento indicamos en donde queremos que lo busque**"
      ]
    },
    {
      "cell_type": "code",
      "metadata": {
        "id": "zNHmsSvkwsrZ",
        "colab_type": "code",
        "colab": {
          "base_uri": "https://localhost:8080/",
          "height": 34
        },
        "outputId": "5258b673-04fe-43f5-f816-5e0aced4920c"
      },
      "source": [
        "grep(\"setosa\", iris$Species)"
      ],
      "execution_count": null,
      "outputs": [
        {
          "output_type": "display_data",
          "data": {
            "text/plain": [
              " [1]  1  2  3  4  5  6  7  8  9 10 11 12 13 14 15 16 17 18 19 20 21 22 23 24 25\n",
              "[26] 26 27 28 29 30 31 32 33 34 35 36 37 38 39 40 41 42 43 44 45 46 47 48 49 50"
            ],
            "text/latex": "\\begin{enumerate*}\n\\item 1\n\\item 2\n\\item 3\n\\item 4\n\\item 5\n\\item 6\n\\item 7\n\\item 8\n\\item 9\n\\item 10\n\\item 11\n\\item 12\n\\item 13\n\\item 14\n\\item 15\n\\item 16\n\\item 17\n\\item 18\n\\item 19\n\\item 20\n\\item 21\n\\item 22\n\\item 23\n\\item 24\n\\item 25\n\\item 26\n\\item 27\n\\item 28\n\\item 29\n\\item 30\n\\item 31\n\\item 32\n\\item 33\n\\item 34\n\\item 35\n\\item 36\n\\item 37\n\\item 38\n\\item 39\n\\item 40\n\\item 41\n\\item 42\n\\item 43\n\\item 44\n\\item 45\n\\item 46\n\\item 47\n\\item 48\n\\item 49\n\\item 50\n\\end{enumerate*}\n",
            "text/markdown": "1. 1\n2. 2\n3. 3\n4. 4\n5. 5\n6. 6\n7. 7\n8. 8\n9. 9\n10. 10\n11. 11\n12. 12\n13. 13\n14. 14\n15. 15\n16. 16\n17. 17\n18. 18\n19. 19\n20. 20\n21. 21\n22. 22\n23. 23\n24. 24\n25. 25\n26. 26\n27. 27\n28. 28\n29. 29\n30. 30\n31. 31\n32. 32\n33. 33\n34. 34\n35. 35\n36. 36\n37. 37\n38. 38\n39. 39\n40. 40\n41. 41\n42. 42\n43. 43\n44. 44\n45. 45\n46. 46\n47. 47\n48. 48\n49. 49\n50. 50\n\n\n",
            "text/html": [
              "<style>\n",
              ".list-inline {list-style: none; margin:0; padding: 0}\n",
              ".list-inline>li {display: inline-block}\n",
              ".list-inline>li:not(:last-child)::after {content: \"\\00b7\"; padding: 0 .5ex}\n",
              "</style>\n",
              "<ol class=list-inline><li>1</li><li>2</li><li>3</li><li>4</li><li>5</li><li>6</li><li>7</li><li>8</li><li>9</li><li>10</li><li>11</li><li>12</li><li>13</li><li>14</li><li>15</li><li>16</li><li>17</li><li>18</li><li>19</li><li>20</li><li>21</li><li>22</li><li>23</li><li>24</li><li>25</li><li>26</li><li>27</li><li>28</li><li>29</li><li>30</li><li>31</li><li>32</li><li>33</li><li>34</li><li>35</li><li>36</li><li>37</li><li>38</li><li>39</li><li>40</li><li>41</li><li>42</li><li>43</li><li>44</li><li>45</li><li>46</li><li>47</li><li>48</li><li>49</li><li>50</li></ol>\n"
            ]
          },
          "metadata": {
            "tags": []
          }
        }
      ]
    },
    {
      "cell_type": "markdown",
      "metadata": {
        "id": "8DzqHpSmLtwA",
        "colab_type": "text"
      },
      "source": [
        "**Suma los elementos de la columna Time en el data set BOD**"
      ]
    },
    {
      "cell_type": "code",
      "metadata": {
        "id": "UlgC1zayL26m",
        "colab_type": "code",
        "colab": {
          "base_uri": "https://localhost:8080/",
          "height": 34
        },
        "outputId": "d5b9f112-68a6-4986-83f6-be2635662208"
      },
      "source": [
        "sum(BOD$Time)"
      ],
      "execution_count": null,
      "outputs": [
        {
          "output_type": "display_data",
          "data": {
            "text/plain": [
              "[1] 22"
            ],
            "text/latex": "22",
            "text/markdown": "22",
            "text/html": [
              "22"
            ]
          },
          "metadata": {
            "tags": []
          }
        }
      ]
    },
    {
      "cell_type": "markdown",
      "metadata": {
        "id": "mW_Yn7VLMNqW",
        "colab_type": "text"
      },
      "source": [
        "**Checa si existe un dato que sea mayor o igual a 15 y retorna TRUE o False**"
      ]
    },
    {
      "cell_type": "code",
      "metadata": {
        "id": "gtT4Qf66MWQg",
        "colab_type": "code",
        "colab": {
          "base_uri": "https://localhost:8080/",
          "height": 34
        },
        "outputId": "9116b81b-b691-40f5-a73a-cce3cf93397c"
      },
      "source": [
        "any(BOD$demand>=15)"
      ],
      "execution_count": null,
      "outputs": [
        {
          "output_type": "display_data",
          "data": {
            "text/plain": [
              "[1] TRUE"
            ],
            "text/latex": "TRUE",
            "text/markdown": "TRUE",
            "text/html": [
              "TRUE"
            ]
          },
          "metadata": {
            "tags": []
          }
        }
      ]
    },
    {
      "cell_type": "markdown",
      "metadata": {
        "id": "Te-tQA-zNjn4",
        "colab_type": "text"
      },
      "source": [
        "### **Tabla de datos**"
      ]
    },
    {
      "cell_type": "markdown",
      "metadata": {
        "id": "NGGUFheiNnPk",
        "colab_type": "text"
      },
      "source": [
        "**Para utilizar tablas necesitamos instalar el paquete \"data.table\" y lo cargamos en memoria como vimos antes**"
      ]
    },
    {
      "cell_type": "code",
      "metadata": {
        "id": "ue1xHd6oNpik",
        "colab_type": "code",
        "colab": {
          "base_uri": "https://localhost:8080/",
          "height": 68
        },
        "outputId": "517df711-786c-4a38-fe7d-2efb9ad2cf94"
      },
      "source": [
        "install.packages(\"data.table\")\n",
        "library(data.table)"
      ],
      "execution_count": null,
      "outputs": [
        {
          "output_type": "stream",
          "text": [
            "Installing package into ‘/usr/local/lib/R/site-library’\n",
            "(as ‘lib’ is unspecified)\n",
            "\n"
          ],
          "name": "stderr"
        }
      ]
    },
    {
      "cell_type": "markdown",
      "metadata": {
        "id": "Z3G8TFcZN4_O",
        "colab_type": "text"
      },
      "source": [
        "**Crea tabla 1 de la siguente manera**"
      ]
    },
    {
      "cell_type": "code",
      "metadata": {
        "id": "qdPs500dONz8",
        "colab_type": "code",
        "colab": {
          "base_uri": "https://localhost:8080/",
          "height": 179
        },
        "outputId": "7e13a904-60a1-4bf4-8749-21e37d341f7c"
      },
      "source": [
        "DT1 <- data.table(x=c('c','a','b','r'), y=c(3,9,2,5))\n",
        "DT1"
      ],
      "execution_count": null,
      "outputs": [
        {
          "output_type": "display_data",
          "data": {
            "text/plain": [
              "  x y\n",
              "1 c 3\n",
              "2 a 9\n",
              "3 b 2\n",
              "4 r 5"
            ],
            "text/latex": "A data.table: 4 × 2\n\\begin{tabular}{ll}\n x & y\\\\\n <chr> & <dbl>\\\\\n\\hline\n\t c & 3\\\\\n\t a & 9\\\\\n\t b & 2\\\\\n\t r & 5\\\\\n\\end{tabular}\n",
            "text/markdown": "\nA data.table: 4 × 2\n\n| x &lt;chr&gt; | y &lt;dbl&gt; |\n|---|---|\n| c | 3 |\n| a | 9 |\n| b | 2 |\n| r | 5 |\n\n",
            "text/html": [
              "<table>\n",
              "<caption>A data.table: 4 × 2</caption>\n",
              "<thead>\n",
              "\t<tr><th scope=col>x</th><th scope=col>y</th></tr>\n",
              "\t<tr><th scope=col>&lt;chr&gt;</th><th scope=col>&lt;dbl&gt;</th></tr>\n",
              "</thead>\n",
              "<tbody>\n",
              "\t<tr><td>c</td><td>3</td></tr>\n",
              "\t<tr><td>a</td><td>9</td></tr>\n",
              "\t<tr><td>b</td><td>2</td></tr>\n",
              "\t<tr><td>r</td><td>5</td></tr>\n",
              "</tbody>\n",
              "</table>\n"
            ]
          },
          "metadata": {
            "tags": []
          }
        }
      ]
    },
    {
      "cell_type": "markdown",
      "metadata": {
        "id": "APLIqNh7OQKQ",
        "colab_type": "text"
      },
      "source": [
        "**R nos permite utilizar llaves, se crea y se asigna de la siguiente manera**"
      ]
    },
    {
      "cell_type": "code",
      "metadata": {
        "id": "eDetWsYJObW4",
        "colab_type": "code",
        "colab": {
          "base_uri": "https://localhost:8080/",
          "height": 51
        },
        "outputId": "401133f2-1200-41a9-ee9e-78f035afefdf"
      },
      "source": [
        "setkey(DT1,x)\n",
        "key(DT1)\n",
        "haskey(DT1)"
      ],
      "execution_count": null,
      "outputs": [
        {
          "output_type": "display_data",
          "data": {
            "text/plain": [
              "[1] \"x\""
            ],
            "text/latex": "'x'",
            "text/markdown": "'x'",
            "text/html": [
              "'x'"
            ]
          },
          "metadata": {
            "tags": []
          }
        },
        {
          "output_type": "display_data",
          "data": {
            "text/plain": [
              "[1] TRUE"
            ],
            "text/latex": "TRUE",
            "text/markdown": "TRUE",
            "text/html": [
              "TRUE"
            ]
          },
          "metadata": {
            "tags": []
          }
        }
      ]
    },
    {
      "cell_type": "markdown",
      "metadata": {
        "id": "xK6uAg4GPau6",
        "colab_type": "text"
      },
      "source": [
        "**Podemos ver ejemplos de setkey con el siguiente comando**"
      ]
    },
    {
      "cell_type": "code",
      "metadata": {
        "id": "oiLRpA7nPkUn",
        "colab_type": "code",
        "colab": {
          "base_uri": "https://localhost:8080/",
          "height": 1000
        },
        "outputId": "e88f26ec-0d21-4ef4-87d5-6d533a1ae06d"
      },
      "source": [
        "example(\"setkey\")"
      ],
      "execution_count": null,
      "outputs": [
        {
          "output_type": "stream",
          "text": [
            "\n",
            "setkey> # Type 'example(setkey)' to run these at the prompt and browse output\n",
            "setkey> \n",
            "setkey> DT = data.table(A=5:1,B=letters[5:1])\n",
            "\n",
            "setkey> DT # before\n",
            "   A B\n",
            "1: 5 e\n",
            "2: 4 d\n",
            "3: 3 c\n",
            "4: 2 b\n",
            "5: 1 a\n",
            "\n",
            "setkey> setkey(DT,B)          # re-orders table and marks it sorted.\n",
            "\n",
            "setkey> DT # after\n",
            "   A B\n",
            "1: 1 a\n",
            "2: 2 b\n",
            "3: 3 c\n",
            "4: 4 d\n",
            "5: 5 e\n",
            "\n",
            "setkey> tables()              # KEY column reports the key'd columns\n",
            "   NAME NROW NCOL MB COLS KEY\n",
            "1:   DT    5    2  0  A,B   B\n",
            "2:  DT1    4    2  0  x,y   x\n",
            "Total: 0MB\n",
            "\n",
            "setkey> key(DT)\n",
            "[1] \"B\"\n",
            "\n",
            "setkey> keycols = c(\"A\",\"B\")\n",
            "\n",
            "setkey> setkeyv(DT,keycols)\n",
            "\n",
            "setkey> DT = data.table(A=5:1,B=letters[5:1])\n",
            "\n",
            "setkey> DT2 = DT              # does not copy\n",
            "\n",
            "setkey> setkey(DT2,B)         # does not copy-on-write to DT2\n",
            "\n",
            "setkey> identical(DT,DT2)     # TRUE. DT and DT2 are two names for the same keyed table\n",
            "[1] TRUE\n",
            "\n",
            "setkey> DT = data.table(A=5:1,B=letters[5:1])\n",
            "\n",
            "setkey> DT2 = copy(DT)        # explicit copy() needed to copy a data.table\n",
            "\n",
            "setkey> setkey(DT2,B)         # now just changes DT2\n",
            "\n",
            "setkey> identical(DT,DT2)     # FALSE. DT and DT2 are now different tables\n",
            "[1] FALSE\n",
            "\n",
            "setkey> DT = data.table(A=5:1,B=letters[5:1])\n",
            "\n",
            "setkey> setindex(DT)          # set indices\n",
            "\n",
            "setkey> setindex(DT, A)\n",
            "\n",
            "setkey> setindex(DT, B)\n",
            "\n",
            "setkey> indices(DT)           # get indices single vector\n",
            "[1] \"A__B\" \"A\"    \"B\"   \n",
            "\n",
            "setkey> indices(DT, vectors = TRUE) # get indices list\n",
            "[[1]]\n",
            "[1] \"A\" \"B\"\n",
            "\n",
            "[[2]]\n",
            "[1] \"A\"\n",
            "\n",
            "[[3]]\n",
            "[1] \"B\"\n",
            "\n"
          ],
          "name": "stdout"
        }
      ]
    },
    {
      "cell_type": "markdown",
      "metadata": {
        "id": "prraq3gKRTt8",
        "colab_type": "text"
      },
      "source": [
        "**Hacer un \"inner-join\" con las tablas**\n",
        "\n",
        "**Hacer merge con las tablas**\n",
        "\n",
        "Nota: El INNER JOIN es otro tipo de composición de tablas, permite emparejar filas de distintas tablas de forma más eficiente que con el producto cartesiano cuando una de las columnas de emparejamiento está indexada. Por lo que necesitaremos dos tablas"
      ]
    },
    {
      "cell_type": "code",
      "metadata": {
        "id": "Ahr5i70TTCA1",
        "colab_type": "code",
        "colab": {
          "base_uri": "https://localhost:8080/",
          "height": 435
        },
        "outputId": "df231d1f-57c0-4fa4-f442-b0bf75582ec2"
      },
      "source": [
        "df1 <- data.frame(LETTERS, dfindex = 1:26)\n",
        "df2 <- data.frame(letters, dfindex = c(1:10,15,20,22:35))\n",
        "merge(df1, df2)"
      ],
      "execution_count": null,
      "outputs": [
        {
          "output_type": "display_data",
          "data": {
            "text/plain": [
              "   dfindex LETTERS letters\n",
              "1   1      A       a      \n",
              "2   2      B       b      \n",
              "3   3      C       c      \n",
              "4   4      D       d      \n",
              "5   5      E       e      \n",
              "6   6      F       f      \n",
              "7   7      G       g      \n",
              "8   8      H       h      \n",
              "9   9      I       i      \n",
              "10 10      J       j      \n",
              "11 15      O       k      \n",
              "12 20      T       l      \n",
              "13 22      V       m      \n",
              "14 23      W       n      \n",
              "15 24      X       o      \n",
              "16 25      Y       p      \n",
              "17 26      Z       q      "
            ],
            "text/latex": "A data.frame: 17 × 3\n\\begin{tabular}{lll}\n dfindex & LETTERS & letters\\\\\n <int> & <fct> & <fct>\\\\\n\\hline\n\t  1 & A & a\\\\\n\t  2 & B & b\\\\\n\t  3 & C & c\\\\\n\t  4 & D & d\\\\\n\t  5 & E & e\\\\\n\t  6 & F & f\\\\\n\t  7 & G & g\\\\\n\t  8 & H & h\\\\\n\t  9 & I & i\\\\\n\t 10 & J & j\\\\\n\t 15 & O & k\\\\\n\t 20 & T & l\\\\\n\t 22 & V & m\\\\\n\t 23 & W & n\\\\\n\t 24 & X & o\\\\\n\t 25 & Y & p\\\\\n\t 26 & Z & q\\\\\n\\end{tabular}\n",
            "text/markdown": "\nA data.frame: 17 × 3\n\n| dfindex &lt;int&gt; | LETTERS &lt;fct&gt; | letters &lt;fct&gt; |\n|---|---|---|\n|  1 | A | a |\n|  2 | B | b |\n|  3 | C | c |\n|  4 | D | d |\n|  5 | E | e |\n|  6 | F | f |\n|  7 | G | g |\n|  8 | H | h |\n|  9 | I | i |\n| 10 | J | j |\n| 15 | O | k |\n| 20 | T | l |\n| 22 | V | m |\n| 23 | W | n |\n| 24 | X | o |\n| 25 | Y | p |\n| 26 | Z | q |\n\n",
            "text/html": [
              "<table>\n",
              "<caption>A data.frame: 17 × 3</caption>\n",
              "<thead>\n",
              "\t<tr><th scope=col>dfindex</th><th scope=col>LETTERS</th><th scope=col>letters</th></tr>\n",
              "\t<tr><th scope=col>&lt;int&gt;</th><th scope=col>&lt;fct&gt;</th><th scope=col>&lt;fct&gt;</th></tr>\n",
              "</thead>\n",
              "<tbody>\n",
              "\t<tr><td> 1</td><td>A</td><td>a</td></tr>\n",
              "\t<tr><td> 2</td><td>B</td><td>b</td></tr>\n",
              "\t<tr><td> 3</td><td>C</td><td>c</td></tr>\n",
              "\t<tr><td> 4</td><td>D</td><td>d</td></tr>\n",
              "\t<tr><td> 5</td><td>E</td><td>e</td></tr>\n",
              "\t<tr><td> 6</td><td>F</td><td>f</td></tr>\n",
              "\t<tr><td> 7</td><td>G</td><td>g</td></tr>\n",
              "\t<tr><td> 8</td><td>H</td><td>h</td></tr>\n",
              "\t<tr><td> 9</td><td>I</td><td>i</td></tr>\n",
              "\t<tr><td>10</td><td>J</td><td>j</td></tr>\n",
              "\t<tr><td>15</td><td>O</td><td>k</td></tr>\n",
              "\t<tr><td>20</td><td>T</td><td>l</td></tr>\n",
              "\t<tr><td>22</td><td>V</td><td>m</td></tr>\n",
              "\t<tr><td>23</td><td>W</td><td>n</td></tr>\n",
              "\t<tr><td>24</td><td>X</td><td>o</td></tr>\n",
              "\t<tr><td>25</td><td>Y</td><td>p</td></tr>\n",
              "\t<tr><td>26</td><td>Z</td><td>q</td></tr>\n",
              "</tbody>\n",
              "</table>\n"
            ]
          },
          "metadata": {
            "tags": []
          }
        }
      ]
    },
    {
      "cell_type": "markdown",
      "metadata": {
        "id": "bkXMOMxsTERY",
        "colab_type": "text"
      },
      "source": [
        "# **Comandos estadisticos basicos**"
      ]
    },
    {
      "cell_type": "markdown",
      "metadata": {
        "id": "IfLT8zLCTT4r",
        "colab_type": "text"
      },
      "source": [
        "**Para los siguientes ejemplos cargaremos un archivo csv, R nos permite asignarles una variable para acceder a ellos a travez de ésta**"
      ]
    },
    {
      "cell_type": "code",
      "metadata": {
        "id": "txiZbaiZC2zh",
        "colab_type": "code",
        "colab": {}
      },
      "source": [
        "datos <- read.table(\"/content/sample_data/DatosTiemposEspera.csv\", header = TRUE, sep = \",\", nrows = 50)"
      ],
      "execution_count": null,
      "outputs": []
    },
    {
      "cell_type": "markdown",
      "metadata": {
        "id": "ptVuB-gQQkRK",
        "colab_type": "text"
      },
      "source": [
        "**Encabezado**"
      ]
    },
    {
      "cell_type": "code",
      "metadata": {
        "id": "66d2lVjpkVuq",
        "colab_type": "code",
        "colab": {
          "base_uri": "https://localhost:8080/",
          "height": 204
        },
        "outputId": "8174320a-8994-4366-c950-040face9abe9"
      },
      "source": [
        "head(datos) "
      ],
      "execution_count": null,
      "outputs": [
        {
          "output_type": "display_data",
          "data": {
            "text/plain": [
              "  Tiempos.de.espera Tiempos.de.Translado.Nacho Tiempos.Espera.Nataly\n",
              "1  5                720                        300                  \n",
              "2  4                738                        240                  \n",
              "3  7                792                        420                  \n",
              "4 15                690                        900                  \n",
              "5 12                720                        720                  \n",
              "6  2                876                        120                  "
            ],
            "text/latex": "A data.frame: 6 × 3\n\\begin{tabular}{r|lll}\n  & Tiempos.de.espera & Tiempos.de.Translado.Nacho & Tiempos.Espera.Nataly\\\\\n  & <int> & <int> & <int>\\\\\n\\hline\n\t1 &  5 & 720 & 300\\\\\n\t2 &  4 & 738 & 240\\\\\n\t3 &  7 & 792 & 420\\\\\n\t4 & 15 & 690 & 900\\\\\n\t5 & 12 & 720 & 720\\\\\n\t6 &  2 & 876 & 120\\\\\n\\end{tabular}\n",
            "text/markdown": "\nA data.frame: 6 × 3\n\n| <!--/--> | Tiempos.de.espera &lt;int&gt; | Tiempos.de.Translado.Nacho &lt;int&gt; | Tiempos.Espera.Nataly &lt;int&gt; |\n|---|---|---|---|\n| 1 |  5 | 720 | 300 |\n| 2 |  4 | 738 | 240 |\n| 3 |  7 | 792 | 420 |\n| 4 | 15 | 690 | 900 |\n| 5 | 12 | 720 | 720 |\n| 6 |  2 | 876 | 120 |\n\n",
            "text/html": [
              "<table>\n",
              "<caption>A data.frame: 6 × 3</caption>\n",
              "<thead>\n",
              "\t<tr><th></th><th scope=col>Tiempos.de.espera</th><th scope=col>Tiempos.de.Translado.Nacho</th><th scope=col>Tiempos.Espera.Nataly</th></tr>\n",
              "\t<tr><th></th><th scope=col>&lt;int&gt;</th><th scope=col>&lt;int&gt;</th><th scope=col>&lt;int&gt;</th></tr>\n",
              "</thead>\n",
              "<tbody>\n",
              "\t<tr><th scope=row>1</th><td> 5</td><td>720</td><td>300</td></tr>\n",
              "\t<tr><th scope=row>2</th><td> 4</td><td>738</td><td>240</td></tr>\n",
              "\t<tr><th scope=row>3</th><td> 7</td><td>792</td><td>420</td></tr>\n",
              "\t<tr><th scope=row>4</th><td>15</td><td>690</td><td>900</td></tr>\n",
              "\t<tr><th scope=row>5</th><td>12</td><td>720</td><td>720</td></tr>\n",
              "\t<tr><th scope=row>6</th><td> 2</td><td>876</td><td>120</td></tr>\n",
              "</tbody>\n",
              "</table>\n"
            ]
          },
          "metadata": {
            "tags": []
          }
        }
      ]
    },
    {
      "cell_type": "markdown",
      "metadata": {
        "id": "boF9kkTwQrqz",
        "colab_type": "text"
      },
      "source": [
        "**Nombre de columnas**"
      ]
    },
    {
      "cell_type": "code",
      "metadata": {
        "id": "H24JrZLM9Jwk",
        "colab_type": "code",
        "colab": {
          "base_uri": "https://localhost:8080/",
          "height": 34
        },
        "outputId": "de2644c6-1737-44b2-a005-c90dbe0b541f"
      },
      "source": [
        "names(datos) "
      ],
      "execution_count": null,
      "outputs": [
        {
          "output_type": "display_data",
          "data": {
            "text/plain": [
              "[1] \"Tiempos.de.espera\"          \"Tiempos.de.Translado.Nacho\"\n",
              "[3] \"Tiempos.Espera.Nataly\"     "
            ],
            "text/latex": "\\begin{enumerate*}\n\\item 'Tiempos.de.espera'\n\\item 'Tiempos.de.Translado.Nacho'\n\\item 'Tiempos.Espera.Nataly'\n\\end{enumerate*}\n",
            "text/markdown": "1. 'Tiempos.de.espera'\n2. 'Tiempos.de.Translado.Nacho'\n3. 'Tiempos.Espera.Nataly'\n\n\n",
            "text/html": [
              "<style>\n",
              ".list-inline {list-style: none; margin:0; padding: 0}\n",
              ".list-inline>li {display: inline-block}\n",
              ".list-inline>li:not(:last-child)::after {content: \"\\00b7\"; padding: 0 .5ex}\n",
              "</style>\n",
              "<ol class=list-inline><li>'Tiempos.de.espera'</li><li>'Tiempos.de.Translado.Nacho'</li><li>'Tiempos.Espera.Nataly'</li></ol>\n"
            ]
          },
          "metadata": {
            "tags": []
          }
        }
      ]
    },
    {
      "cell_type": "markdown",
      "metadata": {
        "id": "8SL8KAnUQvfG",
        "colab_type": "text"
      },
      "source": [
        "**Descripcion de dimensiones y sus tipos de datos**"
      ]
    },
    {
      "cell_type": "code",
      "metadata": {
        "id": "JOvawUfw9Lo2",
        "colab_type": "code",
        "colab": {
          "base_uri": "https://localhost:8080/",
          "height": 85
        },
        "outputId": "44681423-8218-4d52-a1c8-d05b3fd6854b"
      },
      "source": [
        "str(datos)"
      ],
      "execution_count": null,
      "outputs": [
        {
          "output_type": "stream",
          "text": [
            "'data.frame':\t50 obs. of  3 variables:\n",
            " $ Tiempos.de.espera         : int  5 4 7 15 12 2 17 9 5 3 ...\n",
            " $ Tiempos.de.Translado.Nacho: int  720 738 792 690 720 876 774 852 708 804 ...\n",
            " $ Tiempos.Espera.Nataly     : int  300 240 420 900 720 120 1020 540 300 180 ...\n"
          ],
          "name": "stdout"
        }
      ]
    },
    {
      "cell_type": "markdown",
      "metadata": {
        "id": "Ga5UhYnLQzqT",
        "colab_type": "text"
      },
      "source": [
        "**Dimensiones**"
      ]
    },
    {
      "cell_type": "code",
      "metadata": {
        "id": "CJZEa5Or9OrN",
        "colab_type": "code",
        "colab": {
          "base_uri": "https://localhost:8080/",
          "height": 34
        },
        "outputId": "1ca92995-d8bb-40af-d855-47af1f4e3231"
      },
      "source": [
        "dim(datos) "
      ],
      "execution_count": null,
      "outputs": [
        {
          "output_type": "display_data",
          "data": {
            "text/plain": [
              "[1] 50  3"
            ],
            "text/latex": "\\begin{enumerate*}\n\\item 50\n\\item 3\n\\end{enumerate*}\n",
            "text/markdown": "1. 50\n2. 3\n\n\n",
            "text/html": [
              "<style>\n",
              ".list-inline {list-style: none; margin:0; padding: 0}\n",
              ".list-inline>li {display: inline-block}\n",
              ".list-inline>li:not(:last-child)::after {content: \"\\00b7\"; padding: 0 .5ex}\n",
              "</style>\n",
              "<ol class=list-inline><li>50</li><li>3</li></ol>\n"
            ]
          },
          "metadata": {
            "tags": []
          }
        }
      ]
    },
    {
      "cell_type": "markdown",
      "metadata": {
        "id": "ohS38rk9Q3BJ",
        "colab_type": "text"
      },
      "source": [
        "**Tipo de dato**"
      ]
    },
    {
      "cell_type": "code",
      "metadata": {
        "id": "bF3oyG_X9RPs",
        "colab_type": "code",
        "colab": {
          "base_uri": "https://localhost:8080/",
          "height": 34
        },
        "outputId": "4db25656-d944-47fb-ad0d-ef70bd8e5e7a"
      },
      "source": [
        "class(datos) "
      ],
      "execution_count": null,
      "outputs": [
        {
          "output_type": "display_data",
          "data": {
            "text/plain": [
              "[1] \"data.frame\""
            ],
            "text/latex": "'data.frame'",
            "text/markdown": "'data.frame'",
            "text/html": [
              "'data.frame'"
            ]
          },
          "metadata": {
            "tags": []
          }
        }
      ]
    },
    {
      "cell_type": "markdown",
      "metadata": {
        "id": "hR5IWLcZQ7yV",
        "colab_type": "text"
      },
      "source": [
        "**Total de datos**"
      ]
    },
    {
      "cell_type": "code",
      "metadata": {
        "id": "8FV0HmRk9y_H",
        "colab_type": "code",
        "colab": {
          "base_uri": "https://localhost:8080/",
          "height": 34
        },
        "outputId": "06c42693-c1cd-42dd-b127-3df3cd645156"
      },
      "source": [
        "n <- length(datos$Tiempos.de.espera)\n",
        "n"
      ],
      "execution_count": null,
      "outputs": [
        {
          "output_type": "display_data",
          "data": {
            "text/plain": [
              "[1] 50"
            ],
            "text/latex": "50",
            "text/markdown": "50",
            "text/html": [
              "50"
            ]
          },
          "metadata": {
            "tags": []
          }
        }
      ]
    },
    {
      "cell_type": "markdown",
      "metadata": {
        "id": "YG_lVHPaRDDO",
        "colab_type": "text"
      },
      "source": [
        "**Raiz cuadrada del total de datos**"
      ]
    },
    {
      "cell_type": "code",
      "metadata": {
        "id": "BF_rnoPB92xK",
        "colab_type": "code",
        "colab": {
          "base_uri": "https://localhost:8080/",
          "height": 34
        },
        "outputId": "94faa705-40ec-4122-faae-5bb55d161580"
      },
      "source": [
        "Numero_Clases <- sqrt(n) \n",
        "Numero_Clases"
      ],
      "execution_count": null,
      "outputs": [
        {
          "output_type": "display_data",
          "data": {
            "text/plain": [
              "[1] 7.071068"
            ],
            "text/latex": "7.07106781186548",
            "text/markdown": "7.07106781186548",
            "text/html": [
              "7.07106781186548"
            ]
          },
          "metadata": {
            "tags": []
          }
        }
      ]
    },
    {
      "cell_type": "markdown",
      "metadata": {
        "id": "ivg6YuvqRMq5",
        "colab_type": "text"
      },
      "source": [
        "**Media**"
      ]
    },
    {
      "cell_type": "code",
      "metadata": {
        "id": "05-nFcou9-_F",
        "colab_type": "code",
        "colab": {
          "base_uri": "https://localhost:8080/",
          "height": 34
        },
        "outputId": "9d1b6012-101a-4f7c-acce-cca0d66f8708"
      },
      "source": [
        "Media <- mean(datos$Tiempos.de.espera)\n",
        "Media"
      ],
      "execution_count": null,
      "outputs": [
        {
          "output_type": "display_data",
          "data": {
            "text/plain": [
              "[1] 7.2"
            ],
            "text/latex": "7.2",
            "text/markdown": "7.2",
            "text/html": [
              "7.2"
            ]
          },
          "metadata": {
            "tags": []
          }
        }
      ]
    },
    {
      "cell_type": "markdown",
      "metadata": {
        "id": "cVuQJm5tRQjz",
        "colab_type": "text"
      },
      "source": [
        "**Mediana**"
      ]
    },
    {
      "cell_type": "code",
      "metadata": {
        "id": "pIIu3MDm-E3d",
        "colab_type": "code",
        "colab": {
          "base_uri": "https://localhost:8080/",
          "height": 35
        },
        "outputId": "bd62047b-6092-47aa-9ca0-472cf28ccc32"
      },
      "source": [
        "Mediana <- median(datos$Tiempos.de.espera)\n",
        "Mediana "
      ],
      "execution_count": null,
      "outputs": [
        {
          "output_type": "display_data",
          "data": {
            "text/plain": [
              "[1] 6"
            ],
            "text/latex": "6",
            "text/markdown": "6",
            "text/html": [
              "6"
            ]
          },
          "metadata": {
            "tags": []
          }
        }
      ]
    },
    {
      "cell_type": "markdown",
      "metadata": {
        "id": "iMoC9hd2RVdU",
        "colab_type": "text"
      },
      "source": [
        "**Moda**"
      ]
    },
    {
      "cell_type": "code",
      "metadata": {
        "id": "yTFnoXN3-MFp",
        "colab_type": "code",
        "colab": {
          "base_uri": "https://localhost:8080/",
          "height": 89
        },
        "outputId": "279d7b85-049b-44f0-9a15-e4c9c00c27c7"
      },
      "source": [
        "Moda <- table(datos$Tiempos.de.espera)\n",
        "Moda\n",
        "max(Moda)"
      ],
      "execution_count": null,
      "outputs": [
        {
          "output_type": "display_data",
          "data": {
            "text/plain": [
              "\n",
              " 0  1  2  3  4  5  7  8  9 10 11 12 13 14 15 17 20 \n",
              " 2  1  7  3  5  7  3  4  4  2  2  2  1  1  3  2  1 "
            ]
          },
          "metadata": {
            "tags": []
          }
        },
        {
          "output_type": "display_data",
          "data": {
            "text/plain": [
              "[1] 7"
            ],
            "text/latex": "7",
            "text/markdown": "7",
            "text/html": [
              "7"
            ]
          },
          "metadata": {
            "tags": []
          }
        }
      ]
    },
    {
      "cell_type": "markdown",
      "metadata": {
        "id": "9FXM-sqBRZKE",
        "colab_type": "text"
      },
      "source": [
        "**Rango**"
      ]
    },
    {
      "cell_type": "code",
      "metadata": {
        "id": "L9D7Wec1-h4s",
        "colab_type": "code",
        "colab": {
          "base_uri": "https://localhost:8080/",
          "height": 35
        },
        "outputId": "45eb516c-18bd-4f9e-c507-a28cfb03c5dc"
      },
      "source": [
        "Rango <- max(datos$Tiempos.de.espera) - min(datos$Tiempos.de.espera)\n",
        "Rango"
      ],
      "execution_count": null,
      "outputs": [
        {
          "output_type": "display_data",
          "data": {
            "text/plain": [
              "[1] 20"
            ],
            "text/latex": "20",
            "text/markdown": "20",
            "text/html": [
              "20"
            ]
          },
          "metadata": {
            "tags": []
          }
        }
      ]
    },
    {
      "cell_type": "markdown",
      "metadata": {
        "id": "A8rxmFHhRcZu",
        "colab_type": "text"
      },
      "source": [
        "**Varianza**"
      ]
    },
    {
      "cell_type": "code",
      "metadata": {
        "id": "otBcQPtc-qpJ",
        "colab_type": "code",
        "colab": {
          "base_uri": "https://localhost:8080/",
          "height": 120
        },
        "outputId": "c2180497-a0b8-4772-cfe7-475d4e92a762"
      },
      "source": [
        "Varianza <- var(datos)\n",
        "Varianza"
      ],
      "execution_count": null,
      "outputs": [
        {
          "output_type": "display_data",
          "data": {
            "text/plain": [
              "                           Tiempos.de.espera Tiempos.de.Translado.Nacho\n",
              "Tiempos.de.espera            24.36735          -57.01224               \n",
              "Tiempos.de.Translado.Nacho  -57.01224         4834.59429               \n",
              "Tiempos.Espera.Nataly      1462.04082        -3420.73469               \n",
              "                           Tiempos.Espera.Nataly\n",
              "Tiempos.de.espera           1462.041            \n",
              "Tiempos.de.Translado.Nacho -3420.735            \n",
              "Tiempos.Espera.Nataly      87722.449            "
            ],
            "text/latex": "A matrix: 3 × 3 of type dbl\n\\begin{tabular}{r|lll}\n  & Tiempos.de.espera & Tiempos.de.Translado.Nacho & Tiempos.Espera.Nataly\\\\\n\\hline\n\tTiempos.de.espera &   24.36735 &   -57.01224 &  1462.041\\\\\n\tTiempos.de.Translado.Nacho &  -57.01224 &  4834.59429 & -3420.735\\\\\n\tTiempos.Espera.Nataly & 1462.04082 & -3420.73469 & 87722.449\\\\\n\\end{tabular}\n",
            "text/markdown": "\nA matrix: 3 × 3 of type dbl\n\n| <!--/--> | Tiempos.de.espera | Tiempos.de.Translado.Nacho | Tiempos.Espera.Nataly |\n|---|---|---|---|\n| Tiempos.de.espera |   24.36735 |   -57.01224 |  1462.041 |\n| Tiempos.de.Translado.Nacho |  -57.01224 |  4834.59429 | -3420.735 |\n| Tiempos.Espera.Nataly | 1462.04082 | -3420.73469 | 87722.449 |\n\n",
            "text/html": [
              "<table>\n",
              "<caption>A matrix: 3 × 3 of type dbl</caption>\n",
              "<thead>\n",
              "\t<tr><th></th><th scope=col>Tiempos.de.espera</th><th scope=col>Tiempos.de.Translado.Nacho</th><th scope=col>Tiempos.Espera.Nataly</th></tr>\n",
              "</thead>\n",
              "<tbody>\n",
              "\t<tr><th scope=row>Tiempos.de.espera</th><td>  24.36735</td><td>  -57.01224</td><td> 1462.041</td></tr>\n",
              "\t<tr><th scope=row>Tiempos.de.Translado.Nacho</th><td> -57.01224</td><td> 4834.59429</td><td>-3420.735</td></tr>\n",
              "\t<tr><th scope=row>Tiempos.Espera.Nataly</th><td>1462.04082</td><td>-3420.73469</td><td>87722.449</td></tr>\n",
              "</tbody>\n",
              "</table>\n"
            ]
          },
          "metadata": {
            "tags": []
          }
        }
      ]
    },
    {
      "cell_type": "markdown",
      "metadata": {
        "id": "Z_cBcXgYRgqv",
        "colab_type": "text"
      },
      "source": [
        "**Desviacion estandar**\n"
      ]
    },
    {
      "cell_type": "code",
      "metadata": {
        "id": "z-1WuTuU-zOC",
        "colab_type": "code",
        "colab": {
          "base_uri": "https://localhost:8080/",
          "height": 34
        },
        "outputId": "5410bd2d-1cb2-435d-c3a9-d75c87d913ac"
      },
      "source": [
        "Desviacion_Estandar <- sd(datos$Tiempos.de.espera)\n",
        "Desviacion_Estandar"
      ],
      "execution_count": null,
      "outputs": [
        {
          "output_type": "display_data",
          "data": {
            "text/plain": [
              "[1] 4.936329"
            ],
            "text/latex": "4.93632929804886",
            "text/markdown": "4.93632929804886",
            "text/html": [
              "4.93632929804886"
            ]
          },
          "metadata": {
            "tags": []
          }
        }
      ]
    },
    {
      "cell_type": "markdown",
      "metadata": {
        "id": "dzetNuXGRqRh",
        "colab_type": "text"
      },
      "source": [
        "**Coeficiente de variacion**"
      ]
    },
    {
      "cell_type": "code",
      "metadata": {
        "id": "ett_wxPQ_C96",
        "colab_type": "code",
        "colab": {
          "base_uri": "https://localhost:8080/",
          "height": 34
        },
        "outputId": "31c7ef29-7054-4911-9f5d-a9ca33651faf"
      },
      "source": [
        "Coeficiente_Variacion <- (Desviacion_Estandar/Media)*100\n",
        "Coeficiente_Variacion"
      ],
      "execution_count": null,
      "outputs": [
        {
          "output_type": "display_data",
          "data": {
            "text/plain": [
              "[1] 68.56013"
            ],
            "text/latex": "68.5601291395675",
            "text/markdown": "68.5601291395675",
            "text/html": [
              "68.5601291395675"
            ]
          },
          "metadata": {
            "tags": []
          }
        }
      ]
    },
    {
      "cell_type": "markdown",
      "metadata": {
        "id": "cTeLAS9d_Uln",
        "colab_type": "text"
      },
      "source": [
        "**Se carga la libreria para usar la funcion \"skewness\"**"
      ]
    },
    {
      "cell_type": "code",
      "metadata": {
        "id": "UJ59zFmA_arb",
        "colab_type": "code",
        "colab": {
          "base_uri": "https://localhost:8080/",
          "height": 68
        },
        "outputId": "9dd540fc-01ee-4aaf-f45b-e79e711a9eab"
      },
      "source": [
        "install.packages(\"e1071\")\n",
        "library(e1071)"
      ],
      "execution_count": null,
      "outputs": [
        {
          "output_type": "stream",
          "text": [
            "Installing package into ‘/usr/local/lib/R/site-library’\n",
            "(as ‘lib’ is unspecified)\n",
            "\n"
          ],
          "name": "stderr"
        }
      ]
    },
    {
      "cell_type": "markdown",
      "metadata": {
        "id": "Ypq-CLPJRwbM",
        "colab_type": "text"
      },
      "source": [
        "**Regla empirica**"
      ]
    },
    {
      "cell_type": "code",
      "metadata": {
        "id": "F1X52TxZ_H6v",
        "colab_type": "code",
        "colab": {
          "base_uri": "https://localhost:8080/",
          "height": 34
        },
        "outputId": "e77c8f97-759c-45df-eaae-61dcd8afba57"
      },
      "source": [
        "Sesgo <- skewness(datos$Tiempos.de.espera)\n",
        "Sesgo"
      ],
      "execution_count": null,
      "outputs": [
        {
          "output_type": "display_data",
          "data": {
            "text/plain": [
              "[1] 0.6456652"
            ],
            "text/latex": "0.645665207477507",
            "text/markdown": "0.645665207477507",
            "text/html": [
              "0.645665207477507"
            ]
          },
          "metadata": {
            "tags": []
          }
        }
      ]
    },
    {
      "cell_type": "markdown",
      "metadata": {
        "id": "Ca14Jc-U_hpG",
        "colab_type": "text"
      },
      "source": [
        "**Se calculan los valores de la regla empirica con las variables previamente calculada**"
      ]
    },
    {
      "cell_type": "code",
      "metadata": {
        "id": "fAkwth56_K7_",
        "colab_type": "code",
        "colab": {
          "base_uri": "https://localhost:8080/",
          "height": 170
        },
        "outputId": "521ccf44-fdf6-47f4-dd25-c740e4662f6d"
      },
      "source": [
        "Regla_Empirica68.1 <- (Media+Desviacion_Estandar)\n",
        "Regla_Empirica68.2 <- (Media-Desviacion_Estandar)\n",
        "print(\"Regla empirica del 68%\")\n",
        "Regla_Empirica68.1\n",
        "Regla_Empirica68.2\n",
        "Regla_Empirica95.1 <- (Media+(2*Desviacion_Estandar))\n",
        "Regla_Empirica95.2 <- (Media-(2*Desviacion_Estandar))\n",
        "print(\"Regla empirica del 95%\")\n",
        "Regla_Empirica95.1\n",
        "Regla_Empirica95.2\n",
        "Regla_Empirica99.1 <- (Media+(3*Desviacion_Estandar))\n",
        "Regla_Empirica99.2 <- (Media-(3*Desviacion_Estandar))\n",
        "print(\"Regla empirica del 99%\")\n",
        "Regla_Empirica99.1\n",
        "Regla_Empirica99.2"
      ],
      "execution_count": null,
      "outputs": [
        {
          "output_type": "stream",
          "text": [
            "[1] \"Regla empirica del 68%\"\n"
          ],
          "name": "stdout"
        },
        {
          "output_type": "display_data",
          "data": {
            "text/plain": [
              "[1] 12.13633"
            ],
            "text/latex": "12.1363292980489",
            "text/markdown": "12.1363292980489",
            "text/html": [
              "12.1363292980489"
            ]
          },
          "metadata": {
            "tags": []
          }
        },
        {
          "output_type": "display_data",
          "data": {
            "text/plain": [
              "[1] 2.263671"
            ],
            "text/latex": "2.26367070195114",
            "text/markdown": "2.26367070195114",
            "text/html": [
              "2.26367070195114"
            ]
          },
          "metadata": {
            "tags": []
          }
        },
        {
          "output_type": "stream",
          "text": [
            "[1] \"Regla empirica del 95%\"\n"
          ],
          "name": "stdout"
        },
        {
          "output_type": "display_data",
          "data": {
            "text/plain": [
              "[1] 17.07266"
            ],
            "text/latex": "17.0726585960977",
            "text/markdown": "17.0726585960977",
            "text/html": [
              "17.0726585960977"
            ]
          },
          "metadata": {
            "tags": []
          }
        },
        {
          "output_type": "display_data",
          "data": {
            "text/plain": [
              "[1] -2.672659"
            ],
            "text/latex": "-2.67265859609771",
            "text/markdown": "-2.67265859609771",
            "text/html": [
              "-2.67265859609771"
            ]
          },
          "metadata": {
            "tags": []
          }
        },
        {
          "output_type": "stream",
          "text": [
            "[1] \"Regla empirica del 99%\"\n"
          ],
          "name": "stdout"
        },
        {
          "output_type": "display_data",
          "data": {
            "text/plain": [
              "[1] 22.00899"
            ],
            "text/latex": "22.0089878941466",
            "text/markdown": "22.0089878941466",
            "text/html": [
              "22.0089878941466"
            ]
          },
          "metadata": {
            "tags": []
          }
        },
        {
          "output_type": "display_data",
          "data": {
            "text/plain": [
              "[1] -7.608988"
            ],
            "text/latex": "-7.60898789414657",
            "text/markdown": "-7.60898789414657",
            "text/html": [
              "-7.60898789414657"
            ]
          },
          "metadata": {
            "tags": []
          }
        }
      ]
    },
    {
      "cell_type": "markdown",
      "metadata": {
        "id": "W8dvnMIlAdAr",
        "colab_type": "text"
      },
      "source": [
        "**Se relaiza la grafica con la campana de los datos de la columna llamada \"Tiempos.de.espera\", usando las variables previamente graficadas**"
      ]
    },
    {
      "cell_type": "code",
      "metadata": {
        "id": "kGeDwf_VAxZC",
        "colab_type": "code",
        "colab": {
          "base_uri": "https://localhost:8080/",
          "height": 488
        },
        "outputId": "a1539d08-6db6-4b46-a6e6-8602cbce3389"
      },
      "source": [
        "n <- length(datos$Tiempos.de.espera)\n",
        "  media <- mean(datos$Tiempos.de.espera)\n",
        "  table(datos$Tiempos.de.espera)\n",
        "  x1 <- (Media-Desviacion_Estandar)\n",
        "  x2 <- (Media+Desviacion_Estandar)\n",
        "  x3 <- (Media-(2*Desviacion_Estandar))\n",
        "  x4 <- (Media+(2*Desviacion_Estandar))\n",
        "  x5 <- (Media-(3*Desviacion_Estandar))\n",
        "  x6 <- (Media+(3*Desviacion_Estandar))\n",
        "  Desviacion_Estandar <- sd(datos$Tiempos.de.espera)\n",
        "  x <- datos$Tiempos.de.espera\n",
        "  ymax <- max(dnorm(x, media, Desviacion_Estandar))\n",
        "  max <- max(datos$Tiempos.de.espera)\n",
        "  min <- min(datos$Tiempos.de.espera)\n",
        "  \n",
        "  \n",
        "  regionX <- seq(x1, x2, 0.01)\n",
        "  xP <- c(x1, regionX, x2)\n",
        "  yP <- c(0, dnorm(regionX, media, Desviacion_Estandar),0)\n",
        "  \n",
        "  \n",
        "  regionY <- seq(x3, x4, 0.01)\n",
        "  aP <- c(x3, regionY, x4)\n",
        "  bP <- c(0, dnorm(regionY, media, Desviacion_Estandar),0)\n",
        "  \n",
        "  \n",
        "  regionZ <- seq(x5, x6, 0.01)\n",
        "  cP <- c(x5, regionZ, x6)\n",
        "  dP <- c(0, dnorm(regionZ, media, Desviacion_Estandar),0)\n",
        "  \n",
        "  \n",
        "  curve(dnorm(x, media, Desviacion_Estandar), xlim = c(min, max), yaxs = \"i\", ylim = c(0, ymax), ylab = \"f(x)\",\n",
        "        main = \"Distribucion normal\")\n",
        "  polygon(cP, dP, col = \"royalblue3\")\n",
        "  polygon(aP, bP, col = \"mediumpurple2\")\n",
        "  polygon(xP, yP, col = \"orchid3\")\n",
        "  box()"
      ],
      "execution_count": null,
      "outputs": [
        {
          "output_type": "display_data",
          "data": {
            "text/plain": [
              "\n",
              " 0  1  2  3  4  5  7  8  9 10 11 12 13 14 15 17 20 \n",
              " 2  1  7  3  5  7  3  4  4  2  2  2  1  1  3  2  1 "
            ]
          },
          "metadata": {
            "tags": []
          }
        },
        {
          "output_type": "display_data",
          "data": {
            "image/png": "[encoded data removed]",
            "text/plain": [
              "Plot with title “Distribucion normal”"
            ]
          },
          "metadata": {
            "tags": [],
            "image/png": {
              "width": 420,
              "height": 420
            },
            "text/plain": {
              "width": 420,
              "height": 420
            }
          }
        }
      ]
    },
    {
      "cell_type": "markdown",
      "metadata": {
        "id": "EvARfKKzDA7Y",
        "colab_type": "text"
      },
      "source": [
        "**Se utiliza el dataset llamado \"iris\" para estos ejemplos**"
      ]
    },
    {
      "cell_type": "markdown",
      "metadata": {
        "id": "vjzvsrMAB56R",
        "colab_type": "text"
      },
      "source": [
        "**Cuartiles**"
      ]
    },
    {
      "cell_type": "code",
      "metadata": {
        "id": "mGNie4NgCFc9",
        "colab_type": "code",
        "colab": {
          "base_uri": "https://localhost:8080/",
          "height": 51
        },
        "outputId": "45de7e97-98aa-4c8e-80f8-2a83fd11755a"
      },
      "source": [
        "summary(iris$Sepal.Length)"
      ],
      "execution_count": null,
      "outputs": [
        {
          "output_type": "display_data",
          "data": {
            "text/plain": [
              "   Min. 1st Qu.  Median    Mean 3rd Qu.    Max. \n",
              "  4.300   5.100   5.800   5.843   6.400   7.900 "
            ]
          },
          "metadata": {
            "tags": []
          }
        }
      ]
    },
    {
      "cell_type": "markdown",
      "metadata": {
        "id": "2VbZg0HhCSmp",
        "colab_type": "text"
      },
      "source": [
        "**Tabla de frecuencias absolutas**"
      ]
    },
    {
      "cell_type": "code",
      "metadata": {
        "id": "vbhG7ZICCSIl",
        "colab_type": "code",
        "colab": {
          "base_uri": "https://localhost:8080/",
          "height": 72
        },
        "outputId": "6b5b1112-172b-4a92-d72e-109416e73569"
      },
      "source": [
        "table(iris$Species)"
      ],
      "execution_count": null,
      "outputs": [
        {
          "output_type": "display_data",
          "data": {
            "text/plain": [
              "\n",
              "    setosa versicolor  virginica \n",
              "        50         50         50 "
            ]
          },
          "metadata": {
            "tags": []
          }
        }
      ]
    },
    {
      "cell_type": "markdown",
      "metadata": {
        "id": "v9ejnlNgCbw_",
        "colab_type": "text"
      },
      "source": [
        "**Media geometrica**"
      ]
    },
    {
      "cell_type": "code",
      "metadata": {
        "id": "yWywmDJSCdiM",
        "colab_type": "code",
        "colab": {
          "base_uri": "https://localhost:8080/",
          "height": 35
        },
        "outputId": "d2e65efa-cffa-4724-ac3b-2509886d18f1"
      },
      "source": [
        "prod(iris$Sepal.Length) ^ (1/length(iris$Sepal.Length))"
      ],
      "execution_count": null,
      "outputs": [
        {
          "output_type": "display_data",
          "data": {
            "text/plain": [
              "[1] 5.78572"
            ],
            "text/latex": "5.78572039042773",
            "text/markdown": "5.78572039042773",
            "text/html": [
              "5.78572039042773"
            ]
          },
          "metadata": {
            "tags": []
          }
        }
      ]
    },
    {
      "cell_type": "markdown",
      "metadata": {
        "id": "6qK-TWr7CyIZ",
        "colab_type": "text"
      },
      "source": [
        "**Media geometrica escala logaritmica**"
      ]
    },
    {
      "cell_type": "code",
      "metadata": {
        "id": "CcO0SaJlCiwL",
        "colab_type": "code",
        "colab": {
          "base_uri": "https://localhost:8080/",
          "height": 35
        },
        "outputId": "6ba0fd51-97a1-46b8-cbe9-9c3caa015f30"
      },
      "source": [
        "mean(log(iris$Sepal.Length))"
      ],
      "execution_count": null,
      "outputs": [
        {
          "output_type": "display_data",
          "data": {
            "text/plain": [
              "[1] 1.755393"
            ],
            "text/latex": "1.75539288019228",
            "text/markdown": "1.75539288019228",
            "text/html": [
              "1.75539288019228"
            ]
          },
          "metadata": {
            "tags": []
          }
        }
      ]
    },
    {
      "cell_type": "markdown",
      "metadata": {
        "id": "syyOvEq0DXYl",
        "colab_type": "text"
      },
      "source": [
        "**Media geometrica escala original**"
      ]
    },
    {
      "cell_type": "code",
      "metadata": {
        "id": "m1I--5J2ChhX",
        "colab_type": "code",
        "colab": {
          "base_uri": "https://localhost:8080/",
          "height": 35
        },
        "outputId": "8631a516-7661-482a-9889-3c5746b10ec5"
      },
      "source": [
        "exp(mean(log(iris$Petal.Length)))"
      ],
      "execution_count": null,
      "outputs": [
        {
          "output_type": "display_data",
          "data": {
            "text/plain": [
              "[1] 3.238267"
            ],
            "text/latex": "3.23826684451227",
            "text/markdown": "3.23826684451227",
            "text/html": [
              "3.23826684451227"
            ]
          },
          "metadata": {
            "tags": []
          }
        }
      ]
    },
    {
      "cell_type": "markdown",
      "metadata": {
        "id": "zPJ_Pt_hDh3w",
        "colab_type": "text"
      },
      "source": [
        "**Ordena de min a max la tabla de frecuencias**"
      ]
    },
    {
      "cell_type": "code",
      "metadata": {
        "id": "GSk2sXgDDlQH",
        "colab_type": "code",
        "colab": {
          "base_uri": "https://localhost:8080/",
          "height": 165
        },
        "outputId": "c6438105-9750-42e9-e82a-c8edff18aaaa"
      },
      "source": [
        "sort(table(iris$Petal.Length), decreasing = T)"
      ],
      "execution_count": null,
      "outputs": [
        {
          "output_type": "display_data",
          "data": {
            "text/plain": [
              "\n",
              "1.4 1.5 4.5 5.1 1.3 1.6 5.6   4 4.7 4.9 1.7 4.2 4.4 4.8   5 3.9 4.1 4.6 5.5 5.7 \n",
              " 13  13   8   8   7   7   6   5   5   5   4   4   4   4   4   3   3   3   3   3 \n",
              "5.8 6.1 1.2 1.9 3.3 3.5 4.3 5.2 5.3 5.4 5.9   6 6.7   1 1.1   3 3.6 3.7 3.8 6.3 \n",
              "  3   3   2   2   2   2   2   2   2   2   2   2   2   1   1   1   1   1   1   1 \n",
              "6.4 6.6 6.9 \n",
              "  1   1   1 "
            ]
          },
          "metadata": {
            "tags": []
          }
        }
      ]
    },
    {
      "cell_type": "markdown",
      "metadata": {
        "id": "woFKx7CCDrrp",
        "colab_type": "text"
      },
      "source": [
        "**Se programa una funcion que encuentra la moda de un vector**"
      ]
    },
    {
      "cell_type": "code",
      "metadata": {
        "id": "ndziis_8D3gJ",
        "colab_type": "code",
        "colab": {}
      },
      "source": [
        " moda <- function(x){\n",
        "    #encuentra la moda de un vector\n",
        "    m1=sort(table(x), decreasing=T)\n",
        "    moda=names(m1[m1==m1[1]])\n",
        "    moda=as.numeric(moda)\n",
        "    return(moda)\n",
        "  } #crea una funcion moda"
      ],
      "execution_count": null,
      "outputs": []
    },
    {
      "cell_type": "markdown",
      "metadata": {
        "id": "JbfwVdwlD63f",
        "colab_type": "text"
      },
      "source": [
        "**Se manda a llamar la funcion \"moda\" se de parametro se envia un vector, y regresa la moda**"
      ]
    },
    {
      "cell_type": "code",
      "metadata": {
        "id": "aps34oDSERv7",
        "colab_type": "code",
        "colab": {
          "base_uri": "https://localhost:8080/",
          "height": 35
        },
        "outputId": "4932b61b-a648-42ac-f186-5d45343c2c98"
      },
      "source": [
        "getwd()"
      ],
      "execution_count": null,
      "outputs": [
        {
          "output_type": "display_data",
          "data": {
            "text/plain": [
              "[1] \"/content\""
            ],
            "text/latex": "'/content'",
            "text/markdown": "'/content'",
            "text/html": [
              "'/content'"
            ]
          },
          "metadata": {
            "tags": []
          }
        }
      ]
    },
    {
      "cell_type": "code",
      "metadata": {
        "id": "9b-JE3sKEDQH",
        "colab_type": "code",
        "colab": {
          "base_uri": "https://localhost:8080/",
          "height": 35
        },
        "outputId": "94963060-7446-4651-88e4-63d67c5c0937"
      },
      "source": [
        "source(\"sample_data/moda.R\")\n",
        "moda(iris$Sepal.Length)"
      ],
      "execution_count": null,
      "outputs": [
        {
          "output_type": "display_data",
          "data": {
            "text/plain": [
              "[1] 5"
            ],
            "text/latex": "5",
            "text/markdown": "5",
            "text/html": [
              "5"
            ]
          },
          "metadata": {
            "tags": []
          }
        }
      ]
    },
    {
      "cell_type": "markdown",
      "metadata": {
        "id": "Y0rkEXY4SoFZ",
        "colab_type": "text"
      },
      "source": [
        "####**Medidas de dispersion**"
      ]
    },
    {
      "cell_type": "markdown",
      "metadata": {
        "id": "vWqn5L2-S8RF",
        "colab_type": "text"
      },
      "source": [
        "**Rango**"
      ]
    },
    {
      "cell_type": "code",
      "metadata": {
        "id": "bVd2DoXjS1h4",
        "colab_type": "code",
        "colab": {
          "base_uri": "https://localhost:8080/",
          "height": 34
        },
        "outputId": "e1c9188d-ce1c-40a5-cb66-0dd2b431045c"
      },
      "source": [
        "diff(range(women$height))"
      ],
      "execution_count": null,
      "outputs": [
        {
          "output_type": "display_data",
          "data": {
            "text/plain": [
              "[1] 14"
            ],
            "text/latex": "14",
            "text/markdown": "14",
            "text/html": [
              "14"
            ]
          },
          "metadata": {
            "tags": []
          }
        }
      ]
    },
    {
      "cell_type": "markdown",
      "metadata": {
        "id": "eP78IlAmTAKO",
        "colab_type": "text"
      },
      "source": [
        "**Varianza**"
      ]
    },
    {
      "cell_type": "code",
      "metadata": {
        "id": "P_HbPnUsTDjL",
        "colab_type": "code",
        "colab": {
          "base_uri": "https://localhost:8080/",
          "height": 34
        },
        "outputId": "10fe7322-e2eb-4179-a6ca-c296c1598f82"
      },
      "source": [
        "var(women$height)"
      ],
      "execution_count": null,
      "outputs": [
        {
          "output_type": "display_data",
          "data": {
            "text/plain": [
              "[1] 20"
            ],
            "text/latex": "20",
            "text/markdown": "20",
            "text/html": [
              "20"
            ]
          },
          "metadata": {
            "tags": []
          }
        }
      ]
    },
    {
      "cell_type": "markdown",
      "metadata": {
        "id": "UL_FAmj5TETS",
        "colab_type": "text"
      },
      "source": [
        "**Desviacion estandar**"
      ]
    },
    {
      "cell_type": "code",
      "metadata": {
        "id": "YJ9h88-yTIGW",
        "colab_type": "code",
        "colab": {
          "base_uri": "https://localhost:8080/",
          "height": 34
        },
        "outputId": "679bc487-8f4c-4d27-f71a-cc861473617c"
      },
      "source": [
        "sd(women$height)"
      ],
      "execution_count": null,
      "outputs": [
        {
          "output_type": "display_data",
          "data": {
            "text/plain": [
              "[1] 4.472136"
            ],
            "text/latex": "4.47213595499958",
            "text/markdown": "4.47213595499958",
            "text/html": [
              "4.47213595499958"
            ]
          },
          "metadata": {
            "tags": []
          }
        }
      ]
    },
    {
      "cell_type": "markdown",
      "metadata": {
        "id": "dVDoFz__TKMW",
        "colab_type": "text"
      },
      "source": [
        "**Coeficiente de variacion**"
      ]
    },
    {
      "cell_type": "code",
      "metadata": {
        "id": "WWkdEAUMTNI5",
        "colab_type": "code",
        "colab": {
          "base_uri": "https://localhost:8080/",
          "height": 34
        },
        "outputId": "e5bbbc6d-d573-447a-9291-a3ffba3b69b1"
      },
      "source": [
        "100 * sd(women$weight)/ mean(women$weight)"
      ],
      "execution_count": null,
      "outputs": [
        {
          "output_type": "display_data",
          "data": {
            "text/plain": [
              "[1] 11.33498"
            ],
            "text/latex": "11.3349787382529",
            "text/markdown": "11.3349787382529",
            "text/html": [
              "11.3349787382529"
            ]
          },
          "metadata": {
            "tags": []
          }
        }
      ]
    },
    {
      "cell_type": "markdown",
      "metadata": {
        "id": "yIdY_lnWTPm0",
        "colab_type": "text"
      },
      "source": [
        "**Medidas de posicion, de uno en uno hasta el 11**"
      ]
    },
    {
      "cell_type": "code",
      "metadata": {
        "id": "BYdJsoRSTTYT",
        "colab_type": "code",
        "colab": {
          "base_uri": "https://localhost:8080/",
          "height": 136
        },
        "outputId": "7e1a55f7-741d-4624-9ced-2605338e40cf"
      },
      "source": [
        "quantile(women$weight, probs = seq(0,1,length=101), type = 5)"
      ],
      "execution_count": null,
      "outputs": [
        {
          "output_type": "display_data",
          "data": {
            "text/plain": [
              "    0%     1%     2%     3%     4%     5%     6%     7%     8%     9%    10% \n",
              "115.00 115.00 115.00 115.00 115.20 115.50 115.80 116.10 116.40 116.70 117.00 \n",
              "   11%    12%    13%    14%    15%    16%    17%    18%    19%    20%    21% \n",
              "117.45 117.90 118.35 118.80 119.25 119.70 120.15 120.60 121.05 121.50 121.95 \n",
              "   22%    23%    24%    25%    26%    27%    28%    29%    30%    31%    32% \n",
              "122.40 122.85 123.30 123.75 124.20 124.65 125.10 125.55 126.00 126.45 126.90 \n",
              "   33%    34%    35%    36%    37%    38%    39%    40%    41%    42%    43% \n",
              "127.35 127.80 128.25 128.70 129.15 129.60 130.05 130.50 130.95 131.40 131.85 \n",
              "   44%    45%    46%    47%    48%    49%    50%    51%    52%    53%    54% \n",
              "132.30 132.75 133.20 133.65 134.10 134.55 135.00 135.60 136.20 136.80 137.40 \n",
              "   55%    56%    57%    58%    59%    60%    61%    62%    63%    64%    65% \n",
              "138.00 138.60 139.15 139.60 140.05 140.50 140.95 141.40 141.85 142.40 143.00 \n",
              "   66%    67%    68%    69%    70%    71%    72%    73%    74%    75%    76% \n",
              "143.60 144.20 144.80 145.40 146.00 146.60 147.20 147.80 148.40 149.00 149.60 \n",
              "   77%    78%    79%    80%    81%    82%    83%    84%    85%    86%    87% \n",
              "150.20 150.80 151.40 152.00 152.60 153.20 153.80 154.50 155.25 156.00 156.75 \n",
              "   88%    89%    90%    91%    92%    93%    94%    95%    96%    97%    98% \n",
              "157.50 158.25 159.00 159.75 160.50 161.25 162.00 162.75 163.50 164.00 164.00 \n",
              "   99%   100% \n",
              "164.00 164.00 "
            ],
            "text/latex": "\\begin{description*}\n\\item[0\\textbackslash{}\\%] 115\n\\item[1\\textbackslash{}\\%] 115\n\\item[2\\textbackslash{}\\%] 115\n\\item[3\\textbackslash{}\\%] 115\n\\item[4\\textbackslash{}\\%] 115.2\n\\item[5\\textbackslash{}\\%] 115.5\n\\item[6\\textbackslash{}\\%] 115.8\n\\item[7\\textbackslash{}\\%] 116.1\n\\item[8\\textbackslash{}\\%] 116.4\n\\item[9\\textbackslash{}\\%] 116.7\n\\item[10\\textbackslash{}\\%] 117\n\\item[11\\textbackslash{}\\%] 117.45\n\\item[12\\textbackslash{}\\%] 117.9\n\\item[13\\textbackslash{}\\%] 118.35\n\\item[14\\textbackslash{}\\%] 118.8\n\\item[15\\textbackslash{}\\%] 119.25\n\\item[16\\textbackslash{}\\%] 119.7\n\\item[17\\textbackslash{}\\%] 120.15\n\\item[18\\textbackslash{}\\%] 120.6\n\\item[19\\textbackslash{}\\%] 121.05\n\\item[20\\textbackslash{}\\%] 121.5\n\\item[21\\textbackslash{}\\%] 121.95\n\\item[22\\textbackslash{}\\%] 122.4\n\\item[23\\textbackslash{}\\%] 122.85\n\\item[24\\textbackslash{}\\%] 123.3\n\\item[25\\textbackslash{}\\%] 123.75\n\\item[26\\textbackslash{}\\%] 124.2\n\\item[27\\textbackslash{}\\%] 124.65\n\\item[28\\textbackslash{}\\%] 125.1\n\\item[29\\textbackslash{}\\%] 125.55\n\\item[30\\textbackslash{}\\%] 126\n\\item[31\\textbackslash{}\\%] 126.45\n\\item[32\\textbackslash{}\\%] 126.9\n\\item[33\\textbackslash{}\\%] 127.35\n\\item[34\\textbackslash{}\\%] 127.8\n\\item[35\\textbackslash{}\\%] 128.25\n\\item[36\\textbackslash{}\\%] 128.7\n\\item[37\\textbackslash{}\\%] 129.15\n\\item[38\\textbackslash{}\\%] 129.6\n\\item[39\\textbackslash{}\\%] 130.05\n\\item[40\\textbackslash{}\\%] 130.5\n\\item[41\\textbackslash{}\\%] 130.95\n\\item[42\\textbackslash{}\\%] 131.4\n\\item[43\\textbackslash{}\\%] 131.85\n\\item[44\\textbackslash{}\\%] 132.3\n\\item[45\\textbackslash{}\\%] 132.75\n\\item[46\\textbackslash{}\\%] 133.2\n\\item[47\\textbackslash{}\\%] 133.65\n\\item[48\\textbackslash{}\\%] 134.1\n\\item[49\\textbackslash{}\\%] 134.55\n\\item[50\\textbackslash{}\\%] 135\n\\item[51\\textbackslash{}\\%] 135.6\n\\item[52\\textbackslash{}\\%] 136.2\n\\item[53\\textbackslash{}\\%] 136.8\n\\item[54\\textbackslash{}\\%] 137.4\n\\item[55\\textbackslash{}\\%] 138\n\\item[56\\textbackslash{}\\%] 138.6\n\\item[57\\textbackslash{}\\%] 139.15\n\\item[58\\textbackslash{}\\%] 139.6\n\\item[59\\textbackslash{}\\%] 140.05\n\\item[60\\textbackslash{}\\%] 140.5\n\\item[61\\textbackslash{}\\%] 140.95\n\\item[62\\textbackslash{}\\%] 141.4\n\\item[63\\textbackslash{}\\%] 141.85\n\\item[64\\textbackslash{}\\%] 142.4\n\\item[65\\textbackslash{}\\%] 143\n\\item[66\\textbackslash{}\\%] 143.6\n\\item[67\\textbackslash{}\\%] 144.2\n\\item[68\\textbackslash{}\\%] 144.8\n\\item[69\\textbackslash{}\\%] 145.4\n\\item[70\\textbackslash{}\\%] 146\n\\item[71\\textbackslash{}\\%] 146.6\n\\item[72\\textbackslash{}\\%] 147.2\n\\item[73\\textbackslash{}\\%] 147.8\n\\item[74\\textbackslash{}\\%] 148.4\n\\item[75\\textbackslash{}\\%] 149\n\\item[76\\textbackslash{}\\%] 149.6\n\\item[77\\textbackslash{}\\%] 150.2\n\\item[78\\textbackslash{}\\%] 150.8\n\\item[79\\textbackslash{}\\%] 151.4\n\\item[80\\textbackslash{}\\%] 152\n\\item[81\\textbackslash{}\\%] 152.6\n\\item[82\\textbackslash{}\\%] 153.2\n\\item[83\\textbackslash{}\\%] 153.8\n\\item[84\\textbackslash{}\\%] 154.5\n\\item[85\\textbackslash{}\\%] 155.25\n\\item[86\\textbackslash{}\\%] 156\n\\item[87\\textbackslash{}\\%] 156.75\n\\item[88\\textbackslash{}\\%] 157.5\n\\item[89\\textbackslash{}\\%] 158.25\n\\item[90\\textbackslash{}\\%] 159\n\\item[91\\textbackslash{}\\%] 159.75\n\\item[92\\textbackslash{}\\%] 160.5\n\\item[93\\textbackslash{}\\%] 161.25\n\\item[94\\textbackslash{}\\%] 162\n\\item[95\\textbackslash{}\\%] 162.75\n\\item[96\\textbackslash{}\\%] 163.5\n\\item[97\\textbackslash{}\\%] 164\n\\item[98\\textbackslash{}\\%] 164\n\\item[99\\textbackslash{}\\%] 164\n\\item[100\\textbackslash{}\\%] 164\n\\end{description*}\n",
            "text/markdown": "0%\n:   1151%\n:   1152%\n:   1153%\n:   1154%\n:   115.25%\n:   115.56%\n:   115.87%\n:   116.18%\n:   116.49%\n:   116.710%\n:   11711%\n:   117.4512%\n:   117.913%\n:   118.3514%\n:   118.815%\n:   119.2516%\n:   119.717%\n:   120.1518%\n:   120.619%\n:   121.0520%\n:   121.521%\n:   121.9522%\n:   122.423%\n:   122.8524%\n:   123.325%\n:   123.7526%\n:   124.227%\n:   124.6528%\n:   125.129%\n:   125.5530%\n:   12631%\n:   126.4532%\n:   126.933%\n:   127.3534%\n:   127.835%\n:   128.2536%\n:   128.737%\n:   129.1538%\n:   129.639%\n:   130.0540%\n:   130.541%\n:   130.9542%\n:   131.443%\n:   131.8544%\n:   132.345%\n:   132.7546%\n:   133.247%\n:   133.6548%\n:   134.149%\n:   134.5550%\n:   13551%\n:   135.652%\n:   136.253%\n:   136.854%\n:   137.455%\n:   13856%\n:   138.657%\n:   139.1558%\n:   139.659%\n:   140.0560%\n:   140.561%\n:   140.9562%\n:   141.463%\n:   141.8564%\n:   142.465%\n:   14366%\n:   143.667%\n:   144.268%\n:   144.869%\n:   145.470%\n:   14671%\n:   146.672%\n:   147.273%\n:   147.874%\n:   148.475%\n:   14976%\n:   149.677%\n:   150.278%\n:   150.879%\n:   151.480%\n:   15281%\n:   152.682%\n:   153.283%\n:   153.884%\n:   154.585%\n:   155.2586%\n:   15687%\n:   156.7588%\n:   157.589%\n:   158.2590%\n:   15991%\n:   159.7592%\n:   160.593%\n:   161.2594%\n:   16295%\n:   162.7596%\n:   163.597%\n:   16498%\n:   16499%\n:   164100%\n:   164\n\n",
            "text/html": [
              "<style>\n",
              ".dl-inline {width: auto; margin:0; padding: 0}\n",
              ".dl-inline>dt, .dl-inline>dd {float: none; width: auto; display: inline-block}\n",
              ".dl-inline>dt::after {content: \":\\0020\"; padding-right: .5ex}\n",
              ".dl-inline>dt:not(:first-of-type) {padding-left: .5ex}\n",
              "</style><dl class=dl-inline><dt>0%</dt><dd>115</dd><dt>1%</dt><dd>115</dd><dt>2%</dt><dd>115</dd><dt>3%</dt><dd>115</dd><dt>4%</dt><dd>115.2</dd><dt>5%</dt><dd>115.5</dd><dt>6%</dt><dd>115.8</dd><dt>7%</dt><dd>116.1</dd><dt>8%</dt><dd>116.4</dd><dt>9%</dt><dd>116.7</dd><dt>10%</dt><dd>117</dd><dt>11%</dt><dd>117.45</dd><dt>12%</dt><dd>117.9</dd><dt>13%</dt><dd>118.35</dd><dt>14%</dt><dd>118.8</dd><dt>15%</dt><dd>119.25</dd><dt>16%</dt><dd>119.7</dd><dt>17%</dt><dd>120.15</dd><dt>18%</dt><dd>120.6</dd><dt>19%</dt><dd>121.05</dd><dt>20%</dt><dd>121.5</dd><dt>21%</dt><dd>121.95</dd><dt>22%</dt><dd>122.4</dd><dt>23%</dt><dd>122.85</dd><dt>24%</dt><dd>123.3</dd><dt>25%</dt><dd>123.75</dd><dt>26%</dt><dd>124.2</dd><dt>27%</dt><dd>124.65</dd><dt>28%</dt><dd>125.1</dd><dt>29%</dt><dd>125.55</dd><dt>30%</dt><dd>126</dd><dt>31%</dt><dd>126.45</dd><dt>32%</dt><dd>126.9</dd><dt>33%</dt><dd>127.35</dd><dt>34%</dt><dd>127.8</dd><dt>35%</dt><dd>128.25</dd><dt>36%</dt><dd>128.7</dd><dt>37%</dt><dd>129.15</dd><dt>38%</dt><dd>129.6</dd><dt>39%</dt><dd>130.05</dd><dt>40%</dt><dd>130.5</dd><dt>41%</dt><dd>130.95</dd><dt>42%</dt><dd>131.4</dd><dt>43%</dt><dd>131.85</dd><dt>44%</dt><dd>132.3</dd><dt>45%</dt><dd>132.75</dd><dt>46%</dt><dd>133.2</dd><dt>47%</dt><dd>133.65</dd><dt>48%</dt><dd>134.1</dd><dt>49%</dt><dd>134.55</dd><dt>50%</dt><dd>135</dd><dt>51%</dt><dd>135.6</dd><dt>52%</dt><dd>136.2</dd><dt>53%</dt><dd>136.8</dd><dt>54%</dt><dd>137.4</dd><dt>55%</dt><dd>138</dd><dt>56%</dt><dd>138.6</dd><dt>57%</dt><dd>139.15</dd><dt>58%</dt><dd>139.6</dd><dt>59%</dt><dd>140.05</dd><dt>60%</dt><dd>140.5</dd><dt>61%</dt><dd>140.95</dd><dt>62%</dt><dd>141.4</dd><dt>63%</dt><dd>141.85</dd><dt>64%</dt><dd>142.4</dd><dt>65%</dt><dd>143</dd><dt>66%</dt><dd>143.6</dd><dt>67%</dt><dd>144.2</dd><dt>68%</dt><dd>144.8</dd><dt>69%</dt><dd>145.4</dd><dt>70%</dt><dd>146</dd><dt>71%</dt><dd>146.6</dd><dt>72%</dt><dd>147.2</dd><dt>73%</dt><dd>147.8</dd><dt>74%</dt><dd>148.4</dd><dt>75%</dt><dd>149</dd><dt>76%</dt><dd>149.6</dd><dt>77%</dt><dd>150.2</dd><dt>78%</dt><dd>150.8</dd><dt>79%</dt><dd>151.4</dd><dt>80%</dt><dd>152</dd><dt>81%</dt><dd>152.6</dd><dt>82%</dt><dd>153.2</dd><dt>83%</dt><dd>153.8</dd><dt>84%</dt><dd>154.5</dd><dt>85%</dt><dd>155.25</dd><dt>86%</dt><dd>156</dd><dt>87%</dt><dd>156.75</dd><dt>88%</dt><dd>157.5</dd><dt>89%</dt><dd>158.25</dd><dt>90%</dt><dd>159</dd><dt>91%</dt><dd>159.75</dd><dt>92%</dt><dd>160.5</dd><dt>93%</dt><dd>161.25</dd><dt>94%</dt><dd>162</dd><dt>95%</dt><dd>162.75</dd><dt>96%</dt><dd>163.5</dd><dt>97%</dt><dd>164</dd><dt>98%</dt><dd>164</dd><dt>99%</dt><dd>164</dd><dt>100%</dt><dd>164</dd></dl>\n"
            ]
          },
          "metadata": {
            "tags": []
          }
        }
      ]
    },
    {
      "cell_type": "markdown",
      "metadata": {
        "id": "sd2p9zAqTX69",
        "colab_type": "text"
      },
      "source": [
        "**Diagrama de tallo y hoja**"
      ]
    },
    {
      "cell_type": "code",
      "metadata": {
        "id": "4LJM5lJWTZ_v",
        "colab_type": "code",
        "colab": {
          "base_uri": "https://localhost:8080/",
          "height": 153
        },
        "outputId": "4d74d227-30f1-4004-902e-1958f0ffeeed"
      },
      "source": [
        "stem(women$height)"
      ],
      "execution_count": null,
      "outputs": [
        {
          "output_type": "stream",
          "text": [
            "\n",
            "  The decimal point is 1 digit(s) to the right of the |\n",
            "\n",
            "  5 | 89\n",
            "  6 | 01234\n",
            "  6 | 56789\n",
            "  7 | 012\n",
            "\n"
          ],
          "name": "stdout"
        }
      ]
    },
    {
      "cell_type": "markdown",
      "metadata": {
        "id": "5HhAb6BpTc6v",
        "colab_type": "text"
      },
      "source": [
        "**Campana de gauss**"
      ]
    },
    {
      "cell_type": "code",
      "metadata": {
        "id": "hAIT-A_ZTgJB",
        "colab_type": "code",
        "colab": {
          "base_uri": "https://localhost:8080/",
          "height": 488
        },
        "outputId": "11ea6c52-da48-4674-d418-79bcd4b2ef8e"
      },
      "source": [
        "x <- women$height\n",
        "x\n",
        "mu <- mean(women$height)\n",
        "sigma <- sd(women$height)\n",
        "fx <- (1/sqrt(2*pi*sigma))*exp((x-mu)*(x-mu)/(-2*sigma*sigma))\n",
        "fx\n",
        "plot(x, fx, main=\"Distribucion women height\", type=\"l\")"
      ],
      "execution_count": null,
      "outputs": [
        {
          "output_type": "display_data",
          "data": {
            "text/plain": [
              " [1] 58 59 60 61 62 63 64 65 66 67 68 69 70 71 72"
            ],
            "text/latex": "\\begin{enumerate*}\n\\item 58\n\\item 59\n\\item 60\n\\item 61\n\\item 62\n\\item 63\n\\item 64\n\\item 65\n\\item 66\n\\item 67\n\\item 68\n\\item 69\n\\item 70\n\\item 71\n\\item 72\n\\end{enumerate*}\n",
            "text/markdown": "1. 58\n2. 59\n3. 60\n4. 61\n5. 62\n6. 63\n7. 64\n8. 65\n9. 66\n10. 67\n11. 68\n12. 69\n13. 70\n14. 71\n15. 72\n\n\n",
            "text/html": [
              "<style>\n",
              ".list-inline {list-style: none; margin:0; padding: 0}\n",
              ".list-inline>li {display: inline-block}\n",
              ".list-inline>li:not(:last-child)::after {content: \"\\00b7\"; padding: 0 .5ex}\n",
              "</style>\n",
              "<ol class=list-inline><li>58</li><li>59</li><li>60</li><li>61</li><li>62</li><li>63</li><li>64</li><li>65</li><li>66</li><li>67</li><li>68</li><li>69</li><li>70</li><li>71</li><li>72</li></ol>\n"
            ]
          },
          "metadata": {
            "tags": []
          }
        },
        {
          "output_type": "display_data",
          "data": {
            "text/plain": [
              " [1] 0.05541685 0.07669862 0.10097608 0.12645464 0.15063861 0.17069591\n",
              " [7] 0.18399042 0.18864816 0.18399042 0.17069591 0.15063861 0.12645464\n",
              "[13] 0.10097608 0.07669862 0.05541685"
            ],
            "text/latex": "\\begin{enumerate*}\n\\item 0.055416848795011\n\\item 0.0766986170359766\n\\item 0.100976082047788\n\\item 0.126454641340498\n\\item 0.150638613069941\n\\item 0.170695911372336\n\\item 0.183990417489048\n\\item 0.188648157083124\n\\item 0.183990417489048\n\\item 0.170695911372336\n\\item 0.150638613069941\n\\item 0.126454641340498\n\\item 0.100976082047788\n\\item 0.0766986170359766\n\\item 0.055416848795011\n\\end{enumerate*}\n",
            "text/markdown": "1. 0.055416848795011\n2. 0.0766986170359766\n3. 0.100976082047788\n4. 0.126454641340498\n5. 0.150638613069941\n6. 0.170695911372336\n7. 0.183990417489048\n8. 0.188648157083124\n9. 0.183990417489048\n10. 0.170695911372336\n11. 0.150638613069941\n12. 0.126454641340498\n13. 0.100976082047788\n14. 0.0766986170359766\n15. 0.055416848795011\n\n\n",
            "text/html": [
              "<style>\n",
              ".list-inline {list-style: none; margin:0; padding: 0}\n",
              ".list-inline>li {display: inline-block}\n",
              ".list-inline>li:not(:last-child)::after {content: \"\\00b7\"; padding: 0 .5ex}\n",
              "</style>\n",
              "<ol class=list-inline><li>0.055416848795011</li><li>0.0766986170359766</li><li>0.100976082047788</li><li>0.126454641340498</li><li>0.150638613069941</li><li>0.170695911372336</li><li>0.183990417489048</li><li>0.188648157083124</li><li>0.183990417489048</li><li>0.170695911372336</li><li>0.150638613069941</li><li>0.126454641340498</li><li>0.100976082047788</li><li>0.0766986170359766</li><li>0.055416848795011</li></ol>\n"
            ]
          },
          "metadata": {
            "tags": []
          }
        },
        {
          "output_type": "display_data",
          "data": {
            "image/png": "[encoded data removed]",
            "text/plain": [
              "Plot with title “Distribucion women height”"
            ]
          },
          "metadata": {
            "tags": [],
            "image/png": {
              "width": 420,
              "height": 420
            },
            "text/plain": {
              "width": 420,
              "height": 420
            }
          }
        }
      ]
    },
    {
      "cell_type": "markdown",
      "metadata": {
        "id": "KAQ2PkhrT8GT",
        "colab_type": "text"
      },
      "source": [
        "**Prueba de shapiro-wilk**"
      ]
    },
    {
      "cell_type": "code",
      "metadata": {
        "id": "zEWK6mFDUAyD",
        "colab_type": "code",
        "colab": {
          "base_uri": "https://localhost:8080/",
          "height": 102
        },
        "outputId": "8a87ec2c-1a80-4deb-aa38-f57e90225615"
      },
      "source": [
        "shapiro.test(rnorm(100, mean=0, sd=1))"
      ],
      "execution_count": null,
      "outputs": [
        {
          "output_type": "display_data",
          "data": {
            "text/plain": [
              "\n",
              "\tShapiro-Wilk normality test\n",
              "\n",
              "data:  rnorm(100, mean = 0, sd = 1)\n",
              "W = 0.98561, p-value = 0.3511\n"
            ]
          },
          "metadata": {
            "tags": []
          }
        }
      ]
    },
    {
      "cell_type": "markdown",
      "metadata": {
        "id": "nlp5eQnKVP61",
        "colab_type": "text"
      },
      "source": [
        "**Distribucion binomial**"
      ]
    },
    {
      "cell_type": "markdown",
      "metadata": {
        "id": "yLyrwDj9VUJ6",
        "colab_type": "text"
      },
      "source": [
        "**Numero de exitos de n ensayos**\n",
        "\n",
        "**Ejemplo: sumular el numero de mujeres que podrian esperar presentar su  trabajo en una conferencia donde 20 articulos seran presentados, el cual 40% son mujeres.**"
      ]
    },
    {
      "cell_type": "code",
      "metadata": {
        "id": "VULjLDaEVlH2",
        "colab_type": "code",
        "colab": {
          "base_uri": "https://localhost:8080/",
          "height": 1000
        },
        "outputId": "0e8b7757-6e16-4ff0-9cf7-da47faa1b096"
      },
      "source": [
        "x <- rbinom(500, 20, .4) #500 aleatorios, 20 aceptados, 40% son mujeres\n",
        "x\n",
        "summary(x) #de las mujeres acpetadas, min son 2, promedio 8, y el max 15\n",
        "hist(x, col = rainbow(length(x)))\n",
        "###########\n",
        "dbin= dbinom(1:20, size = 20, prob=.4) #de 20 papers, el .4 son aceptados\n",
        "prob.bin <- data.frame(dbin)\n",
        "prob.bin\n",
        "dbinom(8, size = 20, prob=.4)\n",
        "pbinom(8, size=20, prob=.4) #probabilidad acumulada\n",
        "sum(prob.bin$dbin[1:8]) #suma de las probabilidades, hasta el 8"
      ],
      "execution_count": null,
      "outputs": [
        {
          "output_type": "display_data",
          "data": {
            "text/plain": [
              "  [1]  5 10  9  9  7  6  6  8 10  5  7  8  5 10  8  8  5  6  4  6  5 10  6  7  8\n",
              " [26]  9  7  6 10  7  9  9  6 10  7  9  7 10  5 10 11  9 10  9 10 14  8  9  9 11\n",
              " [51]  5  9  6  9  5  6 10  9  5  9  9  7  8  8  5 10  7  7  8  9  7  8  6 13  9\n",
              " [76]  9  8  8  5  8  9  9 11  9 10  5  8  7  9  6 13  7  6  7  8  5  4  8 10  9\n",
              "[101]  8  6  8 10  9 10  8 10 11  6  8  9 10  9  7 11  6 10 11  7  9  4 10 10 10\n",
              "[126]  8  6  5  6  8  4  9  7  7  6 10  6  5  8  9  5  9 10 11  7 11  4  9  7  9\n",
              "[151] 12 10  7 10  5  6  8  8  4  9 10  8 10  6  7  8  7 10 10  5  7  6 11 10 10\n",
              "[176]  5  8  7  7  3  8  9  8  8 10  7  8  8  5  6  8  7  9  8 10  5  6 11  8  8\n",
              "[201]  7  8 10 10  7  9 10  8  8  7 11 12  7  7  5 12  5 11 10  6 11 10 10  5  9\n",
              "[226]  6 10  8 10 11  7  8  6  8 11 11  9  8  7 10  7  8  5  8  9  9 11  8  9  6\n",
              "[251]  7  8  8  6  9  8  8  6 10  8 10  9  9  8 12 10  6 11 10 12 14  7  7 14  8\n",
              "[276]  6  7  8  7  7  6  5  9  7 11  9  7  6 13  5  7 11 10  7  7  8  9  5 10  6\n",
              "[301] 11  8  9  9  6  8  4 11  7  8 11  8 12  7  7  9  6 11 10  6  7 10  5 10  9\n",
              "[326]  8  8  4  9 11  6 10  7 11  7  6  8  6 10  6  6  7  9 11  9  8  8 13  9  9\n",
              "[351] 14  7  6  7  9  6  6  8 10  8  8  3 10  9  7  7  8  9  8  6  9  6 10 10  6\n",
              "[376]  7  7  7 10 12 10  8 10  3  8  9  9  7  8 10  6  7 10 11  6  6  4 10  4 11\n",
              "[401]  9 10  6  9  3  7  8  8 11  8  6  5  9  9  7  8 11  4  7  7  7  8  9  8  8\n",
              "[426]  8  6 10  6  6  8  8  9  9  6  8  6  5  8  4  8  8  7 10  7  9  7  8  7 11\n",
              "[451]  8  7  7  5  6 12  8 10 12  8 12  7  9 10  6  3  6 11  7 12 10  4  7  6  7\n",
              "[476] 12  7  7 10  5  8  7 11  9  8  7  8  8  8  7  6  7  5  6  6  7  4  7  9  4"
            ],
            "text/latex": "\\begin{enumerate*}\n\\item 5\n\\item 10\n\\item 9\n\\item 9\n\\item 7\n\\item 6\n\\item 6\n\\item 8\n\\item 10\n\\item 5\n\\item 7\n\\item 8\n\\item 5\n\\item 10\n\\item 8\n\\item 8\n\\item 5\n\\item 6\n\\item 4\n\\item 6\n\\item 5\n\\item 10\n\\item 6\n\\item 7\n\\item 8\n\\item 9\n\\item 7\n\\item 6\n\\item 10\n\\item 7\n\\item 9\n\\item 9\n\\item 6\n\\item 10\n\\item 7\n\\item 9\n\\item 7\n\\item 10\n\\item 5\n\\item 10\n\\item 11\n\\item 9\n\\item 10\n\\item 9\n\\item 10\n\\item 14\n\\item 8\n\\item 9\n\\item 9\n\\item 11\n\\item 5\n\\item 9\n\\item 6\n\\item 9\n\\item 5\n\\item 6\n\\item 10\n\\item 9\n\\item 5\n\\item 9\n\\item 9\n\\item 7\n\\item 8\n\\item 8\n\\item 5\n\\item 10\n\\item 7\n\\item 7\n\\item 8\n\\item 9\n\\item 7\n\\item 8\n\\item 6\n\\item 13\n\\item 9\n\\item 9\n\\item 8\n\\item 8\n\\item 5\n\\item 8\n\\item 9\n\\item 9\n\\item 11\n\\item 9\n\\item 10\n\\item 5\n\\item 8\n\\item 7\n\\item 9\n\\item 6\n\\item 13\n\\item 7\n\\item 6\n\\item 7\n\\item 8\n\\item 5\n\\item 4\n\\item 8\n\\item 10\n\\item 9\n\\item 8\n\\item 6\n\\item 8\n\\item 10\n\\item 9\n\\item 10\n\\item 8\n\\item 10\n\\item 11\n\\item 6\n\\item 8\n\\item 9\n\\item 10\n\\item 9\n\\item 7\n\\item 11\n\\item 6\n\\item 10\n\\item 11\n\\item 7\n\\item 9\n\\item 4\n\\item 10\n\\item 10\n\\item 10\n\\item 8\n\\item 6\n\\item 5\n\\item 6\n\\item 8\n\\item 4\n\\item 9\n\\item 7\n\\item 7\n\\item 6\n\\item 10\n\\item 6\n\\item 5\n\\item 8\n\\item 9\n\\item 5\n\\item 9\n\\item 10\n\\item 11\n\\item 7\n\\item 11\n\\item 4\n\\item 9\n\\item 7\n\\item 9\n\\item 12\n\\item 10\n\\item 7\n\\item 10\n\\item 5\n\\item 6\n\\item 8\n\\item 8\n\\item 4\n\\item 9\n\\item 10\n\\item 8\n\\item 10\n\\item 6\n\\item 7\n\\item 8\n\\item 7\n\\item 10\n\\item 10\n\\item 5\n\\item 7\n\\item 6\n\\item 11\n\\item 10\n\\item 10\n\\item 5\n\\item 8\n\\item 7\n\\item 7\n\\item 3\n\\item 8\n\\item 9\n\\item 8\n\\item 8\n\\item 10\n\\item 7\n\\item 8\n\\item 8\n\\item 5\n\\item 6\n\\item 8\n\\item 7\n\\item 9\n\\item 8\n\\item 10\n\\item 5\n\\item 6\n\\item 11\n\\item 8\n\\item 8\n\\item ⋯\n\\item 11\n\\item 8\n\\item 9\n\\item 9\n\\item 6\n\\item 8\n\\item 4\n\\item 11\n\\item 7\n\\item 8\n\\item 11\n\\item 8\n\\item 12\n\\item 7\n\\item 7\n\\item 9\n\\item 6\n\\item 11\n\\item 10\n\\item 6\n\\item 7\n\\item 10\n\\item 5\n\\item 10\n\\item 9\n\\item 8\n\\item 8\n\\item 4\n\\item 9\n\\item 11\n\\item 6\n\\item 10\n\\item 7\n\\item 11\n\\item 7\n\\item 6\n\\item 8\n\\item 6\n\\item 10\n\\item 6\n\\item 6\n\\item 7\n\\item 9\n\\item 11\n\\item 9\n\\item 8\n\\item 8\n\\item 13\n\\item 9\n\\item 9\n\\item 14\n\\item 7\n\\item 6\n\\item 7\n\\item 9\n\\item 6\n\\item 6\n\\item 8\n\\item 10\n\\item 8\n\\item 8\n\\item 3\n\\item 10\n\\item 9\n\\item 7\n\\item 7\n\\item 8\n\\item 9\n\\item 8\n\\item 6\n\\item 9\n\\item 6\n\\item 10\n\\item 10\n\\item 6\n\\item 7\n\\item 7\n\\item 7\n\\item 10\n\\item 12\n\\item 10\n\\item 8\n\\item 10\n\\item 3\n\\item 8\n\\item 9\n\\item 9\n\\item 7\n\\item 8\n\\item 10\n\\item 6\n\\item 7\n\\item 10\n\\item 11\n\\item 6\n\\item 6\n\\item 4\n\\item 10\n\\item 4\n\\item 11\n\\item 9\n\\item 10\n\\item 6\n\\item 9\n\\item 3\n\\item 7\n\\item 8\n\\item 8\n\\item 11\n\\item 8\n\\item 6\n\\item 5\n\\item 9\n\\item 9\n\\item 7\n\\item 8\n\\item 11\n\\item 4\n\\item 7\n\\item 7\n\\item 7\n\\item 8\n\\item 9\n\\item 8\n\\item 8\n\\item 8\n\\item 6\n\\item 10\n\\item 6\n\\item 6\n\\item 8\n\\item 8\n\\item 9\n\\item 9\n\\item 6\n\\item 8\n\\item 6\n\\item 5\n\\item 8\n\\item 4\n\\item 8\n\\item 8\n\\item 7\n\\item 10\n\\item 7\n\\item 9\n\\item 7\n\\item 8\n\\item 7\n\\item 11\n\\item 8\n\\item 7\n\\item 7\n\\item 5\n\\item 6\n\\item 12\n\\item 8\n\\item 10\n\\item 12\n\\item 8\n\\item 12\n\\item 7\n\\item 9\n\\item 10\n\\item 6\n\\item 3\n\\item 6\n\\item 11\n\\item 7\n\\item 12\n\\item 10\n\\item 4\n\\item 7\n\\item 6\n\\item 7\n\\item 12\n\\item 7\n\\item 7\n\\item 10\n\\item 5\n\\item 8\n\\item 7\n\\item 11\n\\item 9\n\\item 8\n\\item 7\n\\item 8\n\\item 8\n\\item 8\n\\item 7\n\\item 6\n\\item 7\n\\item 5\n\\item 6\n\\item 6\n\\item 7\n\\item 4\n\\item 7\n\\item 9\n\\item 4\n\\end{enumerate*}\n",
            "text/markdown": "1. 5\n2. 10\n3. 9\n4. 9\n5. 7\n6. 6\n7. 6\n8. 8\n9. 10\n10. 5\n11. 7\n12. 8\n13. 5\n14. 10\n15. 8\n16. 8\n17. 5\n18. 6\n19. 4\n20. 6\n21. 5\n22. 10\n23. 6\n24. 7\n25. 8\n26. 9\n27. 7\n28. 6\n29. 10\n30. 7\n31. 9\n32. 9\n33. 6\n34. 10\n35. 7\n36. 9\n37. 7\n38. 10\n39. 5\n40. 10\n41. 11\n42. 9\n43. 10\n44. 9\n45. 10\n46. 14\n47. 8\n48. 9\n49. 9\n50. 11\n51. 5\n52. 9\n53. 6\n54. 9\n55. 5\n56. 6\n57. 10\n58. 9\n59. 5\n60. 9\n61. 9\n62. 7\n63. 8\n64. 8\n65. 5\n66. 10\n67. 7\n68. 7\n69. 8\n70. 9\n71. 7\n72. 8\n73. 6\n74. 13\n75. 9\n76. 9\n77. 8\n78. 8\n79. 5\n80. 8\n81. 9\n82. 9\n83. 11\n84. 9\n85. 10\n86. 5\n87. 8\n88. 7\n89. 9\n90. 6\n91. 13\n92. 7\n93. 6\n94. 7\n95. 8\n96. 5\n97. 4\n98. 8\n99. 10\n100. 9\n101. 8\n102. 6\n103. 8\n104. 10\n105. 9\n106. 10\n107. 8\n108. 10\n109. 11\n110. 6\n111. 8\n112. 9\n113. 10\n114. 9\n115. 7\n116. 11\n117. 6\n118. 10\n119. 11\n120. 7\n121. 9\n122. 4\n123. 10\n124. 10\n125. 10\n126. 8\n127. 6\n128. 5\n129. 6\n130. 8\n131. 4\n132. 9\n133. 7\n134. 7\n135. 6\n136. 10\n137. 6\n138. 5\n139. 8\n140. 9\n141. 5\n142. 9\n143. 10\n144. 11\n145. 7\n146. 11\n147. 4\n148. 9\n149. 7\n150. 9\n151. 12\n152. 10\n153. 7\n154. 10\n155. 5\n156. 6\n157. 8\n158. 8\n159. 4\n160. 9\n161. 10\n162. 8\n163. 10\n164. 6\n165. 7\n166. 8\n167. 7\n168. 10\n169. 10\n170. 5\n171. 7\n172. 6\n173. 11\n174. 10\n175. 10\n176. 5\n177. 8\n178. 7\n179. 7\n180. 3\n181. 8\n182. 9\n183. 8\n184. 8\n185. 10\n186. 7\n187. 8\n188. 8\n189. 5\n190. 6\n191. 8\n192. 7\n193. 9\n194. 8\n195. 10\n196. 5\n197. 6\n198. 11\n199. 8\n200. 8\n201. ⋯\n202. 11\n203. 8\n204. 9\n205. 9\n206. 6\n207. 8\n208. 4\n209. 11\n210. 7\n211. 8\n212. 11\n213. 8\n214. 12\n215. 7\n216. 7\n217. 9\n218. 6\n219. 11\n220. 10\n221. 6\n222. 7\n223. 10\n224. 5\n225. 10\n226. 9\n227. 8\n228. 8\n229. 4\n230. 9\n231. 11\n232. 6\n233. 10\n234. 7\n235. 11\n236. 7\n237. 6\n238. 8\n239. 6\n240. 10\n241. 6\n242. 6\n243. 7\n244. 9\n245. 11\n246. 9\n247. 8\n248. 8\n249. 13\n250. 9\n251. 9\n252. 14\n253. 7\n254. 6\n255. 7\n256. 9\n257. 6\n258. 6\n259. 8\n260. 10\n261. 8\n262. 8\n263. 3\n264. 10\n265. 9\n266. 7\n267. 7\n268. 8\n269. 9\n270. 8\n271. 6\n272. 9\n273. 6\n274. 10\n275. 10\n276. 6\n277. 7\n278. 7\n279. 7\n280. 10\n281. 12\n282. 10\n283. 8\n284. 10\n285. 3\n286. 8\n287. 9\n288. 9\n289. 7\n290. 8\n291. 10\n292. 6\n293. 7\n294. 10\n295. 11\n296. 6\n297. 6\n298. 4\n299. 10\n300. 4\n301. 11\n302. 9\n303. 10\n304. 6\n305. 9\n306. 3\n307. 7\n308. 8\n309. 8\n310. 11\n311. 8\n312. 6\n313. 5\n314. 9\n315. 9\n316. 7\n317. 8\n318. 11\n319. 4\n320. 7\n321. 7\n322. 7\n323. 8\n324. 9\n325. 8\n326. 8\n327. 8\n328. 6\n329. 10\n330. 6\n331. 6\n332. 8\n333. 8\n334. 9\n335. 9\n336. 6\n337. 8\n338. 6\n339. 5\n340. 8\n341. 4\n342. 8\n343. 8\n344. 7\n345. 10\n346. 7\n347. 9\n348. 7\n349. 8\n350. 7\n351. 11\n352. 8\n353. 7\n354. 7\n355. 5\n356. 6\n357. 12\n358. 8\n359. 10\n360. 12\n361. 8\n362. 12\n363. 7\n364. 9\n365. 10\n366. 6\n367. 3\n368. 6\n369. 11\n370. 7\n371. 12\n372. 10\n373. 4\n374. 7\n375. 6\n376. 7\n377. 12\n378. 7\n379. 7\n380. 10\n381. 5\n382. 8\n383. 7\n384. 11\n385. 9\n386. 8\n387. 7\n388. 8\n389. 8\n390. 8\n391. 7\n392. 6\n393. 7\n394. 5\n395. 6\n396. 6\n397. 7\n398. 4\n399. 7\n400. 9\n401. 4\n\n\n",
            "text/html": [
              "<style>\n",
              ".list-inline {list-style: none; margin:0; padding: 0}\n",
              ".list-inline>li {display: inline-block}\n",
              ".list-inline>li:not(:last-child)::after {content: \"\\00b7\"; padding: 0 .5ex}\n",
              "</style>\n",
              "<ol class=list-inline><li>5</li><li>10</li><li>9</li><li>9</li><li>7</li><li>6</li><li>6</li><li>8</li><li>10</li><li>5</li><li>7</li><li>8</li><li>5</li><li>10</li><li>8</li><li>8</li><li>5</li><li>6</li><li>4</li><li>6</li><li>5</li><li>10</li><li>6</li><li>7</li><li>8</li><li>9</li><li>7</li><li>6</li><li>10</li><li>7</li><li>9</li><li>9</li><li>6</li><li>10</li><li>7</li><li>9</li><li>7</li><li>10</li><li>5</li><li>10</li><li>11</li><li>9</li><li>10</li><li>9</li><li>10</li><li>14</li><li>8</li><li>9</li><li>9</li><li>11</li><li>5</li><li>9</li><li>6</li><li>9</li><li>5</li><li>6</li><li>10</li><li>9</li><li>5</li><li>9</li><li>9</li><li>7</li><li>8</li><li>8</li><li>5</li><li>10</li><li>7</li><li>7</li><li>8</li><li>9</li><li>7</li><li>8</li><li>6</li><li>13</li><li>9</li><li>9</li><li>8</li><li>8</li><li>5</li><li>8</li><li>9</li><li>9</li><li>11</li><li>9</li><li>10</li><li>5</li><li>8</li><li>7</li><li>9</li><li>6</li><li>13</li><li>7</li><li>6</li><li>7</li><li>8</li><li>5</li><li>4</li><li>8</li><li>10</li><li>9</li><li>8</li><li>6</li><li>8</li><li>10</li><li>9</li><li>10</li><li>8</li><li>10</li><li>11</li><li>6</li><li>8</li><li>9</li><li>10</li><li>9</li><li>7</li><li>11</li><li>6</li><li>10</li><li>11</li><li>7</li><li>9</li><li>4</li><li>10</li><li>10</li><li>10</li><li>8</li><li>6</li><li>5</li><li>6</li><li>8</li><li>4</li><li>9</li><li>7</li><li>7</li><li>6</li><li>10</li><li>6</li><li>5</li><li>8</li><li>9</li><li>5</li><li>9</li><li>10</li><li>11</li><li>7</li><li>11</li><li>4</li><li>9</li><li>7</li><li>9</li><li>12</li><li>10</li><li>7</li><li>10</li><li>5</li><li>6</li><li>8</li><li>8</li><li>4</li><li>9</li><li>10</li><li>8</li><li>10</li><li>6</li><li>7</li><li>8</li><li>7</li><li>10</li><li>10</li><li>5</li><li>7</li><li>6</li><li>11</li><li>10</li><li>10</li><li>5</li><li>8</li><li>7</li><li>7</li><li>3</li><li>8</li><li>9</li><li>8</li><li>8</li><li>10</li><li>7</li><li>8</li><li>8</li><li>5</li><li>6</li><li>8</li><li>7</li><li>9</li><li>8</li><li>10</li><li>5</li><li>6</li><li>11</li><li>8</li><li>8</li><li>⋯</li><li>11</li><li>8</li><li>9</li><li>9</li><li>6</li><li>8</li><li>4</li><li>11</li><li>7</li><li>8</li><li>11</li><li>8</li><li>12</li><li>7</li><li>7</li><li>9</li><li>6</li><li>11</li><li>10</li><li>6</li><li>7</li><li>10</li><li>5</li><li>10</li><li>9</li><li>8</li><li>8</li><li>4</li><li>9</li><li>11</li><li>6</li><li>10</li><li>7</li><li>11</li><li>7</li><li>6</li><li>8</li><li>6</li><li>10</li><li>6</li><li>6</li><li>7</li><li>9</li><li>11</li><li>9</li><li>8</li><li>8</li><li>13</li><li>9</li><li>9</li><li>14</li><li>7</li><li>6</li><li>7</li><li>9</li><li>6</li><li>6</li><li>8</li><li>10</li><li>8</li><li>8</li><li>3</li><li>10</li><li>9</li><li>7</li><li>7</li><li>8</li><li>9</li><li>8</li><li>6</li><li>9</li><li>6</li><li>10</li><li>10</li><li>6</li><li>7</li><li>7</li><li>7</li><li>10</li><li>12</li><li>10</li><li>8</li><li>10</li><li>3</li><li>8</li><li>9</li><li>9</li><li>7</li><li>8</li><li>10</li><li>6</li><li>7</li><li>10</li><li>11</li><li>6</li><li>6</li><li>4</li><li>10</li><li>4</li><li>11</li><li>9</li><li>10</li><li>6</li><li>9</li><li>3</li><li>7</li><li>8</li><li>8</li><li>11</li><li>8</li><li>6</li><li>5</li><li>9</li><li>9</li><li>7</li><li>8</li><li>11</li><li>4</li><li>7</li><li>7</li><li>7</li><li>8</li><li>9</li><li>8</li><li>8</li><li>8</li><li>6</li><li>10</li><li>6</li><li>6</li><li>8</li><li>8</li><li>9</li><li>9</li><li>6</li><li>8</li><li>6</li><li>5</li><li>8</li><li>4</li><li>8</li><li>8</li><li>7</li><li>10</li><li>7</li><li>9</li><li>7</li><li>8</li><li>7</li><li>11</li><li>8</li><li>7</li><li>7</li><li>5</li><li>6</li><li>12</li><li>8</li><li>10</li><li>12</li><li>8</li><li>12</li><li>7</li><li>9</li><li>10</li><li>6</li><li>3</li><li>6</li><li>11</li><li>7</li><li>12</li><li>10</li><li>4</li><li>7</li><li>6</li><li>7</li><li>12</li><li>7</li><li>7</li><li>10</li><li>5</li><li>8</li><li>7</li><li>11</li><li>9</li><li>8</li><li>7</li><li>8</li><li>8</li><li>8</li><li>7</li><li>6</li><li>7</li><li>5</li><li>6</li><li>6</li><li>7</li><li>4</li><li>7</li><li>9</li><li>4</li></ol>\n"
            ]
          },
          "metadata": {
            "tags": []
          }
        },
        {
          "output_type": "display_data",
          "data": {
            "text/plain": [
              "   Min. 1st Qu.  Median    Mean 3rd Qu.    Max. \n",
              "  3.000   7.000   8.000   8.008   9.250  14.000 "
            ]
          },
          "metadata": {
            "tags": []
          }
        },
        {
          "output_type": "display_data",
          "data": {
            "text/plain": [
              "   dbin        \n",
              "1  4.874878e-04\n",
              "2  3.087423e-03\n",
              "3  1.234969e-02\n",
              "4  3.499079e-02\n",
              "5  7.464702e-02\n",
              "6  1.244117e-01\n",
              "7  1.658823e-01\n",
              "8  1.797058e-01\n",
              "9  1.597385e-01\n",
              "10 1.171416e-01\n",
              "11 7.099488e-02\n",
              "12 3.549744e-02\n",
              "13 1.456305e-02\n",
              "14 4.854351e-03\n",
              "15 1.294494e-03\n",
              "16 2.696862e-04\n",
              "17 4.230371e-05\n",
              "18 4.700412e-06\n",
              "19 3.298535e-07\n",
              "20 1.099512e-08"
            ],
            "text/latex": "A data.frame: 20 × 1\n\\begin{tabular}{l}\n dbin\\\\\n <dbl>\\\\\n\\hline\n\t 4.874878e-04\\\\\n\t 3.087423e-03\\\\\n\t 1.234969e-02\\\\\n\t 3.499079e-02\\\\\n\t 7.464702e-02\\\\\n\t 1.244117e-01\\\\\n\t 1.658823e-01\\\\\n\t 1.797058e-01\\\\\n\t 1.597385e-01\\\\\n\t 1.171416e-01\\\\\n\t 7.099488e-02\\\\\n\t 3.549744e-02\\\\\n\t 1.456305e-02\\\\\n\t 4.854351e-03\\\\\n\t 1.294494e-03\\\\\n\t 2.696862e-04\\\\\n\t 4.230371e-05\\\\\n\t 4.700412e-06\\\\\n\t 3.298535e-07\\\\\n\t 1.099512e-08\\\\\n\\end{tabular}\n",
            "text/markdown": "\nA data.frame: 20 × 1\n\n| dbin &lt;dbl&gt; |\n|---|\n| 4.874878e-04 |\n| 3.087423e-03 |\n| 1.234969e-02 |\n| 3.499079e-02 |\n| 7.464702e-02 |\n| 1.244117e-01 |\n| 1.658823e-01 |\n| 1.797058e-01 |\n| 1.597385e-01 |\n| 1.171416e-01 |\n| 7.099488e-02 |\n| 3.549744e-02 |\n| 1.456305e-02 |\n| 4.854351e-03 |\n| 1.294494e-03 |\n| 2.696862e-04 |\n| 4.230371e-05 |\n| 4.700412e-06 |\n| 3.298535e-07 |\n| 1.099512e-08 |\n\n",
            "text/html": [
              "<table>\n",
              "<caption>A data.frame: 20 × 1</caption>\n",
              "<thead>\n",
              "\t<tr><th scope=col>dbin</th></tr>\n",
              "\t<tr><th scope=col>&lt;dbl&gt;</th></tr>\n",
              "</thead>\n",
              "<tbody>\n",
              "\t<tr><td>4.874878e-04</td></tr>\n",
              "\t<tr><td>3.087423e-03</td></tr>\n",
              "\t<tr><td>1.234969e-02</td></tr>\n",
              "\t<tr><td>3.499079e-02</td></tr>\n",
              "\t<tr><td>7.464702e-02</td></tr>\n",
              "\t<tr><td>1.244117e-01</td></tr>\n",
              "\t<tr><td>1.658823e-01</td></tr>\n",
              "\t<tr><td>1.797058e-01</td></tr>\n",
              "\t<tr><td>1.597385e-01</td></tr>\n",
              "\t<tr><td>1.171416e-01</td></tr>\n",
              "\t<tr><td>7.099488e-02</td></tr>\n",
              "\t<tr><td>3.549744e-02</td></tr>\n",
              "\t<tr><td>1.456305e-02</td></tr>\n",
              "\t<tr><td>4.854351e-03</td></tr>\n",
              "\t<tr><td>1.294494e-03</td></tr>\n",
              "\t<tr><td>2.696862e-04</td></tr>\n",
              "\t<tr><td>4.230371e-05</td></tr>\n",
              "\t<tr><td>4.700412e-06</td></tr>\n",
              "\t<tr><td>3.298535e-07</td></tr>\n",
              "\t<tr><td>1.099512e-08</td></tr>\n",
              "</tbody>\n",
              "</table>\n"
            ]
          },
          "metadata": {
            "tags": []
          }
        },
        {
          "output_type": "display_data",
          "data": {
            "text/plain": [
              "[1] 0.1797058"
            ],
            "text/latex": "0.179705787754689",
            "text/markdown": "0.179705787754689",
            "text/html": [
              "0.179705787754689"
            ]
          },
          "metadata": {
            "tags": []
          }
        },
        {
          "output_type": "display_data",
          "data": {
            "text/plain": [
              "[1] 0.5955987"
            ],
            "text/latex": "0.595598725312224",
            "text/markdown": "0.595598725312224",
            "text/html": [
              "0.595598725312224"
            ]
          },
          "metadata": {
            "tags": []
          }
        },
        {
          "output_type": "display_data",
          "data": {
            "text/plain": [
              "[1] 0.5955622"
            ],
            "text/latex": "0.595562163727824",
            "text/markdown": "0.595562163727824",
            "text/html": [
              "0.595562163727824"
            ]
          },
          "metadata": {
            "tags": []
          }
        },
        {
          "output_type": "display_data",
          "data": {
            "image/png": "[encoded data removed]",
            "text/plain": [
              "Plot with title “Histogram of x”"
            ]
          },
          "metadata": {
            "tags": [],
            "image/png": {
              "width": 420,
              "height": 420
            },
            "text/plain": {
              "width": 420,
              "height": 420
            }
          }
        }
      ]
    },
    {
      "cell_type": "markdown",
      "metadata": {
        "id": "hoQb-uvkVu_j",
        "colab_type": "text"
      },
      "source": [
        "**Grafico de dispersion**"
      ]
    },
    {
      "cell_type": "code",
      "metadata": {
        "id": "_fiDrtg5V2Fk",
        "colab_type": "code",
        "colab": {
          "base_uri": "https://localhost:8080/",
          "height": 34
        },
        "outputId": "a4e2c77d-20de-424f-d484-0b3bd07131ef"
      },
      "source": [
        "EPG.tbl <- read.table('http://verso.mat.uam.es/~joser.berrendero/datos/EdadPesoGrasas.txt',header=TRUE)\n",
        "names(EPG.tbl)"
      ],
      "execution_count": null,
      "outputs": [
        {
          "output_type": "display_data",
          "data": {
            "text/plain": [
              "[1] \"peso\"   \"edad\"   \"grasas\""
            ],
            "text/latex": "\\begin{enumerate*}\n\\item 'peso'\n\\item 'edad'\n\\item 'grasas'\n\\end{enumerate*}\n",
            "text/markdown": "1. 'peso'\n2. 'edad'\n3. 'grasas'\n\n\n",
            "text/html": [
              "<style>\n",
              ".list-inline {list-style: none; margin:0; padding: 0}\n",
              ".list-inline>li {display: inline-block}\n",
              ".list-inline>li:not(:last-child)::after {content: \"\\00b7\"; padding: 0 .5ex}\n",
              "</style>\n",
              "<ol class=list-inline><li>'peso'</li><li>'edad'</li><li>'grasas'</li></ol>\n"
            ]
          },
          "metadata": {
            "tags": []
          }
        }
      ]
    },
    {
      "cell_type": "markdown",
      "metadata": {
        "id": "SFX3DPu6V7E5",
        "colab_type": "text"
      },
      "source": [
        "**Correlacion**"
      ]
    },
    {
      "cell_type": "code",
      "metadata": {
        "id": "XfDkMDHcV_Vq",
        "colab_type": "code",
        "colab": {
          "base_uri": "https://localhost:8080/",
          "height": 437
        },
        "outputId": "c6d99cf4-17c3-48ab-dcf5-0a76c93b6ac7"
      },
      "source": [
        "pairs(EPG.tbl)"
      ],
      "execution_count": null,
      "outputs": [
        {
          "output_type": "display_data",
          "data": {
            "image/png": "[encoded data removed]",
            "text/plain": [
              "plot without title"
            ]
          },
          "metadata": {
            "tags": [],
            "image/png": {
              "width": 420,
              "height": 420
            },
            "text/plain": {
              "width": 420,
              "height": 420
            }
          }
        }
      ]
    },
    {
      "cell_type": "markdown",
      "metadata": {
        "id": "P9t0zJaOWJzj",
        "colab_type": "text"
      },
      "source": [
        "**Matriz correlacion**\n",
        "\n",
        "**Coeficientes de correlacion**"
      ]
    },
    {
      "cell_type": "code",
      "metadata": {
        "id": "JLE3paIhWSLF",
        "colab_type": "code",
        "colab": {
          "base_uri": "https://localhost:8080/",
          "height": 137
        },
        "outputId": "36c5d06a-fa87-4a95-bbf8-296fc791b8c5"
      },
      "source": [
        "cor(EPG.tbl) \n",
        "cor(EPG.tbl$edad, EPG.tbl$grasas)"
      ],
      "execution_count": null,
      "outputs": [
        {
          "output_type": "display_data",
          "data": {
            "text/plain": [
              "       peso      edad      grasas   \n",
              "peso   1.0000000 0.2400133 0.2652935\n",
              "edad   0.2400133 1.0000000 0.8373534\n",
              "grasas 0.2652935 0.8373534 1.0000000"
            ],
            "text/latex": "A matrix: 3 × 3 of type dbl\n\\begin{tabular}{r|lll}\n  & peso & edad & grasas\\\\\n\\hline\n\tpeso & 1.0000000 & 0.2400133 & 0.2652935\\\\\n\tedad & 0.2400133 & 1.0000000 & 0.8373534\\\\\n\tgrasas & 0.2652935 & 0.8373534 & 1.0000000\\\\\n\\end{tabular}\n",
            "text/markdown": "\nA matrix: 3 × 3 of type dbl\n\n| <!--/--> | peso | edad | grasas |\n|---|---|---|---|\n| peso | 1.0000000 | 0.2400133 | 0.2652935 |\n| edad | 0.2400133 | 1.0000000 | 0.8373534 |\n| grasas | 0.2652935 | 0.8373534 | 1.0000000 |\n\n",
            "text/html": [
              "<table>\n",
              "<caption>A matrix: 3 × 3 of type dbl</caption>\n",
              "<thead>\n",
              "\t<tr><th></th><th scope=col>peso</th><th scope=col>edad</th><th scope=col>grasas</th></tr>\n",
              "</thead>\n",
              "<tbody>\n",
              "\t<tr><th scope=row>peso</th><td>1.0000000</td><td>0.2400133</td><td>0.2652935</td></tr>\n",
              "\t<tr><th scope=row>edad</th><td>0.2400133</td><td>1.0000000</td><td>0.8373534</td></tr>\n",
              "\t<tr><th scope=row>grasas</th><td>0.2652935</td><td>0.8373534</td><td>1.0000000</td></tr>\n",
              "</tbody>\n",
              "</table>\n"
            ]
          },
          "metadata": {
            "tags": []
          }
        },
        {
          "output_type": "display_data",
          "data": {
            "text/plain": [
              "[1] 0.8373534"
            ],
            "text/latex": "0.83735338432278",
            "text/markdown": "0.83735338432278",
            "text/html": [
              "0.83735338432278"
            ]
          },
          "metadata": {
            "tags": []
          }
        }
      ]
    },
    {
      "cell_type": "markdown",
      "metadata": {
        "id": "JcebWgaoWZ1c",
        "colab_type": "text"
      },
      "source": [
        "**Modelo de regresion lineal**"
      ]
    },
    {
      "cell_type": "code",
      "metadata": {
        "id": "lbIoiPs-WdEl",
        "colab_type": "code",
        "colab": {
          "base_uri": "https://localhost:8080/",
          "height": 34
        },
        "outputId": "aa0a228c-821b-4a38-9a01-c422a1c6f58d"
      },
      "source": [
        "dev.off()\n",
        "plot(EPG.tbl$edad, EPG.tbl$grasas, xlab = \"edad\", ylab=\"grasas\")\n",
        "abline(lm(grasas~edad, data=EPG.tbl)) #y=5.321x + 102.575"
      ],
      "execution_count": null,
      "outputs": [
        {
          "output_type": "display_data",
          "data": {
            "text/plain": [
              "null device \n",
              "          1 "
            ],
            "text/latex": "\\textbf{null device:} 1",
            "text/markdown": "**null device:** 1",
            "text/html": [
              "<strong>null device:</strong> 1"
            ]
          },
          "metadata": {
            "tags": []
          }
        }
      ]
    },
    {
      "cell_type": "markdown",
      "metadata": {
        "id": "BEqAcMJEW10c",
        "colab_type": "text"
      },
      "source": [
        "#**Importar archivos y graficar**"
      ]
    },
    {
      "cell_type": "markdown",
      "metadata": {
        "id": "giky7Z4sXCPt",
        "colab_type": "text"
      },
      "source": [
        "**Plot**\n",
        "\n",
        "**Para la funcion plot necesitamos un vector x y un vector y**\n",
        "\n",
        "**Agregar rug a la grafica, el argumento ticksize es personalizable** "
      ]
    },
    {
      "cell_type": "code",
      "metadata": {
        "id": "3EaQ9z2jY7SZ",
        "colab_type": "code",
        "colab": {
          "base_uri": "https://localhost:8080/",
          "height": 437
        },
        "outputId": "59fef8fb-cbd6-4191-e04d-9312086ed951"
      },
      "source": [
        "x <- rnorm(100) #vector x\n",
        "y <- rnorm(100)\n",
        "plot(x,y)\n",
        "rug(x, ticksize = .5)"
      ],
      "execution_count": null,
      "outputs": [
        {
          "output_type": "display_data",
          "data": {
            "image/png": "[encoded data removed]",
            "text/plain": [
              "plot without title"
            ]
          },
          "metadata": {
            "tags": [],
            "image/png": {
              "width": 420,
              "height": 420
            },
            "text/plain": {
              "width": 420,
              "height": 420
            }
          }
        }
      ]
    },
    {
      "cell_type": "markdown",
      "metadata": {
        "id": "gaJZsTwlZ3Er",
        "colab_type": "text"
      },
      "source": [
        "**Plot nos permite personalizar la grafica con los parametros dados, puedes checar todos estos argumentos en la documentacion**"
      ]
    },
    {
      "cell_type": "code",
      "metadata": {
        "id": "uhtHCVc4aHTJ",
        "colab_type": "code",
        "colab": {
          "base_uri": "https://localhost:8080/",
          "height": 282
        },
        "outputId": "91da2578-3882-48f2-e2ab-8c72826ec2de"
      },
      "source": [
        "plot(x,\n",
        "       type=\"b\", \n",
        "       main=\"Titulo\", \n",
        "       sub=\"subtitulo\", \n",
        "       col = c(\"blue\"),\n",
        "       xlab= \"x label\",\n",
        "       ylab = \"y label\",\n",
        "       frame.plot = FALSE, #quita el marco\n",
        "       grid(8,8), #cuadricula\n",
        "       axes = FALSE #esconder los ejes\n",
        "  )"
      ],
      "execution_count": null,
      "outputs": [
        {
          "output_type": "error",
          "ename": "ERROR",
          "evalue": "ignored",
          "traceback": [
            "Error in int_abline(a = a, b = b, h = h, v = v, untf = untf, ...): plot.new has not been called yet\nTraceback:\n",
            "1. plot(x, type = \"b\", main = \"Titulo\", sub = \"subtitulo\", col = c(\"blue\"), \n .     xlab = \"x label\", ylab = \"y label\", frame.plot = FALSE, grid(8, \n .         8), axes = FALSE)",
            "2. plot.default(x, type = \"b\", main = \"Titulo\", sub = \"subtitulo\", \n .     col = c(\"blue\"), xlab = \"x label\", ylab = \"y label\", frame.plot = FALSE, \n .     grid(8, 8), axes = FALSE)",
            "3. xy.coords(x, y, xlabel, ylabel, log)",
            "4. grid(8, 8)",
            "5. abline(v = at, col = col, lty = lty, lwd = lwd)",
            "6. int_abline(a = a, b = b, h = h, v = v, untf = untf, ...)"
          ]
        }
      ]
    },
    {
      "cell_type": "markdown",
      "metadata": {
        "id": "_VgAoIVkaLEc",
        "colab_type": "text"
      },
      "source": [
        "**Parabola**"
      ]
    },
    {
      "cell_type": "code",
      "metadata": {
        "id": "tsDYPDlaaOsl",
        "colab_type": "code",
        "colab": {
          "base_uri": "https://localhost:8080/",
          "height": 437
        },
        "outputId": "63b0d708-21c7-4e65-f04f-b7b58fb85a1f"
      },
      "source": [
        "plot(1:11, \n",
        "       (-5:5)^2, \n",
        "       main = \"parabola\", \n",
        "       xlab = \"xlab\", \n",
        "       type=\"l\")\n",
        "  mtext(\"margen3 renglon\", side = 3, line=1)"
      ],
      "execution_count": null,
      "outputs": [
        {
          "output_type": "display_data",
          "data": {
            "image/png": "[encoded data removed]",
            "text/plain": [
              "Plot with title “parabola”"
            ]
          },
          "metadata": {
            "tags": [],
            "image/png": {
              "width": 420,
              "height": 420
            },
            "text/plain": {
              "width": 420,
              "height": 420
            }
          }
        }
      ]
    },
    {
      "cell_type": "markdown",
      "metadata": {
        "id": "3s-HOON7aToN",
        "colab_type": "text"
      },
      "source": [
        "**Metodo points**"
      ]
    },
    {
      "cell_type": "code",
      "metadata": {
        "id": "xZBkrqW-aWe3",
        "colab_type": "code",
        "colab": {
          "base_uri": "https://localhost:8080/",
          "height": 437
        },
        "outputId": "e8dc75c5-8f97-437b-bbe1-7aa5cc1450df"
      },
      "source": [
        "plot(-4:4, -4:4, type = \"n\")\n",
        "points(rnorm(200), rnorm(200), col=\"red\")\n",
        "title(\"Puntitos aleatorios\")"
      ],
      "execution_count": null,
      "outputs": [
        {
          "output_type": "display_data",
          "data": {
            "image/png": "[encoded data removed]",
            "text/plain": [
              "Plot with title “Puntitos aleatorios”"
            ]
          },
          "metadata": {
            "tags": [],
            "image/png": {
              "width": 420,
              "height": 420
            },
            "text/plain": {
              "width": 420,
              "height": 420
            }
          }
        }
      ]
    },
    {
      "cell_type": "markdown",
      "metadata": {
        "id": "VIafS93Saaa6",
        "colab_type": "text"
      },
      "source": [
        "**Graficar trigonometria**\n",
        "\n",
        "**Definimos un vector, en este caso de 10 puntos**"
      ]
    },
    {
      "cell_type": "code",
      "metadata": {
        "id": "XdX6bnrHay2U",
        "colab_type": "code",
        "colab": {}
      },
      "source": [
        "x <- seq(0, 2*pi, length=10)"
      ],
      "execution_count": null,
      "outputs": []
    },
    {
      "cell_type": "markdown",
      "metadata": {
        "id": "qSRsUGitaznr",
        "colab_type": "text"
      },
      "source": [
        "**Seno**"
      ]
    },
    {
      "cell_type": "code",
      "metadata": {
        "id": "p_cSG1FNa2qD",
        "colab_type": "code",
        "colab": {
          "base_uri": "https://localhost:8080/",
          "height": 437
        },
        "outputId": "a0384c31-7aad-4af0-c0be-fe7b658e99d6"
      },
      "source": [
        "plot(sin(x), main=\"sin x\", type=\"l\")"
      ],
      "execution_count": null,
      "outputs": [
        {
          "output_type": "display_data",
          "data": {
            "image/png": "[encoded data removed]",
            "text/plain": [
              "Plot with title “sin x”"
            ]
          },
          "metadata": {
            "tags": [],
            "image/png": {
              "width": 420,
              "height": 420
            },
            "text/plain": {
              "width": 420,
              "height": 420
            }
          }
        }
      ]
    },
    {
      "cell_type": "markdown",
      "metadata": {
        "id": "AEb7ZhBya2-4",
        "colab_type": "text"
      },
      "source": [
        "**Coseno**"
      ]
    },
    {
      "cell_type": "code",
      "metadata": {
        "id": "g8do1LD6a5lz",
        "colab_type": "code",
        "colab": {
          "base_uri": "https://localhost:8080/",
          "height": 437
        },
        "outputId": "e90b3035-0cf6-442e-be91-ecae8cb32045"
      },
      "source": [
        "plot(x, cos(x), main = \"coseno\")"
      ],
      "execution_count": null,
      "outputs": [
        {
          "output_type": "display_data",
          "data": {
            "image/png": "[encoded data removed]",
            "text/plain": [
              "Plot with title “coseno”"
            ]
          },
          "metadata": {
            "tags": [],
            "image/png": {
              "width": 420,
              "height": 420
            },
            "text/plain": {
              "width": 420,
              "height": 420
            }
          }
        }
      ]
    },
    {
      "cell_type": "markdown",
      "metadata": {
        "id": "ZZxhgEdVa7FN",
        "colab_type": "text"
      },
      "source": [
        "**Grafico curvas**"
      ]
    },
    {
      "cell_type": "code",
      "metadata": {
        "id": "rW_6PznUbFO1",
        "colab_type": "code",
        "colab": {
          "base_uri": "https://localhost:8080/",
          "height": 437
        },
        "outputId": "1d9d19e5-13a2-4ca7-95c4-95b7861b4c12"
      },
      "source": [
        "curve(cos, from = -2*pi,to = 2*pi, xname=\"x\", main=\"Coseno x\")"
      ],
      "execution_count": null,
      "outputs": [
        {
          "output_type": "display_data",
          "data": {
            "image/png": "[encoded data removed]",
            "text/plain": [
              "Plot with title “Coseno x”"
            ]
          },
          "metadata": {
            "tags": [],
            "image/png": {
              "width": 420,
              "height": 420
            },
            "text/plain": {
              "width": 420,
              "height": 420
            }
          }
        }
      ]
    },
    {
      "cell_type": "code",
      "metadata": {
        "id": "OfZe6QYCbG_T",
        "colab_type": "code",
        "colab": {}
      },
      "source": [
        "curve(exp, from=-2*pi, to=2*pi, xname=\"x\", main=\"Funcion exponencial\")"
      ],
      "execution_count": null,
      "outputs": []
    },
    {
      "cell_type": "markdown",
      "metadata": {
        "id": "7pBA7XvCbJFd",
        "colab_type": "text"
      },
      "source": [
        "**Graficas de barras**\n",
        "\n",
        "*Cargamos un data set para trabajar con el**"
      ]
    },
    {
      "cell_type": "code",
      "metadata": {
        "id": "xgpN5iPTbQL1",
        "colab_type": "code",
        "colab": {
          "base_uri": "https://localhost:8080/",
          "height": 454
        },
        "outputId": "68acec8c-9867-4ec0-8d7f-3f8ee388174e"
      },
      "source": [
        "data(VADeaths)\n",
        "class(VADeaths)\n",
        "barplot(VADeaths)"
      ],
      "execution_count": null,
      "outputs": [
        {
          "output_type": "display_data",
          "data": {
            "text/plain": [
              "[1] \"matrix\""
            ],
            "text/latex": "'matrix'",
            "text/markdown": "'matrix'",
            "text/html": [
              "'matrix'"
            ]
          },
          "metadata": {
            "tags": []
          }
        },
        {
          "output_type": "display_data",
          "data": {
            "image/png": "[encoded data removed]",
            "text/plain": [
              "plot without title"
            ]
          },
          "metadata": {
            "tags": [],
            "image/png": {
              "width": 420,
              "height": 420
            },
            "text/plain": {
              "width": 420,
              "height": 420
            }
          }
        }
      ]
    },
    {
      "cell_type": "markdown",
      "metadata": {
        "id": "ilNGnFIxbaww",
        "colab_type": "text"
      },
      "source": [
        "**Se pueden personalizar segun nuestras necesidades**\n",
        "\n",
        "**Incluso podemos elegir los colores creando un vector o cargando una paleta de colores, (Nota: para usar una paleta de colores tenemos que instalarla y cargarla en memoria)**"
      ]
    },
    {
      "cell_type": "code",
      "metadata": {
        "id": "sK9iYVicbf_h",
        "colab_type": "code",
        "colab": {
          "base_uri": "https://localhost:8080/",
          "height": 437
        },
        "outputId": "68f304bf-f191-47cb-f800-7bef9258841d"
      },
      "source": [
        "barplot(VADeaths, beside = T, col= c(\"red\", \"green\", \"yellow\", \"blue\", \"orange\"))"
      ],
      "execution_count": null,
      "outputs": [
        {
          "output_type": "display_data",
          "data": {
            "image/png": "[encoded data removed]",
            "text/plain": [
              "plot without title"
            ]
          },
          "metadata": {
            "tags": [],
            "image/png": {
              "width": 420,
              "height": 420
            },
            "text/plain": {
              "width": 420,
              "height": 420
            }
          }
        }
      ]
    },
    {
      "cell_type": "code",
      "metadata": {
        "id": "QTyfYo-XcwK1",
        "colab_type": "code",
        "colab": {
          "base_uri": "https://localhost:8080/",
          "height": 787
        },
        "outputId": "8dffeb6a-4202-4701-d797-3e1d1b6e5f11"
      },
      "source": [
        "install.packages(\"rainbow\")  \n",
        "library(\"rainbow\")\n",
        "barplot(VADeaths, beside = T, col= \"rainbow\")"
      ],
      "execution_count": null,
      "outputs": [
        {
          "output_type": "stream",
          "text": [
            "Installing package into ‘/usr/local/lib/R/site-library’\n",
            "(as ‘lib’ is unspecified)\n",
            "\n",
            "also installing the dependencies ‘mvtnorm’, ‘locfit’, ‘ash’, ‘FNN’, ‘kernlab’, ‘mclust’, ‘multicool’, ‘pcaPP’, ‘hdrcde’, ‘ks’\n",
            "\n",
            "\n",
            "Loading required package: MASS\n",
            "\n",
            "Loading required package: pcaPP\n",
            "\n"
          ],
          "name": "stderr"
        },
        {
          "output_type": "error",
          "ename": "ERROR",
          "evalue": "ignored",
          "traceback": [
            "Error in rect(y1, x1, y2, x2, ...): invalid color name 'rainbow'\nTraceback:\n",
            "1. barplot(VADeaths, beside = T, col = \"rainbow\")",
            "2. barplot.default(VADeaths, beside = T, col = \"rainbow\")",
            "3. xyrect(rectbase + offset, w.l, c(height) + offset, w.r, horizontal = horiz, \n .     angle = angle, density = density, col = col, border = border)",
            "4. rect(y1, x1, y2, x2, ...)"
          ]
        },
        {
          "output_type": "display_data",
          "data": {
            "image/png": "[encoded data removed]",
            "text/plain": [
              "plot without title"
            ]
          },
          "metadata": {
            "tags": [],
            "image/png": {
              "width": 420,
              "height": 420
            },
            "text/plain": {
              "width": 420,
              "height": 420
            }
          }
        }
      ]
    },
    {
      "cell_type": "markdown",
      "metadata": {
        "id": "jCc0mv8BdmtM",
        "colab_type": "text"
      },
      "source": [
        "**Grafico de pastel**\n",
        "\n",
        "**Tambien es muy personalizable, checar la documentacion**"
      ]
    },
    {
      "cell_type": "code",
      "metadata": {
        "id": "uIZr0QZHdwTJ",
        "colab_type": "code",
        "colab": {
          "base_uri": "https://localhost:8080/",
          "height": 437
        },
        "outputId": "be46ac95-607e-4185-c277-e4416af4e8d7"
      },
      "source": [
        "mes <- c(\"Enero\", \"Febrero\", \"Marzo\")\n",
        "frec <- c(8,2,5)\n",
        "pie(frec, col= rainbow(length(mes)), main=\"Grafico Cricular\", labels=mes, radius=0.8)"
      ],
      "execution_count": null,
      "outputs": [
        {
          "output_type": "display_data",
          "data": {
            "image/png": "[encoded data removed]",
            "text/plain": [
              "Plot with title “Grafico Cricular”"
            ]
          },
          "metadata": {
            "tags": [],
            "image/png": {
              "width": 420,
              "height": 420
            },
            "text/plain": {
              "width": 420,
              "height": 420
            }
          }
        }
      ]
    },
    {
      "cell_type": "markdown",
      "metadata": {
        "id": "VNl8T3d-d0z0",
        "colab_type": "text"
      },
      "source": [
        "**Histograma**"
      ]
    },
    {
      "cell_type": "code",
      "metadata": {
        "id": "lzT4beBfd6jy",
        "colab_type": "code",
        "colab": {
          "base_uri": "https://localhost:8080/",
          "height": 437
        },
        "outputId": "57ee030c-80bd-44f4-8184-ba6f0cd91cee"
      },
      "source": [
        "hist(women$height, main = \"Histograma de altura\", col = rainbow(length(women$height)))"
      ],
      "execution_count": null,
      "outputs": [
        {
          "output_type": "display_data",
          "data": {
            "image/png": "[encoded data removed]",
            "text/plain": [
              "Plot with title “Histograma de altura”"
            ]
          },
          "metadata": {
            "tags": [],
            "image/png": {
              "width": 420,
              "height": 420
            },
            "text/plain": {
              "width": 420,
              "height": 420
            }
          }
        }
      ]
    },
    {
      "cell_type": "markdown",
      "metadata": {
        "id": "W0JJNSkUd8lX",
        "colab_type": "text"
      },
      "source": [
        "**Grafico de cajas**"
      ]
    },
    {
      "cell_type": "code",
      "metadata": {
        "id": "FvynOe2sd_v1",
        "colab_type": "code",
        "colab": {
          "base_uri": "https://localhost:8080/",
          "height": 437
        },
        "outputId": "d24388a0-39c4-4f77-f4af-db272bd259ff"
      },
      "source": [
        "boxplot(women$height, main=\"Grafico de caja\", col = rainbow(length(women$height)), ylab = \"Estatura de Mujeres cm\")"
      ],
      "execution_count": null,
      "outputs": [
        {
          "output_type": "display_data",
          "data": {
            "image/png": "[encoded data removed]",
            "text/plain": [
              "Plot with title “Grafico de caja”"
            ]
          },
          "metadata": {
            "tags": [],
            "image/png": {
              "width": 420,
              "height": 420
            },
            "text/plain": {
              "width": 420,
              "height": 420
            }
          }
        }
      ]
    },
    {
      "cell_type": "markdown",
      "metadata": {
        "id": "GSXasBndeFaV",
        "colab_type": "text"
      },
      "source": [
        "**Para mas informacion sobre los graficos en R y su flexibilidad para ser personalizados usted puede ver el demo de graficos**"
      ]
    },
    {
      "cell_type": "code",
      "metadata": {
        "id": "qGpopILDeUEU",
        "colab_type": "code",
        "colab": {}
      },
      "source": [
        "demo(\"graphics\")"
      ],
      "execution_count": null,
      "outputs": []
    },
    {
      "cell_type": "code",
      "metadata": {
        "id": "vz6hs-GOehhb",
        "colab_type": "code",
        "colab": {}
      },
      "source": [
        "demo(\"lm.glm\")"
      ],
      "execution_count": null,
      "outputs": []
    }
  ]
}