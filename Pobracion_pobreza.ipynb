{
  "nbformat": 4,
  "nbformat_minor": 0,
  "metadata": {
    "colab": {
      "name": "Pobracion_pobreza.ipynb",
      "provenance": [],
      "authorship_tag": "ABX9TyME/EiogePye6WtqZtDxNw0",
      "include_colab_link": true
    },
    "kernelspec": {
      "name": "ir",
      "display_name": "R"
    }
  },
  "cells": [
    {
      "cell_type": "markdown",
      "metadata": {
        "id": "view-in-github",
        "colab_type": "text"
      },
      "source": [
        "<a href=\"https://colab.research.google.com/github/NatalyAraiza/Introduccion_estadistica_R/blob/master/Pobracion_pobreza.ipynb\" target=\"_parent\"><img src=\"https://colab.research.google.com/assets/colab-badge.svg\" alt=\"Open In Colab\"/></a>"
      ]
    },
    {
      "cell_type": "markdown",
      "metadata": {
        "id": "9JtGRyfYrSdf",
        "colab_type": "text"
      },
      "source": [
        "**Para este proyecto utilizamos el los datos de la poblacion en situacion de pobreza para aplicarlos en todos los metodos vistos durante la clase de estadistica**"
      ]
    },
    {
      "cell_type": "code",
      "metadata": {
        "id": "p5LHvr56rGw5",
        "colab_type": "code",
        "colab": {}
      },
      "source": [
        "Datos <- read.table(\"/content/sample_data/Poblacion_pobreza.CSV\", header = TRUE, sep = \",\", nrows = 33)"
      ],
      "execution_count": 12,
      "outputs": []
    },
    {
      "cell_type": "markdown",
      "metadata": {
        "id": "-omJXp7qrWJI",
        "colab_type": "text"
      },
      "source": [
        "**Total de datos**"
      ]
    },
    {
      "cell_type": "code",
      "metadata": {
        "id": "KvVzY46-rXlw",
        "colab_type": "code",
        "colab": {
          "base_uri": "https://localhost:8080/",
          "height": 34
        },
        "outputId": "1c063ef6-14a2-40e5-c66a-7c84c86addaa"
      },
      "source": [
        "n <- length(Datos$X2010)\n",
        "n"
      ],
      "execution_count": 13,
      "outputs": [
        {
          "output_type": "display_data",
          "data": {
            "text/plain": [
              "[1] 33"
            ],
            "text/latex": "33",
            "text/markdown": "33",
            "text/html": [
              "33"
            ]
          },
          "metadata": {
            "tags": []
          }
        }
      ]
    },
    {
      "cell_type": "markdown",
      "metadata": {
        "id": "oidxOhe6rbgF",
        "colab_type": "text"
      },
      "source": [
        "**Determinar el numero de clases**"
      ]
    },
    {
      "cell_type": "code",
      "metadata": {
        "id": "_MW3yNjYrc__",
        "colab_type": "code",
        "colab": {
          "base_uri": "https://localhost:8080/",
          "height": 34
        },
        "outputId": "3f91eefb-5332-49d2-c82f-435e079cf704"
      },
      "source": [
        "Numero_Clases <- sqrt(n)\n",
        "Numero_Clases"
      ],
      "execution_count": 14,
      "outputs": [
        {
          "output_type": "display_data",
          "data": {
            "text/plain": [
              "[1] 5.744563"
            ],
            "text/latex": "5.74456264653803",
            "text/markdown": "5.74456264653803",
            "text/html": [
              "5.74456264653803"
            ]
          },
          "metadata": {
            "tags": []
          }
        }
      ]
    },
    {
      "cell_type": "markdown",
      "metadata": {
        "id": "_eUFdk2Xreby",
        "colab_type": "text"
      },
      "source": [
        "**Media, mediana, moda y maximo**"
      ]
    },
    {
      "cell_type": "code",
      "metadata": {
        "id": "9GWpZDtTrfvp",
        "colab_type": "code",
        "colab": {
          "base_uri": "https://localhost:8080/",
          "height": 255
        },
        "outputId": "0961c999-137d-490d-d00b-975e84405240"
      },
      "source": [
        "Media <- mean(Datos$X2010)\n",
        "Mediana <- median(Datos$X2010)\n",
        "Moda <- table(Datos$X2010)\n",
        "max(Moda)\n",
        "Media\n",
        "Mediana\n",
        "Moda"
      ],
      "execution_count": 15,
      "outputs": [
        {
          "output_type": "display_data",
          "data": {
            "text/plain": [
              "[1] 1"
            ],
            "text/latex": "1",
            "text/markdown": "1",
            "text/html": [
              "1"
            ]
          },
          "metadata": {
            "tags": []
          }
        },
        {
          "output_type": "display_data",
          "data": {
            "text/plain": [
              "[1] 45.98312"
            ],
            "text/latex": "45.9831196969697",
            "text/markdown": "45.9831196969697",
            "text/html": [
              "45.9831196969697"
            ]
          },
          "metadata": {
            "tags": []
          }
        },
        {
          "output_type": "display_data",
          "data": {
            "text/plain": [
              "[1] 43.24224"
            ],
            "text/latex": "43.24224",
            "text/markdown": "43.24224",
            "text/html": [
              "43.24224"
            ]
          },
          "metadata": {
            "tags": []
          }
        },
        {
          "output_type": "display_data",
          "data": {
            "text/plain": [
              "\n",
              "21.01755 27.81088 28.54415 30.99469 31.52019 33.14892  34.6268 34.69284 \n",
              "       1        1        1        1        1        1        1        1 \n",
              " 36.6687 37.04973 38.13073 38.80659 38.95119  41.3573 41.41063 42.89141 \n",
              "       1        1        1        1        1        1        1        1 \n",
              "43.24224 46.10909 48.32065 48.51229   50.505 51.57416 52.40059 54.66846 \n",
              "       1        1        1        1        1        1        1        1 \n",
              "54.72822 57.09598 57.57912 60.24747  60.3129  61.4831 66.98741 67.57057 \n",
              "       1        1        1        1        1        1        1        1 \n",
              " 78.4834 \n",
              "       1 "
            ]
          },
          "metadata": {
            "tags": []
          }
        }
      ]
    },
    {
      "cell_type": "markdown",
      "metadata": {
        "id": "tHPagxkTrhXN",
        "colab_type": "text"
      },
      "source": [
        "**Rango, varianza, desviacion estandar, coeficiente de variacion**"
      ]
    },
    {
      "cell_type": "code",
      "metadata": {
        "id": "5DFoTw-zrjNj",
        "colab_type": "code",
        "colab": {
          "base_uri": "https://localhost:8080/",
          "height": 85
        },
        "outputId": "b8a055e1-8606-46f4-8b18-00daee5bd7b8"
      },
      "source": [
        "Rango <- max(Datos$X2010) - min(Datos$X2010)\n",
        "Varianza <- var(Datos$X2010)\n",
        "Desviacion_Estandar <- sd(Datos$X2010)\n",
        "Coeficiente_Variacion <- (Desviacion_Estandar/Media)*100\n",
        "Rango\n",
        "Varianza\n",
        "Desviacion_Estandar\n",
        "Coeficiente_Variacion"
      ],
      "execution_count": 16,
      "outputs": [
        {
          "output_type": "display_data",
          "data": {
            "text/plain": [
              "[1] 57.46585"
            ],
            "text/latex": "57.46585",
            "text/markdown": "57.46585",
            "text/html": [
              "57.46585"
            ]
          },
          "metadata": {
            "tags": []
          }
        },
        {
          "output_type": "display_data",
          "data": {
            "text/plain": [
              "[1] 175.8854"
            ],
            "text/latex": "175.885442256266",
            "text/markdown": "175.885442256266",
            "text/html": [
              "175.885442256266"
            ]
          },
          "metadata": {
            "tags": []
          }
        },
        {
          "output_type": "display_data",
          "data": {
            "text/plain": [
              "[1] 13.26218"
            ],
            "text/latex": "13.2621809012042",
            "text/markdown": "13.2621809012042",
            "text/html": [
              "13.2621809012042"
            ]
          },
          "metadata": {
            "tags": []
          }
        },
        {
          "output_type": "display_data",
          "data": {
            "text/plain": [
              "[1] 28.84141"
            ],
            "text/latex": "28.8414117802411",
            "text/markdown": "28.8414117802411",
            "text/html": [
              "28.8414117802411"
            ]
          },
          "metadata": {
            "tags": []
          }
        }
      ]
    },
    {
      "cell_type": "markdown",
      "metadata": {
        "id": "1JJU9oYLrk5c",
        "colab_type": "text"
      },
      "source": [
        "**Regla empirica**"
      ]
    },
    {
      "cell_type": "code",
      "metadata": {
        "id": "n7Q5ZqfnrmNV",
        "colab_type": "code",
        "colab": {
          "base_uri": "https://localhost:8080/",
          "height": 187
        },
        "outputId": "3fcb04a7-c826-4fb2-b53d-1472fbc0b2db"
      },
      "source": [
        "install.packages(\"e1071\")\n",
        "library(e1071) \n",
        "Sesgo <- skewness(Datos$X2010)\n",
        "Sesgo\n",
        "\n",
        "Regla_Empirica68.1 <- (Media+Desviacion_Estandar)\n",
        "Regla_Empirica68.2 <- (Media-Desviacion_Estandar)\n",
        "Regla_Empirica68.1\n",
        "Regla_Empirica68.2\n",
        "Regla_Empirica95.1 <- (Media+(2*Desviacion_Estandar))\n",
        "Regla_Empirica95.2 <- (Media-(2*Desviacion_Estandar))\n",
        "Regla_Empirica95.1\n",
        "Regla_Empirica95.2\n",
        "\n",
        "Regla_Empirica99.1 <- (Media+(3*Desviacion_Estandar))\n",
        "Regla_Empirica99.2 <- (Media-(3*Desviacion_Estandar))\n",
        "Regla_Empirica99.1\n",
        "Regla_Empirica99.2"
      ],
      "execution_count": 18,
      "outputs": [
        {
          "output_type": "stream",
          "text": [
            "Installing package into ‘/usr/local/lib/R/site-library’\n",
            "(as ‘lib’ is unspecified)\n",
            "\n"
          ],
          "name": "stderr"
        },
        {
          "output_type": "display_data",
          "data": {
            "text/plain": [
              "[1] 0.3481336"
            ],
            "text/latex": "0.348133627673776",
            "text/markdown": "0.348133627673776",
            "text/html": [
              "0.348133627673776"
            ]
          },
          "metadata": {
            "tags": []
          }
        },
        {
          "output_type": "display_data",
          "data": {
            "text/plain": [
              "[1] 59.2453"
            ],
            "text/latex": "59.2453005981739",
            "text/markdown": "59.2453005981739",
            "text/html": [
              "59.2453005981739"
            ]
          },
          "metadata": {
            "tags": []
          }
        },
        {
          "output_type": "display_data",
          "data": {
            "text/plain": [
              "[1] 32.72094"
            ],
            "text/latex": "32.7209387957655",
            "text/markdown": "32.7209387957655",
            "text/html": [
              "32.7209387957655"
            ]
          },
          "metadata": {
            "tags": []
          }
        },
        {
          "output_type": "display_data",
          "data": {
            "text/plain": [
              "[1] 72.50748"
            ],
            "text/latex": "72.5074814993781",
            "text/markdown": "72.5074814993781",
            "text/html": [
              "72.5074814993781"
            ]
          },
          "metadata": {
            "tags": []
          }
        },
        {
          "output_type": "display_data",
          "data": {
            "text/plain": [
              "[1] 19.45876"
            ],
            "text/latex": "19.4587578945613",
            "text/markdown": "19.4587578945613",
            "text/html": [
              "19.4587578945613"
            ]
          },
          "metadata": {
            "tags": []
          }
        },
        {
          "output_type": "display_data",
          "data": {
            "text/plain": [
              "[1] 85.76966"
            ],
            "text/latex": "85.7696624005823",
            "text/markdown": "85.7696624005823",
            "text/html": [
              "85.7696624005823"
            ]
          },
          "metadata": {
            "tags": []
          }
        },
        {
          "output_type": "display_data",
          "data": {
            "text/plain": [
              "[1] 6.196577"
            ],
            "text/latex": "6.19657699335708",
            "text/markdown": "6.19657699335708",
            "text/html": [
              "6.19657699335708"
            ]
          },
          "metadata": {
            "tags": []
          }
        }
      ]
    },
    {
      "cell_type": "markdown",
      "metadata": {
        "id": "VhlfPDEiroZY",
        "colab_type": "text"
      },
      "source": [
        "**Grafica**"
      ]
    },
    {
      "cell_type": "code",
      "metadata": {
        "id": "AavH7jDErqa0",
        "colab_type": "code",
        "colab": {
          "base_uri": "https://localhost:8080/",
          "height": 624
        },
        "outputId": "2b7e0bfa-d578-4169-d221-4505d812aa79"
      },
      "source": [
        "n <- length(Datos$X2010)\n",
        "media <- mean(Datos$X2010)\n",
        "table(Datos$X2010)\n",
        "x1 <- (Media-Desviacion_Estandar)\n",
        "x2 <- (Media+Desviacion_Estandar)\n",
        "x3 <- (Media-(2*Desviacion_Estandar))\n",
        "x4 <- (Media+(2*Desviacion_Estandar))\n",
        "x5 <- (Media-(3*Desviacion_Estandar))\n",
        "x6 <- (Media+(3*Desviacion_Estandar))\n",
        "Desviacion_Estandar <- sd(Datos$X2010)\n",
        "x <- Datos$X2010\n",
        "ymax <- max(dnorm(x, media, Desviacion_Estandar))\n",
        "max <- max(Datos$X2010)\n",
        "min <- min(Datos$X2010)\n",
        "\n",
        "regionX <- seq(x1, x2, 0.01)\n",
        "xP <- c(x1, regionX, x2)\n",
        "yP <- c(0, dnorm(regionX, media, Desviacion_Estandar),0)\n",
        "\n",
        "regionY <- seq(x3, x4, 0.01)\n",
        "aP <- c(x3, regionY, x4)\n",
        "bP <- c(0, dnorm(regionY, media, Desviacion_Estandar),0)\n",
        "\n",
        "regionZ <- seq(x5, x6, 0.01)\n",
        "cP <- c(x5, regionZ, x6)\n",
        "dP <- c(0, dnorm(regionZ, media, Desviacion_Estandar),0)\n",
        "\n",
        "curve(dnorm(x, media, Desviacion_Estandar), xlim = c(min, max), yaxs = \"i\", ylim = c(0, ymax), ylab = \"f(x)\",\n",
        "      main = \"Distribucion normal\")\n",
        "polygon(cP, dP, col = \"royalblue3\")\n",
        "polygon(aP, bP, col = \"mediumpurple2\")\n",
        "polygon(xP, yP, col = \"orchid3\")\n",
        "box()"
      ],
      "execution_count": 19,
      "outputs": [
        {
          "output_type": "display_data",
          "data": {
            "text/plain": [
              "\n",
              "21.01755 27.81088 28.54415 30.99469 31.52019 33.14892  34.6268 34.69284 \n",
              "       1        1        1        1        1        1        1        1 \n",
              " 36.6687 37.04973 38.13073 38.80659 38.95119  41.3573 41.41063 42.89141 \n",
              "       1        1        1        1        1        1        1        1 \n",
              "43.24224 46.10909 48.32065 48.51229   50.505 51.57416 52.40059 54.66846 \n",
              "       1        1        1        1        1        1        1        1 \n",
              "54.72822 57.09598 57.57912 60.24747  60.3129  61.4831 66.98741 67.57057 \n",
              "       1        1        1        1        1        1        1        1 \n",
              " 78.4834 \n",
              "       1 "
            ]
          },
          "metadata": {
            "tags": []
          }
        },
        {
          "output_type": "display_data",
          "data": {
            "image/png": "[encoded data removed]",
            "text/plain": [
              "Plot with title “Distribucion normal”"
            ]
          },
          "metadata": {
            "tags": [],
            "image/png": {
              "width": 420,
              "height": 420
            },
            "text/plain": {
              "width": 420,
              "height": 420
            }
          }
        }
      ]
    },
    {
      "cell_type": "markdown",
      "metadata": {
        "id": "mqZ1mbCXrp3Z",
        "colab_type": "text"
      },
      "source": [
        "**Sesgo**"
      ]
    },
    {
      "cell_type": "code",
      "metadata": {
        "id": "8CGJzHSJs6xI",
        "colab_type": "code",
        "colab": {
          "base_uri": "https://localhost:8080/",
          "height": 34
        },
        "outputId": "d8cacacb-6101-45ea-a4be-23fb80df48b1"
      },
      "source": [
        "Sesgo <- skewness(Datos$X2010)\n",
        "Sesgo"
      ],
      "execution_count": 20,
      "outputs": [
        {
          "output_type": "display_data",
          "data": {
            "text/plain": [
              "[1] 0.3481336"
            ],
            "text/latex": "0.348133627673776",
            "text/markdown": "0.348133627673776",
            "text/html": [
              "0.348133627673776"
            ]
          },
          "metadata": {
            "tags": []
          }
        }
      ]
    },
    {
      "cell_type": "markdown",
      "metadata": {
        "id": "vcDNBGE4s83q",
        "colab_type": "text"
      },
      "source": [
        "**Histograma y Poligono de frecuencias**"
      ]
    },
    {
      "cell_type": "code",
      "metadata": {
        "id": "shKMeBaus-eD",
        "colab_type": "code",
        "colab": {
          "base_uri": "https://localhost:8080/",
          "height": 532
        },
        "outputId": "ae786925-f52d-454c-c413-cee1d987eb70"
      },
      "source": [
        "histograma <- hist(Datos$X2010, col = \"Gray\", nclass = Numero_Clases, labels = TRUE,\n",
        "                   main = \"Porcentaje de poblaci?n en situaci?n de pobreza (2010)\", ylab = \"Frecuencia\", xlab = \"Poblacion en situacion de pobreza\" )\n",
        "histograma$counts\n",
        "polygon.freq(histograma,col=\"red\",frequency=1,lwd=2)"
      ],
      "execution_count": 21,
      "outputs": [
        {
          "output_type": "display_data",
          "data": {
            "text/plain": [
              "[1]  3 10  7  7  5  1"
            ],
            "text/latex": "\\begin{enumerate*}\n\\item 3\n\\item 10\n\\item 7\n\\item 7\n\\item 5\n\\item 1\n\\end{enumerate*}\n",
            "text/markdown": "1. 3\n2. 10\n3. 7\n4. 7\n5. 5\n6. 1\n\n\n",
            "text/html": [
              "<style>\n",
              ".list-inline {list-style: none; margin:0; padding: 0}\n",
              ".list-inline>li {display: inline-block}\n",
              ".list-inline>li:not(:last-child)::after {content: \"\\00b7\"; padding: 0 .5ex}\n",
              "</style>\n",
              "<ol class=list-inline><li>3</li><li>10</li><li>7</li><li>7</li><li>5</li><li>1</li></ol>\n"
            ]
          },
          "metadata": {
            "tags": []
          }
        },
        {
          "output_type": "error",
          "ename": "ERROR",
          "evalue": "ignored",
          "traceback": [
            "Error in polygon.freq(histograma, col = \"red\", frequency = 1, lwd = 2): could not find function \"polygon.freq\"\nTraceback:\n"
          ]
        },
        {
          "output_type": "display_data",
          "data": {
            "image/png": "[encoded data removed]",
            "text/plain": [
              "Plot with title “Porcentaje de poblaci?n en situaci?n de pobreza (2010)”"
            ]
          },
          "metadata": {
            "tags": [],
            "image/png": {
              "width": 420,
              "height": 420
            },
            "text/plain": {
              "width": 420,
              "height": 420
            }
          }
        }
      ]
    },
    {
      "cell_type": "markdown",
      "metadata": {
        "id": "ntDMbwmYtAlU",
        "colab_type": "text"
      },
      "source": [
        "**Histograma con densidad**"
      ]
    },
    {
      "cell_type": "code",
      "metadata": {
        "id": "kJpmNLphtChR",
        "colab_type": "code",
        "colab": {
          "base_uri": "https://localhost:8080/",
          "height": 437
        },
        "outputId": "1e4c4682-baab-4994-8f7d-7f8ce96c3070"
      },
      "source": [
        "histograma <- hist(Datos$X2010,border = \"black\",freq = FALSE, col = \"Gray\", nclass = Numero_Clases, labels = TRUE,\n",
        "                   main = \"Porcentaje de poblaci?n en situaci?n de pobreza (2010)\", ylab = \"Frecuencia\", xlab = \"IPoblacion en situacion de pobreza\" )\n",
        "lines(density((Datos$X2010)))"
      ],
      "execution_count": 22,
      "outputs": [
        {
          "output_type": "display_data",
          "data": {
            "image/png": "[encoded data removed]",
            "text/plain": [
              "Plot with title “Porcentaje de poblaci?n en situaci?n de pobreza (2010)”"
            ]
          },
          "metadata": {
            "tags": [],
            "image/png": {
              "width": 420,
              "height": 420
            },
            "text/plain": {
              "width": 420,
              "height": 420
            }
          }
        }
      ]
    },
    {
      "cell_type": "markdown",
      "metadata": {
        "id": "ziT4rps-tEV2",
        "colab_type": "text"
      },
      "source": [
        "**Tabla de frecuencias**"
      ]
    },
    {
      "cell_type": "code",
      "metadata": {
        "id": "DzXKzGvdtFq4",
        "colab_type": "code",
        "colab": {
          "base_uri": "https://localhost:8080/",
          "height": 771
        },
        "outputId": "9b513b61-8a41-4381-fc9b-d5aafe2fa0c7"
      },
      "source": [
        "Tabla_Frecuencias <- as.data.frame(table(Minutos =Datos$X2010))\n",
        "transform(Tabla_Frecuencias,\n",
        "          Frecuencia_Relativa_Clase = round(prop.table(Freq), 3),\n",
        "          Frec_Relativa_Acumulada = round(cumsum(prop.table(Freq)), 3))"
      ],
      "execution_count": 25,
      "outputs": [
        {
          "output_type": "display_data",
          "data": {
            "text/plain": [
              "   Minutos  Freq Frecuencia_Relativa_Clase Frec_Relativa_Acumulada\n",
              "1  21.01755 1    0.03                      0.030                  \n",
              "2  27.81088 1    0.03                      0.061                  \n",
              "3  28.54415 1    0.03                      0.091                  \n",
              "4  30.99469 1    0.03                      0.121                  \n",
              "5  31.52019 1    0.03                      0.152                  \n",
              "6  33.14892 1    0.03                      0.182                  \n",
              "7  34.6268  1    0.03                      0.212                  \n",
              "8  34.69284 1    0.03                      0.242                  \n",
              "9  36.6687  1    0.03                      0.273                  \n",
              "10 37.04973 1    0.03                      0.303                  \n",
              "11 38.13073 1    0.03                      0.333                  \n",
              "12 38.80659 1    0.03                      0.364                  \n",
              "13 38.95119 1    0.03                      0.394                  \n",
              "14 41.3573  1    0.03                      0.424                  \n",
              "15 41.41063 1    0.03                      0.455                  \n",
              "16 42.89141 1    0.03                      0.485                  \n",
              "17 43.24224 1    0.03                      0.515                  \n",
              "18 46.10909 1    0.03                      0.545                  \n",
              "19 48.32065 1    0.03                      0.576                  \n",
              "20 48.51229 1    0.03                      0.606                  \n",
              "21 50.505   1    0.03                      0.636                  \n",
              "22 51.57416 1    0.03                      0.667                  \n",
              "23 52.40059 1    0.03                      0.697                  \n",
              "24 54.66846 1    0.03                      0.727                  \n",
              "25 54.72822 1    0.03                      0.758                  \n",
              "26 57.09598 1    0.03                      0.788                  \n",
              "27 57.57912 1    0.03                      0.818                  \n",
              "28 60.24747 1    0.03                      0.848                  \n",
              "29 60.3129  1    0.03                      0.879                  \n",
              "30 61.4831  1    0.03                      0.909                  \n",
              "31 66.98741 1    0.03                      0.939                  \n",
              "32 67.57057 1    0.03                      0.970                  \n",
              "33 78.4834  1    0.03                      1.000                  "
            ],
            "text/latex": "A data.frame: 33 × 4\n\\begin{tabular}{llll}\n Minutos & Freq & Frecuencia\\_Relativa\\_Clase & Frec\\_Relativa\\_Acumulada\\\\\n <fct> & <int> & <dbl> & <dbl>\\\\\n\\hline\n\t 21.01755 & 1 & 0.03 & 0.030\\\\\n\t 27.81088 & 1 & 0.03 & 0.061\\\\\n\t 28.54415 & 1 & 0.03 & 0.091\\\\\n\t 30.99469 & 1 & 0.03 & 0.121\\\\\n\t 31.52019 & 1 & 0.03 & 0.152\\\\\n\t 33.14892 & 1 & 0.03 & 0.182\\\\\n\t 34.6268  & 1 & 0.03 & 0.212\\\\\n\t 34.69284 & 1 & 0.03 & 0.242\\\\\n\t 36.6687  & 1 & 0.03 & 0.273\\\\\n\t 37.04973 & 1 & 0.03 & 0.303\\\\\n\t 38.13073 & 1 & 0.03 & 0.333\\\\\n\t 38.80659 & 1 & 0.03 & 0.364\\\\\n\t 38.95119 & 1 & 0.03 & 0.394\\\\\n\t 41.3573  & 1 & 0.03 & 0.424\\\\\n\t 41.41063 & 1 & 0.03 & 0.455\\\\\n\t 42.89141 & 1 & 0.03 & 0.485\\\\\n\t 43.24224 & 1 & 0.03 & 0.515\\\\\n\t 46.10909 & 1 & 0.03 & 0.545\\\\\n\t 48.32065 & 1 & 0.03 & 0.576\\\\\n\t 48.51229 & 1 & 0.03 & 0.606\\\\\n\t 50.505   & 1 & 0.03 & 0.636\\\\\n\t 51.57416 & 1 & 0.03 & 0.667\\\\\n\t 52.40059 & 1 & 0.03 & 0.697\\\\\n\t 54.66846 & 1 & 0.03 & 0.727\\\\\n\t 54.72822 & 1 & 0.03 & 0.758\\\\\n\t 57.09598 & 1 & 0.03 & 0.788\\\\\n\t 57.57912 & 1 & 0.03 & 0.818\\\\\n\t 60.24747 & 1 & 0.03 & 0.848\\\\\n\t 60.3129  & 1 & 0.03 & 0.879\\\\\n\t 61.4831  & 1 & 0.03 & 0.909\\\\\n\t 66.98741 & 1 & 0.03 & 0.939\\\\\n\t 67.57057 & 1 & 0.03 & 0.970\\\\\n\t 78.4834  & 1 & 0.03 & 1.000\\\\\n\\end{tabular}\n",
            "text/markdown": "\nA data.frame: 33 × 4\n\n| Minutos &lt;fct&gt; | Freq &lt;int&gt; | Frecuencia_Relativa_Clase &lt;dbl&gt; | Frec_Relativa_Acumulada &lt;dbl&gt; |\n|---|---|---|---|\n| 21.01755 | 1 | 0.03 | 0.030 |\n| 27.81088 | 1 | 0.03 | 0.061 |\n| 28.54415 | 1 | 0.03 | 0.091 |\n| 30.99469 | 1 | 0.03 | 0.121 |\n| 31.52019 | 1 | 0.03 | 0.152 |\n| 33.14892 | 1 | 0.03 | 0.182 |\n| 34.6268  | 1 | 0.03 | 0.212 |\n| 34.69284 | 1 | 0.03 | 0.242 |\n| 36.6687  | 1 | 0.03 | 0.273 |\n| 37.04973 | 1 | 0.03 | 0.303 |\n| 38.13073 | 1 | 0.03 | 0.333 |\n| 38.80659 | 1 | 0.03 | 0.364 |\n| 38.95119 | 1 | 0.03 | 0.394 |\n| 41.3573  | 1 | 0.03 | 0.424 |\n| 41.41063 | 1 | 0.03 | 0.455 |\n| 42.89141 | 1 | 0.03 | 0.485 |\n| 43.24224 | 1 | 0.03 | 0.515 |\n| 46.10909 | 1 | 0.03 | 0.545 |\n| 48.32065 | 1 | 0.03 | 0.576 |\n| 48.51229 | 1 | 0.03 | 0.606 |\n| 50.505   | 1 | 0.03 | 0.636 |\n| 51.57416 | 1 | 0.03 | 0.667 |\n| 52.40059 | 1 | 0.03 | 0.697 |\n| 54.66846 | 1 | 0.03 | 0.727 |\n| 54.72822 | 1 | 0.03 | 0.758 |\n| 57.09598 | 1 | 0.03 | 0.788 |\n| 57.57912 | 1 | 0.03 | 0.818 |\n| 60.24747 | 1 | 0.03 | 0.848 |\n| 60.3129  | 1 | 0.03 | 0.879 |\n| 61.4831  | 1 | 0.03 | 0.909 |\n| 66.98741 | 1 | 0.03 | 0.939 |\n| 67.57057 | 1 | 0.03 | 0.970 |\n| 78.4834  | 1 | 0.03 | 1.000 |\n\n",
            "text/html": [
              "<table>\n",
              "<caption>A data.frame: 33 × 4</caption>\n",
              "<thead>\n",
              "\t<tr><th scope=col>Minutos</th><th scope=col>Freq</th><th scope=col>Frecuencia_Relativa_Clase</th><th scope=col>Frec_Relativa_Acumulada</th></tr>\n",
              "\t<tr><th scope=col>&lt;fct&gt;</th><th scope=col>&lt;int&gt;</th><th scope=col>&lt;dbl&gt;</th><th scope=col>&lt;dbl&gt;</th></tr>\n",
              "</thead>\n",
              "<tbody>\n",
              "\t<tr><td>21.01755</td><td>1</td><td>0.03</td><td>0.030</td></tr>\n",
              "\t<tr><td>27.81088</td><td>1</td><td>0.03</td><td>0.061</td></tr>\n",
              "\t<tr><td>28.54415</td><td>1</td><td>0.03</td><td>0.091</td></tr>\n",
              "\t<tr><td>30.99469</td><td>1</td><td>0.03</td><td>0.121</td></tr>\n",
              "\t<tr><td>31.52019</td><td>1</td><td>0.03</td><td>0.152</td></tr>\n",
              "\t<tr><td>33.14892</td><td>1</td><td>0.03</td><td>0.182</td></tr>\n",
              "\t<tr><td>34.6268 </td><td>1</td><td>0.03</td><td>0.212</td></tr>\n",
              "\t<tr><td>34.69284</td><td>1</td><td>0.03</td><td>0.242</td></tr>\n",
              "\t<tr><td>36.6687 </td><td>1</td><td>0.03</td><td>0.273</td></tr>\n",
              "\t<tr><td>37.04973</td><td>1</td><td>0.03</td><td>0.303</td></tr>\n",
              "\t<tr><td>38.13073</td><td>1</td><td>0.03</td><td>0.333</td></tr>\n",
              "\t<tr><td>38.80659</td><td>1</td><td>0.03</td><td>0.364</td></tr>\n",
              "\t<tr><td>38.95119</td><td>1</td><td>0.03</td><td>0.394</td></tr>\n",
              "\t<tr><td>41.3573 </td><td>1</td><td>0.03</td><td>0.424</td></tr>\n",
              "\t<tr><td>41.41063</td><td>1</td><td>0.03</td><td>0.455</td></tr>\n",
              "\t<tr><td>42.89141</td><td>1</td><td>0.03</td><td>0.485</td></tr>\n",
              "\t<tr><td>43.24224</td><td>1</td><td>0.03</td><td>0.515</td></tr>\n",
              "\t<tr><td>46.10909</td><td>1</td><td>0.03</td><td>0.545</td></tr>\n",
              "\t<tr><td>48.32065</td><td>1</td><td>0.03</td><td>0.576</td></tr>\n",
              "\t<tr><td>48.51229</td><td>1</td><td>0.03</td><td>0.606</td></tr>\n",
              "\t<tr><td>50.505  </td><td>1</td><td>0.03</td><td>0.636</td></tr>\n",
              "\t<tr><td>51.57416</td><td>1</td><td>0.03</td><td>0.667</td></tr>\n",
              "\t<tr><td>52.40059</td><td>1</td><td>0.03</td><td>0.697</td></tr>\n",
              "\t<tr><td>54.66846</td><td>1</td><td>0.03</td><td>0.727</td></tr>\n",
              "\t<tr><td>54.72822</td><td>1</td><td>0.03</td><td>0.758</td></tr>\n",
              "\t<tr><td>57.09598</td><td>1</td><td>0.03</td><td>0.788</td></tr>\n",
              "\t<tr><td>57.57912</td><td>1</td><td>0.03</td><td>0.818</td></tr>\n",
              "\t<tr><td>60.24747</td><td>1</td><td>0.03</td><td>0.848</td></tr>\n",
              "\t<tr><td>60.3129 </td><td>1</td><td>0.03</td><td>0.879</td></tr>\n",
              "\t<tr><td>61.4831 </td><td>1</td><td>0.03</td><td>0.909</td></tr>\n",
              "\t<tr><td>66.98741</td><td>1</td><td>0.03</td><td>0.939</td></tr>\n",
              "\t<tr><td>67.57057</td><td>1</td><td>0.03</td><td>0.970</td></tr>\n",
              "\t<tr><td>78.4834 </td><td>1</td><td>0.03</td><td>1.000</td></tr>\n",
              "</tbody>\n",
              "</table>\n"
            ]
          },
          "metadata": {
            "tags": []
          }
        }
      ]
    },
    {
      "cell_type": "markdown",
      "metadata": {
        "id": "uGTj2GfItHrQ",
        "colab_type": "text"
      },
      "source": [
        "**Intervalo de clases, frecuencia absoluta, valor medio de clase**"
      ]
    },
    {
      "cell_type": "code",
      "metadata": {
        "id": "OBETwZlptI0n",
        "colab_type": "code",
        "colab": {
          "base_uri": "https://localhost:8080/",
          "height": 68
        },
        "outputId": "9f230180-7e8a-4300-9f25-1196de868631"
      },
      "source": [
        "Intervalo_Clases <- Rango/Numero_Clases\n",
        "Frecuencia_Absoluta <- table(Datos$X2010) \n",
        "Valor_Medio_De_Clase <- histograma$counts\n",
        "Intervalo_Clases\n",
        "Numero_Clases\n",
        "Valor_Medio_De_Clase "
      ],
      "execution_count": 26,
      "outputs": [
        {
          "output_type": "display_data",
          "data": {
            "text/plain": [
              "[1] 10.00352"
            ],
            "text/latex": "10.0035204655017",
            "text/markdown": "10.0035204655017",
            "text/html": [
              "10.0035204655017"
            ]
          },
          "metadata": {
            "tags": []
          }
        },
        {
          "output_type": "display_data",
          "data": {
            "text/plain": [
              "[1] 5.744563"
            ],
            "text/latex": "5.74456264653803",
            "text/markdown": "5.74456264653803",
            "text/html": [
              "5.74456264653803"
            ]
          },
          "metadata": {
            "tags": []
          }
        },
        {
          "output_type": "display_data",
          "data": {
            "text/plain": [
              "[1]  3 10  7  7  5  1"
            ],
            "text/latex": "\\begin{enumerate*}\n\\item 3\n\\item 10\n\\item 7\n\\item 7\n\\item 5\n\\item 1\n\\end{enumerate*}\n",
            "text/markdown": "1. 3\n2. 10\n3. 7\n4. 7\n5. 5\n6. 1\n\n\n",
            "text/html": [
              "<style>\n",
              ".list-inline {list-style: none; margin:0; padding: 0}\n",
              ".list-inline>li {display: inline-block}\n",
              ".list-inline>li:not(:last-child)::after {content: \"\\00b7\"; padding: 0 .5ex}\n",
              "</style>\n",
              "<ol class=list-inline><li>3</li><li>10</li><li>7</li><li>7</li><li>5</li><li>1</li></ol>\n"
            ]
          },
          "metadata": {
            "tags": []
          }
        }
      ]
    },
    {
      "cell_type": "markdown",
      "metadata": {
        "id": "uwIelEwXtKew",
        "colab_type": "text"
      },
      "source": [
        "**Diagrama de caja**"
      ]
    },
    {
      "cell_type": "code",
      "metadata": {
        "id": "z_-oyCKOtMcu",
        "colab_type": "code",
        "colab": {
          "base_uri": "https://localhost:8080/",
          "height": 658
        },
        "outputId": "2643a5b6-784c-455f-d350-49adc79e3f84"
      },
      "source": [
        "density(Datos$X2010)\n",
        "boxplot(Datos$X2010, ylab = \"Poblacion en situacion de pobreza\", main = \"Diagrama de caja de tiempos de espera\")"
      ],
      "execution_count": 27,
      "outputs": [
        {
          "output_type": "display_data",
          "data": {
            "text/plain": [
              "\n",
              "Call:\n",
              "\tdensity.default(x = Datos$X2010)\n",
              "\n",
              "Data: Datos$X2010 (33 obs.);\tBandwidth 'bw' = 5.931\n",
              "\n",
              "       x                y            \n",
              " Min.   : 3.223   Min.   :2.291e-05  \n",
              " 1st Qu.:26.487   1st Qu.:1.388e-03  \n",
              " Median :49.750   Median :7.445e-03  \n",
              " Mean   :49.750   Mean   :1.074e-02  \n",
              " 3rd Qu.:73.014   3rd Qu.:2.120e-02  \n",
              " Max.   :96.278   Max.   :2.682e-02  "
            ]
          },
          "metadata": {
            "tags": []
          }
        },
        {
          "output_type": "display_data",
          "data": {
            "image/png": "[encoded data removed]",
            "text/plain": [
              "Plot with title “Diagrama de caja de tiempos de espera”"
            ]
          },
          "metadata": {
            "tags": [],
            "image/png": {
              "width": 420,
              "height": 420
            },
            "text/plain": {
              "width": 420,
              "height": 420
            }
          }
        }
      ]
    },
    {
      "cell_type": "markdown",
      "metadata": {
        "id": "CyifeT8mtOQ2",
        "colab_type": "text"
      },
      "source": [
        "**Relacion entre dos connjuntos de datos**\n",
        "\n",
        "**Diagrama de dispercion**"
      ]
    },
    {
      "cell_type": "code",
      "metadata": {
        "id": "2tgOpn38tPoA",
        "colab_type": "code",
        "colab": {
          "base_uri": "https://localhost:8080/",
          "height": 505
        },
        "outputId": "8eb06409-3ca7-4a32-c880-5932f3d2a5ec"
      },
      "source": [
        "min(Datos$X2010)\n",
        "max(Datos$X2010)\n",
        "min(Datos$X2012)\n",
        "max(Datos$X2012)\n",
        "plot(Datos$X2010, Datos$X2012,\n",
        "     main=\"Diagrama de Dispersi?n, Relacion 2010 y 2012\",\n",
        "     xlab = \"2012\",\n",
        "     ylab = \"2010\",\n",
        "     ylim = c(23.24679, 74.68734),\n",
        "     xlim = c(21.01755, 78.4834),\n",
        "     col = \"magenta\",\n",
        "     pch = 4\n",
        ")\n",
        "abline(lm(Datos$X2010~Datos$X2012), col=\"Blue\")"
      ],
      "execution_count": 28,
      "outputs": [
        {
          "output_type": "display_data",
          "data": {
            "text/plain": [
              "[1] 21.01755"
            ],
            "text/latex": "21.01755",
            "text/markdown": "21.01755",
            "text/html": [
              "21.01755"
            ]
          },
          "metadata": {
            "tags": []
          }
        },
        {
          "output_type": "display_data",
          "data": {
            "text/plain": [
              "[1] 78.4834"
            ],
            "text/latex": "78.4834",
            "text/markdown": "78.4834",
            "text/html": [
              "78.4834"
            ]
          },
          "metadata": {
            "tags": []
          }
        },
        {
          "output_type": "display_data",
          "data": {
            "text/plain": [
              "[1] 23.24679"
            ],
            "text/latex": "23.24679",
            "text/markdown": "23.24679",
            "text/html": [
              "23.24679"
            ]
          },
          "metadata": {
            "tags": []
          }
        },
        {
          "output_type": "display_data",
          "data": {
            "text/plain": [
              "[1] 74.68734"
            ],
            "text/latex": "74.68734",
            "text/markdown": "74.68734",
            "text/html": [
              "74.68734"
            ]
          },
          "metadata": {
            "tags": []
          }
        },
        {
          "output_type": "display_data",
          "data": {
            "image/png": "[encoded data removed]",
            "text/plain": [
              "Plot with title “Diagrama de Dispersi?n, Relacion 2010 y 2012”"
            ]
          },
          "metadata": {
            "tags": [],
            "image/png": {
              "width": 420,
              "height": 420
            },
            "text/plain": {
              "width": 420,
              "height": 420
            }
          }
        }
      ]
    },
    {
      "cell_type": "markdown",
      "metadata": {
        "id": "ZtAV2QRrtRa5",
        "colab_type": "text"
      },
      "source": [
        "**Modelo de regrecion y coeficientes del modelo**"
      ]
    },
    {
      "cell_type": "code",
      "metadata": {
        "id": "Uw9cgqDotSum",
        "colab_type": "code",
        "colab": {
          "base_uri": "https://localhost:8080/",
          "height": 323
        },
        "outputId": "01dbac18-bd6d-4cca-fc12-20a8f8af16bf"
      },
      "source": [
        "modelo <- lm( Datos$X2010~Datos$X2012, data = Datos ) \n",
        "summary( modelo )"
      ],
      "execution_count": 29,
      "outputs": [
        {
          "output_type": "display_data",
          "data": {
            "text/plain": [
              "\n",
              "Call:\n",
              "lm(formula = Datos$X2010 ~ Datos$X2012, data = Datos)\n",
              "\n",
              "Residuals:\n",
              "    Min      1Q  Median      3Q     Max \n",
              "-7.4433 -1.7555 -0.2497  2.8225  6.1564 \n",
              "\n",
              "Coefficients:\n",
              "            Estimate Std. Error t value Pr(>|t|)    \n",
              "(Intercept) -0.54061    2.13782  -0.253    0.802    \n",
              "Datos$X2012  1.03603    0.04593  22.556   <2e-16 ***\n",
              "---\n",
              "Signif. codes:  0 ‘***’ 0.001 ‘**’ 0.01 ‘*’ 0.05 ‘.’ 0.1 ‘ ’ 1\n",
              "\n",
              "Residual standard error: 3.229 on 31 degrees of freedom\n",
              "Multiple R-squared:  0.9426,\tAdjusted R-squared:  0.9407 \n",
              "F-statistic: 508.8 on 1 and 31 DF,  p-value: < 2.2e-16\n"
            ]
          },
          "metadata": {
            "tags": []
          }
        }
      ]
    },
    {
      "cell_type": "markdown",
      "metadata": {
        "id": "X6_UbKB4tUmP",
        "colab_type": "text"
      },
      "source": [
        "**Probabilidad**"
      ]
    },
    {
      "cell_type": "code",
      "metadata": {
        "id": "6EZnK8-RtWGj",
        "colab_type": "code",
        "colab": {
          "base_uri": "https://localhost:8080/",
          "height": 204
        },
        "outputId": "43c560b1-d4ac-4b69-8bc7-da9b3d391d75"
      },
      "source": [
        "Probabilidad = table(Datos$X2010)/length(Datos$X2010)*100\n",
        "Probabilidad"
      ],
      "execution_count": 30,
      "outputs": [
        {
          "output_type": "display_data",
          "data": {
            "text/plain": [
              "\n",
              "21.01755 27.81088 28.54415 30.99469 31.52019 33.14892  34.6268 34.69284 \n",
              "3.030303 3.030303 3.030303 3.030303 3.030303 3.030303 3.030303 3.030303 \n",
              " 36.6687 37.04973 38.13073 38.80659 38.95119  41.3573 41.41063 42.89141 \n",
              "3.030303 3.030303 3.030303 3.030303 3.030303 3.030303 3.030303 3.030303 \n",
              "43.24224 46.10909 48.32065 48.51229   50.505 51.57416 52.40059 54.66846 \n",
              "3.030303 3.030303 3.030303 3.030303 3.030303 3.030303 3.030303 3.030303 \n",
              "54.72822 57.09598 57.57912 60.24747  60.3129  61.4831 66.98741 67.57057 \n",
              "3.030303 3.030303 3.030303 3.030303 3.030303 3.030303 3.030303 3.030303 \n",
              " 78.4834 \n",
              "3.030303 "
            ]
          },
          "metadata": {
            "tags": []
          }
        }
      ]
    }
  ]
}