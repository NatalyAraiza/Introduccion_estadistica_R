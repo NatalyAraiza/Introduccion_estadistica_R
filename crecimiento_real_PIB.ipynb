{
  "nbformat": 4,
  "nbformat_minor": 0,
  "metadata": {
    "colab": {
      "name": "crecimiento_real_PIB.ipynb",
      "provenance": [],
      "authorship_tag": "ABX9TyMQOXgT8DVwkqPFHwR/7IrE",
      "include_colab_link": true
    },
    "kernelspec": {
      "name": "ir",
      "display_name": "R"
    }
  },
  "cells": [
    {
      "cell_type": "markdown",
      "metadata": {
        "id": "view-in-github",
        "colab_type": "text"
      },
      "source": [
        "<a href=\"https://colab.research.google.com/github/NatalyAraiza/Introduccion_estadistica_R/blob/master/crecimiento_real_PIB.ipynb\" target=\"_parent\"><img src=\"https://colab.research.google.com/assets/colab-badge.svg\" alt=\"Open In Colab\"/></a>"
      ]
    },
    {
      "cell_type": "code",
      "metadata": {
        "id": "Zf3qDNMMtHOH",
        "colab_type": "code",
        "colab": {
          "base_uri": "https://localhost:8080/",
          "height": 35
        },
        "outputId": "812a66d5-433d-4454-e923-3d8ca7d47582"
      },
      "source": [
        "getwd()"
      ],
      "execution_count": 1,
      "outputs": [
        {
          "output_type": "display_data",
          "data": {
            "text/plain": [
              "[1] \"/content\""
            ],
            "text/latex": "'/content'",
            "text/markdown": "'/content'",
            "text/html": [
              "'/content'"
            ]
          },
          "metadata": {
            "tags": []
          }
        }
      ]
    },
    {
      "cell_type": "code",
      "metadata": {
        "id": "IxPCnhaAvMlb",
        "colab_type": "code",
        "colab": {}
      },
      "source": [
        "datos <- read.table(\"Crecimiento real del PIB.csv\", sep =\",\", header=TRUE)\n"
      ],
      "execution_count": 3,
      "outputs": []
    },
    {
      "cell_type": "code",
      "metadata": {
        "id": "ZChhQ4fUv1LE",
        "colab_type": "code",
        "colab": {
          "base_uri": "https://localhost:8080/",
          "height": 204
        },
        "outputId": "d1905924-b2d0-48fb-fdfb-88772f518125"
      },
      "source": [
        "head(datos) #nombre de encabezados"
      ],
      "execution_count": 4,
      "outputs": [
        {
          "output_type": "display_data",
          "data": {
            "text/plain": [
              "  Periodo Porcentaje\n",
              "1 1994/01  3.34197  \n",
              "2 1994/02  5.91376  \n",
              "3 1994/03  5.32963  \n",
              "4 1994/04  5.15238  \n",
              "5 1995/01 -1.48542  \n",
              "6 1995/02 -9.06758  "
            ],
            "text/latex": "A data.frame: 6 × 2\n\\begin{tabular}{r|ll}\n  & Periodo & Porcentaje\\\\\n  & <fct> & <dbl>\\\\\n\\hline\n\t1 & 1994/01 &  3.34197\\\\\n\t2 & 1994/02 &  5.91376\\\\\n\t3 & 1994/03 &  5.32963\\\\\n\t4 & 1994/04 &  5.15238\\\\\n\t5 & 1995/01 & -1.48542\\\\\n\t6 & 1995/02 & -9.06758\\\\\n\\end{tabular}\n",
            "text/markdown": "\nA data.frame: 6 × 2\n\n| <!--/--> | Periodo &lt;fct&gt; | Porcentaje &lt;dbl&gt; |\n|---|---|---|\n| 1 | 1994/01 |  3.34197 |\n| 2 | 1994/02 |  5.91376 |\n| 3 | 1994/03 |  5.32963 |\n| 4 | 1994/04 |  5.15238 |\n| 5 | 1995/01 | -1.48542 |\n| 6 | 1995/02 | -9.06758 |\n\n",
            "text/html": [
              "<table>\n",
              "<caption>A data.frame: 6 × 2</caption>\n",
              "<thead>\n",
              "\t<tr><th></th><th scope=col>Periodo</th><th scope=col>Porcentaje</th></tr>\n",
              "\t<tr><th></th><th scope=col>&lt;fct&gt;</th><th scope=col>&lt;dbl&gt;</th></tr>\n",
              "</thead>\n",
              "<tbody>\n",
              "\t<tr><th scope=row>1</th><td>1994/01</td><td> 3.34197</td></tr>\n",
              "\t<tr><th scope=row>2</th><td>1994/02</td><td> 5.91376</td></tr>\n",
              "\t<tr><th scope=row>3</th><td>1994/03</td><td> 5.32963</td></tr>\n",
              "\t<tr><th scope=row>4</th><td>1994/04</td><td> 5.15238</td></tr>\n",
              "\t<tr><th scope=row>5</th><td>1995/01</td><td>-1.48542</td></tr>\n",
              "\t<tr><th scope=row>6</th><td>1995/02</td><td>-9.06758</td></tr>\n",
              "</tbody>\n",
              "</table>\n"
            ]
          },
          "metadata": {
            "tags": []
          }
        }
      ]
    }
  ]
}