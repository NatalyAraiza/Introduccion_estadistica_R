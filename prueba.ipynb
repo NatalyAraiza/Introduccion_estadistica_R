{
  "nbformat": 4,
  "nbformat_minor": 0,
  "metadata": {
    "colab": {
      "name": "Untitled0.ipynb",
      "provenance": [],
      "collapsed_sections": []
    },
    "kernelspec": {
      "name": "ir",
      "display_name": "R"
    }
  },
  "cells": [
    {
      "cell_type": "markdown",
      "metadata": {
        "id": "sK0rxjTSc-tP",
        "colab_type": "text"
      },
      "source": [
        "#***Indice***\n",
        "---\n",
        "*   Comandos basicos en R\n",
        "*   Comandos matemáticos basicos\n",
        "*   Comandos estadisticos basicos\n",
        "*   Importar archivos y graficar\n"
      ]
    },
    {
      "cell_type": "markdown",
      "metadata": {
        "id": "fcamhnRCoAlV",
        "colab_type": "text"
      },
      "source": [
        "#***Comandos basicos en R***\n",
        "---\n"
      ]
    },
    {
      "cell_type": "markdown",
      "metadata": {
        "id": "AOvyySUpeiOI",
        "colab_type": "text"
      },
      "source": [
        "**Solicitar ayuda**"
      ]
    },
    {
      "cell_type": "code",
      "metadata": {
        "id": "olQhat35bKar",
        "colab_type": "code",
        "colab": {}
      },
      "source": [
        "help()"
      ],
      "execution_count": null,
      "outputs": []
    },
    {
      "cell_type": "markdown",
      "metadata": {
        "id": "MDRt5DoDeuTi",
        "colab_type": "text"
      },
      "source": [
        "**Ayuda en linea hiper texto**"
      ]
    },
    {
      "cell_type": "code",
      "metadata": {
        "id": "cK6D__Uye1MN",
        "colab_type": "code",
        "colab": {}
      },
      "source": [
        "help.start()"
      ],
      "execution_count": null,
      "outputs": []
    },
    {
      "cell_type": "markdown",
      "metadata": {
        "id": "U09_0LIIfdq-",
        "colab_type": "text"
      },
      "source": [
        "**Solicitar ayuda de una función especifica de R, en este caso distribución normal**"
      ]
    },
    {
      "cell_type": "code",
      "metadata": {
        "id": "SJSs_IkEfuIv",
        "colab_type": "code",
        "colab": {}
      },
      "source": [
        "? rnorm"
      ],
      "execution_count": null,
      "outputs": []
    },
    {
      "cell_type": "markdown",
      "metadata": {
        "id": "6ZZjL8Bsgaiq",
        "colab_type": "text"
      },
      "source": [
        "**Actualizar paquetes**"
      ]
    },
    {
      "cell_type": "code",
      "metadata": {
        "id": "w1fUOjIcgnXi",
        "colab_type": "code",
        "colab": {}
      },
      "source": [
        "update.packages"
      ],
      "execution_count": null,
      "outputs": []
    },
    {
      "cell_type": "markdown",
      "metadata": {
        "id": "4gfIJixigqpu",
        "colab_type": "text"
      },
      "source": [
        "**Instalar un paquete esfecifico (Ej. \"qcc\")**"
      ]
    },
    {
      "cell_type": "code",
      "metadata": {
        "id": "4uVVNSqihfxN",
        "colab_type": "code",
        "colab": {}
      },
      "source": [
        "install.packages(\"qcc\")"
      ],
      "execution_count": null,
      "outputs": []
    },
    {
      "cell_type": "markdown",
      "metadata": {
        "id": "i5PIYFm6hlma",
        "colab_type": "text"
      },
      "source": [
        "**Cargar un paquete instalado**\n",
        "\n",
        "Nota: En R para utilizar ciertas funciones primero tenemos que instalar un paquete y despues cargarlo. Ambos pasos son necesarios."
      ]
    },
    {
      "cell_type": "code",
      "metadata": {
        "id": "_BRnltsaidER",
        "colab_type": "code",
        "colab": {}
      },
      "source": [
        "library(qcc)"
      ],
      "execution_count": null,
      "outputs": []
    },
    {
      "cell_type": "markdown",
      "metadata": {
        "id": "_Sz6k8pRieGj",
        "colab_type": "text"
      },
      "source": [
        "**Muestra el directorio de trabajo actual**"
      ]
    },
    {
      "cell_type": "code",
      "metadata": {
        "id": "1VpcDN-miwfs",
        "colab_type": "code",
        "colab": {
          "base_uri": "https://localhost:8080/",
          "height": 34
        },
        "outputId": "f6c3738f-f55d-4c74-f577-0fa6d2c01806"
      },
      "source": [
        "getwd()"
      ],
      "execution_count": null,
      "outputs": [
        {
          "output_type": "display_data",
          "data": {
            "text/plain": [
              "[1] \"/content\""
            ],
            "text/latex": "'/content'",
            "text/markdown": "'/content'",
            "text/html": [
              "'/content'"
            ]
          },
          "metadata": {
            "tags": []
          }
        }
      ]
    },
    {
      "cell_type": "markdown",
      "metadata": {
        "id": "8vfpt7sNizTe",
        "colab_type": "text"
      },
      "source": [
        "**Cambiar directorio de trabajo**\n",
        "\n",
        "Al usar nuevamente getwd() vemos que se actualizó el directorio de trabajo"
      ]
    },
    {
      "cell_type": "code",
      "metadata": {
        "id": "QXfxz_tWj7by",
        "colab_type": "code",
        "colab": {}
      },
      "source": [
        "setwd(\"sample_data\")"
      ],
      "execution_count": null,
      "outputs": []
    },
    {
      "cell_type": "code",
      "metadata": {
        "id": "4-1zBTSukEGJ",
        "colab_type": "code",
        "colab": {
          "base_uri": "https://localhost:8080/",
          "height": 34
        },
        "outputId": "52c09cb0-a7f6-4c66-89ec-340da062fd6e"
      },
      "source": [
        "getwd()"
      ],
      "execution_count": null,
      "outputs": [
        {
          "output_type": "display_data",
          "data": {
            "text/plain": [
              "[1] \"/content/sample_data\""
            ],
            "text/latex": "'/content/sample\\_data'",
            "text/markdown": "'/content/sample_data'",
            "text/html": [
              "'/content/sample_data'"
            ]
          },
          "metadata": {
            "tags": []
          }
        }
      ]
    },
    {
      "cell_type": "markdown",
      "metadata": {
        "id": "1AId4B2ak1At",
        "colab_type": "text"
      },
      "source": [
        "----------------------------------"
      ]
    },
    {
      "cell_type": "markdown",
      "metadata": {
        "id": "l35Xy4Lyk3se",
        "colab_type": "text"
      },
      "source": [
        "**R como calculadora**"
      ]
    },
    {
      "cell_type": "markdown",
      "metadata": {
        "id": "5nW-QucnlanR",
        "colab_type": "text"
      },
      "source": [
        "Suma\n"
      ]
    },
    {
      "cell_type": "code",
      "metadata": {
        "id": "PZswZ8kalfVJ",
        "colab_type": "code",
        "colab": {
          "base_uri": "https://localhost:8080/",
          "height": 35
        },
        "outputId": "e4f0b793-8baa-43bc-ab7f-2f368db33cbc"
      },
      "source": [
        "10+5"
      ],
      "execution_count": 6,
      "outputs": [
        {
          "output_type": "display_data",
          "data": {
            "text/plain": [
              "[1] 15"
            ],
            "text/latex": "15",
            "text/markdown": "15",
            "text/html": [
              "15"
            ]
          },
          "metadata": {
            "tags": []
          }
        }
      ]
    },
    {
      "cell_type": "markdown",
      "metadata": {
        "id": "lgfFwYI7mCwC",
        "colab_type": "text"
      },
      "source": [
        "Resta"
      ]
    },
    {
      "cell_type": "code",
      "metadata": {
        "id": "cgpmY-tSmD3b",
        "colab_type": "code",
        "colab": {
          "base_uri": "https://localhost:8080/",
          "height": 35
        },
        "outputId": "545fc3ea-8756-4fa1-bc6b-89972d65eca6"
      },
      "source": [
        "23-13"
      ],
      "execution_count": 7,
      "outputs": [
        {
          "output_type": "display_data",
          "data": {
            "text/plain": [
              "[1] 10"
            ],
            "text/latex": "10",
            "text/markdown": "10",
            "text/html": [
              "10"
            ]
          },
          "metadata": {
            "tags": []
          }
        }
      ]
    },
    {
      "cell_type": "markdown",
      "metadata": {
        "id": "k-jQI-RHmG_Y",
        "colab_type": "text"
      },
      "source": [
        "Multiplicación"
      ]
    },
    {
      "cell_type": "code",
      "metadata": {
        "id": "qdRIT26cmJaU",
        "colab_type": "code",
        "colab": {
          "base_uri": "https://localhost:8080/",
          "height": 35
        },
        "outputId": "59c099f4-df0e-4d9a-b25c-06ec9806ae96"
      },
      "source": [
        "3*4"
      ],
      "execution_count": 8,
      "outputs": [
        {
          "output_type": "display_data",
          "data": {
            "text/plain": [
              "[1] 12"
            ],
            "text/latex": "12",
            "text/markdown": "12",
            "text/html": [
              "12"
            ]
          },
          "metadata": {
            "tags": []
          }
        }
      ]
    },
    {
      "cell_type": "markdown",
      "metadata": {
        "id": "YJosA9N_mspd",
        "colab_type": "text"
      },
      "source": [
        "Division"
      ]
    },
    {
      "cell_type": "code",
      "metadata": {
        "id": "P0cinlydmubm",
        "colab_type": "code",
        "colab": {
          "base_uri": "https://localhost:8080/",
          "height": 35
        },
        "outputId": "4cd8ba84-8abc-4e8d-ed92-fff85d3242ab"
      },
      "source": [
        "4/3"
      ],
      "execution_count": 9,
      "outputs": [
        {
          "output_type": "display_data",
          "data": {
            "text/plain": [
              "[1] 1.333333"
            ],
            "text/latex": "1.33333333333333",
            "text/markdown": "1.33333333333333",
            "text/html": [
              "1.33333333333333"
            ]
          },
          "metadata": {
            "tags": []
          }
        }
      ]
    },
    {
      "cell_type": "markdown",
      "metadata": {
        "id": "cqyrChW4mxLb",
        "colab_type": "text"
      },
      "source": [
        "Potencia"
      ]
    },
    {
      "cell_type": "code",
      "metadata": {
        "id": "ZO5nvDUnm1D3",
        "colab_type": "code",
        "colab": {
          "base_uri": "https://localhost:8080/",
          "height": 35
        },
        "outputId": "7e6d81ef-3faa-4234-ba31-b6c1ccf76377"
      },
      "source": [
        "3^3"
      ],
      "execution_count": 10,
      "outputs": [
        {
          "output_type": "display_data",
          "data": {
            "text/plain": [
              "[1] 27"
            ],
            "text/latex": "27",
            "text/markdown": "27",
            "text/html": [
              "27"
            ]
          },
          "metadata": {
            "tags": []
          }
        }
      ]
    },
    {
      "cell_type": "markdown",
      "metadata": {
        "id": "1VjiuNo_nR1n",
        "colab_type": "text"
      },
      "source": [
        "Valor infinito"
      ]
    },
    {
      "cell_type": "code",
      "metadata": {
        "id": "IJt5UUPdnThm",
        "colab_type": "code",
        "colab": {
          "base_uri": "https://localhost:8080/",
          "height": 35
        },
        "outputId": "e1e4ab5f-804a-42f0-9f47-1f280540b8e4"
      },
      "source": [
        "5/0"
      ],
      "execution_count": 11,
      "outputs": [
        {
          "output_type": "display_data",
          "data": {
            "text/plain": [
              "[1] Inf"
            ],
            "text/latex": "Inf",
            "text/markdown": "Inf",
            "text/html": [
              "Inf"
            ]
          },
          "metadata": {
            "tags": []
          }
        }
      ]
    },
    {
      "cell_type": "markdown",
      "metadata": {
        "id": "c38i3rOHnYac",
        "colab_type": "text"
      },
      "source": [
        "Division entera"
      ]
    },
    {
      "cell_type": "code",
      "metadata": {
        "id": "ZjYYh1ssndkH",
        "colab_type": "code",
        "colab": {
          "base_uri": "https://localhost:8080/",
          "height": 35
        },
        "outputId": "21b4b9fa-76f7-4b99-c2f1-69c0242a3058"
      },
      "source": [
        "5%/%2"
      ],
      "execution_count": 12,
      "outputs": [
        {
          "output_type": "display_data",
          "data": {
            "text/plain": [
              "[1] 2"
            ],
            "text/latex": "2",
            "text/markdown": "2",
            "text/html": [
              "2"
            ]
          },
          "metadata": {
            "tags": []
          }
        }
      ]
    },
    {
      "cell_type": "markdown",
      "metadata": {
        "id": "ZO22kHSooPQv",
        "colab_type": "text"
      },
      "source": [
        "Modulo"
      ]
    },
    {
      "cell_type": "code",
      "metadata": {
        "id": "y5tpLy22oRDY",
        "colab_type": "code",
        "colab": {
          "base_uri": "https://localhost:8080/",
          "height": 35
        },
        "outputId": "4d946ab0-a819-4812-fc1b-06a967d3f637"
      },
      "source": [
        "5%%2"
      ],
      "execution_count": 13,
      "outputs": [
        {
          "output_type": "display_data",
          "data": {
            "text/plain": [
              "[1] 1"
            ],
            "text/latex": "1",
            "text/markdown": "1",
            "text/html": [
              "1"
            ]
          },
          "metadata": {
            "tags": []
          }
        }
      ]
    },
    {
      "cell_type": "markdown",
      "metadata": {
        "id": "oKx4rXy8oS4y",
        "colab_type": "text"
      },
      "source": [
        ""
      ]
    }
  ]
}