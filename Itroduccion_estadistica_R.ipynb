{
  "nbformat": 4,
  "nbformat_minor": 0,
  "metadata": {
    "colab": {
      "name": "Untitled0.ipynb",
      "provenance": [],
      "collapsed_sections": [
        "fcamhnRCoAlV",
        "l35Xy4Lyk3se",
        "KHKGH6-KNilR",
        "HMv-Jxo6QCEf",
        "oFmCYDB3Rp2z",
        "kBPj8XS8STF5",
        "2wdvd9Z8XgJQ"
      ],
      "include_colab_link": true
    },
    "kernelspec": {
      "name": "ir",
      "display_name": "R"
    }
  },
  "cells": [
    {
      "cell_type": "markdown",
      "metadata": {
        "id": "view-in-github",
        "colab_type": "text"
      },
      "source": [
        "<a href=\"https://colab.research.google.com/github/NatalyAraiza/Introduccion_estadistica_R/blob/master/Itroduccion_estadistica_R.ipynb\" target=\"_parent\"><img src=\"https://colab.research.google.com/assets/colab-badge.svg\" alt=\"Open In Colab\"/></a>"
      ]
    },
    {
      "cell_type": "markdown",
      "metadata": {
        "id": "sK0rxjTSc-tP",
        "colab_type": "text"
      },
      "source": [
        "#***Indice***\n",
        "---\n",
        "*   Comandos basicos en R\n",
        "*   Comandos matemáticos basicos\n",
        "*   Comandos estadisticos basicos\n",
        "*   Importar archivos y graficar\n"
      ]
    },
    {
      "cell_type": "markdown",
      "metadata": {
        "id": "fcamhnRCoAlV",
        "colab_type": "text"
      },
      "source": [
        "#***Comandos basicos en R***\n",
        "---\n"
      ]
    },
    {
      "cell_type": "markdown",
      "metadata": {
        "id": "AOvyySUpeiOI",
        "colab_type": "text"
      },
      "source": [
        "**Solicitar ayuda**"
      ]
    },
    {
      "cell_type": "code",
      "metadata": {
        "id": "olQhat35bKar",
        "colab_type": "code",
        "colab": {}
      },
      "source": [
        "help()"
      ],
      "execution_count": null,
      "outputs": []
    },
    {
      "cell_type": "markdown",
      "metadata": {
        "id": "MDRt5DoDeuTi",
        "colab_type": "text"
      },
      "source": [
        "**Ayuda en linea hiper texto**"
      ]
    },
    {
      "cell_type": "code",
      "metadata": {
        "id": "cK6D__Uye1MN",
        "colab_type": "code",
        "colab": {
          "base_uri": "https://localhost:8080/",
          "height": 119
        },
        "outputId": "5a32581f-a872-4e38-8930-4d55151df0e8"
      },
      "source": [
        "help.start()"
      ],
      "execution_count": null,
      "outputs": [
        {
          "output_type": "stream",
          "text": [
            "starting httpd help server ...\n",
            " done\n",
            "\n"
          ],
          "name": "stderr"
        },
        {
          "output_type": "stream",
          "text": [
            "If the browser launched by 'xdg-open' is already running, it is *not*\n",
            "    restarted, and you must switch to its window.\n",
            "Otherwise, be patient ...\n"
          ],
          "name": "stdout"
        }
      ]
    },
    {
      "cell_type": "markdown",
      "metadata": {
        "id": "U09_0LIIfdq-",
        "colab_type": "text"
      },
      "source": [
        "**Solicitar ayuda de una función especifica de R, en este caso distribución normal**"
      ]
    },
    {
      "cell_type": "code",
      "metadata": {
        "id": "SJSs_IkEfuIv",
        "colab_type": "code",
        "colab": {}
      },
      "source": [
        "? rnorm"
      ],
      "execution_count": null,
      "outputs": []
    },
    {
      "cell_type": "markdown",
      "metadata": {
        "id": "6ZZjL8Bsgaiq",
        "colab_type": "text"
      },
      "source": [
        "**Actualizar paquetes**"
      ]
    },
    {
      "cell_type": "code",
      "metadata": {
        "id": "w1fUOjIcgnXi",
        "colab_type": "code",
        "colab": {
          "base_uri": "https://localhost:8080/",
          "height": 1000
        },
        "outputId": "c904bbcf-8e87-4531-a9b0-6b8a799337c3"
      },
      "source": [
        "update.packages"
      ],
      "execution_count": null,
      "outputs": [
        {
          "output_type": "display_data",
          "data": {
            "text/plain": [
              "function (lib.loc = NULL, repos = getOption(\"repos\"), contriburl = contrib.url(repos, \n",
              "    type), method, instlib = NULL, ask = TRUE, available = NULL, \n",
              "    oldPkgs = NULL, ..., checkBuilt = FALSE, type = getOption(\"pkgType\")) \n",
              "{\n",
              "    force(ask)\n",
              "    text.select <- function(old) {\n",
              "        update <- NULL\n",
              "        for (k in seq_len(nrow(old))) {\n",
              "            cat(old[k, \"Package\"], \":\\n\", \"Version\", old[k, \"Installed\"], \n",
              "                \"installed in\", old[k, \"LibPath\"], if (checkBuilt) \n",
              "                  paste(\"built under R\", old[k, \"Built\"]), \"\\n\", \n",
              "                \"Version\", old[k, \"ReposVer\"], \"available at\", \n",
              "                simplifyRepos(old[k, \"Repository\"], type))\n",
              "            cat(\"\\n\")\n",
              "            answer <- askYesNo(\"Update?\")\n",
              "            if (is.na(answer)) {\n",
              "                cat(\"cancelled by user\\n\")\n",
              "                return(invisible())\n",
              "            }\n",
              "            if (isTRUE(answer)) \n",
              "                update <- rbind(update, old[k, ])\n",
              "        }\n",
              "        update\n",
              "    }\n",
              "    if (is.null(lib.loc)) \n",
              "        lib.loc <- .libPaths()\n",
              "    if (type == \"both\" && (!missing(contriburl) || !is.null(available))) {\n",
              "        stop(\"specifying 'contriburl' or 'available' requires a single type, not type = \\\"both\\\"\")\n",
              "    }\n",
              "    if (is.null(available)) {\n",
              "        available <- available.packages(contriburl = contriburl, \n",
              "            method = method, ...)\n",
              "        if (missing(repos)) \n",
              "            repos <- getOption(\"repos\")\n",
              "    }\n",
              "    if (!is.matrix(oldPkgs) && is.character(oldPkgs)) {\n",
              "        subset <- oldPkgs\n",
              "        oldPkgs <- NULL\n",
              "    }\n",
              "    else subset <- NULL\n",
              "    if (is.null(oldPkgs)) {\n",
              "        oldPkgs <- old.packages(lib.loc = lib.loc, contriburl = contriburl, \n",
              "            method = method, available = available, checkBuilt = checkBuilt)\n",
              "        if (missing(repos)) \n",
              "            repos <- getOption(\"repos\")\n",
              "        if (!is.null(oldPkgs)) {\n",
              "            pkg <- 0L\n",
              "            while (pkg < nrow(oldPkgs)) {\n",
              "                pkg <- pkg + 1L\n",
              "                if (find.package(oldPkgs[pkg], lib.loc = lib.loc) != \n",
              "                  find.package(oldPkgs[pkg], lib.loc = oldPkgs[pkg, \n",
              "                    2])) {\n",
              "                  warning(sprintf(\"package '%s' in library '%s' will not be updated\", \n",
              "                    oldPkgs[pkg], oldPkgs[pkg, 2]), call. = FALSE, \n",
              "                    immediate. = TRUE)\n",
              "                  oldPkgs <- oldPkgs[-pkg, , drop = FALSE]\n",
              "                  pkg <- pkg - 1L\n",
              "                }\n",
              "            }\n",
              "        }\n",
              "        if (is.null(oldPkgs)) \n",
              "            return(invisible())\n",
              "    }\n",
              "    else if (!(is.matrix(oldPkgs) && is.character(oldPkgs))) \n",
              "        stop(\"invalid 'oldPkgs'; must be a character vector or a result from old.packages()\")\n",
              "    if (!is.null(subset)) {\n",
              "        oldPkgs <- oldPkgs[rownames(oldPkgs) %in% subset, , drop = FALSE]\n",
              "        if (nrow(oldPkgs) == 0) \n",
              "            return(invisible())\n",
              "    }\n",
              "    update <- if (is.character(ask) && ask == \"graphics\") {\n",
              "        if (.Platform$OS.type == \"windows\" || .Platform$GUI == \n",
              "            \"AQUA\" || (capabilities(\"tcltk\") && capabilities(\"X11\"))) {\n",
              "            k <- select.list(oldPkgs[, 1L], oldPkgs[, 1L], multiple = TRUE, \n",
              "                title = \"Packages to be updated\", graphics = TRUE)\n",
              "            oldPkgs[match(k, oldPkgs[, 1L]), , drop = FALSE]\n",
              "        }\n",
              "        else text.select(oldPkgs)\n",
              "    }\n",
              "    else if (isTRUE(ask)) \n",
              "        text.select(oldPkgs)\n",
              "    else oldPkgs\n",
              "    if (length(update)) {\n",
              "        if (is.null(instlib)) \n",
              "            instlib <- update[, \"LibPath\"]\n",
              "        libs <- unique(instlib)\n",
              "        for (l in libs) if (type == \"both\") \n",
              "            install.packages(update[instlib == l, \"Package\"], \n",
              "                l, repos = repos, method = method, ..., type = type)\n",
              "        else install.packages(update[instlib == l, \"Package\"], \n",
              "            l, contriburl = contriburl, method = method, available = available, \n",
              "            ..., type = type)\n",
              "    }\n",
              "}\n",
              "<bytecode: 0x564680bfcdd0>\n",
              "<environment: namespace:utils>"
            ],
            "text/latex": "\\begin{minted}{r}\nfunction (lib.loc = NULL, repos = getOption(\"repos\"), contriburl = contrib.url(repos, \n    type), method, instlib = NULL, ask = TRUE, available = NULL, \n    oldPkgs = NULL, ..., checkBuilt = FALSE, type = getOption(\"pkgType\")) \n\\{\n    force(ask)\n    text.select <- function(old) \\{\n        update <- NULL\n        for (k in seq\\_len(nrow(old))) \\{\n            cat(old{[}k, \"Package\"{]}, \":\\textbackslash{}n\", \"Version\", old{[}k, \"Installed\"{]}, \n                \"installed in\", old{[}k, \"LibPath\"{]}, if (checkBuilt) \n                  paste(\"built under R\", old{[}k, \"Built\"{]}), \"\\textbackslash{}n\", \n                \"Version\", old{[}k, \"ReposVer\"{]}, \"available at\", \n                simplifyRepos(old{[}k, \"Repository\"{]}, type))\n            cat(\"\\textbackslash{}n\")\n            answer <- askYesNo(\"Update?\")\n            if (is.na(answer)) \\{\n                cat(\"cancelled by user\\textbackslash{}n\")\n                return(invisible())\n            \\}\n            if (isTRUE(answer)) \n                update <- rbind(update, old{[}k, {]})\n        \\}\n        update\n    \\}\n    if (is.null(lib.loc)) \n        lib.loc <- .libPaths()\n    if (type == \"both\" \\&\\& (!missing(contriburl) \\textbar{}\\textbar{} !is.null(available))) \\{\n        stop(\"specifying 'contriburl' or 'available' requires a single type, not type = \\textbackslash{}\"both\\textbackslash{}\"\")\n    \\}\n    if (is.null(available)) \\{\n        available <- available.packages(contriburl = contriburl, \n            method = method, ...)\n        if (missing(repos)) \n            repos <- getOption(\"repos\")\n    \\}\n    if (!is.matrix(oldPkgs) \\&\\& is.character(oldPkgs)) \\{\n        subset <- oldPkgs\n        oldPkgs <- NULL\n    \\}\n    else subset <- NULL\n    if (is.null(oldPkgs)) \\{\n        oldPkgs <- old.packages(lib.loc = lib.loc, contriburl = contriburl, \n            method = method, available = available, checkBuilt = checkBuilt)\n        if (missing(repos)) \n            repos <- getOption(\"repos\")\n        if (!is.null(oldPkgs)) \\{\n            pkg <- 0L\n            while (pkg < nrow(oldPkgs)) \\{\n                pkg <- pkg + 1L\n                if (find.package(oldPkgs{[}pkg{]}, lib.loc = lib.loc) != \n                  find.package(oldPkgs{[}pkg{]}, lib.loc = oldPkgs{[}pkg, \n                    2{]})) \\{\n                  warning(sprintf(\"package '\\%s' in library '\\%s' will not be updated\", \n                    oldPkgs{[}pkg{]}, oldPkgs{[}pkg, 2{]}), call. = FALSE, \n                    immediate. = TRUE)\n                  oldPkgs <- oldPkgs{[}-pkg, , drop = FALSE{]}\n                  pkg <- pkg - 1L\n                \\}\n            \\}\n        \\}\n        if (is.null(oldPkgs)) \n            return(invisible())\n    \\}\n    else if (!(is.matrix(oldPkgs) \\&\\& is.character(oldPkgs))) \n        stop(\"invalid 'oldPkgs'; must be a character vector or a result from old.packages()\")\n    if (!is.null(subset)) \\{\n        oldPkgs <- oldPkgs{[}rownames(oldPkgs) \\%in\\% subset, , drop = FALSE{]}\n        if (nrow(oldPkgs) == 0) \n            return(invisible())\n    \\}\n    update <- if (is.character(ask) \\&\\& ask == \"graphics\") \\{\n        if (.Platform\\$OS.type == \"windows\" \\textbar{}\\textbar{} .Platform\\$GUI == \n            \"AQUA\" \\textbar{}\\textbar{} (capabilities(\"tcltk\") \\&\\& capabilities(\"X11\"))) \\{\n            k <- select.list(oldPkgs{[}, 1L{]}, oldPkgs{[}, 1L{]}, multiple = TRUE, \n                title = \"Packages to be updated\", graphics = TRUE)\n            oldPkgs{[}match(k, oldPkgs{[}, 1L{]}), , drop = FALSE{]}\n        \\}\n        else text.select(oldPkgs)\n    \\}\n    else if (isTRUE(ask)) \n        text.select(oldPkgs)\n    else oldPkgs\n    if (length(update)) \\{\n        if (is.null(instlib)) \n            instlib <- update{[}, \"LibPath\"{]}\n        libs <- unique(instlib)\n        for (l in libs) if (type == \"both\") \n            install.packages(update{[}instlib == l, \"Package\"{]}, \n                l, repos = repos, method = method, ..., type = type)\n        else install.packages(update{[}instlib == l, \"Package\"{]}, \n            l, contriburl = contriburl, method = method, available = available, \n            ..., type = type)\n    \\}\n\\}\n\\end{minted}",
            "text/markdown": "```r\nfunction (lib.loc = NULL, repos = getOption(\"repos\"), contriburl = contrib.url(repos, \n    type), method, instlib = NULL, ask = TRUE, available = NULL, \n    oldPkgs = NULL, ..., checkBuilt = FALSE, type = getOption(\"pkgType\")) \n{\n    force(ask)\n    text.select <- function(old) {\n        update <- NULL\n        for (k in seq_len(nrow(old))) {\n            cat(old[k, \"Package\"], \":\\n\", \"Version\", old[k, \"Installed\"], \n                \"installed in\", old[k, \"LibPath\"], if (checkBuilt) \n                  paste(\"built under R\", old[k, \"Built\"]), \"\\n\", \n                \"Version\", old[k, \"ReposVer\"], \"available at\", \n                simplifyRepos(old[k, \"Repository\"], type))\n            cat(\"\\n\")\n            answer <- askYesNo(\"Update?\")\n            if (is.na(answer)) {\n                cat(\"cancelled by user\\n\")\n                return(invisible())\n            }\n            if (isTRUE(answer)) \n                update <- rbind(update, old[k, ])\n        }\n        update\n    }\n    if (is.null(lib.loc)) \n        lib.loc <- .libPaths()\n    if (type == \"both\" && (!missing(contriburl) || !is.null(available))) {\n        stop(\"specifying 'contriburl' or 'available' requires a single type, not type = \\\"both\\\"\")\n    }\n    if (is.null(available)) {\n        available <- available.packages(contriburl = contriburl, \n            method = method, ...)\n        if (missing(repos)) \n            repos <- getOption(\"repos\")\n    }\n    if (!is.matrix(oldPkgs) && is.character(oldPkgs)) {\n        subset <- oldPkgs\n        oldPkgs <- NULL\n    }\n    else subset <- NULL\n    if (is.null(oldPkgs)) {\n        oldPkgs <- old.packages(lib.loc = lib.loc, contriburl = contriburl, \n            method = method, available = available, checkBuilt = checkBuilt)\n        if (missing(repos)) \n            repos <- getOption(\"repos\")\n        if (!is.null(oldPkgs)) {\n            pkg <- 0L\n            while (pkg < nrow(oldPkgs)) {\n                pkg <- pkg + 1L\n                if (find.package(oldPkgs[pkg], lib.loc = lib.loc) != \n                  find.package(oldPkgs[pkg], lib.loc = oldPkgs[pkg, \n                    2])) {\n                  warning(sprintf(\"package '%s' in library '%s' will not be updated\", \n                    oldPkgs[pkg], oldPkgs[pkg, 2]), call. = FALSE, \n                    immediate. = TRUE)\n                  oldPkgs <- oldPkgs[-pkg, , drop = FALSE]\n                  pkg <- pkg - 1L\n                }\n            }\n        }\n        if (is.null(oldPkgs)) \n            return(invisible())\n    }\n    else if (!(is.matrix(oldPkgs) && is.character(oldPkgs))) \n        stop(\"invalid 'oldPkgs'; must be a character vector or a result from old.packages()\")\n    if (!is.null(subset)) {\n        oldPkgs <- oldPkgs[rownames(oldPkgs) %in% subset, , drop = FALSE]\n        if (nrow(oldPkgs) == 0) \n            return(invisible())\n    }\n    update <- if (is.character(ask) && ask == \"graphics\") {\n        if (.Platform$OS.type == \"windows\" || .Platform$GUI == \n            \"AQUA\" || (capabilities(\"tcltk\") && capabilities(\"X11\"))) {\n            k <- select.list(oldPkgs[, 1L], oldPkgs[, 1L], multiple = TRUE, \n                title = \"Packages to be updated\", graphics = TRUE)\n            oldPkgs[match(k, oldPkgs[, 1L]), , drop = FALSE]\n        }\n        else text.select(oldPkgs)\n    }\n    else if (isTRUE(ask)) \n        text.select(oldPkgs)\n    else oldPkgs\n    if (length(update)) {\n        if (is.null(instlib)) \n            instlib <- update[, \"LibPath\"]\n        libs <- unique(instlib)\n        for (l in libs) if (type == \"both\") \n            install.packages(update[instlib == l, \"Package\"], \n                l, repos = repos, method = method, ..., type = type)\n        else install.packages(update[instlib == l, \"Package\"], \n            l, contriburl = contriburl, method = method, available = available, \n            ..., type = type)\n    }\n}\n```",
            "text/html": [
              "<pre class=language-r><code>function (lib.loc = NULL, repos = getOption(\"repos\"), contriburl = contrib.url(repos, \n",
              "<span style=white-space:pre-wrap>    type), method, instlib = NULL, ask = TRUE, available = NULL, </span>\n",
              "<span style=white-space:pre-wrap>    oldPkgs = NULL, ..., checkBuilt = FALSE, type = getOption(\"pkgType\")) </span>\n",
              "{\n",
              "<span style=white-space:pre-wrap>    force(ask)</span>\n",
              "<span style=white-space:pre-wrap>    text.select &lt;- function(old) {</span>\n",
              "<span style=white-space:pre-wrap>        update &lt;- NULL</span>\n",
              "<span style=white-space:pre-wrap>        for (k in seq_len(nrow(old))) {</span>\n",
              "<span style=white-space:pre-wrap>            cat(old[k, \"Package\"], \":\\n\", \"Version\", old[k, \"Installed\"], </span>\n",
              "<span style=white-space:pre-wrap>                \"installed in\", old[k, \"LibPath\"], if (checkBuilt) </span>\n",
              "<span style=white-space:pre-wrap>                  paste(\"built under R\", old[k, \"Built\"]), \"\\n\", </span>\n",
              "<span style=white-space:pre-wrap>                \"Version\", old[k, \"ReposVer\"], \"available at\", </span>\n",
              "<span style=white-space:pre-wrap>                simplifyRepos(old[k, \"Repository\"], type))</span>\n",
              "<span style=white-space:pre-wrap>            cat(\"\\n\")</span>\n",
              "<span style=white-space:pre-wrap>            answer &lt;- askYesNo(\"Update?\")</span>\n",
              "<span style=white-space:pre-wrap>            if (is.na(answer)) {</span>\n",
              "<span style=white-space:pre-wrap>                cat(\"cancelled by user\\n\")</span>\n",
              "<span style=white-space:pre-wrap>                return(invisible())</span>\n",
              "<span style=white-space:pre-wrap>            }</span>\n",
              "<span style=white-space:pre-wrap>            if (isTRUE(answer)) </span>\n",
              "<span style=white-space:pre-wrap>                update &lt;- rbind(update, old[k, ])</span>\n",
              "<span style=white-space:pre-wrap>        }</span>\n",
              "<span style=white-space:pre-wrap>        update</span>\n",
              "<span style=white-space:pre-wrap>    }</span>\n",
              "<span style=white-space:pre-wrap>    if (is.null(lib.loc)) </span>\n",
              "<span style=white-space:pre-wrap>        lib.loc &lt;- .libPaths()</span>\n",
              "<span style=white-space:pre-wrap>    if (type == \"both\" &amp;&amp; (!missing(contriburl) || !is.null(available))) {</span>\n",
              "<span style=white-space:pre-wrap>        stop(\"specifying 'contriburl' or 'available' requires a single type, not type = \\\"both\\\"\")</span>\n",
              "<span style=white-space:pre-wrap>    }</span>\n",
              "<span style=white-space:pre-wrap>    if (is.null(available)) {</span>\n",
              "<span style=white-space:pre-wrap>        available &lt;- available.packages(contriburl = contriburl, </span>\n",
              "<span style=white-space:pre-wrap>            method = method, ...)</span>\n",
              "<span style=white-space:pre-wrap>        if (missing(repos)) </span>\n",
              "<span style=white-space:pre-wrap>            repos &lt;- getOption(\"repos\")</span>\n",
              "<span style=white-space:pre-wrap>    }</span>\n",
              "<span style=white-space:pre-wrap>    if (!is.matrix(oldPkgs) &amp;&amp; is.character(oldPkgs)) {</span>\n",
              "<span style=white-space:pre-wrap>        subset &lt;- oldPkgs</span>\n",
              "<span style=white-space:pre-wrap>        oldPkgs &lt;- NULL</span>\n",
              "<span style=white-space:pre-wrap>    }</span>\n",
              "<span style=white-space:pre-wrap>    else subset &lt;- NULL</span>\n",
              "<span style=white-space:pre-wrap>    if (is.null(oldPkgs)) {</span>\n",
              "<span style=white-space:pre-wrap>        oldPkgs &lt;- old.packages(lib.loc = lib.loc, contriburl = contriburl, </span>\n",
              "<span style=white-space:pre-wrap>            method = method, available = available, checkBuilt = checkBuilt)</span>\n",
              "<span style=white-space:pre-wrap>        if (missing(repos)) </span>\n",
              "<span style=white-space:pre-wrap>            repos &lt;- getOption(\"repos\")</span>\n",
              "<span style=white-space:pre-wrap>        if (!is.null(oldPkgs)) {</span>\n",
              "<span style=white-space:pre-wrap>            pkg &lt;- 0L</span>\n",
              "<span style=white-space:pre-wrap>            while (pkg &lt; nrow(oldPkgs)) {</span>\n",
              "<span style=white-space:pre-wrap>                pkg &lt;- pkg + 1L</span>\n",
              "<span style=white-space:pre-wrap>                if (find.package(oldPkgs[pkg], lib.loc = lib.loc) != </span>\n",
              "<span style=white-space:pre-wrap>                  find.package(oldPkgs[pkg], lib.loc = oldPkgs[pkg, </span>\n",
              "<span style=white-space:pre-wrap>                    2])) {</span>\n",
              "<span style=white-space:pre-wrap>                  warning(sprintf(\"package '%s' in library '%s' will not be updated\", </span>\n",
              "<span style=white-space:pre-wrap>                    oldPkgs[pkg], oldPkgs[pkg, 2]), call. = FALSE, </span>\n",
              "<span style=white-space:pre-wrap>                    immediate. = TRUE)</span>\n",
              "<span style=white-space:pre-wrap>                  oldPkgs &lt;- oldPkgs[-pkg, , drop = FALSE]</span>\n",
              "<span style=white-space:pre-wrap>                  pkg &lt;- pkg - 1L</span>\n",
              "<span style=white-space:pre-wrap>                }</span>\n",
              "<span style=white-space:pre-wrap>            }</span>\n",
              "<span style=white-space:pre-wrap>        }</span>\n",
              "<span style=white-space:pre-wrap>        if (is.null(oldPkgs)) </span>\n",
              "<span style=white-space:pre-wrap>            return(invisible())</span>\n",
              "<span style=white-space:pre-wrap>    }</span>\n",
              "<span style=white-space:pre-wrap>    else if (!(is.matrix(oldPkgs) &amp;&amp; is.character(oldPkgs))) </span>\n",
              "<span style=white-space:pre-wrap>        stop(\"invalid 'oldPkgs'; must be a character vector or a result from old.packages()\")</span>\n",
              "<span style=white-space:pre-wrap>    if (!is.null(subset)) {</span>\n",
              "<span style=white-space:pre-wrap>        oldPkgs &lt;- oldPkgs[rownames(oldPkgs) %in% subset, , drop = FALSE]</span>\n",
              "<span style=white-space:pre-wrap>        if (nrow(oldPkgs) == 0) </span>\n",
              "<span style=white-space:pre-wrap>            return(invisible())</span>\n",
              "<span style=white-space:pre-wrap>    }</span>\n",
              "<span style=white-space:pre-wrap>    update &lt;- if (is.character(ask) &amp;&amp; ask == \"graphics\") {</span>\n",
              "<span style=white-space:pre-wrap>        if (.Platform$OS.type == \"windows\" || .Platform$GUI == </span>\n",
              "<span style=white-space:pre-wrap>            \"AQUA\" || (capabilities(\"tcltk\") &amp;&amp; capabilities(\"X11\"))) {</span>\n",
              "<span style=white-space:pre-wrap>            k &lt;- select.list(oldPkgs[, 1L], oldPkgs[, 1L], multiple = TRUE, </span>\n",
              "<span style=white-space:pre-wrap>                title = \"Packages to be updated\", graphics = TRUE)</span>\n",
              "<span style=white-space:pre-wrap>            oldPkgs[match(k, oldPkgs[, 1L]), , drop = FALSE]</span>\n",
              "<span style=white-space:pre-wrap>        }</span>\n",
              "<span style=white-space:pre-wrap>        else text.select(oldPkgs)</span>\n",
              "<span style=white-space:pre-wrap>    }</span>\n",
              "<span style=white-space:pre-wrap>    else if (isTRUE(ask)) </span>\n",
              "<span style=white-space:pre-wrap>        text.select(oldPkgs)</span>\n",
              "<span style=white-space:pre-wrap>    else oldPkgs</span>\n",
              "<span style=white-space:pre-wrap>    if (length(update)) {</span>\n",
              "<span style=white-space:pre-wrap>        if (is.null(instlib)) </span>\n",
              "<span style=white-space:pre-wrap>            instlib &lt;- update[, \"LibPath\"]</span>\n",
              "<span style=white-space:pre-wrap>        libs &lt;- unique(instlib)</span>\n",
              "<span style=white-space:pre-wrap>        for (l in libs) if (type == \"both\") </span>\n",
              "<span style=white-space:pre-wrap>            install.packages(update[instlib == l, \"Package\"], </span>\n",
              "<span style=white-space:pre-wrap>                l, repos = repos, method = method, ..., type = type)</span>\n",
              "<span style=white-space:pre-wrap>        else install.packages(update[instlib == l, \"Package\"], </span>\n",
              "<span style=white-space:pre-wrap>            l, contriburl = contriburl, method = method, available = available, </span>\n",
              "<span style=white-space:pre-wrap>            ..., type = type)</span>\n",
              "<span style=white-space:pre-wrap>    }</span>\n",
              "}</code></pre>"
            ]
          },
          "metadata": {
            "tags": []
          }
        }
      ]
    },
    {
      "cell_type": "markdown",
      "metadata": {
        "id": "4gfIJixigqpu",
        "colab_type": "text"
      },
      "source": [
        "**Instalar un paquete esfecifico (Ej. \"qcc\")**"
      ]
    },
    {
      "cell_type": "code",
      "metadata": {
        "id": "4uVVNSqihfxN",
        "colab_type": "code",
        "colab": {
          "base_uri": "https://localhost:8080/",
          "height": 68
        },
        "outputId": "9e078147-6f91-43ae-ef9e-cc7b23aec9aa"
      },
      "source": [
        "install.packages(\"qcc\")"
      ],
      "execution_count": null,
      "outputs": [
        {
          "output_type": "stream",
          "text": [
            "Installing package into ‘/usr/local/lib/R/site-library’\n",
            "(as ‘lib’ is unspecified)\n",
            "\n"
          ],
          "name": "stderr"
        }
      ]
    },
    {
      "cell_type": "markdown",
      "metadata": {
        "id": "i5PIYFm6hlma",
        "colab_type": "text"
      },
      "source": [
        "**Cargar un paquete instalado**\n",
        "\n",
        "Nota: En R para utilizar ciertas funciones primero tenemos que instalar un paquete y despues cargarlo. Ambos pasos son necesarios."
      ]
    },
    {
      "cell_type": "code",
      "metadata": {
        "id": "_BRnltsaidER",
        "colab_type": "code",
        "colab": {}
      },
      "source": [
        "library(\"qcc\")"
      ],
      "execution_count": null,
      "outputs": []
    },
    {
      "cell_type": "markdown",
      "metadata": {
        "id": "_Sz6k8pRieGj",
        "colab_type": "text"
      },
      "source": [
        "**Muestra el directorio de trabajo actual**"
      ]
    },
    {
      "cell_type": "code",
      "metadata": {
        "id": "1VpcDN-miwfs",
        "colab_type": "code",
        "colab": {
          "base_uri": "https://localhost:8080/",
          "height": 34
        },
        "outputId": "3f1a0340-f7ba-4e2a-b2dd-ec33bc7bc558"
      },
      "source": [
        "getwd()"
      ],
      "execution_count": null,
      "outputs": [
        {
          "output_type": "display_data",
          "data": {
            "text/plain": [
              "[1] \"/content\""
            ],
            "text/latex": "'/content'",
            "text/markdown": "'/content'",
            "text/html": [
              "'/content'"
            ]
          },
          "metadata": {
            "tags": []
          }
        }
      ]
    },
    {
      "cell_type": "markdown",
      "metadata": {
        "id": "8vfpt7sNizTe",
        "colab_type": "text"
      },
      "source": [
        "**Cambiar directorio de trabajo**\n",
        "\n",
        "Al usar nuevamente getwd() vemos que se actualizó el directorio de trabajo"
      ]
    },
    {
      "cell_type": "code",
      "metadata": {
        "id": "QXfxz_tWj7by",
        "colab_type": "code",
        "colab": {}
      },
      "source": [
        "setwd(\"sample_data\")"
      ],
      "execution_count": null,
      "outputs": []
    },
    {
      "cell_type": "code",
      "metadata": {
        "id": "4-1zBTSukEGJ",
        "colab_type": "code",
        "colab": {
          "base_uri": "https://localhost:8080/",
          "height": 34
        },
        "outputId": "81d5c6c2-246e-4bb9-e2bc-9159e6e6ed09"
      },
      "source": [
        "getwd()"
      ],
      "execution_count": null,
      "outputs": [
        {
          "output_type": "display_data",
          "data": {
            "text/plain": [
              "[1] \"/content/sample_data\""
            ],
            "text/latex": "'/content/sample\\_data'",
            "text/markdown": "'/content/sample_data'",
            "text/html": [
              "'/content/sample_data'"
            ]
          },
          "metadata": {
            "tags": []
          }
        }
      ]
    },
    {
      "cell_type": "markdown",
      "metadata": {
        "id": "cU7uIWbsKrB-",
        "colab_type": "text"
      },
      "source": [
        "**Crea una carpeta llamada pruebas en el caso de que no exista**"
      ]
    },
    {
      "cell_type": "code",
      "metadata": {
        "id": "9zICz2TtKru-",
        "colab_type": "code",
        "colab": {}
      },
      "source": [
        " if ( !file.exists(\"pruebas\") ) { dir.create(\"pruebas\") }"
      ],
      "execution_count": null,
      "outputs": []
    },
    {
      "cell_type": "markdown",
      "metadata": {
        "id": "vWpigeOIK4UU",
        "colab_type": "text"
      },
      "source": [
        "**R cuenta con varios demos, con ellos podemos conocer algunas funciones de cierto paquetes para tener una idea general de lo que se puede hacer con ellos**\n",
        "\n",
        "\n",
        "**Con este comando podemos ver la lista de los demos existentes**"
      ]
    },
    {
      "cell_type": "code",
      "metadata": {
        "id": "5J4_ocmfLZ4n",
        "colab_type": "code",
        "colab": {}
      },
      "source": [
        "demo()"
      ],
      "execution_count": null,
      "outputs": []
    },
    {
      "cell_type": "markdown",
      "metadata": {
        "id": "1XoRGBLDLb4i",
        "colab_type": "text"
      },
      "source": [
        "**Para correr un demo en especial utilizamos el mismo comando pero le indicamos el nombre del demo que deseamos**"
      ]
    },
    {
      "cell_type": "code",
      "metadata": {
        "id": "d2J55uuwLg0h",
        "colab_type": "code",
        "colab": {
          "base_uri": "https://localhost:8080/",
          "height": 1000
        },
        "outputId": "f3b33fc3-7847-4931-f371-77b5e6490d57"
      },
      "source": [
        "demo(\"plotmath\")"
      ],
      "execution_count": null,
      "outputs": [
        {
          "output_type": "stream",
          "text": [
            "\n",
            "\n",
            "\tdemo(plotmath)\n",
            "\t---- ~~~~~~~~\n",
            "\n",
            "> #  Copyright (C) 2002-2016 The R Core Team\n",
            "> \n",
            "> require(datasets)\n",
            "\n",
            "> require(grDevices); require(graphics)\n",
            "\n",
            "> ## --- \"math annotation\" in plots :\n",
            "> \n",
            "> ######\n",
            "> # create tables of mathematical annotation functionality\n",
            "> ######\n",
            "> make.table <- function(nr, nc) {\n",
            "+     savepar <- par(mar=rep(0, 4), pty=\"s\")\n",
            "+     plot(c(0, nc*2 + 1), c(0, -(nr + 1)),\n",
            "+          type=\"n\", xlab=\"\", ylab=\"\", axes=FALSE)\n",
            "+     savepar\n",
            "+ }\n",
            "\n",
            "> get.r <- function(i, nr) {\n",
            "+     i %% nr + 1\n",
            "+ }\n",
            "\n",
            "> get.c <- function(i, nr) {\n",
            "+     i %/% nr + 1\n",
            "+ }\n",
            "\n",
            "> draw.title.cell <- function(title, i, nr) {\n",
            "+     r <- get.r(i, nr)\n",
            "+     c <- get.c(i, nr)\n",
            "+     text(2*c - .5, -r, title)\n",
            "+     rect((2*(c - 1) + .5), -(r - .5), (2*c + .5), -(r + .5))\n",
            "+ }\n",
            "\n",
            "> draw.plotmath.cell <- function(expr, i, nr, string = NULL) {\n",
            "+     r <- get.r(i, nr)\n",
            "+     c <- get.c(i, nr)\n",
            "+     if (is.null(string)) {\n",
            "+         string <- deparse(expr)\n",
            "+         string <- substr(string, 12, nchar(string) - 1)\n",
            "+     }\n",
            "+     text((2*(c - 1) + 1), -r, string, col=\"grey50\")\n",
            "+     text((2*c), -r, expr, adj=c(.5,.5))\n",
            "+     rect((2*(c - 1) + .5), -(r - .5), (2*c + .5), -(r + .5), border=\"grey\")\n",
            "+ }\n",
            "\n",
            "> nr <- 20\n",
            "\n",
            "> nc <- 2\n",
            "\n",
            "> oldpar <- make.table(nr, nc)\n",
            "\n",
            "> i <- 0\n",
            "\n",
            "> draw.title.cell(\"Arithmetic Operators\", i, nr); i <- i + 1\n",
            "\n",
            "> draw.plotmath.cell(expression(x + y), i, nr); i <- i + 1\n",
            "\n",
            "> draw.plotmath.cell(expression(x - y), i, nr); i <- i + 1\n",
            "\n",
            "> draw.plotmath.cell(expression(x * y), i, nr); i <- i + 1\n",
            "\n",
            "> draw.plotmath.cell(expression(x / y), i, nr); i <- i + 1\n",
            "\n",
            "> draw.plotmath.cell(expression(x %+-% y), i, nr); i <- i + 1\n",
            "\n",
            "> draw.plotmath.cell(expression(x %/% y), i, nr); i <- i + 1\n",
            "\n",
            "> draw.plotmath.cell(expression(x %*% y), i, nr); i <- i + 1\n",
            "\n",
            "> draw.plotmath.cell(expression(x %.% y), i, nr); i <- i + 1\n",
            "\n",
            "> draw.plotmath.cell(expression(-x), i, nr); i <- i + 1\n",
            "\n",
            "> draw.plotmath.cell(expression(+x), i, nr); i <- i + 1\n",
            "\n",
            "> draw.title.cell(\"Sub/Superscripts\", i, nr); i <- i + 1\n",
            "\n",
            "> draw.plotmath.cell(expression(x[i]), i, nr); i <- i + 1\n",
            "\n",
            "> draw.plotmath.cell(expression(x^2), i, nr); i <- i + 1\n",
            "\n",
            "> draw.title.cell(\"Juxtaposition\", i, nr); i <- i + 1\n",
            "\n",
            "> draw.plotmath.cell(expression(x * y), i, nr); i <- i + 1\n",
            "\n",
            "> draw.plotmath.cell(expression(paste(x, y, z)), i, nr); i <- i + 1\n",
            "\n",
            "> draw.title.cell(\"Radicals\", i, nr); i <- i + 1\n",
            "\n",
            "> draw.plotmath.cell(expression(sqrt(x)), i, nr); i <- i + 1\n",
            "\n",
            "> draw.plotmath.cell(expression(sqrt(x, y)), i, nr); i <- i + 1\n",
            "\n",
            "> draw.title.cell(\"Lists\", i, nr); i <- i + 1\n",
            "\n",
            "> draw.plotmath.cell(expression(list(x, y, z)), i, nr); i <- i + 1\n",
            "\n",
            "> draw.title.cell(\"Relations\", i, nr); i <- i + 1\n",
            "\n",
            "> draw.plotmath.cell(expression(x == y), i, nr); i <- i + 1\n",
            "\n",
            "> draw.plotmath.cell(expression(x != y), i, nr); i <- i + 1\n",
            "\n",
            "> draw.plotmath.cell(expression(x < y), i, nr); i <- i + 1\n",
            "\n",
            "> draw.plotmath.cell(expression(x <= y), i, nr); i <- i + 1\n",
            "\n",
            "> draw.plotmath.cell(expression(x > y), i, nr); i <- i + 1\n",
            "\n",
            "> draw.plotmath.cell(expression(x >= y), i, nr); i <- i + 1\n",
            "\n",
            "> draw.plotmath.cell(expression(x %~~% y), i, nr); i <- i + 1\n",
            "\n",
            "> draw.plotmath.cell(expression(x %=~% y), i, nr); i <- i + 1\n",
            "\n",
            "> draw.plotmath.cell(expression(x %==% y), i, nr); i <- i + 1\n",
            "\n",
            "> draw.plotmath.cell(expression(x %prop% y), i, nr); i <- i + 1\n",
            "\n",
            "> draw.plotmath.cell(expression(x %~% y), i, nr); i <- i + 1\n",
            "\n",
            "> draw.title.cell(\"Typeface\", i, nr); i <- i + 1\n",
            "\n",
            "> draw.plotmath.cell(expression(plain(x)), i, nr); i <- i + 1\n",
            "\n",
            "> draw.plotmath.cell(expression(italic(x)), i, nr); i <- i + 1\n",
            "\n",
            "> draw.plotmath.cell(expression(bold(x)), i, nr); i <- i + 1\n",
            "\n",
            "> draw.plotmath.cell(expression(bolditalic(x)), i, nr); i <- i + 1\n",
            "\n",
            "> draw.plotmath.cell(expression(underline(x)), i, nr); i <- i + 1\n",
            "\n",
            "> # Need fewer, wider columns for ellipsis ...\n",
            "> nr <- 20\n",
            "\n",
            "> nc <- 2\n",
            "\n",
            "> make.table(nr, nc)\n"
          ],
          "name": "stdout"
        },
        {
          "output_type": "display_data",
          "data": {
            "image/png": "[encoded data removed]",
            "text/plain": [
              "plot without title"
            ]
          },
          "metadata": {
            "tags": [],
            "image/png": {
              "width": 420,
              "height": 420
            },
            "text/plain": {
              "width": 420,
              "height": 420
            }
          }
        },
        {
          "output_type": "stream",
          "text": [
            "$mar\n",
            "[1] 0 0 0 0\n",
            "\n",
            "$pty\n",
            "[1] \"s\"\n",
            "\n",
            "\n",
            "> i <- 0\n",
            "\n",
            "> draw.title.cell(\"Ellipsis\", i, nr); i <- i + 1\n",
            "\n",
            "> draw.plotmath.cell(expression(list(x[1], ..., x[n])), i, nr); i <- i + 1\n",
            "\n",
            "> draw.plotmath.cell(expression(x[1] + ... + x[n]), i, nr); i <- i + 1\n",
            "\n",
            "> draw.plotmath.cell(expression(list(x[1], cdots, x[n])), i, nr); i <- i + 1\n",
            "\n",
            "> draw.plotmath.cell(expression(x[1] + ldots + x[n]), i, nr); i <- i + 1\n",
            "\n",
            "> draw.title.cell(\"Set Relations\", i, nr); i <- i + 1\n",
            "\n",
            "> draw.plotmath.cell(expression(x %subset% y), i, nr); i <- i + 1\n",
            "\n",
            "> draw.plotmath.cell(expression(x %subseteq% y), i, nr); i <- i + 1\n",
            "\n",
            "> draw.plotmath.cell(expression(x %supset% y), i, nr); i <- i + 1\n",
            "\n",
            "> draw.plotmath.cell(expression(x %supseteq% y), i, nr); i <- i + 1\n",
            "\n",
            "> draw.plotmath.cell(expression(x %notsubset% y), i, nr); i <- i + 1\n",
            "\n",
            "> draw.plotmath.cell(expression(x %in% y), i, nr); i <- i + 1\n",
            "\n",
            "> draw.plotmath.cell(expression(x %notin% y), i, nr); i <- i + 1\n",
            "\n",
            "> draw.title.cell(\"Accents\", i, nr); i <- i + 1\n",
            "\n",
            "> draw.plotmath.cell(expression(hat(x)), i, nr); i <- i + 1\n",
            "\n",
            "> draw.plotmath.cell(expression(tilde(x)), i, nr); i <- i + 1\n",
            "\n",
            "> draw.plotmath.cell(expression(ring(x)), i, nr); i <- i + 1\n",
            "\n",
            "> draw.plotmath.cell(expression(bar(xy)), i, nr); i <- i + 1\n",
            "\n",
            "> draw.plotmath.cell(expression(widehat(xy)), i, nr); i <- i + 1\n",
            "\n",
            "> draw.plotmath.cell(expression(widetilde(xy)), i, nr); i <- i + 1\n",
            "\n",
            "> draw.title.cell(\"Arrows\", i, nr); i <- i + 1\n",
            "\n",
            "> draw.plotmath.cell(expression(x %<->% y), i, nr); i <- i + 1\n",
            "\n",
            "> draw.plotmath.cell(expression(x %->% y), i, nr); i <- i + 1\n",
            "\n",
            "> draw.plotmath.cell(expression(x %<-% y), i, nr); i <- i + 1\n",
            "\n",
            "> draw.plotmath.cell(expression(x %up% y), i, nr); i <- i + 1\n",
            "\n",
            "> draw.plotmath.cell(expression(x %down% y), i, nr); i <- i + 1\n",
            "\n",
            "> draw.plotmath.cell(expression(x %<=>% y), i, nr); i <- i + 1\n",
            "\n",
            "> draw.plotmath.cell(expression(x %=>% y), i, nr); i <- i + 1\n",
            "\n",
            "> draw.plotmath.cell(expression(x %<=% y), i, nr); i <- i + 1\n",
            "\n",
            "> draw.plotmath.cell(expression(x %dblup% y), i, nr); i <- i + 1\n",
            "\n",
            "> draw.plotmath.cell(expression(x %dbldown% y), i, nr); i <- i + 1\n",
            "\n",
            "> draw.title.cell(\"Symbolic Names\", i, nr); i <- i + 1\n",
            "\n",
            "> draw.plotmath.cell(expression(Alpha - Omega), i, nr); i <- i + 1\n",
            "\n",
            "> draw.plotmath.cell(expression(alpha - omega), i, nr); i <- i + 1\n",
            "\n",
            "> draw.plotmath.cell(expression(phi1 + sigma1), i, nr); i <- i + 1\n",
            "\n",
            "> draw.plotmath.cell(expression(Upsilon1), i, nr); i <- i + 1\n",
            "\n",
            "> draw.plotmath.cell(expression(infinity), i, nr); i <- i + 1\n",
            "\n",
            "> draw.plotmath.cell(expression(32 * degree), i, nr); i <- i + 1\n",
            "\n",
            "> draw.plotmath.cell(expression(60 * minute), i, nr); i <- i + 1\n",
            "\n",
            "> draw.plotmath.cell(expression(30 * second), i, nr); i <- i + 1\n",
            "\n",
            "> # Need even fewer, wider columns for typeface and style ...\n",
            "> nr <- 20\n",
            "\n",
            "> nc <- 1\n",
            "\n",
            "> make.table(nr, nc)\n",
            "$mar\n",
            "[1] 0 0 0 0\n",
            "\n",
            "$pty\n",
            "[1] \"s\"\n",
            "\n",
            "\n",
            "> i <- 0\n",
            "\n",
            "> draw.title.cell(\"Style\", i, nr); i <- i + 1\n",
            "\n",
            "> draw.plotmath.cell(expression(displaystyle(x)), i, nr); i <- i + 1\n",
            "\n",
            "> draw.plotmath.cell(expression(textstyle(x)), i, nr); i <- i + 1\n",
            "\n",
            "> draw.plotmath.cell(expression(scriptstyle(x)), i, nr); i <- i + 1\n",
            "\n",
            "> draw.plotmath.cell(expression(scriptscriptstyle(x)), i, nr); i <- i + 1\n",
            "\n",
            "> draw.title.cell(\"Spacing\", i, nr); i <- i + 1\n",
            "\n",
            "> draw.plotmath.cell(expression(x ~~ y), i, nr); i <- i + 1\n",
            "\n",
            "> # Need fewer, taller rows for fractions ...\n",
            "> # cheat a bit to save pages\n",
            "> par(new = TRUE)\n",
            "\n",
            "> nr <- 10\n",
            "\n",
            "> nc <- 1\n",
            "\n",
            "> make.table(nr, nc)\n"
          ],
          "name": "stdout"
        },
        {
          "output_type": "display_data",
          "data": {
            "image/png": "[encoded data removed]",
            "text/plain": [
              "plot without title"
            ]
          },
          "metadata": {
            "tags": [],
            "image/png": {
              "width": 420,
              "height": 420
            },
            "text/plain": {
              "width": 420,
              "height": 420
            }
          }
        },
        {
          "output_type": "stream",
          "text": [
            "$mar\n",
            "[1] 0 0 0 0\n",
            "\n",
            "$pty\n",
            "[1] \"s\"\n",
            "\n",
            "\n",
            "> i <- 4\n",
            "\n",
            "> draw.plotmath.cell(expression(x + phantom(0) + y), i, nr); i <- i + 1\n",
            "\n",
            "> draw.plotmath.cell(expression(x + over(1, phantom(0))), i, nr); i <- i + 1\n",
            "\n",
            "> draw.title.cell(\"Fractions\", i, nr); i <- i + 1\n",
            "\n",
            "> draw.plotmath.cell(expression(frac(x, y)), i, nr); i <- i + 1\n",
            "\n",
            "> draw.plotmath.cell(expression(over(x, y)), i, nr); i <- i + 1\n",
            "\n",
            "> draw.plotmath.cell(expression(atop(x, y)), i, nr); i <- i + 1\n",
            "\n",
            "> # Need fewer, taller rows and fewer, wider columns for big operators ...\n",
            "> nr <- 10\n",
            "\n",
            "> nc <- 1\n",
            "\n",
            "> make.table(nr, nc)\n"
          ],
          "name": "stdout"
        },
        {
          "output_type": "display_data",
          "data": {
            "image/png": "[encoded data removed]",
            "text/plain": [
              "plot without title"
            ]
          },
          "metadata": {
            "tags": [],
            "image/png": {
              "width": 420,
              "height": 420
            },
            "text/plain": {
              "width": 420,
              "height": 420
            }
          }
        },
        {
          "output_type": "stream",
          "text": [
            "$mar\n",
            "[1] 0 0 0 0\n",
            "\n",
            "$pty\n",
            "[1] \"s\"\n",
            "\n",
            "\n",
            "> i <- 0\n",
            "\n",
            "> draw.title.cell(\"Big Operators\", i, nr); i <- i + 1\n",
            "\n",
            "> draw.plotmath.cell(expression(sum(x[i], i=1, n)), i, nr); i <- i + 1\n",
            "\n",
            "> draw.plotmath.cell(expression(prod(plain(P)(X == x), x)), i, nr); i <- i + 1\n",
            "\n",
            "> draw.plotmath.cell(expression(integral(f(x) * dx, a, b)), i, nr); i <- i + 1\n",
            "\n",
            "> draw.plotmath.cell(expression(union(A[i], i==1, n)), i, nr); i <- i + 1\n",
            "\n",
            "> draw.plotmath.cell(expression(intersect(A[i], i==1, n)), i, nr); i <- i + 1\n",
            "\n",
            "> draw.plotmath.cell(expression(lim(f(x), x %->% 0)), i, nr); i <- i + 1\n",
            "\n",
            "> draw.plotmath.cell(expression(min(g(x), x >= 0)), i, nr); i <- i + 1\n",
            "\n",
            "> draw.plotmath.cell(expression(inf(S)), i, nr); i <- i + 1\n",
            "\n",
            "> draw.plotmath.cell(expression(sup(S)), i, nr); i <- i + 1\n",
            "\n",
            "> nr <- 11\n",
            "\n",
            "> make.table(nr, nc)\n"
          ],
          "name": "stdout"
        },
        {
          "output_type": "display_data",
          "data": {
            "image/png": "[encoded data removed]",
            "text/plain": [
              "plot without title"
            ]
          },
          "metadata": {
            "tags": [],
            "image/png": {
              "width": 420,
              "height": 420
            },
            "text/plain": {
              "width": 420,
              "height": 420
            }
          }
        },
        {
          "output_type": "stream",
          "text": [
            "$mar\n",
            "[1] 0 0 0 0\n",
            "\n",
            "$pty\n",
            "[1] \"s\"\n",
            "\n",
            "\n",
            "> i <- 0\n",
            "\n",
            "> draw.title.cell(\"Grouping\", i, nr); i <- i + 1\n",
            "\n",
            "> # Those involving '{ . }' have to be done \"by hand\"\n",
            "> draw.plotmath.cell(expression({}(x , y)), i, nr, string=\"{}(x, y)\"); i <- i + 1\n",
            "\n",
            "> draw.plotmath.cell(expression((x + y)*z), i, nr); i <- i + 1\n",
            "\n",
            "> draw.plotmath.cell(expression(x^y + z),   i, nr); i <- i + 1\n",
            "\n",
            "> draw.plotmath.cell(expression(x^(y + z)), i, nr); i <- i + 1\n",
            "\n",
            "> draw.plotmath.cell(expression(x^{y + z}), i, nr, string=\"x^{y + z}\"); i <- i + 1\n",
            "\n",
            "> draw.plotmath.cell(expression(group(\"(\", list(a, b), \"]\")), i, nr); i <- i + 1\n",
            "\n",
            "> draw.plotmath.cell(expression(bgroup(\"(\", atop(x, y), \")\")), i, nr); i <- i + 1\n",
            "\n",
            "> draw.plotmath.cell(expression(group(lceil, x, rceil)), i, nr); i <- i + 1\n",
            "\n",
            "> draw.plotmath.cell(expression(group(lfloor, x, rfloor)), i, nr); i <- i + 1\n",
            "\n",
            "> draw.plotmath.cell(expression(group(\"|\", x, \"|\")), i, nr); i <- i + 1\n",
            "\n",
            "> par(oldpar)\n"
          ],
          "name": "stdout"
        },
        {
          "output_type": "display_data",
          "data": {
            "image/png": "[encoded data removed]",
            "text/plain": [
              "plot without title"
            ]
          },
          "metadata": {
            "tags": [],
            "image/png": {
              "width": 420,
              "height": 420
            },
            "text/plain": {
              "width": 420,
              "height": 420
            }
          }
        }
      ]
    },
    {
      "cell_type": "markdown",
      "metadata": {
        "id": "1AId4B2ak1At",
        "colab_type": "text"
      },
      "source": [
        "# **Comandos matemáticos basicos**\n",
        "----------------------------------"
      ]
    },
    {
      "cell_type": "markdown",
      "metadata": {
        "id": "l35Xy4Lyk3se",
        "colab_type": "text"
      },
      "source": [
        "### **R como calculadora**"
      ]
    },
    {
      "cell_type": "markdown",
      "metadata": {
        "id": "5nW-QucnlanR",
        "colab_type": "text"
      },
      "source": [
        "**Suma**\n"
      ]
    },
    {
      "cell_type": "code",
      "metadata": {
        "id": "PZswZ8kalfVJ",
        "colab_type": "code",
        "colab": {
          "base_uri": "https://localhost:8080/",
          "height": 35
        },
        "outputId": "e4f0b793-8baa-43bc-ab7f-2f368db33cbc"
      },
      "source": [
        "10+5"
      ],
      "execution_count": null,
      "outputs": [
        {
          "output_type": "display_data",
          "data": {
            "text/plain": [
              "[1] 15"
            ],
            "text/latex": "15",
            "text/markdown": "15",
            "text/html": [
              "15"
            ]
          },
          "metadata": {
            "tags": []
          }
        }
      ]
    },
    {
      "cell_type": "markdown",
      "metadata": {
        "id": "lgfFwYI7mCwC",
        "colab_type": "text"
      },
      "source": [
        "**Resta**"
      ]
    },
    {
      "cell_type": "code",
      "metadata": {
        "id": "cgpmY-tSmD3b",
        "colab_type": "code",
        "colab": {
          "base_uri": "https://localhost:8080/",
          "height": 35
        },
        "outputId": "545fc3ea-8756-4fa1-bc6b-89972d65eca6"
      },
      "source": [
        "23-13"
      ],
      "execution_count": null,
      "outputs": [
        {
          "output_type": "display_data",
          "data": {
            "text/plain": [
              "[1] 10"
            ],
            "text/latex": "10",
            "text/markdown": "10",
            "text/html": [
              "10"
            ]
          },
          "metadata": {
            "tags": []
          }
        }
      ]
    },
    {
      "cell_type": "markdown",
      "metadata": {
        "id": "k-jQI-RHmG_Y",
        "colab_type": "text"
      },
      "source": [
        "**Multiplicación**"
      ]
    },
    {
      "cell_type": "code",
      "metadata": {
        "id": "qdRIT26cmJaU",
        "colab_type": "code",
        "colab": {
          "base_uri": "https://localhost:8080/",
          "height": 35
        },
        "outputId": "59c099f4-df0e-4d9a-b25c-06ec9806ae96"
      },
      "source": [
        "3*4"
      ],
      "execution_count": null,
      "outputs": [
        {
          "output_type": "display_data",
          "data": {
            "text/plain": [
              "[1] 12"
            ],
            "text/latex": "12",
            "text/markdown": "12",
            "text/html": [
              "12"
            ]
          },
          "metadata": {
            "tags": []
          }
        }
      ]
    },
    {
      "cell_type": "markdown",
      "metadata": {
        "id": "YJosA9N_mspd",
        "colab_type": "text"
      },
      "source": [
        "**Division**"
      ]
    },
    {
      "cell_type": "code",
      "metadata": {
        "id": "P0cinlydmubm",
        "colab_type": "code",
        "colab": {
          "base_uri": "https://localhost:8080/",
          "height": 35
        },
        "outputId": "4cd8ba84-8abc-4e8d-ed92-fff85d3242ab"
      },
      "source": [
        "4/3"
      ],
      "execution_count": null,
      "outputs": [
        {
          "output_type": "display_data",
          "data": {
            "text/plain": [
              "[1] 1.333333"
            ],
            "text/latex": "1.33333333333333",
            "text/markdown": "1.33333333333333",
            "text/html": [
              "1.33333333333333"
            ]
          },
          "metadata": {
            "tags": []
          }
        }
      ]
    },
    {
      "cell_type": "markdown",
      "metadata": {
        "id": "cqyrChW4mxLb",
        "colab_type": "text"
      },
      "source": [
        "**Potencia**"
      ]
    },
    {
      "cell_type": "code",
      "metadata": {
        "id": "ZO5nvDUnm1D3",
        "colab_type": "code",
        "colab": {
          "base_uri": "https://localhost:8080/",
          "height": 35
        },
        "outputId": "7e6d81ef-3faa-4234-ba31-b6c1ccf76377"
      },
      "source": [
        "3^3"
      ],
      "execution_count": null,
      "outputs": [
        {
          "output_type": "display_data",
          "data": {
            "text/plain": [
              "[1] 27"
            ],
            "text/latex": "27",
            "text/markdown": "27",
            "text/html": [
              "27"
            ]
          },
          "metadata": {
            "tags": []
          }
        }
      ]
    },
    {
      "cell_type": "markdown",
      "metadata": {
        "id": "1VjiuNo_nR1n",
        "colab_type": "text"
      },
      "source": [
        "**Valor infinito** "
      ]
    },
    {
      "cell_type": "code",
      "metadata": {
        "id": "IJt5UUPdnThm",
        "colab_type": "code",
        "colab": {
          "base_uri": "https://localhost:8080/",
          "height": 35
        },
        "outputId": "e1e4ab5f-804a-42f0-9f47-1f280540b8e4"
      },
      "source": [
        "5/0"
      ],
      "execution_count": null,
      "outputs": [
        {
          "output_type": "display_data",
          "data": {
            "text/plain": [
              "[1] Inf"
            ],
            "text/latex": "Inf",
            "text/markdown": "Inf",
            "text/html": [
              "Inf"
            ]
          },
          "metadata": {
            "tags": []
          }
        }
      ]
    },
    {
      "cell_type": "markdown",
      "metadata": {
        "id": "c38i3rOHnYac",
        "colab_type": "text"
      },
      "source": [
        "**Division entera** "
      ]
    },
    {
      "cell_type": "code",
      "metadata": {
        "id": "ZjYYh1ssndkH",
        "colab_type": "code",
        "colab": {
          "base_uri": "https://localhost:8080/",
          "height": 35
        },
        "outputId": "21b4b9fa-76f7-4b99-c2f1-69c0242a3058"
      },
      "source": [
        "5%/%2"
      ],
      "execution_count": null,
      "outputs": [
        {
          "output_type": "display_data",
          "data": {
            "text/plain": [
              "[1] 2"
            ],
            "text/latex": "2",
            "text/markdown": "2",
            "text/html": [
              "2"
            ]
          },
          "metadata": {
            "tags": []
          }
        }
      ]
    },
    {
      "cell_type": "markdown",
      "metadata": {
        "id": "ZO22kHSooPQv",
        "colab_type": "text"
      },
      "source": [
        "**Modulo**"
      ]
    },
    {
      "cell_type": "code",
      "metadata": {
        "id": "y5tpLy22oRDY",
        "colab_type": "code",
        "colab": {
          "base_uri": "https://localhost:8080/",
          "height": 35
        },
        "outputId": "4d946ab0-a819-4812-fc1b-06a967d3f637"
      },
      "source": [
        "5%%2"
      ],
      "execution_count": null,
      "outputs": [
        {
          "output_type": "display_data",
          "data": {
            "text/plain": [
              "[1] 1"
            ],
            "text/latex": "1",
            "text/markdown": "1",
            "text/html": [
              "1"
            ]
          },
          "metadata": {
            "tags": []
          }
        }
      ]
    },
    {
      "cell_type": "markdown",
      "metadata": {
        "id": "oKx4rXy8oS4y",
        "colab_type": "text"
      },
      "source": [
        "**Flotante con n digitos**"
      ]
    },
    {
      "cell_type": "code",
      "metadata": {
        "id": "dvkih9GvMlCE",
        "colab_type": "code",
        "colab": {
          "base_uri": "https://localhost:8080/",
          "height": 34
        },
        "outputId": "abfaf09d-761f-472f-a2a9-63d6e8faddc6"
      },
      "source": [
        "round(3.45678, digits = 2) "
      ],
      "execution_count": null,
      "outputs": [
        {
          "output_type": "display_data",
          "data": {
            "text/plain": [
              "[1] 3.46"
            ],
            "text/latex": "3.46",
            "text/markdown": "3.46",
            "text/html": [
              "3.46"
            ]
          },
          "metadata": {
            "tags": []
          }
        }
      ]
    },
    {
      "cell_type": "markdown",
      "metadata": {
        "id": "KHKGH6-KNilR",
        "colab_type": "text"
      },
      "source": [
        "### **Tipos de datos en R**"
      ]
    },
    {
      "cell_type": "markdown",
      "metadata": {
        "id": "Xf_vQb5WNp4x",
        "colab_type": "text"
      },
      "source": [
        "**Objetos numéricos**\n",
        "\n",
        "\n",
        "Nota: En el lenguaje R se utiliza el operador de asignacion <-, tambien se puede utilizar el = pero en algunos caso no es recomendable, por lo que es mejor utilizar el operador <-"
      ]
    },
    {
      "cell_type": "code",
      "metadata": {
        "id": "07fxrdkCNvRe",
        "colab_type": "code",
        "colab": {}
      },
      "source": [
        "x <- 5L"
      ],
      "execution_count": null,
      "outputs": []
    },
    {
      "cell_type": "markdown",
      "metadata": {
        "id": "4wDeZeTCOD3B",
        "colab_type": "text"
      },
      "source": [
        "**Para revisar el tipo de dato de una variable**"
      ]
    },
    {
      "cell_type": "code",
      "metadata": {
        "id": "x0qU4WVQOK4c",
        "colab_type": "code",
        "colab": {
          "base_uri": "https://localhost:8080/",
          "height": 34
        },
        "outputId": "a8346308-bc57-4657-e4dd-97aa128754f9"
      },
      "source": [
        "class(x)"
      ],
      "execution_count": null,
      "outputs": [
        {
          "output_type": "display_data",
          "data": {
            "text/plain": [
              "[1] \"integer\""
            ],
            "text/latex": "'integer'",
            "text/markdown": "'integer'",
            "text/html": [
              "'integer'"
            ]
          },
          "metadata": {
            "tags": []
          }
        }
      ]
    },
    {
      "cell_type": "markdown",
      "metadata": {
        "id": "SFb_YA6COQ2g",
        "colab_type": "text"
      },
      "source": [
        "Otros ejemplos"
      ]
    },
    {
      "cell_type": "code",
      "metadata": {
        "id": "HTlU6xcyOUKo",
        "colab_type": "code",
        "colab": {}
      },
      "source": [
        "y <- 2"
      ],
      "execution_count": null,
      "outputs": []
    },
    {
      "cell_type": "code",
      "metadata": {
        "id": "-iyUHjxGOWh1",
        "colab_type": "code",
        "colab": {
          "base_uri": "https://localhost:8080/",
          "height": 34
        },
        "outputId": "7b581704-40f3-4550-ee9c-eba6d917f1ee"
      },
      "source": [
        "class(y)"
      ],
      "execution_count": null,
      "outputs": [
        {
          "output_type": "display_data",
          "data": {
            "text/plain": [
              "[1] \"numeric\""
            ],
            "text/latex": "'numeric'",
            "text/markdown": "'numeric'",
            "text/html": [
              "'numeric'"
            ]
          },
          "metadata": {
            "tags": []
          }
        }
      ]
    },
    {
      "cell_type": "code",
      "metadata": {
        "id": "xDSU7PGnOYXc",
        "colab_type": "code",
        "colab": {}
      },
      "source": [
        "w <- 3+4i"
      ],
      "execution_count": null,
      "outputs": []
    },
    {
      "cell_type": "code",
      "metadata": {
        "id": "ANSlOoCUOaQM",
        "colab_type": "code",
        "colab": {
          "base_uri": "https://localhost:8080/",
          "height": 34
        },
        "outputId": "b891654f-949e-4002-8f09-ebcc27f39f2e"
      },
      "source": [
        "class(w)"
      ],
      "execution_count": null,
      "outputs": [
        {
          "output_type": "display_data",
          "data": {
            "text/plain": [
              "[1] \"complex\""
            ],
            "text/latex": "'complex'",
            "text/markdown": "'complex'",
            "text/html": [
              "'complex'"
            ]
          },
          "metadata": {
            "tags": []
          }
        }
      ]
    },
    {
      "cell_type": "markdown",
      "metadata": {
        "id": "VduKzkexOeYy",
        "colab_type": "text"
      },
      "source": [
        "**Lista de las variables existentes**"
      ]
    },
    {
      "cell_type": "code",
      "metadata": {
        "id": "ffEG4YqXOcT_",
        "colab_type": "code",
        "colab": {
          "base_uri": "https://localhost:8080/",
          "height": 34
        },
        "outputId": "51ff6a13-4ed7-472c-cb8c-b9ea34002049"
      },
      "source": [
        "ls()"
      ],
      "execution_count": null,
      "outputs": [
        {
          "output_type": "display_data",
          "data": {
            "text/plain": [
              " [1] \"draw.plotmath.cell\" \"draw.title.cell\"    \"get.c\"             \n",
              " [4] \"get.r\"              \"i\"                  \"make.table\"        \n",
              " [7] \"nc\"                 \"nr\"                 \"oldpar\"            \n",
              "[10] \"w\"                  \"x\"                  \"y\"                 "
            ],
            "text/latex": "\\begin{enumerate*}\n\\item 'draw.plotmath.cell'\n\\item 'draw.title.cell'\n\\item 'get.c'\n\\item 'get.r'\n\\item 'i'\n\\item 'make.table'\n\\item 'nc'\n\\item 'nr'\n\\item 'oldpar'\n\\item 'w'\n\\item 'x'\n\\item 'y'\n\\end{enumerate*}\n",
            "text/markdown": "1. 'draw.plotmath.cell'\n2. 'draw.title.cell'\n3. 'get.c'\n4. 'get.r'\n5. 'i'\n6. 'make.table'\n7. 'nc'\n8. 'nr'\n9. 'oldpar'\n10. 'w'\n11. 'x'\n12. 'y'\n\n\n",
            "text/html": [
              "<style>\n",
              ".list-inline {list-style: none; margin:0; padding: 0}\n",
              ".list-inline>li {display: inline-block}\n",
              ".list-inline>li:not(:last-child)::after {content: \"\\00b7\"; padding: 0 .5ex}\n",
              "</style>\n",
              "<ol class=list-inline><li>'draw.plotmath.cell'</li><li>'draw.title.cell'</li><li>'get.c'</li><li>'get.r'</li><li>'i'</li><li>'make.table'</li><li>'nc'</li><li>'nr'</li><li>'oldpar'</li><li>'w'</li><li>'x'</li><li>'y'</li></ol>\n"
            ]
          },
          "metadata": {
            "tags": []
          }
        }
      ]
    },
    {
      "cell_type": "markdown",
      "metadata": {
        "id": "ZU3xlhi-Oklu",
        "colab_type": "text"
      },
      "source": [
        "**Eliminar una variable**"
      ]
    },
    {
      "cell_type": "code",
      "metadata": {
        "id": "pg3HedVjOrKc",
        "colab_type": "code",
        "colab": {}
      },
      "source": [
        "rm(x)"
      ],
      "execution_count": null,
      "outputs": []
    },
    {
      "cell_type": "code",
      "metadata": {
        "id": "2EhIyafkOtkT",
        "colab_type": "code",
        "colab": {
          "base_uri": "https://localhost:8080/",
          "height": 95
        },
        "outputId": "42277e32-e77d-4bba-c885-dc5ab1d6eb66"
      },
      "source": [
        "x"
      ],
      "execution_count": null,
      "outputs": [
        {
          "output_type": "error",
          "ename": "ERROR",
          "evalue": "ignored",
          "traceback": [
            "Error in eval(expr, envir, enclos): object 'x' not found\nTraceback:\n"
          ]
        }
      ]
    },
    {
      "cell_type": "markdown",
      "metadata": {
        "id": "HMv-Jxo6QCEf",
        "colab_type": "text"
      },
      "source": [
        "### **Funciones y constantes matematicas**"
      ]
    },
    {
      "cell_type": "markdown",
      "metadata": {
        "id": "6puLuGVlQHyO",
        "colab_type": "text"
      },
      "source": [
        "**Logaritmo base 10**"
      ]
    },
    {
      "cell_type": "code",
      "metadata": {
        "id": "xmSghsFtQGdw",
        "colab_type": "code",
        "colab": {
          "base_uri": "https://localhost:8080/",
          "height": 34
        },
        "outputId": "c095e71a-6f55-4a35-cdbb-21dc9bacc05a"
      },
      "source": [
        "log10(100)"
      ],
      "execution_count": null,
      "outputs": [
        {
          "output_type": "display_data",
          "data": {
            "text/plain": [
              "[1] 2"
            ],
            "text/latex": "2",
            "text/markdown": "2",
            "text/html": [
              "2"
            ]
          },
          "metadata": {
            "tags": []
          }
        }
      ]
    },
    {
      "cell_type": "markdown",
      "metadata": {
        "id": "LxM0sKgSQONY",
        "colab_type": "text"
      },
      "source": [
        "**Logaritmo base e**"
      ]
    },
    {
      "cell_type": "code",
      "metadata": {
        "id": "tJs_YzgsQRgQ",
        "colab_type": "code",
        "colab": {
          "base_uri": "https://localhost:8080/",
          "height": 34
        },
        "outputId": "c9f5dfae-ff08-4a4c-ed1d-6aa9c5c0df2f"
      },
      "source": [
        "log(2.7172)"
      ],
      "execution_count": null,
      "outputs": [
        {
          "output_type": "display_data",
          "data": {
            "text/plain": [
              "[1] 0.9996019"
            ],
            "text/latex": "0.99960193833501",
            "text/markdown": "0.99960193833501",
            "text/html": [
              "0.99960193833501"
            ]
          },
          "metadata": {
            "tags": []
          }
        }
      ]
    },
    {
      "cell_type": "markdown",
      "metadata": {
        "id": "LgLNTwn2QTi1",
        "colab_type": "text"
      },
      "source": [
        "**Logaritmo base 2**"
      ]
    },
    {
      "cell_type": "code",
      "metadata": {
        "id": "bjtQIC5OQXHt",
        "colab_type": "code",
        "colab": {
          "base_uri": "https://localhost:8080/",
          "height": 34
        },
        "outputId": "1a26cb7a-76e8-446c-eb4b-56e0cb6ee6bc"
      },
      "source": [
        "log2(64)"
      ],
      "execution_count": null,
      "outputs": [
        {
          "output_type": "display_data",
          "data": {
            "text/plain": [
              "[1] 6"
            ],
            "text/latex": "6",
            "text/markdown": "6",
            "text/html": [
              "6"
            ]
          },
          "metadata": {
            "tags": []
          }
        }
      ]
    },
    {
      "cell_type": "markdown",
      "metadata": {
        "id": "4b0CjN2eQbQY",
        "colab_type": "text"
      },
      "source": [
        "**Valor absoluto**"
      ]
    },
    {
      "cell_type": "code",
      "metadata": {
        "id": "-H-ArTmJQcto",
        "colab_type": "code",
        "colab": {
          "base_uri": "https://localhost:8080/",
          "height": 34
        },
        "outputId": "dee80a58-dea8-46f5-fb61-1e15e3eb8aa9"
      },
      "source": [
        "abs(-12)"
      ],
      "execution_count": null,
      "outputs": [
        {
          "output_type": "display_data",
          "data": {
            "text/plain": [
              "[1] 12"
            ],
            "text/latex": "12",
            "text/markdown": "12",
            "text/html": [
              "12"
            ]
          },
          "metadata": {
            "tags": []
          }
        }
      ]
    },
    {
      "cell_type": "markdown",
      "metadata": {
        "id": "skgepiblQeSM",
        "colab_type": "text"
      },
      "source": [
        "**Funcion exponencial base e**"
      ]
    },
    {
      "cell_type": "code",
      "metadata": {
        "id": "rNeJtlAEQhPa",
        "colab_type": "code",
        "colab": {
          "base_uri": "https://localhost:8080/",
          "height": 34
        },
        "outputId": "2f59c4a5-f7a2-46f1-ffc4-d000e9ff9771"
      },
      "source": [
        "exp(1)"
      ],
      "execution_count": null,
      "outputs": [
        {
          "output_type": "display_data",
          "data": {
            "text/plain": [
              "[1] 2.718282"
            ],
            "text/latex": "2.71828182845905",
            "text/markdown": "2.71828182845905",
            "text/html": [
              "2.71828182845905"
            ]
          },
          "metadata": {
            "tags": []
          }
        }
      ]
    },
    {
      "cell_type": "markdown",
      "metadata": {
        "id": "nYSmthkvQllO",
        "colab_type": "text"
      },
      "source": [
        "**Raiz cuadrada**"
      ]
    },
    {
      "cell_type": "code",
      "metadata": {
        "id": "Nv__XhSKQoJU",
        "colab_type": "code",
        "colab": {
          "base_uri": "https://localhost:8080/",
          "height": 34
        },
        "outputId": "974072f0-5e55-42af-afc1-25952c0f3817"
      },
      "source": [
        "sqrt(81)"
      ],
      "execution_count": null,
      "outputs": [
        {
          "output_type": "display_data",
          "data": {
            "text/plain": [
              "[1] 9"
            ],
            "text/latex": "9",
            "text/markdown": "9",
            "text/html": [
              "9"
            ]
          },
          "metadata": {
            "tags": []
          }
        }
      ]
    },
    {
      "cell_type": "markdown",
      "metadata": {
        "id": "942mWP3oQpzm",
        "colab_type": "text"
      },
      "source": [
        "**Constante pi**"
      ]
    },
    {
      "cell_type": "code",
      "metadata": {
        "id": "bEgpAEItQrWf",
        "colab_type": "code",
        "colab": {
          "base_uri": "https://localhost:8080/",
          "height": 34
        },
        "outputId": "d74dc014-ba34-4b19-93b7-dee89746db80"
      },
      "source": [
        "pi"
      ],
      "execution_count": null,
      "outputs": [
        {
          "output_type": "display_data",
          "data": {
            "text/plain": [
              "[1] 3.141593"
            ],
            "text/latex": "3.14159265358979",
            "text/markdown": "3.14159265358979",
            "text/html": [
              "3.14159265358979"
            ]
          },
          "metadata": {
            "tags": []
          }
        }
      ]
    },
    {
      "cell_type": "markdown",
      "metadata": {
        "id": "Qt-5nFI4Qvhj",
        "colab_type": "text"
      },
      "source": [
        "**Maneja una variable como entera aunque sea flotante haciendo un redonde hacia abajo**"
      ]
    },
    {
      "cell_type": "code",
      "metadata": {
        "id": "eOnNBV5AQ9jr",
        "colab_type": "code",
        "colab": {}
      },
      "source": [
        "z <- as.integer(x/y)"
      ],
      "execution_count": null,
      "outputs": []
    },
    {
      "cell_type": "code",
      "metadata": {
        "id": "qoZhS_j4Q_hk",
        "colab_type": "code",
        "colab": {
          "base_uri": "https://localhost:8080/",
          "height": 34
        },
        "outputId": "7f9a8139-9378-4778-f360-e34d321f0996"
      },
      "source": [
        "z"
      ],
      "execution_count": null,
      "outputs": [
        {
          "output_type": "display_data",
          "data": {
            "text/plain": [
              "[1] 2"
            ],
            "text/latex": "2",
            "text/markdown": "2",
            "text/html": [
              "2"
            ]
          },
          "metadata": {
            "tags": []
          }
        }
      ]
    },
    {
      "cell_type": "markdown",
      "metadata": {
        "id": "2Wm8CFQwRCR9",
        "colab_type": "text"
      },
      "source": [
        "**Redondea un numero a 2 digitos**"
      ]
    },
    {
      "cell_type": "code",
      "metadata": {
        "id": "tUIRad4mRFsN",
        "colab_type": "code",
        "colab": {
          "base_uri": "https://localhost:8080/",
          "height": 34
        },
        "outputId": "85b525fd-1bc0-48fc-b931-570333c848a2"
      },
      "source": [
        "round(3.476,digits=2)"
      ],
      "execution_count": null,
      "outputs": [
        {
          "output_type": "display_data",
          "data": {
            "text/plain": [
              "[1] 3.48"
            ],
            "text/latex": "3.48",
            "text/markdown": "3.48",
            "text/html": [
              "3.48"
            ]
          },
          "metadata": {
            "tags": []
          }
        }
      ]
    },
    {
      "cell_type": "markdown",
      "metadata": {
        "id": "VJrKzpTNRJv3",
        "colab_type": "text"
      },
      "source": [
        "**Obtener el entero mas pequeño que sea mayor que el numero que se le indique**"
      ]
    },
    {
      "cell_type": "code",
      "metadata": {
        "id": "pgA4Oc0ZRPft",
        "colab_type": "code",
        "colab": {
          "base_uri": "https://localhost:8080/",
          "height": 34
        },
        "outputId": "d7cef654-bc04-4ada-da2b-688fa1454a44"
      },
      "source": [
        "ceiling(3.475)"
      ],
      "execution_count": null,
      "outputs": [
        {
          "output_type": "display_data",
          "data": {
            "text/plain": [
              "[1] 4"
            ],
            "text/latex": "4",
            "text/markdown": "4",
            "text/html": [
              "4"
            ]
          },
          "metadata": {
            "tags": []
          }
        }
      ]
    },
    {
      "cell_type": "markdown",
      "metadata": {
        "id": "jN3X8y6PRSFR",
        "colab_type": "text"
      },
      "source": [
        "**Obtener el entero mas grande que sea menor que el numero que se le indique**"
      ]
    },
    {
      "cell_type": "code",
      "metadata": {
        "id": "vazVrp52RW4a",
        "colab_type": "code",
        "colab": {
          "base_uri": "https://localhost:8080/",
          "height": 34
        },
        "outputId": "a2f41401-3807-4882-8765-5240aaa0467c"
      },
      "source": [
        "floor(3.475)"
      ],
      "execution_count": null,
      "outputs": [
        {
          "output_type": "display_data",
          "data": {
            "text/plain": [
              "[1] 3"
            ],
            "text/latex": "3",
            "text/markdown": "3",
            "text/html": [
              "3"
            ]
          },
          "metadata": {
            "tags": []
          }
        }
      ]
    },
    {
      "cell_type": "markdown",
      "metadata": {
        "id": "oFmCYDB3Rp2z",
        "colab_type": "text"
      },
      "source": [
        "### **Funciones para manejo de cadenas**"
      ]
    },
    {
      "cell_type": "markdown",
      "metadata": {
        "id": "ZFjojkS9RvTQ",
        "colab_type": "text"
      },
      "source": [
        "**Replica el primer argumento el numero de veces indicado en el segundo argumento**"
      ]
    },
    {
      "cell_type": "code",
      "metadata": {
        "id": "Ye1isQGNR2iY",
        "colab_type": "code",
        "colab": {
          "base_uri": "https://localhost:8080/",
          "height": 34
        },
        "outputId": "11d36912-d7e0-4815-caf8-194f3afaecff"
      },
      "source": [
        "rep(\"Hola\",2)"
      ],
      "execution_count": null,
      "outputs": [
        {
          "output_type": "display_data",
          "data": {
            "text/plain": [
              "[1] \"Hola\" \"Hola\""
            ],
            "text/latex": "\\begin{enumerate*}\n\\item 'Hola'\n\\item 'Hola'\n\\end{enumerate*}\n",
            "text/markdown": "1. 'Hola'\n2. 'Hola'\n\n\n",
            "text/html": [
              "<style>\n",
              ".list-inline {list-style: none; margin:0; padding: 0}\n",
              ".list-inline>li {display: inline-block}\n",
              ".list-inline>li:not(:last-child)::after {content: \"\\00b7\"; padding: 0 .5ex}\n",
              "</style>\n",
              "<ol class=list-inline><li>'Hola'</li><li>'Hola'</li></ol>\n"
            ]
          },
          "metadata": {
            "tags": []
          }
        }
      ]
    },
    {
      "cell_type": "markdown",
      "metadata": {
        "id": "TOxaMElbR4fM",
        "colab_type": "text"
      },
      "source": [
        " **Concatena cadenas**"
      ]
    },
    {
      "cell_type": "code",
      "metadata": {
        "id": "RvuRzLgdR8Ro",
        "colab_type": "code",
        "colab": {
          "base_uri": "https://localhost:8080/",
          "height": 34
        },
        "outputId": "e58827c2-d051-4522-fb06-a2c5c3e08245"
      },
      "source": [
        "paste(\"Zapopan\",\"Jalisco\")"
      ],
      "execution_count": null,
      "outputs": [
        {
          "output_type": "display_data",
          "data": {
            "text/plain": [
              "[1] \"Zapopan Jalisco\""
            ],
            "text/latex": "'Zapopan Jalisco'",
            "text/markdown": "'Zapopan Jalisco'",
            "text/html": [
              "'Zapopan Jalisco'"
            ]
          },
          "metadata": {
            "tags": []
          }
        }
      ]
    },
    {
      "cell_type": "markdown",
      "metadata": {
        "id": "1M1W4d3ASB2R",
        "colab_type": "text"
      },
      "source": [
        "**Obtiene una subcadena de una cadena, como argumento indicamos la posicion inicial y la posicion final**"
      ]
    },
    {
      "cell_type": "code",
      "metadata": {
        "id": "zzLjWl_ASLCH",
        "colab_type": "code",
        "colab": {
          "base_uri": "https://localhost:8080/",
          "height": 34
        },
        "outputId": "34c5a9a2-8edb-4653-a90b-3addd3f7a8d6"
      },
      "source": [
        "substr(\"Guadalajara\",3,6)"
      ],
      "execution_count": null,
      "outputs": [
        {
          "output_type": "display_data",
          "data": {
            "text/plain": [
              "[1] \"adal\""
            ],
            "text/latex": "'adal'",
            "text/markdown": "'adal'",
            "text/html": [
              "'adal'"
            ]
          },
          "metadata": {
            "tags": []
          }
        }
      ]
    },
    {
      "cell_type": "markdown",
      "metadata": {
        "id": "kBPj8XS8STF5",
        "colab_type": "text"
      },
      "source": [
        "### **Vectores en R**"
      ]
    },
    {
      "cell_type": "markdown",
      "metadata": {
        "id": "w7uxt1WoSXNu",
        "colab_type": "text"
      },
      "source": [
        "**Crear vector de enteros (del 1 a 1000)**"
      ]
    },
    {
      "cell_type": "code",
      "metadata": {
        "id": "JU4Pq11nTyI1",
        "colab_type": "code",
        "colab": {}
      },
      "source": [
        "v2 <- 1:100"
      ],
      "execution_count": null,
      "outputs": []
    },
    {
      "cell_type": "code",
      "metadata": {
        "id": "cX_LAjkVT0OD",
        "colab_type": "code",
        "colab": {
          "base_uri": "https://localhost:8080/",
          "height": 51
        },
        "outputId": "5a1b0f0f-64ec-488b-f682-22db500c4fb9"
      },
      "source": [
        "v2"
      ],
      "execution_count": null,
      "outputs": [
        {
          "output_type": "display_data",
          "data": {
            "text/plain": [
              "  [1]   1   2   3   4   5   6   7   8   9  10  11  12  13  14  15  16  17  18\n",
              " [19]  19  20  21  22  23  24  25  26  27  28  29  30  31  32  33  34  35  36\n",
              " [37]  37  38  39  40  41  42  43  44  45  46  47  48  49  50  51  52  53  54\n",
              " [55]  55  56  57  58  59  60  61  62  63  64  65  66  67  68  69  70  71  72\n",
              " [73]  73  74  75  76  77  78  79  80  81  82  83  84  85  86  87  88  89  90\n",
              " [91]  91  92  93  94  95  96  97  98  99 100"
            ],
            "text/latex": "\\begin{enumerate*}\n\\item 1\n\\item 2\n\\item 3\n\\item 4\n\\item 5\n\\item 6\n\\item 7\n\\item 8\n\\item 9\n\\item 10\n\\item 11\n\\item 12\n\\item 13\n\\item 14\n\\item 15\n\\item 16\n\\item 17\n\\item 18\n\\item 19\n\\item 20\n\\item 21\n\\item 22\n\\item 23\n\\item 24\n\\item 25\n\\item 26\n\\item 27\n\\item 28\n\\item 29\n\\item 30\n\\item 31\n\\item 32\n\\item 33\n\\item 34\n\\item 35\n\\item 36\n\\item 37\n\\item 38\n\\item 39\n\\item 40\n\\item 41\n\\item 42\n\\item 43\n\\item 44\n\\item 45\n\\item 46\n\\item 47\n\\item 48\n\\item 49\n\\item 50\n\\item 51\n\\item 52\n\\item 53\n\\item 54\n\\item 55\n\\item 56\n\\item 57\n\\item 58\n\\item 59\n\\item 60\n\\item 61\n\\item 62\n\\item 63\n\\item 64\n\\item 65\n\\item 66\n\\item 67\n\\item 68\n\\item 69\n\\item 70\n\\item 71\n\\item 72\n\\item 73\n\\item 74\n\\item 75\n\\item 76\n\\item 77\n\\item 78\n\\item 79\n\\item 80\n\\item 81\n\\item 82\n\\item 83\n\\item 84\n\\item 85\n\\item 86\n\\item 87\n\\item 88\n\\item 89\n\\item 90\n\\item 91\n\\item 92\n\\item 93\n\\item 94\n\\item 95\n\\item 96\n\\item 97\n\\item 98\n\\item 99\n\\item 100\n\\end{enumerate*}\n",
            "text/markdown": "1. 1\n2. 2\n3. 3\n4. 4\n5. 5\n6. 6\n7. 7\n8. 8\n9. 9\n10. 10\n11. 11\n12. 12\n13. 13\n14. 14\n15. 15\n16. 16\n17. 17\n18. 18\n19. 19\n20. 20\n21. 21\n22. 22\n23. 23\n24. 24\n25. 25\n26. 26\n27. 27\n28. 28\n29. 29\n30. 30\n31. 31\n32. 32\n33. 33\n34. 34\n35. 35\n36. 36\n37. 37\n38. 38\n39. 39\n40. 40\n41. 41\n42. 42\n43. 43\n44. 44\n45. 45\n46. 46\n47. 47\n48. 48\n49. 49\n50. 50\n51. 51\n52. 52\n53. 53\n54. 54\n55. 55\n56. 56\n57. 57\n58. 58\n59. 59\n60. 60\n61. 61\n62. 62\n63. 63\n64. 64\n65. 65\n66. 66\n67. 67\n68. 68\n69. 69\n70. 70\n71. 71\n72. 72\n73. 73\n74. 74\n75. 75\n76. 76\n77. 77\n78. 78\n79. 79\n80. 80\n81. 81\n82. 82\n83. 83\n84. 84\n85. 85\n86. 86\n87. 87\n88. 88\n89. 89\n90. 90\n91. 91\n92. 92\n93. 93\n94. 94\n95. 95\n96. 96\n97. 97\n98. 98\n99. 99\n100. 100\n\n\n",
            "text/html": [
              "<style>\n",
              ".list-inline {list-style: none; margin:0; padding: 0}\n",
              ".list-inline>li {display: inline-block}\n",
              ".list-inline>li:not(:last-child)::after {content: \"\\00b7\"; padding: 0 .5ex}\n",
              "</style>\n",
              "<ol class=list-inline><li>1</li><li>2</li><li>3</li><li>4</li><li>5</li><li>6</li><li>7</li><li>8</li><li>9</li><li>10</li><li>11</li><li>12</li><li>13</li><li>14</li><li>15</li><li>16</li><li>17</li><li>18</li><li>19</li><li>20</li><li>21</li><li>22</li><li>23</li><li>24</li><li>25</li><li>26</li><li>27</li><li>28</li><li>29</li><li>30</li><li>31</li><li>32</li><li>33</li><li>34</li><li>35</li><li>36</li><li>37</li><li>38</li><li>39</li><li>40</li><li>41</li><li>42</li><li>43</li><li>44</li><li>45</li><li>46</li><li>47</li><li>48</li><li>49</li><li>50</li><li>51</li><li>52</li><li>53</li><li>54</li><li>55</li><li>56</li><li>57</li><li>58</li><li>59</li><li>60</li><li>61</li><li>62</li><li>63</li><li>64</li><li>65</li><li>66</li><li>67</li><li>68</li><li>69</li><li>70</li><li>71</li><li>72</li><li>73</li><li>74</li><li>75</li><li>76</li><li>77</li><li>78</li><li>79</li><li>80</li><li>81</li><li>82</li><li>83</li><li>84</li><li>85</li><li>86</li><li>87</li><li>88</li><li>89</li><li>90</li><li>91</li><li>92</li><li>93</li><li>94</li><li>95</li><li>96</li><li>97</li><li>98</li><li>99</li><li>100</li></ol>\n"
            ]
          },
          "metadata": {
            "tags": []
          }
        }
      ]
    },
    {
      "cell_type": "markdown",
      "metadata": {
        "id": "CdePhhEVTz11",
        "colab_type": "text"
      },
      "source": [
        "**Crear vector con los cuadrados del vector v2**\n",
        "\n",
        "\n",
        "Nota: En lenguaje R, a diferencia de otros lenguajes, es muy común utilizar en el identificador de la variable algun punto en donde normalmente utilizamos un guion bajo para separar las palablas (Ej. variable_normal, variable.normal)"
      ]
    },
    {
      "cell_type": "code",
      "metadata": {
        "id": "diugUrp9UbAl",
        "colab_type": "code",
        "colab": {}
      },
      "source": [
        "v2.cuadrado <- v2 ^ 2"
      ],
      "execution_count": null,
      "outputs": []
    },
    {
      "cell_type": "code",
      "metadata": {
        "id": "d5yPOHdBUchE",
        "colab_type": "code",
        "colab": {
          "base_uri": "https://localhost:8080/",
          "height": 68
        },
        "outputId": "c3b0a403-28e0-4a74-d3b0-a2b155d103e4"
      },
      "source": [
        "v2.cuadrado"
      ],
      "execution_count": null,
      "outputs": [
        {
          "output_type": "display_data",
          "data": {
            "text/plain": [
              "  [1]     1     4     9    16    25    36    49    64    81   100   121   144\n",
              " [13]   169   196   225   256   289   324   361   400   441   484   529   576\n",
              " [25]   625   676   729   784   841   900   961  1024  1089  1156  1225  1296\n",
              " [37]  1369  1444  1521  1600  1681  1764  1849  1936  2025  2116  2209  2304\n",
              " [49]  2401  2500  2601  2704  2809  2916  3025  3136  3249  3364  3481  3600\n",
              " [61]  3721  3844  3969  4096  4225  4356  4489  4624  4761  4900  5041  5184\n",
              " [73]  5329  5476  5625  5776  5929  6084  6241  6400  6561  6724  6889  7056\n",
              " [85]  7225  7396  7569  7744  7921  8100  8281  8464  8649  8836  9025  9216\n",
              " [97]  9409  9604  9801 10000"
            ],
            "text/latex": "\\begin{enumerate*}\n\\item 1\n\\item 4\n\\item 9\n\\item 16\n\\item 25\n\\item 36\n\\item 49\n\\item 64\n\\item 81\n\\item 100\n\\item 121\n\\item 144\n\\item 169\n\\item 196\n\\item 225\n\\item 256\n\\item 289\n\\item 324\n\\item 361\n\\item 400\n\\item 441\n\\item 484\n\\item 529\n\\item 576\n\\item 625\n\\item 676\n\\item 729\n\\item 784\n\\item 841\n\\item 900\n\\item 961\n\\item 1024\n\\item 1089\n\\item 1156\n\\item 1225\n\\item 1296\n\\item 1369\n\\item 1444\n\\item 1521\n\\item 1600\n\\item 1681\n\\item 1764\n\\item 1849\n\\item 1936\n\\item 2025\n\\item 2116\n\\item 2209\n\\item 2304\n\\item 2401\n\\item 2500\n\\item 2601\n\\item 2704\n\\item 2809\n\\item 2916\n\\item 3025\n\\item 3136\n\\item 3249\n\\item 3364\n\\item 3481\n\\item 3600\n\\item 3721\n\\item 3844\n\\item 3969\n\\item 4096\n\\item 4225\n\\item 4356\n\\item 4489\n\\item 4624\n\\item 4761\n\\item 4900\n\\item 5041\n\\item 5184\n\\item 5329\n\\item 5476\n\\item 5625\n\\item 5776\n\\item 5929\n\\item 6084\n\\item 6241\n\\item 6400\n\\item 6561\n\\item 6724\n\\item 6889\n\\item 7056\n\\item 7225\n\\item 7396\n\\item 7569\n\\item 7744\n\\item 7921\n\\item 8100\n\\item 8281\n\\item 8464\n\\item 8649\n\\item 8836\n\\item 9025\n\\item 9216\n\\item 9409\n\\item 9604\n\\item 9801\n\\item 10000\n\\end{enumerate*}\n",
            "text/markdown": "1. 1\n2. 4\n3. 9\n4. 16\n5. 25\n6. 36\n7. 49\n8. 64\n9. 81\n10. 100\n11. 121\n12. 144\n13. 169\n14. 196\n15. 225\n16. 256\n17. 289\n18. 324\n19. 361\n20. 400\n21. 441\n22. 484\n23. 529\n24. 576\n25. 625\n26. 676\n27. 729\n28. 784\n29. 841\n30. 900\n31. 961\n32. 1024\n33. 1089\n34. 1156\n35. 1225\n36. 1296\n37. 1369\n38. 1444\n39. 1521\n40. 1600\n41. 1681\n42. 1764\n43. 1849\n44. 1936\n45. 2025\n46. 2116\n47. 2209\n48. 2304\n49. 2401\n50. 2500\n51. 2601\n52. 2704\n53. 2809\n54. 2916\n55. 3025\n56. 3136\n57. 3249\n58. 3364\n59. 3481\n60. 3600\n61. 3721\n62. 3844\n63. 3969\n64. 4096\n65. 4225\n66. 4356\n67. 4489\n68. 4624\n69. 4761\n70. 4900\n71. 5041\n72. 5184\n73. 5329\n74. 5476\n75. 5625\n76. 5776\n77. 5929\n78. 6084\n79. 6241\n80. 6400\n81. 6561\n82. 6724\n83. 6889\n84. 7056\n85. 7225\n86. 7396\n87. 7569\n88. 7744\n89. 7921\n90. 8100\n91. 8281\n92. 8464\n93. 8649\n94. 8836\n95. 9025\n96. 9216\n97. 9409\n98. 9604\n99. 9801\n100. 10000\n\n\n",
            "text/html": [
              "<style>\n",
              ".list-inline {list-style: none; margin:0; padding: 0}\n",
              ".list-inline>li {display: inline-block}\n",
              ".list-inline>li:not(:last-child)::after {content: \"\\00b7\"; padding: 0 .5ex}\n",
              "</style>\n",
              "<ol class=list-inline><li>1</li><li>4</li><li>9</li><li>16</li><li>25</li><li>36</li><li>49</li><li>64</li><li>81</li><li>100</li><li>121</li><li>144</li><li>169</li><li>196</li><li>225</li><li>256</li><li>289</li><li>324</li><li>361</li><li>400</li><li>441</li><li>484</li><li>529</li><li>576</li><li>625</li><li>676</li><li>729</li><li>784</li><li>841</li><li>900</li><li>961</li><li>1024</li><li>1089</li><li>1156</li><li>1225</li><li>1296</li><li>1369</li><li>1444</li><li>1521</li><li>1600</li><li>1681</li><li>1764</li><li>1849</li><li>1936</li><li>2025</li><li>2116</li><li>2209</li><li>2304</li><li>2401</li><li>2500</li><li>2601</li><li>2704</li><li>2809</li><li>2916</li><li>3025</li><li>3136</li><li>3249</li><li>3364</li><li>3481</li><li>3600</li><li>3721</li><li>3844</li><li>3969</li><li>4096</li><li>4225</li><li>4356</li><li>4489</li><li>4624</li><li>4761</li><li>4900</li><li>5041</li><li>5184</li><li>5329</li><li>5476</li><li>5625</li><li>5776</li><li>5929</li><li>6084</li><li>6241</li><li>6400</li><li>6561</li><li>6724</li><li>6889</li><li>7056</li><li>7225</li><li>7396</li><li>7569</li><li>7744</li><li>7921</li><li>8100</li><li>8281</li><li>8464</li><li>8649</li><li>8836</li><li>9025</li><li>9216</li><li>9409</li><li>9604</li><li>9801</li><li>10000</li></ol>\n"
            ]
          },
          "metadata": {
            "tags": []
          }
        }
      ]
    },
    {
      "cell_type": "markdown",
      "metadata": {
        "id": "eeA5DT-WUi3b",
        "colab_type": "text"
      },
      "source": [
        "**Crear vector vA**"
      ]
    },
    {
      "cell_type": "code",
      "metadata": {
        "id": "ByXX8GVKUmdP",
        "colab_type": "code",
        "colab": {}
      },
      "source": [
        "vA <- c(10,8,6)"
      ],
      "execution_count": null,
      "outputs": []
    },
    {
      "cell_type": "code",
      "metadata": {
        "id": "CNrHLB1UUnrf",
        "colab_type": "code",
        "colab": {
          "base_uri": "https://localhost:8080/",
          "height": 34
        },
        "outputId": "c0871142-4063-464c-bb41-47c0f4b206ee"
      },
      "source": [
        "vA"
      ],
      "execution_count": null,
      "outputs": [
        {
          "output_type": "display_data",
          "data": {
            "text/plain": [
              "[1] 10  8  6"
            ],
            "text/latex": "\\begin{enumerate*}\n\\item 10\n\\item 8\n\\item 6\n\\end{enumerate*}\n",
            "text/markdown": "1. 10\n2. 8\n3. 6\n\n\n",
            "text/html": [
              "<style>\n",
              ".list-inline {list-style: none; margin:0; padding: 0}\n",
              ".list-inline>li {display: inline-block}\n",
              ".list-inline>li:not(:last-child)::after {content: \"\\00b7\"; padding: 0 .5ex}\n",
              "</style>\n",
              "<ol class=list-inline><li>10</li><li>8</li><li>6</li></ol>\n"
            ]
          },
          "metadata": {
            "tags": []
          }
        }
      ]
    },
    {
      "cell_type": "markdown",
      "metadata": {
        "id": "hRu-8kROUowk",
        "colab_type": "text"
      },
      "source": [
        "**Multiplicar cada elemento del vector vA por 10**"
      ]
    },
    {
      "cell_type": "code",
      "metadata": {
        "id": "lXnQ60TPUufY",
        "colab_type": "code",
        "colab": {
          "base_uri": "https://localhost:8080/",
          "height": 34
        },
        "outputId": "542d136f-5faf-4e15-eac0-77c149b5d2a4"
      },
      "source": [
        "vA * 10"
      ],
      "execution_count": null,
      "outputs": [
        {
          "output_type": "display_data",
          "data": {
            "text/plain": [
              "[1] 100  80  60"
            ],
            "text/latex": "\\begin{enumerate*}\n\\item 100\n\\item 80\n\\item 60\n\\end{enumerate*}\n",
            "text/markdown": "1. 100\n2. 80\n3. 60\n\n\n",
            "text/html": [
              "<style>\n",
              ".list-inline {list-style: none; margin:0; padding: 0}\n",
              ".list-inline>li {display: inline-block}\n",
              ".list-inline>li:not(:last-child)::after {content: \"\\00b7\"; padding: 0 .5ex}\n",
              "</style>\n",
              "<ol class=list-inline><li>100</li><li>80</li><li>60</li></ol>\n"
            ]
          },
          "metadata": {
            "tags": []
          }
        }
      ]
    },
    {
      "cell_type": "markdown",
      "metadata": {
        "id": "or1nTRVeUxNp",
        "colab_type": "text"
      },
      "source": [
        "**Crear un vector con numeros del 1 al 10 con saltos de 2 en 2**"
      ]
    },
    {
      "cell_type": "code",
      "metadata": {
        "id": "KumnoXUnU6dH",
        "colab_type": "code",
        "colab": {}
      },
      "source": [
        "vB <- c(seq(1,10,2))"
      ],
      "execution_count": null,
      "outputs": []
    },
    {
      "cell_type": "code",
      "metadata": {
        "id": "OqH4yITyU7Wy",
        "colab_type": "code",
        "colab": {
          "base_uri": "https://localhost:8080/",
          "height": 34
        },
        "outputId": "158cf72b-6d96-4af6-e6ca-79bbc6117eb3"
      },
      "source": [
        "vB"
      ],
      "execution_count": null,
      "outputs": [
        {
          "output_type": "display_data",
          "data": {
            "text/plain": [
              "[1] 1 3 5 7 9"
            ],
            "text/latex": "\\begin{enumerate*}\n\\item 1\n\\item 3\n\\item 5\n\\item 7\n\\item 9\n\\end{enumerate*}\n",
            "text/markdown": "1. 1\n2. 3\n3. 5\n4. 7\n5. 9\n\n\n",
            "text/html": [
              "<style>\n",
              ".list-inline {list-style: none; margin:0; padding: 0}\n",
              ".list-inline>li {display: inline-block}\n",
              ".list-inline>li:not(:last-child)::after {content: \"\\00b7\"; padding: 0 .5ex}\n",
              "</style>\n",
              "<ol class=list-inline><li>1</li><li>3</li><li>5</li><li>7</li><li>9</li></ol>\n"
            ]
          },
          "metadata": {
            "tags": []
          }
        }
      ]
    },
    {
      "cell_type": "markdown",
      "metadata": {
        "id": "rJpIRiNpVB_6",
        "colab_type": "text"
      },
      "source": [
        "**Mostrar el primer elemento del vector vA**"
      ]
    },
    {
      "cell_type": "code",
      "metadata": {
        "id": "ES0jMu4SVF0s",
        "colab_type": "code",
        "colab": {
          "base_uri": "https://localhost:8080/",
          "height": 34
        },
        "outputId": "29c9527d-8cc7-46c6-804a-39cc7c9e8c38"
      },
      "source": [
        "vA[1]"
      ],
      "execution_count": null,
      "outputs": [
        {
          "output_type": "display_data",
          "data": {
            "text/plain": [
              "[1] 10"
            ],
            "text/latex": "10",
            "text/markdown": "10",
            "text/html": [
              "10"
            ]
          },
          "metadata": {
            "tags": []
          }
        }
      ]
    },
    {
      "cell_type": "markdown",
      "metadata": {
        "id": "YAiC3dhGVHyo",
        "colab_type": "text"
      },
      "source": [
        "**Mostrar los primeros cuatro elementos del vector vB**"
      ]
    },
    {
      "cell_type": "code",
      "metadata": {
        "id": "Uw0Ci19sVPXD",
        "colab_type": "code",
        "colab": {
          "base_uri": "https://localhost:8080/",
          "height": 34
        },
        "outputId": "abd4dad4-052b-4e13-a5d2-d614f80a442c"
      },
      "source": [
        "vB[1:4]"
      ],
      "execution_count": null,
      "outputs": [
        {
          "output_type": "display_data",
          "data": {
            "text/plain": [
              "[1] 1 3 5 7"
            ],
            "text/latex": "\\begin{enumerate*}\n\\item 1\n\\item 3\n\\item 5\n\\item 7\n\\end{enumerate*}\n",
            "text/markdown": "1. 1\n2. 3\n3. 5\n4. 7\n\n\n",
            "text/html": [
              "<style>\n",
              ".list-inline {list-style: none; margin:0; padding: 0}\n",
              ".list-inline>li {display: inline-block}\n",
              ".list-inline>li:not(:last-child)::after {content: \"\\00b7\"; padding: 0 .5ex}\n",
              "</style>\n",
              "<ol class=list-inline><li>1</li><li>3</li><li>5</li><li>7</li></ol>\n"
            ]
          },
          "metadata": {
            "tags": []
          }
        }
      ]
    },
    {
      "cell_type": "markdown",
      "metadata": {
        "id": "cfvnUWHDVSS7",
        "colab_type": "text"
      },
      "source": [
        "**Devuelve los indices de los elementos que cumplen la condicion que se le indique**"
      ]
    },
    {
      "cell_type": "code",
      "metadata": {
        "id": "Gy2G71jvVXRK",
        "colab_type": "code",
        "colab": {
          "base_uri": "https://localhost:8080/",
          "height": 34
        },
        "outputId": "f220386d-88f7-46db-f23e-6788363759ab"
      },
      "source": [
        "which (vB > 3)"
      ],
      "execution_count": null,
      "outputs": [
        {
          "output_type": "display_data",
          "data": {
            "text/plain": [
              "[1] 3 4 5"
            ],
            "text/latex": "\\begin{enumerate*}\n\\item 3\n\\item 4\n\\item 5\n\\end{enumerate*}\n",
            "text/markdown": "1. 3\n2. 4\n3. 5\n\n\n",
            "text/html": [
              "<style>\n",
              ".list-inline {list-style: none; margin:0; padding: 0}\n",
              ".list-inline>li {display: inline-block}\n",
              ".list-inline>li:not(:last-child)::after {content: \"\\00b7\"; padding: 0 .5ex}\n",
              "</style>\n",
              "<ol class=list-inline><li>3</li><li>4</li><li>5</li></ol>\n"
            ]
          },
          "metadata": {
            "tags": []
          }
        }
      ]
    },
    {
      "cell_type": "markdown",
      "metadata": {
        "id": "oYY7_gFdVeBQ",
        "colab_type": "text"
      },
      "source": [
        "**Una caracteriztica de los vectores en lenguaje R es que los elementos pueden ser de varios tipos de datos**"
      ]
    },
    {
      "cell_type": "markdown",
      "metadata": {
        "id": "xRCRKqMdVp9T",
        "colab_type": "text"
      },
      "source": [
        "**Crearemos el vector sex, utilizando la función rep vista previamente**"
      ]
    },
    {
      "cell_type": "code",
      "metadata": {
        "id": "8iQjkcuQVwk2",
        "colab_type": "code",
        "colab": {}
      },
      "source": [
        "sex <- c( rep('M', 3), rep('F', 3) )"
      ],
      "execution_count": null,
      "outputs": []
    },
    {
      "cell_type": "code",
      "metadata": {
        "id": "ANg2U2R2VzOh",
        "colab_type": "code",
        "colab": {
          "base_uri": "https://localhost:8080/",
          "height": 34
        },
        "outputId": "4b412133-b286-4a1a-9f4c-8ca2e4ebc9d7"
      },
      "source": [
        "sex"
      ],
      "execution_count": null,
      "outputs": [
        {
          "output_type": "display_data",
          "data": {
            "text/plain": [
              "[1] \"M\" \"M\" \"M\" \"F\" \"F\" \"F\""
            ],
            "text/latex": "\\begin{enumerate*}\n\\item 'M'\n\\item 'M'\n\\item 'M'\n\\item 'F'\n\\item 'F'\n\\item 'F'\n\\end{enumerate*}\n",
            "text/markdown": "1. 'M'\n2. 'M'\n3. 'M'\n4. 'F'\n5. 'F'\n6. 'F'\n\n\n",
            "text/html": [
              "<style>\n",
              ".list-inline {list-style: none; margin:0; padding: 0}\n",
              ".list-inline>li {display: inline-block}\n",
              ".list-inline>li:not(:last-child)::after {content: \"\\00b7\"; padding: 0 .5ex}\n",
              "</style>\n",
              "<ol class=list-inline><li>'M'</li><li>'M'</li><li>'M'</li><li>'F'</li><li>'F'</li><li>'F'</li></ol>\n"
            ]
          },
          "metadata": {
            "tags": []
          }
        }
      ]
    },
    {
      "cell_type": "markdown",
      "metadata": {
        "id": "8EjYhBFSV03X",
        "colab_type": "text"
      },
      "source": [
        "**Mostramos los indices de los elementos del vector sex que sean igual a 'M'**"
      ]
    },
    {
      "cell_type": "code",
      "metadata": {
        "id": "tmimRv3rWAmg",
        "colab_type": "code",
        "colab": {
          "base_uri": "https://localhost:8080/",
          "height": 34
        },
        "outputId": "276507b7-db7f-4f0f-eb61-ed1e2b6c18b3"
      },
      "source": [
        "which (sex == 'M')"
      ],
      "execution_count": null,
      "outputs": [
        {
          "output_type": "display_data",
          "data": {
            "text/plain": [
              "[1] 1 2 3"
            ],
            "text/latex": "\\begin{enumerate*}\n\\item 1\n\\item 2\n\\item 3\n\\end{enumerate*}\n",
            "text/markdown": "1. 1\n2. 2\n3. 3\n\n\n",
            "text/html": [
              "<style>\n",
              ".list-inline {list-style: none; margin:0; padding: 0}\n",
              ".list-inline>li {display: inline-block}\n",
              ".list-inline>li:not(:last-child)::after {content: \"\\00b7\"; padding: 0 .5ex}\n",
              "</style>\n",
              "<ol class=list-inline><li>1</li><li>2</li><li>3</li></ol>\n"
            ]
          },
          "metadata": {
            "tags": []
          }
        }
      ]
    },
    {
      "cell_type": "markdown",
      "metadata": {
        "id": "CQTFpguZWjVO",
        "colab_type": "text"
      },
      "source": [
        "**R nos permite realizar operaciones entre vectores**"
      ]
    },
    {
      "cell_type": "markdown",
      "metadata": {
        "id": "O-DGNmmdWqwW",
        "colab_type": "text"
      },
      "source": [
        "**Creamos el vector x1**"
      ]
    },
    {
      "cell_type": "code",
      "metadata": {
        "id": "BTc3ogxsWvGn",
        "colab_type": "code",
        "colab": {}
      },
      "source": [
        "x1 <- c(1,2,3)"
      ],
      "execution_count": null,
      "outputs": []
    },
    {
      "cell_type": "markdown",
      "metadata": {
        "id": "8KZ3STz2Wwpp",
        "colab_type": "text"
      },
      "source": [
        "**Creamos el vector y1**"
      ]
    },
    {
      "cell_type": "code",
      "metadata": {
        "id": "JPWR_vc4W1WE",
        "colab_type": "code",
        "colab": {}
      },
      "source": [
        "y1 <- c(4,5,6)"
      ],
      "execution_count": null,
      "outputs": []
    },
    {
      "cell_type": "markdown",
      "metadata": {
        "id": "pQd23xoCW3O6",
        "colab_type": "text"
      },
      "source": [
        "**Producto de vectores**"
      ]
    },
    {
      "cell_type": "code",
      "metadata": {
        "id": "X-Tj540xW5zb",
        "colab_type": "code",
        "colab": {
          "base_uri": "https://localhost:8080/",
          "height": 34
        },
        "outputId": "eb218eb6-a5b7-4a83-f1a6-dc8b6edd0994"
      },
      "source": [
        "x1 * y1"
      ],
      "execution_count": null,
      "outputs": [
        {
          "output_type": "display_data",
          "data": {
            "text/plain": [
              "[1]  4 10 18"
            ],
            "text/latex": "\\begin{enumerate*}\n\\item 4\n\\item 10\n\\item 18\n\\end{enumerate*}\n",
            "text/markdown": "1. 4\n2. 10\n3. 18\n\n\n",
            "text/html": [
              "<style>\n",
              ".list-inline {list-style: none; margin:0; padding: 0}\n",
              ".list-inline>li {display: inline-block}\n",
              ".list-inline>li:not(:last-child)::after {content: \"\\00b7\"; padding: 0 .5ex}\n",
              "</style>\n",
              "<ol class=list-inline><li>4</li><li>10</li><li>18</li></ol>\n"
            ]
          },
          "metadata": {
            "tags": []
          }
        }
      ]
    },
    {
      "cell_type": "markdown",
      "metadata": {
        "id": "oMk7aE2yW7p8",
        "colab_type": "text"
      },
      "source": [
        "**Valor minimo en el vector**"
      ]
    },
    {
      "cell_type": "code",
      "metadata": {
        "id": "1wDFZwFtW_Kg",
        "colab_type": "code",
        "colab": {
          "base_uri": "https://localhost:8080/",
          "height": 34
        },
        "outputId": "e326e546-6747-4c57-df08-2d5baf867b28"
      },
      "source": [
        "min(x1)"
      ],
      "execution_count": null,
      "outputs": [
        {
          "output_type": "display_data",
          "data": {
            "text/plain": [
              "[1] 1"
            ],
            "text/latex": "1",
            "text/markdown": "1",
            "text/html": [
              "1"
            ]
          },
          "metadata": {
            "tags": []
          }
        }
      ]
    },
    {
      "cell_type": "markdown",
      "metadata": {
        "id": "ywr4_droXBC2",
        "colab_type": "text"
      },
      "source": [
        "**Valor maximo en el vector**"
      ]
    },
    {
      "cell_type": "code",
      "metadata": {
        "id": "seBTMaVIXRAe",
        "colab_type": "code",
        "colab": {
          "base_uri": "https://localhost:8080/",
          "height": 34
        },
        "outputId": "65d9314d-021c-4a8b-a769-6e6c3cd2fd65"
      },
      "source": [
        "max(x1)"
      ],
      "execution_count": null,
      "outputs": [
        {
          "output_type": "display_data",
          "data": {
            "text/plain": [
              "[1] 3"
            ],
            "text/latex": "3",
            "text/markdown": "3",
            "text/html": [
              "3"
            ]
          },
          "metadata": {
            "tags": []
          }
        }
      ]
    },
    {
      "cell_type": "markdown",
      "metadata": {
        "id": "G2ppqnmiXSz9",
        "colab_type": "text"
      },
      "source": [
        "**Producto interno de dos vectores**"
      ]
    },
    {
      "cell_type": "code",
      "metadata": {
        "id": "nRhPdcykXVO4",
        "colab_type": "code",
        "colab": {
          "base_uri": "https://localhost:8080/",
          "height": 133
        },
        "outputId": "10a2972a-0e3a-4757-a7da-71c76ba910a0"
      },
      "source": [
        "outer(x1,y1)"
      ],
      "execution_count": null,
      "outputs": [
        {
          "output_type": "display_data",
          "data": {
            "text/plain": [
              "     [,1] [,2] [,3]\n",
              "[1,]  4    5    6  \n",
              "[2,]  8   10   12  \n",
              "[3,] 12   15   18  "
            ],
            "text/latex": "A matrix: 3 × 3 of type dbl\n\\begin{tabular}{lll}\n\t  4 &  5 &  6\\\\\n\t  8 & 10 & 12\\\\\n\t 12 & 15 & 18\\\\\n\\end{tabular}\n",
            "text/markdown": "\nA matrix: 3 × 3 of type dbl\n\n|  4 |  5 |  6 |\n|  8 | 10 | 12 |\n| 12 | 15 | 18 |\n\n",
            "text/html": [
              "<table>\n",
              "<caption>A matrix: 3 × 3 of type dbl</caption>\n",
              "<tbody>\n",
              "\t<tr><td> 4</td><td> 5</td><td> 6</td></tr>\n",
              "\t<tr><td> 8</td><td>10</td><td>12</td></tr>\n",
              "\t<tr><td>12</td><td>15</td><td>18</td></tr>\n",
              "</tbody>\n",
              "</table>\n"
            ]
          },
          "metadata": {
            "tags": []
          }
        }
      ]
    },
    {
      "cell_type": "markdown",
      "metadata": {
        "id": "bS6MsigjXWot",
        "colab_type": "text"
      },
      "source": [
        "**Producto punto de dos vectores**"
      ]
    },
    {
      "cell_type": "code",
      "metadata": {
        "id": "Ebs2E0q0XZLF",
        "colab_type": "code",
        "colab": {
          "base_uri": "https://localhost:8080/",
          "height": 142
        },
        "outputId": "d010e87a-59ca-479d-d376-9eeec5aaa9ba"
      },
      "source": [
        "x1%*%y1 "
      ],
      "execution_count": null,
      "outputs": [
        {
          "output_type": "display_data",
          "data": {
            "text/plain": [
              "     [,1]\n",
              "[1,] 32  "
            ],
            "text/latex": "A matrix: 1 × 1 of type dbl\n\\begin{tabular}{l}\n\t 32\\\\\n\\end{tabular}\n",
            "text/markdown": "\nA matrix: 1 × 1 of type dbl\n\n| 32 |\n\n",
            "text/html": [
              "<table>\n",
              "<caption>A matrix: 1 × 1 of type dbl</caption>\n",
              "<tbody>\n",
              "\t<tr><td>32</td></tr>\n",
              "</tbody>\n",
              "</table>\n"
            ]
          },
          "metadata": {
            "tags": []
          }
        }
      ]
    },
    {
      "cell_type": "markdown",
      "metadata": {
        "id": "M7LLJGBifW-G",
        "colab_type": "text"
      },
      "source": [
        "**Se puede realizar operaciones de conjuntos con los vectores, por ejemplo union e interaccion, en el caso de la interaccion calcula un factor que representa la interacción de los factores dados. \n",
        "El resultado de interaccion siempre está desordenado.**"
      ]
    },
    {
      "cell_type": "code",
      "metadata": {
        "id": "JPb5vmaDfgS1",
        "colab_type": "code",
        "colab": {
          "base_uri": "https://localhost:8080/",
          "height": 85
        },
        "outputId": "bac29bc4-fd00-4b23-a179-725cd6d36699"
      },
      "source": [
        " A <- c(1,2,3)\n",
        " B <- c(4,5,6)\n",
        " union(A,B)\n",
        " interaction(A,B)"
      ],
      "execution_count": null,
      "outputs": [
        {
          "output_type": "display_data",
          "data": {
            "text/plain": [
              "[1] 1 2 3 4 5 6"
            ],
            "text/latex": "\\begin{enumerate*}\n\\item 1\n\\item 2\n\\item 3\n\\item 4\n\\item 5\n\\item 6\n\\end{enumerate*}\n",
            "text/markdown": "1. 1\n2. 2\n3. 3\n4. 4\n5. 5\n6. 6\n\n\n",
            "text/html": [
              "<style>\n",
              ".list-inline {list-style: none; margin:0; padding: 0}\n",
              ".list-inline>li {display: inline-block}\n",
              ".list-inline>li:not(:last-child)::after {content: \"\\00b7\"; padding: 0 .5ex}\n",
              "</style>\n",
              "<ol class=list-inline><li>1</li><li>2</li><li>3</li><li>4</li><li>5</li><li>6</li></ol>\n"
            ]
          },
          "metadata": {
            "tags": []
          }
        },
        {
          "output_type": "display_data",
          "data": {
            "text/plain": [
              "[1] 1.4 2.5 3.6\n",
              "Levels: 1.4 2.4 3.4 1.5 2.5 3.5 1.6 2.6 3.6"
            ],
            "text/latex": "\\begin{enumerate*}\n\\item 1.4\n\\item 2.5\n\\item 3.6\n\\end{enumerate*}\n\n\\emph{Levels}: \\begin{enumerate*}\n\\item '1.4'\n\\item '2.4'\n\\item '3.4'\n\\item '1.5'\n\\item '2.5'\n\\item '3.5'\n\\item '1.6'\n\\item '2.6'\n\\item '3.6'\n\\end{enumerate*}\n",
            "text/markdown": "1. 1.4\n2. 2.5\n3. 3.6\n\n\n\n**Levels**: 1. '1.4'\n2. '2.4'\n3. '3.4'\n4. '1.5'\n5. '2.5'\n6. '3.5'\n7. '1.6'\n8. '2.6'\n9. '3.6'\n\n\n",
            "text/html": [
              "<style>\n",
              ".list-inline {list-style: none; margin:0; padding: 0}\n",
              ".list-inline>li {display: inline-block}\n",
              ".list-inline>li:not(:last-child)::after {content: \"\\00b7\"; padding: 0 .5ex}\n",
              "</style>\n",
              "<ol class=list-inline><li>1.4</li><li>2.5</li><li>3.6</li></ol>\n",
              "\n",
              "<details>\n",
              "\t<summary style=display:list-item;cursor:pointer>\n",
              "\t\t<strong>Levels</strong>:\n",
              "\t</summary>\n",
              "\t<style>\n",
              "\t.list-inline {list-style: none; margin:0; padding: 0}\n",
              "\t.list-inline>li {display: inline-block}\n",
              "\t.list-inline>li:not(:last-child)::after {content: \"\\00b7\"; padding: 0 .5ex}\n",
              "\t</style>\n",
              "\t<ol class=list-inline><li>'1.4'</li><li>'2.4'</li><li>'3.4'</li><li>'1.5'</li><li>'2.5'</li><li>'3.5'</li><li>'1.6'</li><li>'2.6'</li><li>'3.6'</li></ol>\n",
              "</details>"
            ]
          },
          "metadata": {
            "tags": []
          }
        }
      ]
    },
    {
      "cell_type": "markdown",
      "metadata": {
        "id": "2wdvd9Z8XgJQ",
        "colab_type": "text"
      },
      "source": [
        "### **Matrices en R**"
      ]
    },
    {
      "cell_type": "markdown",
      "metadata": {
        "id": "ZHmG4cECX9_8",
        "colab_type": "text"
      },
      "source": [
        "**Creamos una matriz con numeros del 1 al 15, podemos indicarle numero de filas y numero de columnas, ésta se llenara en orden por columnas.**\n",
        "\n",
        "\n",
        "**Se puede especificar la forma en la que se llenara cambiando el argumento nrow por byrow, utilizando byrow = T se llenara por fila, con     byrow = F se llenara por columna**"
      ]
    },
    {
      "cell_type": "code",
      "metadata": {
        "id": "8e4nWkH8YOzE",
        "colab_type": "code",
        "colab": {}
      },
      "source": [
        "m1 <- matrix(1:15, nrow=5, ncol=5)"
      ],
      "execution_count": null,
      "outputs": []
    },
    {
      "cell_type": "code",
      "metadata": {
        "id": "WQ1rOTlfYQSs",
        "colab_type": "code",
        "colab": {
          "base_uri": "https://localhost:8080/",
          "height": 158
        },
        "outputId": "e986496f-41de-4d41-c0f9-00162e55f1cc"
      },
      "source": [
        "m1"
      ],
      "execution_count": null,
      "outputs": [
        {
          "output_type": "display_data",
          "data": {
            "text/plain": [
              "     [,1] [,2] [,3] [,4] [,5]\n",
              "[1,] 1     6   11   1     6  \n",
              "[2,] 2     7   12   2     7  \n",
              "[3,] 3     8   13   3     8  \n",
              "[4,] 4     9   14   4     9  \n",
              "[5,] 5    10   15   5    10  "
            ],
            "text/latex": "A matrix: 5 × 5 of type int\n\\begin{tabular}{lllll}\n\t 1 &  6 & 11 & 1 &  6\\\\\n\t 2 &  7 & 12 & 2 &  7\\\\\n\t 3 &  8 & 13 & 3 &  8\\\\\n\t 4 &  9 & 14 & 4 &  9\\\\\n\t 5 & 10 & 15 & 5 & 10\\\\\n\\end{tabular}\n",
            "text/markdown": "\nA matrix: 5 × 5 of type int\n\n| 1 |  6 | 11 | 1 |  6 |\n| 2 |  7 | 12 | 2 |  7 |\n| 3 |  8 | 13 | 3 |  8 |\n| 4 |  9 | 14 | 4 |  9 |\n| 5 | 10 | 15 | 5 | 10 |\n\n",
            "text/html": [
              "<table>\n",
              "<caption>A matrix: 5 × 5 of type int</caption>\n",
              "<tbody>\n",
              "\t<tr><td>1</td><td> 6</td><td>11</td><td>1</td><td> 6</td></tr>\n",
              "\t<tr><td>2</td><td> 7</td><td>12</td><td>2</td><td> 7</td></tr>\n",
              "\t<tr><td>3</td><td> 8</td><td>13</td><td>3</td><td> 8</td></tr>\n",
              "\t<tr><td>4</td><td> 9</td><td>14</td><td>4</td><td> 9</td></tr>\n",
              "\t<tr><td>5</td><td>10</td><td>15</td><td>5</td><td>10</td></tr>\n",
              "</tbody>\n",
              "</table>\n"
            ]
          },
          "metadata": {
            "tags": []
          }
        }
      ]
    },
    {
      "cell_type": "markdown",
      "metadata": {
        "id": "JzpiG4ZWYgiw",
        "colab_type": "text"
      },
      "source": [
        "**Diagonal principal de m1**"
      ]
    },
    {
      "cell_type": "code",
      "metadata": {
        "id": "iEYt-pccYjd3",
        "colab_type": "code",
        "colab": {}
      },
      "source": [
        "diag(m1)"
      ],
      "execution_count": null,
      "outputs": []
    },
    {
      "cell_type": "markdown",
      "metadata": {
        "id": "z1uOSp40YlJC",
        "colab_type": "text"
      },
      "source": [
        "**Suma de columnas**"
      ]
    },
    {
      "cell_type": "code",
      "metadata": {
        "id": "iyuQBe7IYn6n",
        "colab_type": "code",
        "colab": {}
      },
      "source": [
        "colSums(m1) "
      ],
      "execution_count": null,
      "outputs": []
    },
    {
      "cell_type": "markdown",
      "metadata": {
        "id": "QC3TpTjWZK1V",
        "colab_type": "text"
      },
      "source": [
        "**Podemos crear una matriz con vectores previamente creados**"
      ]
    },
    {
      "cell_type": "code",
      "metadata": {
        "id": "f1nUPXwjZX5o",
        "colab_type": "code",
        "colab": {}
      },
      "source": [
        "vX <-  c(0,1,2,5,10,20)\n",
        "vY <- c(76,9,43,5,25,80)"
      ],
      "execution_count": null,
      "outputs": []
    },
    {
      "cell_type": "markdown",
      "metadata": {
        "id": "iwQHKCkKZpdM",
        "colab_type": "text"
      },
      "source": [
        "**La matriz se llenara en orden por renglones**"
      ]
    },
    {
      "cell_type": "code",
      "metadata": {
        "id": "pyc_wAFaZYur",
        "colab_type": "code",
        "colab": {}
      },
      "source": [
        "row.bind <- rbind(vX,vY)"
      ],
      "execution_count": null,
      "outputs": []
    },
    {
      "cell_type": "code",
      "metadata": {
        "id": "CJsST6luZfed",
        "colab_type": "code",
        "colab": {
          "base_uri": "https://localhost:8080/",
          "height": 95
        },
        "outputId": "d64990ec-d357-42c8-cbf1-824e0849ccc1"
      },
      "source": [
        "row.bind"
      ],
      "execution_count": null,
      "outputs": [
        {
          "output_type": "display_data",
          "data": {
            "text/plain": [
              "   [,1] [,2] [,3] [,4] [,5] [,6]\n",
              "vX  0   1     2   5    10   20  \n",
              "vY 76   9    43   5    25   80  "
            ],
            "text/latex": "A matrix: 2 × 6 of type dbl\n\\begin{tabular}{r|llllll}\n\tvX &  0 & 1 &  2 & 5 & 10 & 20\\\\\n\tvY & 76 & 9 & 43 & 5 & 25 & 80\\\\\n\\end{tabular}\n",
            "text/markdown": "\nA matrix: 2 × 6 of type dbl\n\n| vX |  0 | 1 |  2 | 5 | 10 | 20 |\n| vY | 76 | 9 | 43 | 5 | 25 | 80 |\n\n",
            "text/html": [
              "<table>\n",
              "<caption>A matrix: 2 × 6 of type dbl</caption>\n",
              "<tbody>\n",
              "\t<tr><th scope=row>vX</th><td> 0</td><td>1</td><td> 2</td><td>5</td><td>10</td><td>20</td></tr>\n",
              "\t<tr><th scope=row>vY</th><td>76</td><td>9</td><td>43</td><td>5</td><td>25</td><td>80</td></tr>\n",
              "</tbody>\n",
              "</table>\n"
            ]
          },
          "metadata": {
            "tags": []
          }
        }
      ]
    },
    {
      "cell_type": "markdown",
      "metadata": {
        "id": "tPuUNG-jZ2W-",
        "colab_type": "text"
      },
      "source": [
        "**La matriz se llenara en orden por columnas**"
      ]
    },
    {
      "cell_type": "code",
      "metadata": {
        "id": "MKrVVSV0Zy5w",
        "colab_type": "code",
        "colab": {}
      },
      "source": [
        "col.bind <- cbind(vX,vY)"
      ],
      "execution_count": null,
      "outputs": []
    },
    {
      "cell_type": "code",
      "metadata": {
        "id": "_7RtwbPuZ5uA",
        "colab_type": "code",
        "colab": {
          "base_uri": "https://localhost:8080/",
          "height": 251
        },
        "outputId": "0a9bf000-b91c-4460-8fc0-542ed891fc52"
      },
      "source": [
        "col.bind"
      ],
      "execution_count": null,
      "outputs": [
        {
          "output_type": "display_data",
          "data": {
            "text/plain": [
              "     vX vY\n",
              "[1,]  0 76\n",
              "[2,]  1  9\n",
              "[3,]  2 43\n",
              "[4,]  5  5\n",
              "[5,] 10 25\n",
              "[6,] 20 80"
            ],
            "text/latex": "A matrix: 6 × 2 of type dbl\n\\begin{tabular}{ll}\n vX & vY\\\\\n\\hline\n\t  0 & 76\\\\\n\t  1 &  9\\\\\n\t  2 & 43\\\\\n\t  5 &  5\\\\\n\t 10 & 25\\\\\n\t 20 & 80\\\\\n\\end{tabular}\n",
            "text/markdown": "\nA matrix: 6 × 2 of type dbl\n\n| vX | vY |\n|---|---|\n|  0 | 76 |\n|  1 |  9 |\n|  2 | 43 |\n|  5 |  5 |\n| 10 | 25 |\n| 20 | 80 |\n\n",
            "text/html": [
              "<table>\n",
              "<caption>A matrix: 6 × 2 of type dbl</caption>\n",
              "<thead>\n",
              "\t<tr><th scope=col>vX</th><th scope=col>vY</th></tr>\n",
              "</thead>\n",
              "<tbody>\n",
              "\t<tr><td> 0</td><td>76</td></tr>\n",
              "\t<tr><td> 1</td><td> 9</td></tr>\n",
              "\t<tr><td> 2</td><td>43</td></tr>\n",
              "\t<tr><td> 5</td><td> 5</td></tr>\n",
              "\t<tr><td>10</td><td>25</td></tr>\n",
              "\t<tr><td>20</td><td>80</td></tr>\n",
              "</tbody>\n",
              "</table>\n"
            ]
          },
          "metadata": {
            "tags": []
          }
        }
      ]
    },
    {
      "cell_type": "markdown",
      "metadata": {
        "id": "eaHKJPYQaEsD",
        "colab_type": "text"
      },
      "source": [
        "**Muestra el elemento 1,1 de la matriz**"
      ]
    },
    {
      "cell_type": "code",
      "metadata": {
        "id": "fUVLa-LtaI95",
        "colab_type": "code",
        "colab": {
          "base_uri": "https://localhost:8080/",
          "height": 34
        },
        "outputId": "4664c1f7-c5b3-42cb-b733-340bb5f3aac2"
      },
      "source": [
        "row.bind[1,1]"
      ],
      "execution_count": null,
      "outputs": [
        {
          "output_type": "display_data",
          "data": {
            "text/plain": [
              "vX \n",
              " 0 "
            ],
            "text/latex": "\\textbf{vX:} 0",
            "text/markdown": "**vX:** 0",
            "text/html": [
              "<strong>vX:</strong> 0"
            ]
          },
          "metadata": {
            "tags": []
          }
        }
      ]
    },
    {
      "cell_type": "markdown",
      "metadata": {
        "id": "gYIyADQcaLXe",
        "colab_type": "text"
      },
      "source": [
        "**Mestra el renglon 4 de la matriz**"
      ]
    },
    {
      "cell_type": "code",
      "metadata": {
        "id": "BGXrtQ0JaU3T",
        "colab_type": "code",
        "colab": {
          "base_uri": "https://localhost:8080/",
          "height": 34
        },
        "outputId": "ed8694e5-0233-412c-f594-fe64c65263a5"
      },
      "source": [
        "row.bind[,4]"
      ],
      "execution_count": null,
      "outputs": [
        {
          "output_type": "display_data",
          "data": {
            "text/plain": [
              "vX vY \n",
              " 5  5 "
            ],
            "text/latex": "\\begin{description*}\n\\item[vX] 5\n\\item[vY] 5\n\\end{description*}\n",
            "text/markdown": "vX\n:   5vY\n:   5\n\n",
            "text/html": [
              "<style>\n",
              ".dl-inline {width: auto; margin:0; padding: 0}\n",
              ".dl-inline>dt, .dl-inline>dd {float: none; width: auto; display: inline-block}\n",
              ".dl-inline>dt::after {content: \":\\0020\"; padding-right: .5ex}\n",
              ".dl-inline>dt:not(:first-of-type) {padding-left: .5ex}\n",
              "</style><dl class=dl-inline><dt>vX</dt><dd>5</dd><dt>vY</dt><dd>5</dd></dl>\n"
            ]
          },
          "metadata": {
            "tags": []
          }
        }
      ]
    },
    {
      "cell_type": "markdown",
      "metadata": {
        "id": "mfS4lHY4amfC",
        "colab_type": "text"
      },
      "source": [
        "**Muestra la fila 1 de la matriz**"
      ]
    },
    {
      "cell_type": "code",
      "metadata": {
        "id": "848wDjVOaqnq",
        "colab_type": "code",
        "colab": {
          "base_uri": "https://localhost:8080/",
          "height": 34
        },
        "outputId": "95b15075-1a9d-407a-e9cf-a91b41218c53"
      },
      "source": [
        "row.bind[1,]"
      ],
      "execution_count": null,
      "outputs": [
        {
          "output_type": "display_data",
          "data": {
            "text/plain": [
              "[1]  0  1  2  5 10 20"
            ],
            "text/latex": "\\begin{enumerate*}\n\\item 0\n\\item 1\n\\item 2\n\\item 5\n\\item 10\n\\item 20\n\\end{enumerate*}\n",
            "text/markdown": "1. 0\n2. 1\n3. 2\n4. 5\n5. 10\n6. 20\n\n\n",
            "text/html": [
              "<style>\n",
              ".list-inline {list-style: none; margin:0; padding: 0}\n",
              ".list-inline>li {display: inline-block}\n",
              ".list-inline>li:not(:last-child)::after {content: \"\\00b7\"; padding: 0 .5ex}\n",
              "</style>\n",
              "<ol class=list-inline><li>0</li><li>1</li><li>2</li><li>5</li><li>10</li><li>20</li></ol>\n"
            ]
          },
          "metadata": {
            "tags": []
          }
        }
      ]
    },
    {
      "cell_type": "markdown",
      "metadata": {
        "id": "G6Z3Th_Pat0W",
        "colab_type": "text"
      },
      "source": [
        "**Muestra el indice del elemento que cumple una condición, en este caso el elemento con valor igual a 5**"
      ]
    },
    {
      "cell_type": "code",
      "metadata": {
        "id": "l4zIALAma3tY",
        "colab_type": "code",
        "colab": {}
      },
      "source": [
        "index <- which(vX==5)"
      ],
      "execution_count": null,
      "outputs": []
    },
    {
      "cell_type": "code",
      "metadata": {
        "id": "-hfRPhhXa5T9",
        "colab_type": "code",
        "colab": {
          "base_uri": "https://localhost:8080/",
          "height": 34
        },
        "outputId": "cbc95cc4-cfbc-4ebe-ef2e-6d677728aaca"
      },
      "source": [
        "index"
      ],
      "execution_count": null,
      "outputs": [
        {
          "output_type": "display_data",
          "data": {
            "text/plain": [
              "[1] 4"
            ],
            "text/latex": "4",
            "text/markdown": "4",
            "text/html": [
              "4"
            ]
          },
          "metadata": {
            "tags": []
          }
        }
      ]
    },
    {
      "cell_type": "markdown",
      "metadata": {
        "id": "Ym26GyDxa7To",
        "colab_type": "text"
      },
      "source": [
        "**Obtiene el elemento en el indice que le indiques**"
      ]
    },
    {
      "cell_type": "code",
      "metadata": {
        "id": "XXGiYaZnbCcw",
        "colab_type": "code",
        "colab": {
          "base_uri": "https://localhost:8080/",
          "height": 34
        },
        "outputId": "85c7a835-5b05-44c6-ea36-8dbfe194a74c"
      },
      "source": [
        "vX[index]"
      ],
      "execution_count": null,
      "outputs": [
        {
          "output_type": "display_data",
          "data": {
            "text/plain": [
              "[1] 5"
            ],
            "text/latex": "5",
            "text/markdown": "5",
            "text/html": [
              "5"
            ]
          },
          "metadata": {
            "tags": []
          }
        }
      ]
    },
    {
      "cell_type": "markdown",
      "metadata": {
        "id": "sJAStxEMcpzh",
        "colab_type": "text"
      },
      "source": [
        "**R nos da la libertar de experimentar mezclando varias funciones**"
      ]
    },
    {
      "cell_type": "markdown",
      "metadata": {
        "id": "a1LRxe_Kdgjq",
        "colab_type": "text"
      },
      "source": [
        "**Por ejemplo, crearemos la matris m3 con numeros del 1 al 9, llenando la matriz en orden por columnas y especificamos que necesitamos 3 columnas, despues mostraremos el indice del elemento que cumpla una condición, en este caso el de la funcion max y min**"
      ]
    },
    {
      "cell_type": "code",
      "metadata": {
        "id": "UCY8Jhm4eOiE",
        "colab_type": "code",
        "colab": {
          "base_uri": "https://localhost:8080/",
          "height": 218
        },
        "outputId": "e5a55603-986c-448d-a89a-4e7a25329c18"
      },
      "source": [
        "m3 <- matrix(1:9, byrow=F, ncol=3)\n",
        "m3\n",
        "which.max(m3)\n",
        "which.min(m3)"
      ],
      "execution_count": null,
      "outputs": [
        {
          "output_type": "display_data",
          "data": {
            "text/plain": [
              "     [,1] [,2] [,3]\n",
              "[1,] 1    4    7   \n",
              "[2,] 2    5    8   \n",
              "[3,] 3    6    9   "
            ],
            "text/latex": "A matrix: 3 × 3 of type int\n\\begin{tabular}{lll}\n\t 1 & 4 & 7\\\\\n\t 2 & 5 & 8\\\\\n\t 3 & 6 & 9\\\\\n\\end{tabular}\n",
            "text/markdown": "\nA matrix: 3 × 3 of type int\n\n| 1 | 4 | 7 |\n| 2 | 5 | 8 |\n| 3 | 6 | 9 |\n\n",
            "text/html": [
              "<table>\n",
              "<caption>A matrix: 3 × 3 of type int</caption>\n",
              "<tbody>\n",
              "\t<tr><td>1</td><td>4</td><td>7</td></tr>\n",
              "\t<tr><td>2</td><td>5</td><td>8</td></tr>\n",
              "\t<tr><td>3</td><td>6</td><td>9</td></tr>\n",
              "</tbody>\n",
              "</table>\n"
            ]
          },
          "metadata": {
            "tags": []
          }
        },
        {
          "output_type": "display_data",
          "data": {
            "text/plain": [
              "[1] 9"
            ],
            "text/latex": "9",
            "text/markdown": "9",
            "text/html": [
              "9"
            ]
          },
          "metadata": {
            "tags": []
          }
        },
        {
          "output_type": "display_data",
          "data": {
            "text/plain": [
              "[1] 1"
            ],
            "text/latex": "1",
            "text/markdown": "1",
            "text/html": [
              "1"
            ]
          },
          "metadata": {
            "tags": []
          }
        }
      ]
    },
    {
      "cell_type": "markdown",
      "metadata": {
        "id": "5TXQVCjHedq4",
        "colab_type": "text"
      },
      "source": [
        "### **Listas y Data frames en R**"
      ]
    },
    {
      "cell_type": "markdown",
      "metadata": {
        "id": "MEXLgCN0ejme",
        "colab_type": "text"
      },
      "source": [
        "**Al crear una lista podemos especificar las etiquetas de los elementos**"
      ]
    },
    {
      "cell_type": "code",
      "metadata": {
        "id": "6LoSrlyzhKT5",
        "colab_type": "code",
        "colab": {}
      },
      "source": [
        "mi_lista <- list(nombre=\"juan\",edad=28,jubilado=F)"
      ],
      "execution_count": null,
      "outputs": []
    },
    {
      "cell_type": "markdown",
      "metadata": {
        "id": "CNLrKEjjhLws",
        "colab_type": "text"
      },
      "source": [
        "**Mostrar las etiquetas de la lista**"
      ]
    },
    {
      "cell_type": "code",
      "metadata": {
        "id": "7Wpvu_7hhScY",
        "colab_type": "code",
        "colab": {
          "base_uri": "https://localhost:8080/",
          "height": 34
        },
        "outputId": "162f11f8-7c9e-484f-cbe6-495d08a4a121"
      },
      "source": [
        "names(mi_lista)"
      ],
      "execution_count": null,
      "outputs": [
        {
          "output_type": "display_data",
          "data": {
            "text/plain": [
              "[1] \"nombre\"   \"edad\"     \"jubilado\""
            ],
            "text/latex": "\\begin{enumerate*}\n\\item 'nombre'\n\\item 'edad'\n\\item 'jubilado'\n\\end{enumerate*}\n",
            "text/markdown": "1. 'nombre'\n2. 'edad'\n3. 'jubilado'\n\n\n",
            "text/html": [
              "<style>\n",
              ".list-inline {list-style: none; margin:0; padding: 0}\n",
              ".list-inline>li {display: inline-block}\n",
              ".list-inline>li:not(:last-child)::after {content: \"\\00b7\"; padding: 0 .5ex}\n",
              "</style>\n",
              "<ol class=list-inline><li>'nombre'</li><li>'edad'</li><li>'jubilado'</li></ol>\n"
            ]
          },
          "metadata": {
            "tags": []
          }
        }
      ]
    },
    {
      "cell_type": "markdown",
      "metadata": {
        "id": "bxcjiTT-hVsO",
        "colab_type": "text"
      },
      "source": [
        "**Podemos incluir vectores como elemento dentro de una lista**"
      ]
    },
    {
      "cell_type": "code",
      "metadata": {
        "id": "JUsu_d3xh1HN",
        "colab_type": "code",
        "colab": {}
      },
      "source": [
        "mireg <- list(nombre=\"maria\", ingresis = c(23,34,15))"
      ],
      "execution_count": null,
      "outputs": []
    },
    {
      "cell_type": "markdown",
      "metadata": {
        "id": "8WgFdl0gh12U",
        "colab_type": "text"
      },
      "source": [
        "**Para acceder a un elemento de la lista lo haremos a traves de su etiqueta, utilizando el operador '$'**"
      ]
    },
    {
      "cell_type": "code",
      "metadata": {
        "id": "ihqCEEnCiBs9",
        "colab_type": "code",
        "colab": {
          "base_uri": "https://localhost:8080/",
          "height": 34
        },
        "outputId": "9a10f7c8-0aa2-4273-a76b-c7ec06c77e52"
      },
      "source": [
        "mireg$ingresis"
      ],
      "execution_count": null,
      "outputs": [
        {
          "output_type": "display_data",
          "data": {
            "text/plain": [
              "[1] 23 34 15"
            ],
            "text/latex": "\\begin{enumerate*}\n\\item 23\n\\item 34\n\\item 15\n\\end{enumerate*}\n",
            "text/markdown": "1. 23\n2. 34\n3. 15\n\n\n",
            "text/html": [
              "<style>\n",
              ".list-inline {list-style: none; margin:0; padding: 0}\n",
              ".list-inline>li {display: inline-block}\n",
              ".list-inline>li:not(:last-child)::after {content: \"\\00b7\"; padding: 0 .5ex}\n",
              "</style>\n",
              "<ol class=list-inline><li>23</li><li>34</li><li>15</li></ol>\n"
            ]
          },
          "metadata": {
            "tags": []
          }
        }
      ]
    }
  ]
}